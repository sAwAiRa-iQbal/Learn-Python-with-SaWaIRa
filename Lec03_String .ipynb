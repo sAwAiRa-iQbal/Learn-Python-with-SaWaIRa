{
 "cells": [
  {
   "cell_type": "markdown",
   "id": "9c808883",
   "metadata": {},
   "source": [
    "<h2 align=center style=\"color:red;\"> String Data Structure </h2>\n",
    "\n",
    "\n",
    "- What is Data  Structure?\n",
    "- String Data Structure\n",
    "- Defining Strings in the Python\n",
    "- Accessing characters  of  a  String (Indexing)\n",
    "- Strings  are  immutable(Reassigning String)\n",
    "- Strings  Slicing \n",
    "- String  Concatenation\n",
    "- Create large Strings\n",
    "- Operations on string Data structure\n",
    "- Strings method\n",
    "    - `lower()`, `upper()`, `strip()`, `startswith()`, `endswith()`, `split()`, `join()`, `find()`, `replace()`, `format()`, `len()`, `min()`, `max()`, `sorted()`, `title()/capitalize`, `swapcase()`, `count()`, `find()`, `index()`, `isalnum() / isalpha()`, `isdigit()`, \n",
    "- String  Deletion\n",
    "- String Membership test\n",
    "\n"
   ]
  },
  {
   "cell_type": "markdown",
   "id": "fff595fd",
   "metadata": {},
   "source": [
    "<img src=\"https://images.hive.blog/DQmNTh7iuqFfzQ438ZwLABkK4XtVGkMKrzUz4x6NY4kmQa9/data%20type1(1).jpg\" height=600px width=600px>"
   ]
  },
  {
   "cell_type": "markdown",
   "id": "4b40b037",
   "metadata": {},
   "source": [
    "### What is Data Structure?\n",
    "\n",
    "- Data structure is a particular way of storing and organizing data in a computer so that it can be used efficiently. A data structure is a special format for organizing and storing data ."
   ]
  },
  {
   "cell_type": "markdown",
   "id": "51dbe149",
   "metadata": {},
   "source": [
    "### String Data Structure\n",
    "\n",
    "\n",
    "- Python string is the collection of the characters surrounded by single quotes, double quotes, or triple quotes. The computer does not understand the characters; internally, it stores manipulated character as the combination of the 0's and 1's.\n",
    "- Each character is encoded in the ASCII or Unicode character. So we can say that Python strings are also called the collection of Unicode characters.\n",
    "- In Python, strings can be created by enclosing the character or the sequence of characters in the quotes. Python allows us to use single quotes, double quotes, or triple quotes to create the string.\n",
    "\n",
    "- Strings can contain letters, numbers, symbols, and even white spaces."
   ]
  },
  {
   "cell_type": "code",
   "execution_count": 1,
   "id": "922ab84b",
   "metadata": {},
   "outputs": [
    {
     "name": "stdout",
     "output_type": "stream",
     "text": [
      "<class 'str'>\n"
     ]
    }
   ],
   "source": [
    "str1 = \"Sawaira Iqbal 1262163 &&**(*@#$$%)\"\n",
    "print(type(str1))"
   ]
  },
  {
   "cell_type": "code",
   "execution_count": 2,
   "id": "91ac7ef5",
   "metadata": {},
   "outputs": [
    {
     "name": "stdout",
     "output_type": "stream",
     "text": [
      "<class 'str'>\n",
      "<class 'str'>\n",
      "<class 'str'>\n"
     ]
    }
   ],
   "source": [
    "str1 = \"Sawaira\"\n",
    "str2 = 'Sawaira'\n",
    "str3 = \"\"\"Sawaira\"\"\"\n",
    "print(type(str1))\n",
    "print(type(str2))\n",
    "print(type(str3))\n"
   ]
  },
  {
   "cell_type": "code",
   "execution_count": 17,
   "id": "e5235407",
   "metadata": {},
   "outputs": [
    {
     "name": "stdout",
     "output_type": "stream",
     "text": [
      "<class 'str'>\n",
      "<class 'str'>\n",
      "<class 'str'>\n"
     ]
    }
   ],
   "source": [
    "str4 = 'A'\n",
    "str5 = \"B\"\n",
    "str6 = \"\"\"C\"\"\"\n",
    "print(type(str4))\n",
    "print(type(str5))\n",
    "print(type(str6))"
   ]
  },
  {
   "cell_type": "code",
   "execution_count": 18,
   "id": "910656bd",
   "metadata": {},
   "outputs": [
    {
     "name": "stdout",
     "output_type": "stream",
     "text": [
      "Hello\n",
      "World\n",
      "\n",
      "A\n"
     ]
    }
   ],
   "source": [
    "string1 = 'Hello'\n",
    "print(string1)\n",
    "\n",
    "string2 = \"World\"\n",
    "print(string2)\n",
    "\n",
    "string3 = \"\"\n",
    "print(string3)\n",
    "\n",
    "string4 = \"A\"\n",
    "print(string4)"
   ]
  },
  {
   "cell_type": "code",
   "execution_count": 19,
   "id": "1d39cda8",
   "metadata": {},
   "outputs": [
    {
     "name": "stdout",
     "output_type": "stream",
     "text": [
      "Hello, This is\n",
      "            multi-line string\n",
      "Hello, This is\n",
      "            multi-line string\n"
     ]
    }
   ],
   "source": [
    "# triple quotes string can extend multiple lines\n",
    "\n",
    "string5 = \"\"\"Hello, This is\n",
    "            multi-line string\"\"\"\n",
    "print(string5)\n",
    "\n",
    "string5 = '''Hello, This is\n",
    "            multi-line string'''\n",
    "print(string5)"
   ]
  },
  {
   "cell_type": "code",
   "execution_count": 20,
   "id": "84352929",
   "metadata": {},
   "outputs": [
    {
     "name": "stdout",
     "output_type": "stream",
     "text": [
      "I'm student of software engineering!\n",
      "I\"m student\n",
      "i\"m a student\n",
      " To display the current time, we have used the getTime()\n",
      "method of Calendar class. The getTime() is an instance method of Calendar class,\n",
      "so we have called it after getting the instance of\n",
      "Calendar class by the getInstance() method \n"
     ]
    }
   ],
   "source": [
    "str6 = \"I'm student of software engineering!\"\n",
    "print(str6)\n",
    "str7 = 'I\"m student'\n",
    "print(str7)\n",
    "str8 = 'i\"m a student'\n",
    "print(str8)\n",
    "str8 = \"\"\" To display the current time, we have used the getTime()\n",
    "method of Calendar class. The getTime() is an instance method of Calendar class,\n",
    "so we have called it after getting the instance of\n",
    "Calendar class by the getInstance() method \"\"\"\n",
    "print(str8)"
   ]
  },
  {
   "cell_type": "code",
   "execution_count": 21,
   "id": "19809ebc",
   "metadata": {},
   "outputs": [
    {
     "ename": "SyntaxError",
     "evalue": "invalid syntax (2198476966.py, line 2)",
     "output_type": "error",
     "traceback": [
      "\u001b[0;36m  Cell \u001b[0;32mIn[21], line 2\u001b[0;36m\u001b[0m\n\u001b[0;31m    'I'm using single quotes, but will create an error'\u001b[0m\n\u001b[0m       ^\u001b[0m\n\u001b[0;31mSyntaxError\u001b[0m\u001b[0;31m:\u001b[0m invalid syntax\n"
     ]
    }
   ],
   "source": [
    "# Be careful with quotes!\n",
    "'I'm using single quotes, but will create an error'"
   ]
  },
  {
   "cell_type": "code",
   "execution_count": 22,
   "id": "a0171fff",
   "metadata": {},
   "outputs": [
    {
     "data": {
      "text/plain": [
       "\"I'm using single quotes, but will create an error\""
      ]
     },
     "execution_count": 22,
     "metadata": {},
     "output_type": "execute_result"
    }
   ],
   "source": [
    "# Be careful with quotes!\n",
    "\"I'm using single quotes, but will create an error\""
   ]
  },
  {
   "cell_type": "markdown",
   "id": "08dd3de4",
   "metadata": {},
   "source": [
    "The reason for the error above is because the single quote in I'm stopped the string. You can use combinations of double and single quotes to get the complete statement."
   ]
  },
  {
   "cell_type": "markdown",
   "id": "a168204b",
   "metadata": {},
   "source": [
    "<h2 align=center style=\"color:red;\"> Indexing (access strings) </h2>"
   ]
  },
  {
   "cell_type": "markdown",
   "id": "2ba5fc1d",
   "metadata": {},
   "source": [
    "### Accessing Characters of a String (Indexing)\n",
    "Like other languages, the indexing of the Python strings starts from 0. Since string is of type sequence, and any component within a sequence can be accessed by entrying an index within square brackets. So naturally this work for strings as well List.\n",
    "For example, The string \"HELLO\" is indexed as given in the below figure.\n",
    "![](images/2.png)\n",
    "\n",
    "\n",
    "As shown in Python, the slice operator [] is used to access the individual characters of the string. However, we can use the : (colon) operator in Python to access the substring from the given string. Consider the following example.\n",
    "### Syntax:    \n",
    "**str[start:end-1]**"
   ]
  },
  {
   "cell_type": "markdown",
   "id": "fb22a526",
   "metadata": {},
   "source": [
    "<img src=\"https://geekflare.com/wp-content/uploads/2022/04/python-strings-684x385.png\" height=500px width=400px>"
   ]
  },
  {
   "cell_type": "code",
   "execution_count": 23,
   "id": "68b06f90",
   "metadata": {},
   "outputs": [
    {
     "name": "stdout",
     "output_type": "stream",
     "text": [
      "5\n"
     ]
    }
   ],
   "source": [
    "string = \"HELLO\"  \n",
    "print(len(string)) "
   ]
  },
  {
   "cell_type": "code",
   "execution_count": 24,
   "id": "ca12b155",
   "metadata": {},
   "outputs": [
    {
     "name": "stdout",
     "output_type": "stream",
     "text": [
      "H\n",
      "E\n",
      "L\n",
      "L\n",
      "O\n"
     ]
    }
   ],
   "source": [
    "print(string[0])  \n",
    "print(string[1])  \n",
    "print(string[2])  \n",
    "print(string[3])  \n",
    "print(string[4]) "
   ]
  },
  {
   "cell_type": "code",
   "execution_count": 25,
   "id": "58e0a6ce",
   "metadata": {},
   "outputs": [
    {
     "ename": "IndexError",
     "evalue": "string index out of range",
     "output_type": "error",
     "traceback": [
      "\u001b[0;31m---------------------------------------------------------------------------\u001b[0m",
      "\u001b[0;31mIndexError\u001b[0m                                Traceback (most recent call last)",
      "Cell \u001b[0;32mIn[25], line 2\u001b[0m\n\u001b[1;32m      1\u001b[0m \u001b[38;5;66;03m# It returns the IndexError because 6th index doesn't exist  \u001b[39;00m\n\u001b[0;32m----> 2\u001b[0m \u001b[38;5;28mprint\u001b[39m(\u001b[43mstring\u001b[49m\u001b[43m[\u001b[49m\u001b[38;5;241;43m6\u001b[39;49m\u001b[43m]\u001b[49m)\n\u001b[1;32m      3\u001b[0m \u001b[38;5;66;03m# 1-4\u001b[39;00m\n",
      "\u001b[0;31mIndexError\u001b[0m: string index out of range"
     ]
    }
   ],
   "source": [
    "# It returns the IndexError because 6th index doesn't exist  \n",
    "print(string[6])\n",
    "# 1-4"
   ]
  },
  {
   "cell_type": "code",
   "execution_count": null,
   "id": "005bad56",
   "metadata": {},
   "outputs": [],
   "source": []
  },
  {
   "cell_type": "markdown",
   "id": "0421b358",
   "metadata": {},
   "source": [
    "![](images/3.png)\n",
    "Here, we must notice that the upper range given in the slice operator is always exclusive i.e., if str = 'HELLO' is given, then str[1:3] will always include str[1] = 'E', str[2] = 'L' and nothing else."
   ]
  },
  {
   "cell_type": "code",
   "execution_count": 3,
   "id": "cd1a8cab",
   "metadata": {},
   "outputs": [
    {
     "name": "stdout",
     "output_type": "stream",
     "text": [
      "13\n"
     ]
    }
   ],
   "source": [
    "string2 = \"Sawaira Iqbal\"  \n",
    "print(len(string2))\n",
    "\n"
   ]
  },
  {
   "cell_type": "code",
   "execution_count": 4,
   "id": "2ca650c5",
   "metadata": {},
   "outputs": [
    {
     "name": "stdout",
     "output_type": "stream",
     "text": [
      "Sawaira Iqbal\n",
      "awai\n",
      "wa\n",
      "Saw\n",
      "ira\n"
     ]
    }
   ],
   "source": [
    "# Start Oth index to end  \n",
    "print(string2[0:])  \n",
    "\n",
    "# Starts 1th index to 4th index  \n",
    "print(string2[1:5])  \n",
    "\n",
    "# Starts 2nd index to 3rd index  \n",
    "print(string2[2:4])  \n",
    "\n",
    "# Starts 0th to 2nd index  \n",
    "print(string2[:3])  \n",
    "\n",
    "#Starts 4th to 6th index  \n",
    "print(string2[4:7])  "
   ]
  },
  {
   "cell_type": "markdown",
   "id": "2bfe49d4",
   "metadata": {},
   "source": [
    "<h2 align=center style=\"color:red;\"> Negative slicing </h2>"
   ]
  },
  {
   "cell_type": "markdown",
   "id": "e3399499",
   "metadata": {},
   "source": [
    "We can do the negative slicing in the string; it starts from the rightmost character, which is indicated as -1. The second rightmost index indicates -2, and so on.\n",
    "![](images/4.png)"
   ]
  },
  {
   "cell_type": "code",
   "execution_count": 1,
   "id": "d52ed075",
   "metadata": {},
   "outputs": [
    {
     "name": "stdout",
     "output_type": "stream",
     "text": [
      "13\n",
      "l\n",
      "b\n",
      "al\n",
      "qba\n",
      "a Iqb\n",
      "labqI ariawaS\n"
     ]
    }
   ],
   "source": [
    "string3 = 'Sawaira Iqbal'  \n",
    "print(len(string3))\n",
    "print(string3[-1])  \n",
    "print(string3[-3])  \n",
    "print(string3[-2:])  \n",
    "print(string3[-4:-1])  \n",
    "print(string3[-7:-2])  \n",
    "\n",
    "# Reversing the given string  \n",
    "print(string3[::-1])  \n"
   ]
  },
  {
   "cell_type": "code",
   "execution_count": 31,
   "id": "11d3571a",
   "metadata": {},
   "outputs": [
    {
     "ename": "IndexError",
     "evalue": "string index out of range",
     "output_type": "error",
     "traceback": [
      "\u001b[0;31m---------------------------------------------------------------------------\u001b[0m",
      "\u001b[0;31mIndexError\u001b[0m                                Traceback (most recent call last)",
      "Cell \u001b[0;32mIn[31], line 1\u001b[0m\n\u001b[0;32m----> 1\u001b[0m \u001b[38;5;28mprint\u001b[39m(\u001b[43mstring3\u001b[49m\u001b[43m[\u001b[49m\u001b[38;5;241;43m-\u001b[39;49m\u001b[38;5;241;43m12\u001b[39;49m\u001b[43m]\u001b[49m)\n",
      "\u001b[0;31mIndexError\u001b[0m: string index out of range"
     ]
    }
   ],
   "source": [
    "print(string3[-12])\n"
   ]
  },
  {
   "cell_type": "markdown",
   "id": "a70bd64d",
   "metadata": {},
   "source": [
    "<h2 align=center style=\"color:red;\"> Strings are immutable </h2>"
   ]
  },
  {
   "cell_type": "markdown",
   "id": "6bf4fe93",
   "metadata": {},
   "source": [
    "###  Strings are immutable/ Reassigning Strings\n",
    "Updating the content of the strings is as easy as assigning it to a new string. The string object doesn't support item assignment i.e., A string can only be replaced with new string since its content cannot be partially replaced. Strings are immutable in Python."
   ]
  },
  {
   "cell_type": "code",
   "execution_count": 4,
   "id": "1f6969c5",
   "metadata": {},
   "outputs": [
    {
     "name": "stdout",
     "output_type": "stream",
     "text": [
      "2038621631152\n",
      "2038623545584\n",
      "python\n"
     ]
    }
   ],
   "source": [
    "#assigning a new value is valid\n",
    "str1= 'html'\n",
    "print(id(str1))\n",
    "str1 = 'python'\n",
    "\n",
    "print(id(str1))\n",
    "print(str1)"
   ]
  },
  {
   "cell_type": "markdown",
   "id": "ba204f7b",
   "metadata": {},
   "source": [
    "- The object `html` is now orphan, since there is no variable referring to it now and will be collected by Python garbage collector."
   ]
  },
  {
   "cell_type": "markdown",
   "id": "01a9a58c",
   "metadata": {},
   "source": [
    "###  String Slicing\n",
    "- Slicing is the process of obtaining a portion (substring) of a string by using its indices.\n",
    "- Given a string, we can use the following syntax to slice it and obtain a substring:\n",
    "```\n",
    "string[start:end]\n",
    "```\n",
    "- **start** is the index from where we want the substring to start. If start is not provided, slicing starts from the beginning.\n",
    "- **end** is the index where we want our substring to end (not inclusive in the substring). If end is not provided, slicing goes till the end of the string (includes the last character of the string)."
   ]
  },
  {
   "cell_type": "code",
   "execution_count": null,
   "id": "24794f23",
   "metadata": {},
   "outputs": [],
   "source": [
    "# var[:] -> Full string return\n",
    "# var[0:]-> Full string return\n",
    "# var[:len(string)] -> Full string return \n",
    "# var[::-1] -> Full reverse string return"
   ]
  },
  {
   "cell_type": "code",
   "execution_count": 34,
   "id": "aed05d09",
   "metadata": {},
   "outputs": [
    {
     "name": "stdout",
     "output_type": "stream",
     "text": [
      "59\n"
     ]
    }
   ],
   "source": [
    "str1 = 'Introduction to data analyst and data science for beginners'\n",
    "print(len(str1))\n"
   ]
  },
  {
   "cell_type": "code",
   "execution_count": 35,
   "id": "76c3f4ce",
   "metadata": {},
   "outputs": [
    {
     "name": "stdout",
     "output_type": "stream",
     "text": [
      "Intr\n"
     ]
    }
   ],
   "source": [
    "print(str1[0:4]) # From the start till before the 4th index\n",
    "\n"
   ]
  },
  {
   "cell_type": "code",
   "execution_count": 36,
   "id": "01f70fa7",
   "metadata": {},
   "outputs": [
    {
     "name": "stdout",
     "output_type": "stream",
     "text": [
      "Intr\n"
     ]
    }
   ],
   "source": [
    "print(str1[:4]) # From the start till before the 4th index\n"
   ]
  },
  {
   "cell_type": "code",
   "execution_count": 37,
   "id": "6bfc24ad",
   "metadata": {},
   "outputs": [
    {
     "name": "stdout",
     "output_type": "stream",
     "text": [
      "n to \n"
     ]
    }
   ],
   "source": [
    "print(str1[11:16])\n",
    "\n"
   ]
  },
  {
   "cell_type": "code",
   "execution_count": 38,
   "id": "4ec3cac8",
   "metadata": {},
   "outputs": [
    {
     "name": "stdout",
     "output_type": "stream",
     "text": [
      "a analyst and data science for beginners\n",
      "duction to data analyst and data science for begin\n"
     ]
    }
   ],
   "source": [
    "print(str1[19:]) # From the 19th index till the end\n",
    "print(str1[5:-4])\n",
    "\n"
   ]
  },
  {
   "cell_type": "code",
   "execution_count": 39,
   "id": "01a9dc27",
   "metadata": {},
   "outputs": [
    {
     "name": "stdout",
     "output_type": "stream",
     "text": [
      "\n",
      "a analyst and data science for beginners\n"
     ]
    }
   ],
   "source": [
    "#if start is greater than end, it will return empty string\n",
    "print(str1[5:2])\n",
    "\n",
    "print(str1[19:len(str1)]) # From the 19th index till the end\n"
   ]
  },
  {
   "cell_type": "code",
   "execution_count": 2,
   "id": "c4f92743",
   "metadata": {},
   "outputs": [
    {
     "name": "stdout",
     "output_type": "stream",
     "text": [
      "40\n"
     ]
    }
   ],
   "source": [
    "str1 = 'Introductiontodatasciencewithusingpython'\n",
    "print(len(str1))\n"
   ]
  },
  {
   "cell_type": "code",
   "execution_count": 4,
   "id": "ebff1efc",
   "metadata": {},
   "outputs": [
    {
     "name": "stdout",
     "output_type": "stream",
     "text": [
      "Introductiontodatasciencewithusingpython\n"
     ]
    }
   ],
   "source": [
    "print(str1[::])  # A default step of 1\n"
   ]
  },
  {
   "cell_type": "code",
   "execution_count": 5,
   "id": "ef832793",
   "metadata": {},
   "outputs": [
    {
     "name": "stdout",
     "output_type": "stream",
     "text": [
      "Introductiontodatasciencewithusingpython\n"
     ]
    }
   ],
   "source": [
    "print(str1[::1])  # A step of 1\n"
   ]
  },
  {
   "cell_type": "code",
   "execution_count": 6,
   "id": "89d72a1d",
   "metadata": {},
   "outputs": [
    {
     "name": "stdout",
     "output_type": "stream",
     "text": [
      "nohtypgnisuhtiwecneicsatadotnoitcudortnI\n"
     ]
    }
   ],
   "source": [
    "print(str1[::-1])  # A step of "
   ]
  },
  {
   "cell_type": "code",
   "execution_count": 7,
   "id": "61c0e1ec",
   "metadata": {},
   "outputs": [
    {
     "name": "stdout",
     "output_type": "stream",
     "text": [
      "Introductiontodatasciencewithusingpython\n",
      "Itoutotdtsineihsnpto\n"
     ]
    }
   ],
   "source": [
    "print(str1)\n",
    "print(str1[::2])  # A step of 2"
   ]
  },
  {
   "cell_type": "code",
   "execution_count": null,
   "id": "8a1448b1",
   "metadata": {},
   "outputs": [],
   "source": []
  },
  {
   "cell_type": "markdown",
   "id": "bd81eb79",
   "metadata": {},
   "source": [
    "## **Reverse Slicing**\n",
    "\n",
    "- Strings can also be sliced to return a reversed substring. \n",
    "- For reverse slicing we need to give a negative step\n",
    "- For reverse slicing the `start` index must be greater than the `end` index, otherwise an empty string will be returned"
   ]
  },
  {
   "cell_type": "code",
   "execution_count": 8,
   "id": "d959983e",
   "metadata": {},
   "outputs": [
    {
     "name": "stdout",
     "output_type": "stream",
     "text": [
      "9876543210\n"
     ]
    }
   ],
   "source": [
    "str1 = '0123456789'\n",
    "print(str1[::-1]) \n"
   ]
  },
  {
   "cell_type": "code",
   "execution_count": 9,
   "id": "b87f8ebb",
   "metadata": {},
   "outputs": [
    {
     "name": "stdout",
     "output_type": "stream",
     "text": [
      "5432\n"
     ]
    }
   ],
   "source": [
    "print(str1[5:1:-1]) \n"
   ]
  },
  {
   "cell_type": "code",
   "execution_count": 6,
   "id": "dcf3c86e",
   "metadata": {},
   "outputs": [
    {
     "name": "stdout",
     "output_type": "stream",
     "text": [
      "nhy\n"
     ]
    }
   ],
   "source": [
    "print(str1[::-2]) "
   ]
  },
  {
   "cell_type": "markdown",
   "id": "0a1fd19b",
   "metadata": {},
   "source": [
    "<img src=\"https://miro.medium.com/v2/resize:fit:720/format:webp/1*saSNHPFIa1YtVGA1yCERvQ.png\" height=800px width=800px>"
   ]
  },
  {
   "cell_type": "markdown",
   "id": "44ae4d07",
   "metadata": {},
   "source": [
    "<h1 align=center style=\"color:red;\"> Strings concatination </h1>"
   ]
  },
  {
   "cell_type": "markdown",
   "id": "3b6ead99",
   "metadata": {},
   "source": [
    "### String Concatenation\n",
    "- Two strings can be joined or concatenated using the `+` operator"
   ]
  },
  {
   "cell_type": "code",
   "execution_count": 15,
   "id": "757f673e",
   "metadata": {},
   "outputs": [],
   "source": [
    "str1 = 'Hello'\n",
    "str2 =' World!'\n",
    "str3 = str1 + str2\n"
   ]
  },
  {
   "cell_type": "code",
   "execution_count": 19,
   "id": "19cda0d5",
   "metadata": {},
   "outputs": [
    {
     "name": "stdout",
     "output_type": "stream",
     "text": [
      "str1 + str2 =  Hello World!\n"
     ]
    }
   ],
   "source": [
    "print('str1 + str2 = ', str3)"
   ]
  },
  {
   "cell_type": "code",
   "execution_count": 20,
   "id": "d14d55c6",
   "metadata": {},
   "outputs": [
    {
     "name": "stdout",
     "output_type": "stream",
     "text": [
      "Yello World!\n"
     ]
    }
   ],
   "source": [
    "print(\"Y\" + str3[1:])"
   ]
  },
  {
   "cell_type": "code",
   "execution_count": 10,
   "id": "eb2a9f5f",
   "metadata": {},
   "outputs": [
    {
     "name": "stdout",
     "output_type": "stream",
     "text": [
      "enter your 1st name: Sawaira\n",
      "enter last name: Iqbal\n",
      "Hy! Sawaira Iqbal\n"
     ]
    }
   ],
   "source": [
    "a = input('enter your 1st name: ')\n",
    "b = input('enter last name: ')\n",
    "print('Hy! '+ a + \" \"+ b)"
   ]
  },
  {
   "cell_type": "markdown",
   "id": "4b77634d",
   "metadata": {},
   "source": [
    "<h2 align=center style=\"color:red;\"> creating large strings </h2>"
   ]
  },
  {
   "cell_type": "markdown",
   "id": "8130bee4",
   "metadata": {},
   "source": [
    "### Creating large strings\n",
    "- A string can be replicated/repeated using the `*` operator"
   ]
  },
  {
   "cell_type": "code",
   "execution_count": 21,
   "id": "8268f39e",
   "metadata": {},
   "outputs": [
    {
     "name": "stdout",
     "output_type": "stream",
     "text": [
      "str1 * 5 = HelloHelloHelloHelloHello\n"
     ]
    }
   ],
   "source": [
    "str1 = 'Hello'\n",
    "print('str1 * 5 =', str1 * 5)\n"
   ]
  },
  {
   "cell_type": "code",
   "execution_count": 11,
   "id": "81f02d74",
   "metadata": {},
   "outputs": [
    {
     "name": "stdout",
     "output_type": "stream",
     "text": [
      "PakistanPakistanPakistanPakistanPakistanPakistanPakistanPakistanPakistanPakistan\n"
     ]
    }
   ],
   "source": [
    "str2 = \"Pakistan\"\n",
    "print(str2*10)\n"
   ]
  },
  {
   "cell_type": "code",
   "execution_count": 13,
   "id": "7c4cbccb",
   "metadata": {},
   "outputs": [
    {
     "name": "stdout",
     "output_type": "stream",
     "text": [
      "AAAAAAAAAAAAAAAAAAAAAAAAAAAAAAAAAAAAAAAAAAAAAAAAAAAAAAAAAAAAAAAAAAAAAAAAAAAAAAAAAAAAAAAAAAAAAAAAAAAA\n"
     ]
    }
   ],
   "source": [
    "buffer = 'A' * 100\n",
    "print(buffer)"
   ]
  },
  {
   "cell_type": "markdown",
   "id": "a4f1e326",
   "metadata": {},
   "source": [
    "<h1 align=center style=\"color:red;\"> Operations on string </h1>"
   ]
  },
  {
   "cell_type": "markdown",
   "id": "b4875c98",
   "metadata": {},
   "source": [
    "###  Operations on String Data Structure \n",
    "\n",
    "\n",
    "|Operator|Description|\n",
    "|--------|-----------|\n",
    "|+|It is known as concatenation operator used to join the strings given either side of the operator. |\n",
    "|*|It is known as repetition operator. It concatenates the multiple copies of the same string. |\n",
    "|[]|It is known as slice operator. It is used to access the sub-strings of a particular string. |\n",
    "|[:]|It is known as range slice operator. It is used to access the characters from the specified range. |\n",
    "|in|It is known as membership operator. It returns if a particular sub-string is present in the specified string. |\n",
    "|not in |It is also a membership operator and does the exact reverse of in. It returns true if a particular substring is not present in the specified string. |\n"
   ]
  },
  {
   "cell_type": "markdown",
   "id": "cbed38f9",
   "metadata": {},
   "source": [
    "<h1 align=center style=\"color:red;\"> Membership </h1>"
   ]
  },
  {
   "cell_type": "markdown",
   "id": "c349e4ca",
   "metadata": {},
   "source": [
    "### String Membership test using `in` operator"
   ]
  },
  {
   "cell_type": "code",
   "execution_count": 27,
   "id": "8ff66112",
   "metadata": {},
   "outputs": [
    {
     "data": {
      "text/plain": [
       "True"
      ]
     },
     "execution_count": 27,
     "metadata": {},
     "output_type": "execute_result"
    }
   ],
   "source": [
    "'a' in 'DataScience'"
   ]
  },
  {
   "cell_type": "code",
   "execution_count": 28,
   "id": "1c01d585",
   "metadata": {},
   "outputs": [
    {
     "data": {
      "text/plain": [
       "True"
      ]
     },
     "execution_count": 28,
     "metadata": {},
     "output_type": "execute_result"
    }
   ],
   "source": [
    "'thf' not in 'python'"
   ]
  },
  {
   "cell_type": "code",
   "execution_count": 29,
   "id": "f7a90f5c",
   "metadata": {},
   "outputs": [
    {
     "data": {
      "text/plain": [
       "False"
      ]
     },
     "execution_count": 29,
     "metadata": {},
     "output_type": "execute_result"
    }
   ],
   "source": [
    "'aa' in 'DataScience'"
   ]
  },
  {
   "cell_type": "markdown",
   "id": "cf2e5ffa",
   "metadata": {},
   "source": [
    "<h1 align=center style=\"color:red;\"> Deletion</h1>"
   ]
  },
  {
   "cell_type": "markdown",
   "id": "29b9af69",
   "metadata": {},
   "source": [
    "### String Deletion\n",
    "As we know that strings are immutable. We cannot delete or remove the characters from the string.  But we can delete the entire string using the `del` keyword."
   ]
  },
  {
   "cell_type": "code",
   "execution_count": 30,
   "id": "a0a9f1cf",
   "metadata": {},
   "outputs": [
    {
     "name": "stdout",
     "output_type": "stream",
     "text": [
      "Data\n"
     ]
    }
   ],
   "source": [
    "string5 = \"Data\"\n",
    "print(string5)"
   ]
  },
  {
   "cell_type": "code",
   "execution_count": 31,
   "id": "9411ed10",
   "metadata": {},
   "outputs": [],
   "source": [
    "del string5\n"
   ]
  },
  {
   "cell_type": "code",
   "execution_count": 32,
   "id": "ba3c4d59",
   "metadata": {},
   "outputs": [
    {
     "ename": "NameError",
     "evalue": "name 'string5' is not defined",
     "output_type": "error",
     "traceback": [
      "\u001b[0;31m---------------------------------------------------------------------------\u001b[0m",
      "\u001b[0;31mNameError\u001b[0m                                 Traceback (most recent call last)",
      "Cell \u001b[0;32mIn[32], line 1\u001b[0m\n\u001b[0;32m----> 1\u001b[0m \u001b[38;5;28mprint\u001b[39m(\u001b[43mstring5\u001b[49m)\n",
      "\u001b[0;31mNameError\u001b[0m: name 'string5' is not defined"
     ]
    }
   ],
   "source": [
    "print(string5)"
   ]
  },
  {
   "cell_type": "markdown",
   "id": "36fe9d4c",
   "metadata": {},
   "source": [
    "<h1 align=center style=\"color:red;\"> Comparison </h1>"
   ]
  },
  {
   "cell_type": "markdown",
   "id": "089f3e84",
   "metadata": {},
   "source": [
    "###  Comparing two strings using `is` operator and `==` operator"
   ]
  },
  {
   "cell_type": "code",
   "execution_count": 33,
   "id": "a8e81dae",
   "metadata": {},
   "outputs": [
    {
     "name": "stdout",
     "output_type": "stream",
     "text": [
      "9793376 9793376\n"
     ]
    }
   ],
   "source": [
    "x = 10\n",
    "y = 10\n",
    "print(id(x), id(y))"
   ]
  },
  {
   "cell_type": "code",
   "execution_count": 34,
   "id": "849a2916",
   "metadata": {},
   "outputs": [
    {
     "data": {
      "text/plain": [
       "True"
      ]
     },
     "execution_count": 34,
     "metadata": {},
     "output_type": "execute_result"
    }
   ],
   "source": [
    "x == y"
   ]
  },
  {
   "cell_type": "code",
   "execution_count": 35,
   "id": "d86ab78d",
   "metadata": {},
   "outputs": [
    {
     "data": {
      "text/plain": [
       "True"
      ]
     },
     "execution_count": 35,
     "metadata": {},
     "output_type": "execute_result"
    }
   ],
   "source": [
    "x is y"
   ]
  },
  {
   "cell_type": "code",
   "execution_count": null,
   "id": "0574dcfd",
   "metadata": {},
   "outputs": [],
   "source": []
  },
  {
   "cell_type": "code",
   "execution_count": null,
   "id": "c80fe35b",
   "metadata": {},
   "outputs": [],
   "source": []
  },
  {
   "cell_type": "code",
   "execution_count": 36,
   "id": "86f6ec7f",
   "metadata": {},
   "outputs": [
    {
     "name": "stdout",
     "output_type": "stream",
     "text": [
      "9793728\n",
      "9793696\n"
     ]
    }
   ],
   "source": [
    "a = 21\n",
    "b = 20\n",
    "print(id(a))\n",
    "print(id(b))"
   ]
  },
  {
   "cell_type": "code",
   "execution_count": 37,
   "id": "d1513871",
   "metadata": {},
   "outputs": [
    {
     "data": {
      "text/plain": [
       "False"
      ]
     },
     "execution_count": 37,
     "metadata": {},
     "output_type": "execute_result"
    }
   ],
   "source": [
    "a == b"
   ]
  },
  {
   "cell_type": "code",
   "execution_count": 38,
   "id": "27111cb9",
   "metadata": {},
   "outputs": [
    {
     "data": {
      "text/plain": [
       "False"
      ]
     },
     "execution_count": 38,
     "metadata": {},
     "output_type": "execute_result"
    }
   ],
   "source": [
    "a is b"
   ]
  },
  {
   "cell_type": "code",
   "execution_count": null,
   "id": "127ab0a0",
   "metadata": {},
   "outputs": [],
   "source": []
  },
  {
   "cell_type": "code",
   "execution_count": 39,
   "id": "aee8cdcf",
   "metadata": {},
   "outputs": [
    {
     "name": "stdout",
     "output_type": "stream",
     "text": [
      "140698320454960 140698320454960\n"
     ]
    }
   ],
   "source": [
    "# Let us check out the IDs of the following two variables. Like numbers type of variable, \n",
    "# they are same as both a and b refers to the same memory location containing same string 'hello'\n",
    "a = 'hello'\n",
    "b = 'hello'\n",
    "print(id(a), id(b))"
   ]
  },
  {
   "cell_type": "code",
   "execution_count": 41,
   "id": "34d6d57f",
   "metadata": {},
   "outputs": [
    {
     "name": "stdout",
     "output_type": "stream",
     "text": [
      "True\n",
      "True\n"
     ]
    }
   ],
   "source": [
    "# in case of strings, both a and b refers to the same memory location containing string 'hello'\n",
    "a = 'hello'\n",
    "b = 'hello'\n",
    "\n",
    "# The `is` operator returns True if the memory addresses of two strings / variables are same\n",
    "print (a is b) \n",
    "# The `==` operator checks the contents of two strings\n",
    "print (a == b) \n",
    "\n",
    "\n"
   ]
  },
  {
   "cell_type": "code",
   "execution_count": 43,
   "id": "3399f309",
   "metadata": {},
   "outputs": [
    {
     "name": "stdout",
     "output_type": "stream",
     "text": [
      "False\n",
      "False\n"
     ]
    }
   ],
   "source": [
    "print(a is not b)\n",
    "print (a != b)"
   ]
  },
  {
   "cell_type": "code",
   "execution_count": null,
   "id": "877c6e02",
   "metadata": {},
   "outputs": [],
   "source": []
  },
  {
   "cell_type": "code",
   "execution_count": 44,
   "id": "42f92ad3",
   "metadata": {},
   "outputs": [
    {
     "name": "stdout",
     "output_type": "stream",
     "text": [
      "False\n",
      "False\n",
      "True\n",
      "True\n"
     ]
    }
   ],
   "source": [
    "# both x and y refers to two different memory locations containing string 'hello'\n",
    "x = 'hello'\n",
    "y = 'bye'\n",
    "\n",
    "# The `is` operator checks the memory address of two strings \n",
    "print (x is y) \n",
    "# The `==` operator checks the contents of two strings\n",
    "print (x == y) \n",
    "\n",
    "\n",
    "print(x is not y)\n",
    "print (x != y)"
   ]
  },
  {
   "cell_type": "markdown",
   "id": "c74f321e",
   "metadata": {},
   "source": [
    "<h1 align=center style=\"color:red;\"> String Methods</h1>"
   ]
  },
  {
   "cell_type": "markdown",
   "id": "894effa2",
   "metadata": {},
   "source": [
    "###  String Methods\n",
    "\n",
    "- Now the most important part of a string is string functions which you used everywhere whenever you built any project. Now we will study all-important string functions which are frequently used.\n",
    "- These are functions that you get on all other iterator data types like list, tuple, set, and also available in string."
   ]
  },
  {
   "cell_type": "markdown",
   "id": "215a45da",
   "metadata": {},
   "source": [
    "####  The `len()`, `str.lower()`, `str.upper()` and `str.capitalize()` methods\n",
    "- The `len()` is a built-in function that returns the number of items of a container data type passed as argument. We can check the length of any data types that are collections with built-in `len()` function.\n",
    "It is considered a built-in function.\n",
    "- The `str.lower()` method return a copy of the string converted to lowercase.\n",
    "- The `str.upper()` method return a copy of the string converted to uppercase.\n",
    "- The `str.capitalize()` method return a capitalized version of the string."
   ]
  },
  {
   "cell_type": "code",
   "execution_count": 47,
   "id": "ce0443f1",
   "metadata": {},
   "outputs": [
    {
     "name": "stdout",
     "output_type": "stream",
     "text": [
      "Help on built-in function len in module builtins:\n",
      "\n",
      "len(obj, /)\n",
      "    Return the number of items in a container.\n",
      "\n"
     ]
    }
   ],
   "source": [
    "help(len)"
   ]
  },
  {
   "cell_type": "code",
   "execution_count": 49,
   "id": "61565aa6",
   "metadata": {},
   "outputs": [],
   "source": [
    "str1 = \"Hello World\""
   ]
  },
  {
   "cell_type": "code",
   "execution_count": 50,
   "id": "d4733ed9",
   "metadata": {},
   "outputs": [
    {
     "name": "stdout",
     "output_type": "stream",
     "text": [
      "HELLO WORLD\n"
     ]
    }
   ],
   "source": [
    "print(str1.upper())\n"
   ]
  },
  {
   "cell_type": "code",
   "execution_count": 51,
   "id": "296f401c",
   "metadata": {},
   "outputs": [
    {
     "name": "stdout",
     "output_type": "stream",
     "text": [
      "<class 'str'>\n"
     ]
    }
   ],
   "source": [
    "print(type(str1))"
   ]
  },
  {
   "cell_type": "code",
   "execution_count": 52,
   "id": "50cf2d7f",
   "metadata": {},
   "outputs": [
    {
     "data": {
      "text/plain": [
       "'Hello World'"
      ]
     },
     "execution_count": 52,
     "metadata": {},
     "output_type": "execute_result"
    }
   ],
   "source": [
    "str1"
   ]
  },
  {
   "cell_type": "code",
   "execution_count": 55,
   "id": "7b024b17",
   "metadata": {},
   "outputs": [
    {
     "name": "stdout",
     "output_type": "stream",
     "text": [
      "11 5\n"
     ]
    }
   ],
   "source": [
    "str1= \"Hello World\"\n",
    "\n",
    "mylist = [1,2,3,4,5]\n",
    "\n",
    "\n",
    "print(len(str1),len(mylist))"
   ]
  },
  {
   "cell_type": "markdown",
   "id": "bd92a8bd",
   "metadata": {},
   "source": [
    "### Hints\n",
    "- To know what all methods the object of string class support. Just type the name of the object, place a dot and then press <tab> to view the list of its attributes and methods it support. \n",
    "`str.<tab>`\n",
    "- Similarly to get help about a method, after the method name press <shift+tab>, to get information about what the method do, what parameters it take, its return value\n",
    "`str.lower<shift+tab>`"
   ]
  },
  {
   "cell_type": "code",
   "execution_count": 16,
   "id": "692ab2c4",
   "metadata": {},
   "outputs": [
    {
     "data": {
      "text/plain": [
       "'Data Science'"
      ]
     },
     "execution_count": 16,
     "metadata": {},
     "output_type": "execute_result"
    }
   ],
   "source": [
    "string6 = \"Data Science\"\n",
    "string6"
   ]
  },
  {
   "cell_type": "code",
   "execution_count": 17,
   "id": "3ed4698e",
   "metadata": {},
   "outputs": [
    {
     "name": "stdout",
     "output_type": "stream",
     "text": [
      "Orignial string =  introduction to Data science using python\n",
      "len(string7) =  41\n"
     ]
    }
   ],
   "source": [
    "string7 = \"introduction to Data science using python\"\n",
    "print('Orignial string = ', string7)\n",
    "\n",
    "rv = len(string7)\n",
    "print('len(string7) = ', rv)\n"
   ]
  },
  {
   "cell_type": "code",
   "execution_count": 57,
   "id": "47346199",
   "metadata": {},
   "outputs": [
    {
     "name": "stdout",
     "output_type": "stream",
     "text": [
      "string7.lower() =  introduction to data science using python\n",
      "string7.upper() =  INTRODUCTION TO DATA SCIENCE USING PYTHON\n"
     ]
    }
   ],
   "source": [
    "rv1 = string7.lower()\n",
    "print('string7.lower() = ', rv1)\n",
    "      \n",
    "print('string7.upper() = ', string7.upper())\n"
   ]
  },
  {
   "cell_type": "code",
   "execution_count": 58,
   "id": "4d6fffee",
   "metadata": {},
   "outputs": [
    {
     "data": {
      "text/plain": [
       "'introduction to Data science using python'"
      ]
     },
     "execution_count": 58,
     "metadata": {},
     "output_type": "execute_result"
    }
   ],
   "source": [
    "string7"
   ]
  },
  {
   "cell_type": "code",
   "execution_count": 59,
   "id": "2e0773f7",
   "metadata": {},
   "outputs": [
    {
     "name": "stdout",
     "output_type": "stream",
     "text": [
      "string7.capitalize() =  Introduction to data science using python\n",
      "Orignial string =  introduction to Data science using python\n",
      "strinh7.title = Introduction To Data Science Using Python\n"
     ]
    }
   ],
   "source": [
    "rv2 = string7.capitalize()\n",
    "\n",
    "print('string7.capitalize() = ', rv2)\n",
    "print('Orignial string = ', string7)\n",
    "print(\"strinh7.title =\", string7.title())"
   ]
  },
  {
   "cell_type": "markdown",
   "id": "ab632c02",
   "metadata": {},
   "source": [
    "###  The `str.strip()` method\n",
    "- The `str.strip()` method removes whitespace characters from the beginning and end of a string.\n",
    "- The `str.lstrip()` method removes whitespace characters from the beginning of a string.\n",
    "- The `str.rstrip()` method removes whitespace characters from the end of a string.\n"
   ]
  },
  {
   "cell_type": "code",
   "execution_count": 18,
   "id": "53137a08",
   "metadata": {},
   "outputs": [
    {
     "name": "stdout",
     "output_type": "stream",
     "text": [
      "    hello world, this is       Sawaira Iqbal     \n",
      "hello world, this is       Sawaira Iqbal\n"
     ]
    }
   ],
   "source": [
    "a =\"    hello world, this is       Sawaira Iqbal     \"\n",
    "x = a.strip()\n",
    "print(a)\n",
    "print(x)"
   ]
  },
  {
   "cell_type": "code",
   "execution_count": 19,
   "id": "3566767c",
   "metadata": {},
   "outputs": [
    {
     "name": "stdout",
     "output_type": "stream",
     "text": [
      "    hello world, this is       Sawaira Iqbal     \n",
      "hello world, this is       Sawaira Iqbal     \n",
      "    hello world, this is       Sawaira Iqbal\n"
     ]
    }
   ],
   "source": [
    "print(a)\n",
    "print(a.lstrip())\n",
    "print(a.rstrip())"
   ]
  },
  {
   "cell_type": "markdown",
   "id": "74517ca3",
   "metadata": {},
   "source": [
    "#  The `str.startswith()` method\n",
    "The `str.startswith()` method return True if str starts with the specified prefix, False otherwise.\n",
    "```\n",
    "str.startswith(prefix[, start[, end]])\n",
    "```"
   ]
  },
  {
   "cell_type": "code",
   "execution_count": 20,
   "id": "1bfdcf5d",
   "metadata": {},
   "outputs": [
    {
     "name": "stdout",
     "output_type": "stream",
     "text": [
      "True\n"
     ]
    }
   ],
   "source": [
    "string8 = \"Learning python for Data Science with Sawaira Iqbal\"\n",
    "\n",
    "rv3 = string8.startswith('Learning')\n",
    "print(rv3)\n",
    "\n"
   ]
  },
  {
   "cell_type": "code",
   "execution_count": 21,
   "id": "89ca63b7",
   "metadata": {},
   "outputs": [
    {
     "name": "stdout",
     "output_type": "stream",
     "text": [
      "False\n"
     ]
    }
   ],
   "source": [
    "rv4 = string8.startswith('Ali')\n",
    "print(rv4)\n"
   ]
  },
  {
   "cell_type": "code",
   "execution_count": 22,
   "id": "140d7136",
   "metadata": {},
   "outputs": [
    {
     "name": "stdout",
     "output_type": "stream",
     "text": [
      "False\n"
     ]
    }
   ],
   "source": [
    "rv5 = string8.startswith('Sawaira', 21)\n",
    "print(rv5)"
   ]
  },
  {
   "cell_type": "code",
   "execution_count": 25,
   "id": "bd8a45a5",
   "metadata": {},
   "outputs": [
    {
     "name": "stdout",
     "output_type": "stream",
     "text": [
      "False\n"
     ]
    }
   ],
   "source": [
    "# # case sensitive\n",
    "rv6 = string8.startswith('learning')\n",
    "print(rv6)\n"
   ]
  },
  {
   "cell_type": "code",
   "execution_count": 26,
   "id": "0727c14a",
   "metadata": {},
   "outputs": [
    {
     "name": "stdout",
     "output_type": "stream",
     "text": [
      "False\n"
     ]
    }
   ],
   "source": [
    "\n",
    "rv6 = string8.startswith('in', 2, 11)  # character at ending index is not included\n",
    "print(rv6)"
   ]
  },
  {
   "cell_type": "markdown",
   "id": "969bb07f",
   "metadata": {},
   "source": [
    "# The `str.endsswith()` method\n",
    "The `str.startswith()` method return True if str ends with the specified prefix, False otherwise."
   ]
  },
  {
   "cell_type": "code",
   "execution_count": 28,
   "id": "8ae091e0",
   "metadata": {},
   "outputs": [
    {
     "name": "stdout",
     "output_type": "stream",
     "text": [
      "True\n",
      "False\n"
     ]
    }
   ],
   "source": [
    "s = \"Iqbal\"\n",
    "print(s.startswith(\"I\"))\n",
    "print(s.endswith(\"b\"))"
   ]
  },
  {
   "cell_type": "markdown",
   "id": "89f523f3",
   "metadata": {},
   "source": [
    "# The `str.split()` and `str.join()` method\n",
    "- The `str.split()` method splits a string into a list of strings at every occurrence of space character by default. You may pass a parameter `sep='i'` to split method to split at that specific character instead.\n",
    "- The `sep.join(list)` method is passed a list/iterable as parameter and is called on a separater character. It joins the strings inside the list to a single string and returns"
   ]
  },
  {
   "cell_type": "code",
   "execution_count": 68,
   "id": "db327830",
   "metadata": {},
   "outputs": [
    {
     "name": "stdout",
     "output_type": "stream",
     "text": [
      "DS\n",
      "Help on built-in function split:\n",
      "\n",
      "split(sep=None, maxsplit=-1) method of builtins.str instance\n",
      "    Return a list of the words in the string, using sep as the delimiter string.\n",
      "    \n",
      "    sep\n",
      "      The delimiter according which to split the string.\n",
      "      None (the default value) means split according to any whitespace,\n",
      "      and discard empty strings from the result.\n",
      "    maxsplit\n",
      "      Maximum number of splits to do.\n",
      "      -1 (the default value) means no limit.\n",
      "\n"
     ]
    }
   ],
   "source": [
    "str1=\"DS\"\n",
    "print(str1)\n",
    "help(str1.split)"
   ]
  },
  {
   "cell_type": "code",
   "execution_count": 29,
   "id": "bb9eee27",
   "metadata": {},
   "outputs": [
    {
     "name": "stdout",
     "output_type": "stream",
     "text": [
      "51\n",
      "['Learning', 'python', 'for', 'Data', 'Science', 'with', 'Sawaira', 'Iqbal']\n"
     ]
    }
   ],
   "source": [
    "str1 =  \"Learning python for Data Science with Sawaira Iqbal\"\n",
    "print(len(str1))\n",
    "rv = str1.split()\n",
    "print(rv)\n"
   ]
  },
  {
   "cell_type": "code",
   "execution_count": 30,
   "id": "43afff7b",
   "metadata": {},
   "outputs": [
    {
     "name": "stdout",
     "output_type": "stream",
     "text": [
      "8\n",
      "<class 'list'>\n"
     ]
    }
   ],
   "source": [
    "print(len(rv))\n",
    "print(type(rv))"
   ]
  },
  {
   "cell_type": "code",
   "execution_count": 31,
   "id": "1e780023",
   "metadata": {},
   "outputs": [],
   "source": [
    "str1 =  \"Learning python for Data Science with Sawaira Iqbal\"\n",
    "rv = str1.split(sep='i')"
   ]
  },
  {
   "cell_type": "code",
   "execution_count": 32,
   "id": "cccde418",
   "metadata": {},
   "outputs": [
    {
     "name": "stdout",
     "output_type": "stream",
     "text": [
      "['Learn', 'ng python for Data Sc', 'ence w', 'th Sawa', 'ra Iqbal']\n",
      "<class 'list'>\n"
     ]
    }
   ],
   "source": [
    "print(rv)\n",
    "print(type(rv))"
   ]
  },
  {
   "cell_type": "code",
   "execution_count": null,
   "id": "829ffffc",
   "metadata": {},
   "outputs": [],
   "source": []
  },
  {
   "cell_type": "code",
   "execution_count": 74,
   "id": "5fa6cf99",
   "metadata": {},
   "outputs": [
    {
     "name": "stdout",
     "output_type": "stream",
     "text": [
      "Help on built-in function join:\n",
      "\n",
      "join(iterable, /) method of builtins.str instance\n",
      "    Concatenate any number of strings.\n",
      "    \n",
      "    The string whose method is called is inserted in between each given string.\n",
      "    The result is returned as a new string.\n",
      "    \n",
      "    Example: '.'.join(['ab', 'pq', 'rs']) -> 'ab.pq.rs'\n",
      "\n"
     ]
    }
   ],
   "source": [
    "str1=\"DS\"\n",
    "help(str1.join)"
   ]
  },
  {
   "cell_type": "code",
   "execution_count": 33,
   "id": "0d96210e",
   "metadata": {},
   "outputs": [
    {
     "data": {
      "text/plain": [
       "['L', 'e', 'a', 'r', 'n', 'i', 'n', 'g']"
      ]
     },
     "execution_count": 33,
     "metadata": {},
     "output_type": "execute_result"
    }
   ],
   "source": [
    "mystr = \"L e a r n i n g\"\n",
    "mystr.split(\" \")"
   ]
  },
  {
   "cell_type": "code",
   "execution_count": null,
   "id": "84d1ba87",
   "metadata": {},
   "outputs": [],
   "source": []
  },
  {
   "cell_type": "code",
   "execution_count": 34,
   "id": "813241dd",
   "metadata": {},
   "outputs": [],
   "source": [
    "# The join() method takes all items in an iterable and joins them into one string.\n",
    "mylist = ['Learning', 'Python', 'for', 'Data', 'Science', 'with', 'Sawaira', 'Iqbal']\n",
    "\n",
    "#Note the separator is space character\n",
    "mystr = ' '.join(mylist)\n",
    "\n"
   ]
  },
  {
   "cell_type": "code",
   "execution_count": 35,
   "id": "d9ce324f",
   "metadata": {},
   "outputs": [
    {
     "name": "stdout",
     "output_type": "stream",
     "text": [
      "['Learning', 'Python', 'for', 'Data', 'Science', 'with', 'Sawaira', 'Iqbal'] <class 'list'>\n",
      "Learning Python for Data Science with Sawaira Iqbal <class 'str'>\n"
     ]
    }
   ],
   "source": [
    "print(mylist, type(mylist))\n",
    "print(mystr, type(mystr))"
   ]
  },
  {
   "cell_type": "code",
   "execution_count": 36,
   "id": "d8eefda2",
   "metadata": {},
   "outputs": [],
   "source": [
    "# You can call join() method on a separator or your choice\n",
    "mylist = ['Sawaira', 'Ali', 'Ayesha', 'Dua', 'Adeen', 'Khubaib', str(21), str(18)]\n",
    "\n",
    "#Note the separator is hash character\n",
    "mystr = ' '.join(mylist)\n",
    "\n"
   ]
  },
  {
   "cell_type": "code",
   "execution_count": 37,
   "id": "228d6086",
   "metadata": {},
   "outputs": [
    {
     "name": "stdout",
     "output_type": "stream",
     "text": [
      "['Sawaira', 'Ali', 'Ayesha', 'Dua', 'Adeen', 'Khubaib', '21', '18'] <class 'list'>\n",
      "Sawaira Ali Ayesha Dua Adeen Khubaib 21 18 <class 'str'>\n"
     ]
    }
   ],
   "source": [
    "print(mylist, type(mylist))\n",
    "print(mystr, type(mystr))"
   ]
  },
  {
   "cell_type": "code",
   "execution_count": 38,
   "id": "e24e2faa",
   "metadata": {},
   "outputs": [
    {
     "data": {
      "text/plain": [
       "'Sawaira Ali Ayesha Dua Adeen Khubaib 21 18'"
      ]
     },
     "execution_count": 38,
     "metadata": {},
     "output_type": "execute_result"
    }
   ],
   "source": [
    "mystr"
   ]
  },
  {
   "cell_type": "code",
   "execution_count": null,
   "id": "f916f668",
   "metadata": {},
   "outputs": [],
   "source": []
  },
  {
   "cell_type": "markdown",
   "id": "1f02a9de",
   "metadata": {},
   "source": [
    "#  The `str.find()` method\n",
    "- The `str.find()` method is used to find a substring from within a string, which returns the first index at which a substring occurs in a string. If no instance of the substring is found, the method returns -1.\n",
    "```\n",
    "str.find(substring, start, end)\n",
    "```\n",
    "where \n",
    "    - `substring` is what we are searching for,\n",
    "    - `start` is the index from where we want to start searching (default value is 0)\n",
    "    - `end` is the index where we want to stop our search (default value is len(str) -1)"
   ]
  },
  {
   "cell_type": "code",
   "execution_count": 40,
   "id": "27f7f0b4",
   "metadata": {},
   "outputs": [
    {
     "name": "stdout",
     "output_type": "stream",
     "text": [
      "44\n",
      "17\n"
     ]
    }
   ],
   "source": [
    "str1 =  \"LearningPythonForDataSciencewithSawairaIqbal\"\n",
    "print(len(str1))\n",
    "print(str1.find('Data'))"
   ]
  },
  {
   "cell_type": "code",
   "execution_count": 41,
   "id": "c8e98e5a",
   "metadata": {},
   "outputs": [
    {
     "name": "stdout",
     "output_type": "stream",
     "text": [
      "21\n",
      "-1\n"
     ]
    }
   ],
   "source": [
    "print(str1.find('S',2)) # second argument starts searching from that index\n",
    "print(str1.find('s',30)) # case sensitive"
   ]
  },
  {
   "cell_type": "code",
   "execution_count": 42,
   "id": "c8923645",
   "metadata": {},
   "outputs": [
    {
     "name": "stdout",
     "output_type": "stream",
     "text": [
      "-1\n",
      "-1\n"
     ]
    }
   ],
   "source": [
    "print(str1.find('S',0, 4)) # third argument stops searching uptill that index\n",
    "print(str1.find('S',0, 5)) "
   ]
  },
  {
   "cell_type": "code",
   "execution_count": 43,
   "id": "6e7484f5",
   "metadata": {},
   "outputs": [
    {
     "name": "stdout",
     "output_type": "stream",
     "text": [
      "21\n"
     ]
    }
   ],
   "source": [
    "print(str1.find('S',21, 23)) "
   ]
  },
  {
   "cell_type": "markdown",
   "id": "68ad597d",
   "metadata": {},
   "source": [
    "# Use `str.replace()` method to find a substring\n",
    "- The `str.replace()` method returns a string after replacing all occurrences of `substring_to_be_replaced` with `new_string`.\n",
    "```\n",
    "str.replace(substring_to_be_replaced, new_string, count = -1)\n",
    "```\n",
    "- Note that `replace` returns a new string, and the original string is not modified."
   ]
  },
  {
   "cell_type": "code",
   "execution_count": 95,
   "id": "10224a4a",
   "metadata": {},
   "outputs": [
    {
     "name": "stdout",
     "output_type": "stream",
     "text": [
      "Help on built-in function replace:\n",
      "\n",
      "replace(old, new, count=-1, /) method of builtins.str instance\n",
      "    Return a copy with all occurrences of substring old replaced by new.\n",
      "    \n",
      "      count\n",
      "        Maximum number of occurrences to replace.\n",
      "        -1 (the default value) means replace all occurrences.\n",
      "    \n",
      "    If the optional argument count is given, only the first count occurrences are\n",
      "    replaced.\n",
      "\n"
     ]
    }
   ],
   "source": [
    "str1=\"DS\"\n",
    "help(str1.replace)"
   ]
  },
  {
   "cell_type": "code",
   "execution_count": 44,
   "id": "41cd4912",
   "metadata": {},
   "outputs": [
    {
     "name": "stdout",
     "output_type": "stream",
     "text": [
      "hallo\n",
      "hello\n"
     ]
    }
   ],
   "source": [
    "a = \"hello\"\n",
    "print(a.replace(\"e\",\"a\"))\n",
    "print(a)"
   ]
  },
  {
   "cell_type": "code",
   "execution_count": 45,
   "id": "a31f0b05",
   "metadata": {},
   "outputs": [
    {
     "name": "stdout",
     "output_type": "stream",
     "text": [
      "Learning Python for Data Science with Me\n",
      "Learning Python for Life with Me\n"
     ]
    }
   ],
   "source": [
    "str1 =  \"Learning Python for Data Science with Me\"\n",
    "newstring = str1.replace('Data Science', 'Life')\n",
    "print(str1)\n",
    "print(newstring)"
   ]
  },
  {
   "cell_type": "markdown",
   "id": "5a57c2f5",
   "metadata": {},
   "source": [
    "# The `str.format()` method\n",
    "\n",
    "- The `str.format()` method combines values of other data types, e.g., integers, floats, booleans, lists, etc. with strings. \n",
    "- You can use `str.format()` to construct output messages for display in the Python built-in `print()` function.\n",
    "- You put placeholders `{}` within the format string of `print()` function, and the arguments to the `str.format()` method are the variable names\n",
    "- The values of the variables are replaced with the arguments provided to the `str.format()` method."
   ]
  },
  {
   "cell_type": "code",
   "execution_count": 46,
   "id": "cb281aab",
   "metadata": {},
   "outputs": [
    {
     "name": "stdout",
     "output_type": "stream",
     "text": [
      "Mr. Sawaira Iqbal, you are 22 years old.\n"
     ]
    }
   ],
   "source": [
    "age = 22\n",
    "name = \"Sawaira Iqbal\"\n",
    "\n",
    "print(\"Mr. {}, you are {} years old.\" .format(name, age))"
   ]
  },
  {
   "cell_type": "code",
   "execution_count": 47,
   "id": "5c5787f7",
   "metadata": {},
   "outputs": [
    {
     "name": "stdout",
     "output_type": "stream",
     "text": [
      "Mr. Ali Husnain, your total cost is 100, percentage discount is 0.2, and bill is 80.0\n"
     ]
    }
   ],
   "source": [
    "name = \"Ali Husnain\"\n",
    "cost = 100\n",
    "discount = .2\n",
    "bill = cost - cost * discount\n",
    "\n",
    "print(\"Mr. {2}, your total cost is {1}, percentage discount is {3}, and bill is {0}\" \n",
    "      . format(bill, cost, name, discount))"
   ]
  },
  {
   "cell_type": "code",
   "execution_count": 48,
   "id": "da9e1824",
   "metadata": {},
   "outputs": [
    {
     "name": "stdout",
     "output_type": "stream",
     "text": [
      "Mr. Ali Sadiq, your total cost is 100, percentage discount is 0.2, and bill is 80.0\n"
     ]
    }
   ],
   "source": [
    "name=\"Ali Sadiq\"\n",
    "cost = 100\n",
    "discount = .2\n",
    "bill = cost - cost * discount\n",
    "\n",
    "print(f\"Mr. {name}, your total cost is {cost}, percentage discount is {discount}, and bill is {bill}\" \n",
    "      . format(bill, cost, name, discount))\n"
   ]
  },
  {
   "cell_type": "code",
   "execution_count": 49,
   "id": "9ddead3f",
   "metadata": {},
   "outputs": [
    {
     "name": "stdout",
     "output_type": "stream",
     "text": [
      "My name is Sawaira and my age is 22\n"
     ]
    }
   ],
   "source": [
    "name = \"Sawaira\"\n",
    "age = 22\n",
    "print(f\"My name is {name} and my age is {age}\")"
   ]
  },
  {
   "cell_type": "markdown",
   "id": "6e91bd42",
   "metadata": {},
   "source": [
    "## Check your Concepts\n",
    "\n",
    "Try answering the following questions to test your understanding of the topics covered in this notebook:\n",
    "\n",
    "1. What are the container types available in Python?\n",
    "2. What kind of data does the String data type represent?\n",
    "3. What are the different ways of creating strings in Python?\n",
    "4. What is the difference between strings created using single quotes, i.e. `'` and `'` vs. those created using double quotes, i.e. `\"` and `\"`?\n",
    "5. How do you create multi-line strings in Python?\n",
    "6. What is the newline character, `\\n`?\n",
    "7. What are escaped characters? How are they useful?\n",
    "8. How do you check the length of a string?\n",
    "9. How do you convert a string into a list of characters?\n",
    "10. How do you access a specific character from a string?\n",
    "11. How do you access a range of characters from a string?\n",
    "12. How do you check if a specific character occurs in a string?\n",
    "13. How do you check if a smaller string occurs within a bigger string?\n",
    "14. How do you join two or more strings?\n",
    "15. What are \"methods\" in Python? How are they different from functions?\n",
    "16. What do the `.count`, `.isalnum` and `.isalpha` methods on strings do?\n",
    "17. How do you replace a specific part of a string with something else?\n",
    "18. How do you split the string \"Sun,Mon,Tue,Wed,Thu,Fri,Sat\" into a list of days?\n",
    "19. How do you remove whitespace from the beginning and end of a string?\n",
    "20. What is the string `.format` method used for? Can you give an example?\n",
    "21. What are the benefits of using the `.format` method instead of string concatenation?\n",
    "22. How do you convert a value of another type to a string?\n",
    "23. How do you check if two strings have the same value?\n",
    "24. Where can you find the list of all the methods supported by strings?"
   ]
  },
  {
   "cell_type": "code",
   "execution_count": null,
   "id": "7c3c5ff1",
   "metadata": {},
   "outputs": [],
   "source": []
  }
 ],
 "metadata": {
  "kernelspec": {
   "display_name": "Python 3 (ipykernel)",
   "language": "python",
   "name": "python3"
  },
  "language_info": {
   "codemirror_mode": {
    "name": "ipython",
    "version": 3
   },
   "file_extension": ".py",
   "mimetype": "text/x-python",
   "name": "python",
   "nbconvert_exporter": "python",
   "pygments_lexer": "ipython3",
   "version": "3.11.3"
  }
 },
 "nbformat": 4,
 "nbformat_minor": 5
}
