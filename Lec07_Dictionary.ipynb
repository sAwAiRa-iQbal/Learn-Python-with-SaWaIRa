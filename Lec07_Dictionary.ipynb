{
 "cells": [
  {
   "cell_type": "markdown",
   "id": "a6651c01",
   "metadata": {
    "id": "a6651c01"
   },
   "source": [
    "<img src=\"https://f4n3x6c5.stackpathcdn.com/article/python-datatypes/Images/pd12.png\" height=500px width=500px>\n"
   ]
  },
  {
   "cell_type": "markdown",
   "id": "c1bf0c0b",
   "metadata": {
    "id": "c1bf0c0b"
   },
   "source": [
    "# Dictionary:"
   ]
  },
  {
   "cell_type": "markdown",
   "id": "f497e159",
   "metadata": {
    "id": "f497e159"
   },
   "source": [
    "In Python, a dictionary is a built-in data type that represents an unordered collection of key-value pairs. Each key in the dictionary is unique and is associated with a specific value."
   ]
  },
  {
   "cell_type": "markdown",
   "id": "68ab91ba",
   "metadata": {
    "id": "68ab91ba"
   },
   "source": [
    "- A Dictionary object  is created by placing comma separated `key:value` pairs in curly braces.\n",
    "- The keys of a dictionary has to be unique and can be of heterogeneous immutable types only (int, string or tuple).\n",
    "- The values can be duplicated and can be of heterogeneous types (mutable + immutable).\n",
    "- From Python version 3.7 onwards, dictionaries are ordered, however, are not indexed like Lists rather indexed on key values.\n",
    "- The dictionaries are used when you have to store million of `key:value` pairs and want to search a value given the key efficiently."
   ]
  },
  {
   "cell_type": "markdown",
   "id": "3594553d",
   "metadata": {
    "id": "3594553d"
   },
   "source": [
    "<img align=\"center\" width=\"600\" height=\"400\"  src=\"https://pynative.com/wp-content/uploads/2021/02/dictionaries-in-python.jpg\" >"
   ]
  },
  {
   "cell_type": "code",
   "execution_count": null,
   "id": "20690d1d",
   "metadata": {
    "id": "20690d1d"
   },
   "outputs": [],
   "source": [
    "# help(dict)"
   ]
  },
  {
   "cell_type": "markdown",
   "id": "dbc7a471",
   "metadata": {
    "id": "dbc7a471"
   },
   "source": [
    "## Motivation to use Dictionary"
   ]
  },
  {
   "cell_type": "markdown",
   "id": "familiar-investment",
   "metadata": {
    "id": "familiar-investment"
   },
   "source": [
    "Let's solve a problem to see benefits of dictionary.  \n",
    "How you can get marks of a specific student by using both lists students and name.  "
   ]
  },
  {
   "cell_type": "code",
   "execution_count": null,
   "id": "6ca016ed",
   "metadata": {
    "id": "6ca016ed"
   },
   "outputs": [],
   "source": [
    "students = ['Sawaira', 'Ali', 'Ayesha', 'Dua', 'farheen']\n",
    "\n",
    "marks = [81, 52, 70, 74, 78]"
   ]
  },
  {
   "cell_type": "code",
   "execution_count": null,
   "id": "487c1667",
   "metadata": {
    "id": "487c1667",
    "outputId": "cc3f1546-b609-4063-e4ef-162d4e8de84e"
   },
   "outputs": [
    {
     "data": {
      "text/plain": [
       "(['Sawaira', 'Ali', 'Ayesha', 'Dua', 'farheen'], [81, 52, 70, 74, 78])"
      ]
     },
     "execution_count": 2,
     "metadata": {},
     "output_type": "execute_result"
    }
   ],
   "source": [
    "students, marks"
   ]
  },
  {
   "cell_type": "code",
   "execution_count": null,
   "id": "c24ca06b",
   "metadata": {
    "id": "c24ca06b"
   },
   "outputs": [],
   "source": [
    "# students[3], marks[3]"
   ]
  },
  {
   "cell_type": "code",
   "execution_count": null,
   "id": "nuclear-forge",
   "metadata": {
    "id": "nuclear-forge",
    "outputId": "530190c6-a918-4be2-dc0a-0f9229f9476f"
   },
   "outputs": [
    {
     "data": {
      "text/plain": [
       "81"
      ]
     },
     "execution_count": 4,
     "metadata": {},
     "output_type": "execute_result"
    }
   ],
   "source": [
    "def get_marks(name):\n",
    "    index = students.index(name)\n",
    "    return marks[index]\n",
    "get_marks('Sawaira')"
   ]
  },
  {
   "cell_type": "markdown",
   "id": "78d11dc1",
   "metadata": {
    "id": "78d11dc1"
   },
   "source": [
    "## 1. How to create Dictionaries?\n",
    "- A Dictionary object  is created by placing comma separated `key:value` pairs in curly braces.\n",
    "- The keys of a dictionary has to be unique and can be of heterogeneous immutable types only (int, string or tuple).\n",
    "- The values can be duplicated and can be of heterogeneous types (mutable + immutable)."
   ]
  },
  {
   "cell_type": "code",
   "execution_count": null,
   "id": "88801cf7",
   "metadata": {
    "id": "88801cf7"
   },
   "outputs": [],
   "source": [
    "# A dictionary with string keys, and integer values, showing age of person\n",
    "dict1 = {\n",
    "    'sana':51,\n",
    "    'saba':52,\n",
    "    'rabia':22,\n",
    "}"
   ]
  },
  {
   "cell_type": "code",
   "execution_count": null,
   "id": "bfe72b4c",
   "metadata": {
    "id": "bfe72b4c",
    "outputId": "7bfbad15-3b5d-40c1-c117-134cbeede6ed"
   },
   "outputs": [
    {
     "data": {
      "text/plain": [
       "52"
      ]
     },
     "execution_count": 6,
     "metadata": {},
     "output_type": "execute_result"
    }
   ],
   "source": [
    "dict1['saba']"
   ]
  },
  {
   "cell_type": "code",
   "execution_count": null,
   "id": "c3b8bc22",
   "metadata": {
    "id": "c3b8bc22",
    "outputId": "e763cd55-0c34-4103-a88c-7a3aefa9f08e"
   },
   "outputs": [
    {
     "name": "stdout",
     "output_type": "stream",
     "text": [
      "{'sana': 51, 'saba': 52, 'rabia': 22}\n"
     ]
    }
   ],
   "source": [
    "print(dict1)"
   ]
  },
  {
   "cell_type": "code",
   "execution_count": null,
   "id": "39167ec3",
   "metadata": {
    "id": "39167ec3",
    "outputId": "384a6e92-aa84-4373-d60a-74fd0a24736b"
   },
   "outputs": [
    {
     "name": "stdout",
     "output_type": "stream",
     "text": [
      "<class 'dict'>\n",
      "2023955653504\n"
     ]
    }
   ],
   "source": [
    "print(type(dict1))\n",
    "\n",
    "print(id(dict1))"
   ]
  },
  {
   "cell_type": "code",
   "execution_count": null,
   "id": "4eaf7468",
   "metadata": {
    "id": "4eaf7468",
    "outputId": "6afea4fa-55b2-4c68-91d5-2e90f432a600"
   },
   "outputs": [
    {
     "data": {
      "text/plain": [
       "{2580: 'var1', 2582: 'var2', 2586: 'var3'}"
      ]
     },
     "execution_count": 9,
     "metadata": {},
     "output_type": "execute_result"
    }
   ],
   "source": [
    "# A dictionary with integer keys, and string values, showing a symbol table generated by compiler\n",
    "dict2 = {\n",
    "    2580:'var1',\n",
    "    2582:'var2',\n",
    "    2586:'var3'\n",
    "}\n",
    "dict2"
   ]
  },
  {
   "cell_type": "code",
   "execution_count": null,
   "id": "0c046b53",
   "metadata": {
    "id": "0c046b53",
    "outputId": "eccef01a-16d2-4b0d-a652-b7fc9aefe879"
   },
   "outputs": [
    {
     "name": "stdout",
     "output_type": "stream",
     "text": [
      "<class 'dict'>\n",
      "2023955464448\n"
     ]
    }
   ],
   "source": [
    "print(type(dict2))\n",
    "print(id(dict2))"
   ]
  },
  {
   "cell_type": "code",
   "execution_count": null,
   "id": "1a3db222",
   "metadata": {
    "id": "1a3db222"
   },
   "outputs": [],
   "source": []
  },
  {
   "cell_type": "code",
   "execution_count": null,
   "id": "28246b4b",
   "metadata": {
    "id": "28246b4b",
    "outputId": "87efc1bf-bf0e-4128-8897-edfdf22b457c"
   },
   "outputs": [
    {
     "name": "stdout",
     "output_type": "stream",
     "text": [
      "{'name': 'ali', 1: 10, 'abc': 25, 33: 'xyz'}\n"
     ]
    }
   ],
   "source": [
    "# dictionary with mixed keys (immutable types only)\n",
    "dict3 = {\n",
    "    'name': 'ali',\n",
    "    1: 10,\n",
    "    'abc':25,\n",
    "    33: 'xyz'\n",
    "}\n",
    "print(dict3)"
   ]
  },
  {
   "cell_type": "code",
   "execution_count": null,
   "id": "2b837716",
   "metadata": {
    "id": "2b837716",
    "outputId": "8f3552b2-92cc-43f3-f8f0-d22ee49d59e4"
   },
   "outputs": [
    {
     "data": {
      "text/plain": [
       "{1: 'hello', 2: 'bye'}"
      ]
     },
     "execution_count": 12,
     "metadata": {},
     "output_type": "execute_result"
    }
   ],
   "source": [
    "# creating dictionary using dict() method\n",
    "dict4 = dict({1: 'hello', 2: 'bye'})\n",
    "dict4"
   ]
  },
  {
   "cell_type": "code",
   "execution_count": null,
   "id": "42a9682a",
   "metadata": {
    "id": "42a9682a",
    "outputId": "db065626-aa1f-411c-d388-e93e20c7305b"
   },
   "outputs": [
    {
     "data": {
      "text/plain": [
       "{}"
      ]
     },
     "execution_count": 14,
     "metadata": {},
     "output_type": "execute_result"
    }
   ],
   "source": [
    "# Creating an empty dictionary\n",
    "dict5 = dict()\n",
    "dict5"
   ]
  },
  {
   "cell_type": "code",
   "execution_count": null,
   "id": "e5aa7f0f",
   "metadata": {
    "id": "e5aa7f0f",
    "outputId": "a281196d-169d-4e92-f9d1-4be33638e146"
   },
   "outputs": [
    {
     "data": {
      "text/plain": [
       "{}"
      ]
     },
     "execution_count": 15,
     "metadata": {},
     "output_type": "execute_result"
    }
   ],
   "source": [
    "# other way to create empty dictionary\n",
    "dict6 = {}\n",
    "dict6"
   ]
  },
  {
   "cell_type": "code",
   "execution_count": null,
   "id": "82597fbb",
   "metadata": {
    "id": "82597fbb",
    "outputId": "5c177fc4-3cd3-4163-8900-104f9f8572a3"
   },
   "outputs": [
    {
     "data": {
      "text/plain": [
       "{'name': 'Sawaira', 'age': 22, 'city': 'Lhr'}"
      ]
     },
     "execution_count": 18,
     "metadata": {},
     "output_type": "execute_result"
    }
   ],
   "source": [
    "# A list of two object tuples can also be used to create dictionaries\n",
    "\n",
    "# A list of two object tuples\n",
    "# ([('name', 'Sawaira'), ('age',22), ('city', 'Lhr')])\n",
    "\n",
    "\n",
    "dict7 = dict([('name', 'Sawaira'), ('age',22), ('city', 'Lhr')])\n",
    "\n",
    "\n",
    "dict7"
   ]
  },
  {
   "cell_type": "markdown",
   "id": "d6ec8ad7",
   "metadata": {
    "id": "d6ec8ad7"
   },
   "source": [
    "## 2. Proof of concepts"
   ]
  },
  {
   "cell_type": "markdown",
   "id": "feba67cb",
   "metadata": {
    "id": "feba67cb"
   },
   "source": [
    "### a. Dictionary allows Duplicate Values"
   ]
  },
  {
   "cell_type": "code",
   "execution_count": null,
   "id": "36c560ea",
   "metadata": {
    "id": "36c560ea",
    "outputId": "d6cddd6a-5a22-42b2-f5c0-08b71282a42b"
   },
   "outputs": [
    {
     "data": {
      "text/plain": [
       "{'name1': 'ali', 'name2': 'ali'}"
      ]
     },
     "execution_count": 19,
     "metadata": {},
     "output_type": "execute_result"
    }
   ],
   "source": [
    "# Duplicate values are allowed\n",
    "d1 = {\n",
    "    'name1' : 'ali',\n",
    "     'name2' : 'ali'\n",
    "     }\n",
    "d1"
   ]
  },
  {
   "cell_type": "markdown",
   "id": "241ef2e0",
   "metadata": {
    "id": "241ef2e0"
   },
   "source": [
    "### b. Dictionary DOESNOT allows Duplicate Keys"
   ]
  },
  {
   "cell_type": "code",
   "execution_count": null,
   "id": "873aa251",
   "metadata": {
    "id": "873aa251",
    "outputId": "6ac4b13c-fe46-40e0-b7b5-54140cd98643"
   },
   "outputs": [
    {
     "data": {
      "text/plain": [
       "{'name': 'Iqra'}"
      ]
     },
     "execution_count": 20,
     "metadata": {},
     "output_type": "execute_result"
    }
   ],
   "source": [
    "# Duplicate keys are not allowed\n",
    "# This will not raise an error, but will overwrite the value corresponding to the key\n",
    "d1 = {\n",
    "     'name' : 'Sawaira',\n",
    "     'name' : 'iqbal',\n",
    "     'name' : 'Iqra'\n",
    "     }\n",
    "d1"
   ]
  },
  {
   "cell_type": "markdown",
   "id": "37e2a7a2",
   "metadata": {
    "id": "37e2a7a2"
   },
   "source": [
    "### c. Keys inside Dictionaries Must be of Immutable data types\n",
    "- The keys of a dictionary has to be of immutable data type (number, string, tuple)"
   ]
  },
  {
   "cell_type": "code",
   "execution_count": null,
   "id": "f6c829c1",
   "metadata": {
    "id": "f6c829c1",
    "outputId": "258a27ab-b278-4ae7-cc97-5a38477b5d47"
   },
   "outputs": [
    {
     "data": {
      "text/plain": [
       "{'ali': 'name', (60, 78, 83): 'marks'}"
      ]
     },
     "execution_count": 21,
     "metadata": {},
     "output_type": "execute_result"
    }
   ],
   "source": [
    "# Tuple being immutable can be used as a key\n",
    "d1 = {\n",
    "        'ali':'name',\n",
    "      (60, 78, 83): 'marks'\n",
    "     }\n",
    "d1"
   ]
  },
  {
   "cell_type": "code",
   "execution_count": null,
   "id": "fbcf6824",
   "metadata": {
    "id": "fbcf6824",
    "outputId": "a8146163-e515-4622-977c-dad32b6bc418"
   },
   "outputs": [
    {
     "ename": "TypeError",
     "evalue": "unhashable type: 'list'",
     "output_type": "error",
     "traceback": [
      "\u001b[1;31m---------------------------------------------------------------------------\u001b[0m",
      "\u001b[1;31mTypeError\u001b[0m                                 Traceback (most recent call last)",
      "Cell \u001b[1;32mIn[23], line 2\u001b[0m\n\u001b[0;32m      1\u001b[0m \u001b[38;5;66;03m# List being mutable cannot be used as a key\u001b[39;00m\n\u001b[1;32m----> 2\u001b[0m d1 \u001b[38;5;241m=\u001b[39m {\n\u001b[0;32m      3\u001b[0m       \u001b[38;5;124m'\u001b[39m\u001b[38;5;124mali\u001b[39m\u001b[38;5;124m'\u001b[39m:\u001b[38;5;124m'\u001b[39m\u001b[38;5;124mname\u001b[39m\u001b[38;5;124m'\u001b[39m, \n\u001b[0;32m      4\u001b[0m     \n\u001b[0;32m      5\u001b[0m       [\u001b[38;5;241m60\u001b[39m, \u001b[38;5;241m78\u001b[39m, \u001b[38;5;241m83\u001b[39m]:\u001b[38;5;124m'\u001b[39m\u001b[38;5;124mmarks\u001b[39m\u001b[38;5;124m'\u001b[39m \n\u001b[0;32m      6\u001b[0m      }\n\u001b[0;32m      7\u001b[0m d1\n",
      "\u001b[1;31mTypeError\u001b[0m: unhashable type: 'list'"
     ]
    }
   ],
   "source": [
    "# List being mutable cannot be used as a key\n",
    "d1 = {\n",
    "      'ali':'name',\n",
    "\n",
    "      [60, 78, 83]:'marks'\n",
    "     }\n",
    "d1"
   ]
  },
  {
   "cell_type": "markdown",
   "id": "b6b79f18",
   "metadata": {
    "id": "b6b79f18"
   },
   "source": [
    "### d. Values inside Dictionaies can be of mutable/immutable data type"
   ]
  },
  {
   "cell_type": "code",
   "execution_count": null,
   "id": "707b1982",
   "metadata": {
    "id": "707b1982",
    "outputId": "19da74dc-e580-42bf-a827-52d9694356ec"
   },
   "outputs": [
    {
     "data": {
      "text/plain": [
       "{'name': 'Ali', 'marks': [60, 78, 83]}"
      ]
     },
     "execution_count": 24,
     "metadata": {},
     "output_type": "execute_result"
    }
   ],
   "source": [
    "# List being mutable can be used as a value\n",
    "d1 = {\n",
    "     'name':'Ali',\n",
    "      'marks':[60,78,83]\n",
    "     }\n",
    "d1"
   ]
  },
  {
   "cell_type": "code",
   "execution_count": null,
   "id": "848acae1",
   "metadata": {
    "id": "848acae1",
    "outputId": "c2575428-4329-45bb-f383-8a252252b7b8"
   },
   "outputs": [
    {
     "data": {
      "text/plain": [
       "{'name': 'ali', 'marks': (60, 78, 83)}"
      ]
     },
     "execution_count": 25,
     "metadata": {},
     "output_type": "execute_result"
    }
   ],
   "source": [
    "# Tuple being immutable can also be used as a value\n",
    "d1 = {\n",
    "    'name':'ali',\n",
    "      'marks': (60,78,83)\n",
    "     }\n",
    "d1"
   ]
  },
  {
   "cell_type": "markdown",
   "id": "b4736b44",
   "metadata": {
    "id": "b4736b44"
   },
   "source": [
    "### e. Dictionaries are heterogeneous\n",
    "- The keys of a dictionary can be of integer, string, or tuple type\n",
    "- The values of a dictionary can be of any data type"
   ]
  },
  {
   "cell_type": "code",
   "execution_count": null,
   "id": "554ca278",
   "metadata": {
    "id": "554ca278",
    "outputId": "317806d0-6c23-4af3-ee8c-ea947cd15db7"
   },
   "outputs": [
    {
     "data": {
      "text/plain": [
       "{'name': 'ali', 1: 10, 'abc': 25, 33: 'xyz'}"
      ]
     },
     "execution_count": 26,
     "metadata": {},
     "output_type": "execute_result"
    }
   ],
   "source": [
    "dict3 = {\n",
    "    'name': 'ali',\n",
    "    1: 10,\n",
    "    'abc':25,\n",
    "    33: 'xyz'\n",
    "}\n",
    "dict3"
   ]
  },
  {
   "cell_type": "markdown",
   "id": "dd3c355e",
   "metadata": {
    "id": "dd3c355e"
   },
   "source": [
    "### f. Dictionaries can be nested to arbitrary depth"
   ]
  },
  {
   "cell_type": "code",
   "execution_count": null,
   "id": "6b41d82a",
   "metadata": {
    "id": "6b41d82a",
    "outputId": "7cb017d5-1717-47c2-c4d9-7c68d49ca3b4"
   },
   "outputs": [
    {
     "data": {
      "text/plain": [
       "{'name': 'sawaira',\n",
       " 'status': 'data scientist',\n",
       " 'address': {'house#': 35,\n",
       "  'area': 'Pak Villas Housing Society',\n",
       "  'city': 'lahore'},\n",
       " 'phone': '03460000000'}"
      ]
     },
     "execution_count": 32,
     "metadata": {},
     "output_type": "execute_result"
    }
   ],
   "source": [
    "# Creating a Nested Dictionary\n",
    "dict7 = {\n",
    "        'name':'sawaira',\n",
    "         'status':'data scientist',\n",
    "        'address':{'house#' : 35, 'area' : 'Pak Villas Housing Society', 'city' : 'lahore'},\n",
    "         'phone': '03460000000'\n",
    "        }\n",
    "# print(dict7)\n",
    "dict7"
   ]
  },
  {
   "cell_type": "code",
   "execution_count": null,
   "id": "dcf6eb84",
   "metadata": {
    "id": "dcf6eb84",
    "outputId": "3889f1a7-1595-4081-81e7-65710faaf4cb"
   },
   "outputs": [
    {
     "name": "stdout",
     "output_type": "stream",
     "text": [
      "<class 'dict'>\n"
     ]
    }
   ],
   "source": [
    "print(type(dict7))"
   ]
  },
  {
   "cell_type": "code",
   "execution_count": null,
   "id": "b207e8d5",
   "metadata": {
    "id": "b207e8d5",
    "outputId": "1648392f-d4c0-44ce-983e-7d9f888d7c2e"
   },
   "outputs": [
    {
     "data": {
      "text/plain": [
       "{'house#': 35, 'area': 'Pak Villas Housing Society', 'city': 'lahore'}"
      ]
     },
     "execution_count": 34,
     "metadata": {},
     "output_type": "execute_result"
    }
   ],
   "source": [
    "dict7['address']"
   ]
  },
  {
   "cell_type": "code",
   "execution_count": null,
   "id": "least-yemen",
   "metadata": {
    "id": "least-yemen"
   },
   "outputs": [],
   "source": [
    "# dict7['address']"
   ]
  },
  {
   "cell_type": "markdown",
   "id": "bdfb8c5d",
   "metadata": {
    "id": "bdfb8c5d"
   },
   "source": [
    "### g. Dictionaries from Python 3.7 onward are ordered\n",
    "- From Python 3.7 onwards, dictionaries are guranteed to be in insertion ordered. i.e., every time you access dictionary elements they will show up in same sequence.\n",
    "- However, like string, list, and tuple, the elements of a dictionary are not associated by an index\n",
    "- Moreover, two dictionaries having same key-value pairs are two different objects"
   ]
  },
  {
   "cell_type": "code",
   "execution_count": null,
   "id": "f588c165",
   "metadata": {
    "id": "f588c165",
    "outputId": "1d76f12a-bf0e-4bd2-fe23-d83815f66451"
   },
   "outputs": [
    {
     "data": {
      "text/plain": [
       "{'Sawaira': 51, 'ali': 52, 'dua': 20}"
      ]
     },
     "execution_count": 35,
     "metadata": {},
     "output_type": "execute_result"
    }
   ],
   "source": [
    "d1 = {\n",
    "    'Sawaira':51,\n",
    "    'ali':52,\n",
    "    'dua':20\n",
    "}\n",
    "d1"
   ]
  },
  {
   "cell_type": "code",
   "execution_count": null,
   "id": "8d46063a",
   "metadata": {
    "id": "8d46063a",
    "outputId": "2804fa37-22ac-42ed-ba1d-f561494bf3a7"
   },
   "outputs": [
    {
     "data": {
      "text/plain": [
       "{'Sawaira': 51, 'ali': 52, 'dua': 20}"
      ]
     },
     "execution_count": 36,
     "metadata": {},
     "output_type": "execute_result"
    }
   ],
   "source": [
    "d2 = {\n",
    "    'Sawaira':51,\n",
    "    'ali':52,\n",
    "    'dua':20\n",
    "}\n",
    "d2\n"
   ]
  },
  {
   "cell_type": "code",
   "execution_count": null,
   "id": "b96d10b2",
   "metadata": {
    "id": "b96d10b2",
    "outputId": "b8941c5c-7d5a-4c9f-825f-d3eca121850f"
   },
   "outputs": [
    {
     "name": "stdout",
     "output_type": "stream",
     "text": [
      "2023961289216 2023961352448 2023961565824\n"
     ]
    }
   ],
   "source": [
    "d3 = {\n",
    "    'Sawaira':52,\n",
    "    'dua':20,\n",
    "    'Sawaira':51\n",
    "}\n",
    "\n",
    "print(id(d1), id(d2), id(d3))"
   ]
  },
  {
   "cell_type": "markdown",
   "id": "11c05fb2",
   "metadata": {
    "id": "11c05fb2"
   },
   "source": [
    "## 3. Accessing Elements of a Dictionary"
   ]
  },
  {
   "cell_type": "markdown",
   "id": "f79228bc",
   "metadata": {
    "id": "f79228bc"
   },
   "source": [
    "### a. Retrieving a `value`of a Dictionary given a `key`\n",
    "- Given a key, you can retrieve corresponding value from a dictionary using two ways:\n",
    "    - Use key inside `[]` operator\n",
    "    - Pass the key as argument to `dict.get(key)` method"
   ]
  },
  {
   "cell_type": "code",
   "execution_count": null,
   "id": "af560a31",
   "metadata": {
    "id": "af560a31",
    "outputId": "8eb3bc39-73dc-4c5c-c616-0f37882b3e2d"
   },
   "outputs": [
    {
     "data": {
      "text/plain": [
       "{'name': 'Sawaira', 'age': 22, 'address': 'Pak Villas', 'marks': [60, 75, 80]}"
      ]
     },
     "execution_count": 38,
     "metadata": {},
     "output_type": "execute_result"
    }
   ],
   "source": [
    "d1 = {\n",
    "    'name':'Sawaira',\n",
    "    'age':22,\n",
    "    'address':'Pak Villas',\n",
    "    'marks':[60, 75, 80]\n",
    "}\n",
    "d1"
   ]
  },
  {
   "cell_type": "code",
   "execution_count": null,
   "id": "06df71ad",
   "metadata": {
    "id": "06df71ad",
    "outputId": "c70938bb-de4c-46ab-d41c-f7b05bf85170"
   },
   "outputs": [
    {
     "data": {
      "text/plain": [
       "'Pak Villas'"
      ]
     },
     "execution_count": 39,
     "metadata": {},
     "output_type": "execute_result"
    }
   ],
   "source": [
    "d1['address']"
   ]
  },
  {
   "cell_type": "code",
   "execution_count": null,
   "id": "43c4a5ff",
   "metadata": {
    "id": "43c4a5ff",
    "outputId": "5d38e983-f496-49bd-932b-88a109aa4477"
   },
   "outputs": [
    {
     "data": {
      "text/plain": [
       "[60, 75, 80]"
      ]
     },
     "execution_count": 40,
     "metadata": {},
     "output_type": "execute_result"
    }
   ],
   "source": [
    "d1.get('marks')"
   ]
  },
  {
   "cell_type": "code",
   "execution_count": null,
   "id": "8998ef84",
   "metadata": {
    "id": "8998ef84"
   },
   "outputs": [],
   "source": [
    "# d1[\"123\"]\n",
    "d1.get(\"123\")"
   ]
  },
  {
   "cell_type": "markdown",
   "id": "248a9a51",
   "metadata": {
    "id": "248a9a51"
   },
   "source": [
    "**To retrieve a value from a nested dictionary**"
   ]
  },
  {
   "cell_type": "code",
   "execution_count": null,
   "id": "c7bcc139",
   "metadata": {
    "id": "c7bcc139",
    "outputId": "f7f380af-11a7-473c-c333-af57092fa6a7"
   },
   "outputs": [
    {
     "data": {
      "text/plain": [
       "{'name': 'Sawaira',\n",
       " 'status': 'Data Scientist',\n",
       " 'address': {'house#': 35,\n",
       "  'area': 'Pak Villas Housing Society',\n",
       "  'city': 'lahore'},\n",
       " 'phone': '03460000000'}"
      ]
     },
     "execution_count": 43,
     "metadata": {},
     "output_type": "execute_result"
    }
   ],
   "source": [
    "d2 = {\n",
    "        'name':'Sawaira',\n",
    "         'status':'Data Scientist',\n",
    "        'address':{'house#' : 35,\n",
    "                   'area' : 'Pak Villas Housing Society',\n",
    "                   'city' : 'lahore'},\n",
    "         'phone': '03460000000'\n",
    "        }\n",
    "\n",
    "d2"
   ]
  },
  {
   "cell_type": "code",
   "execution_count": null,
   "id": "a08ce2d1",
   "metadata": {
    "id": "a08ce2d1",
    "outputId": "de72b40b-cd6b-469a-8846-26d2b6ef90a3"
   },
   "outputs": [
    {
     "data": {
      "text/plain": [
       "{'house#': 35, 'area': 'Pak Villas Housing Society', 'city': 'lahore'}"
      ]
     },
     "execution_count": 44,
     "metadata": {},
     "output_type": "execute_result"
    }
   ],
   "source": [
    "d2['address']"
   ]
  },
  {
   "cell_type": "code",
   "execution_count": null,
   "id": "3ffa6521",
   "metadata": {
    "id": "3ffa6521",
    "outputId": "5d6af0d0-9008-4454-a208-c7d2df3f489c"
   },
   "outputs": [
    {
     "data": {
      "text/plain": [
       "'lahore'"
      ]
     },
     "execution_count": 45,
     "metadata": {},
     "output_type": "execute_result"
    }
   ],
   "source": [
    "d2['address']['city']"
   ]
  },
  {
   "cell_type": "code",
   "execution_count": null,
   "id": "61ead2f6",
   "metadata": {
    "id": "61ead2f6",
    "outputId": "64f90e95-67c2-4e29-9974-e0e224747fe2"
   },
   "outputs": [
    {
     "data": {
      "text/plain": [
       "'lahore'"
      ]
     },
     "execution_count": 46,
     "metadata": {},
     "output_type": "execute_result"
    }
   ],
   "source": [
    "d2.get('address')['city']"
   ]
  },
  {
   "cell_type": "code",
   "execution_count": null,
   "id": "7aea3ab9",
   "metadata": {
    "id": "7aea3ab9",
    "outputId": "0f53031e-ae45-4f4f-9651-adb8c14d0e01"
   },
   "outputs": [
    {
     "data": {
      "text/plain": [
       "'lahore'"
      ]
     },
     "execution_count": 47,
     "metadata": {},
     "output_type": "execute_result"
    }
   ],
   "source": [
    "d2.get('address').get('city')"
   ]
  },
  {
   "cell_type": "markdown",
   "id": "46c467b5",
   "metadata": {
    "id": "46c467b5"
   },
   "source": [
    "### c. Retrieving all `key:value` pairs from a Dictionary using `dict.items()`  method\n",
    "- The `dict.items()` method returns all the key-value pairs of a dictionary as a two object tuple"
   ]
  },
  {
   "cell_type": "code",
   "execution_count": null,
   "id": "a5a898cd",
   "metadata": {
    "id": "a5a898cd",
    "outputId": "28af5010-4964-4c65-c1d7-d3d79c302410"
   },
   "outputs": [
    {
     "name": "stdout",
     "output_type": "stream",
     "text": [
      "Help on method_descriptor:\n",
      "\n",
      "items(...)\n",
      "    D.items() -> a set-like object providing a view on D's items\n",
      "\n"
     ]
    }
   ],
   "source": [
    "help(dict.items)"
   ]
  },
  {
   "cell_type": "code",
   "execution_count": null,
   "id": "f3b13815",
   "metadata": {
    "id": "f3b13815",
    "outputId": "70e53bf9-d41f-48c5-830b-6283c3116caf"
   },
   "outputs": [
    {
     "data": {
      "text/plain": [
       "{'name': 'Sawaira',\n",
       " 'status': 'data scientist',\n",
       " 'address': {'house#': 35,\n",
       "  'area': 'Pak Villas Housing Society',\n",
       "  'city': 'lahore'},\n",
       " 'phone': '03460000000'}"
      ]
     },
     "execution_count": 49,
     "metadata": {},
     "output_type": "execute_result"
    }
   ],
   "source": [
    "# Creating a Nested Dictionary\n",
    "d1 = {\n",
    "        'name':'Sawaira',\n",
    "         'status':'data scientist',\n",
    "        'address':{'house#' : 35, 'area' : 'Pak Villas Housing Society', 'city' : 'lahore'},\n",
    "         'phone': '03460000000'\n",
    "        }\n",
    "\n",
    "d1"
   ]
  },
  {
   "cell_type": "code",
   "execution_count": null,
   "id": "63929986",
   "metadata": {
    "id": "63929986"
   },
   "outputs": [],
   "source": [
    "l1 = d1.items()"
   ]
  },
  {
   "cell_type": "code",
   "execution_count": null,
   "id": "enclosed-plain",
   "metadata": {
    "id": "enclosed-plain",
    "outputId": "4aade7ac-f4af-4397-e1b6-2f226151fd7b"
   },
   "outputs": [
    {
     "data": {
      "text/plain": [
       "dict_items([('name', 'Sawaira'), ('status', 'data scientist'), ('address', {'house#': 35, 'area': 'Pak Villas Housing Society', 'city': 'lahore'}), ('phone', '03460000000')])"
      ]
     },
     "execution_count": 51,
     "metadata": {},
     "output_type": "execute_result"
    }
   ],
   "source": [
    "l1"
   ]
  },
  {
   "cell_type": "markdown",
   "id": "b1b75815",
   "metadata": {
    "id": "b1b75815"
   },
   "source": [
    "### d. Retrieving all `keys` of a Dictionary using `dict.keys()`  method\n",
    "- The `dict.keys()` method returns all the keys  of a dictionary object"
   ]
  },
  {
   "cell_type": "code",
   "execution_count": null,
   "id": "757ddbcd",
   "metadata": {
    "id": "757ddbcd"
   },
   "outputs": [],
   "source": [
    "d1 = {\n",
    "    'name':'sawaira',\n",
    "    'age':22,\n",
    "    'address':'Pak Villas',\n",
    "    'marks':[60, 75, 80]\n",
    "}"
   ]
  },
  {
   "cell_type": "code",
   "execution_count": null,
   "id": "9a202981",
   "metadata": {
    "id": "9a202981",
    "outputId": "a337eddf-8863-46a7-d8b9-3db5a16eb60b"
   },
   "outputs": [
    {
     "data": {
      "text/plain": [
       "dict_keys(['name', 'age', 'address', 'marks'])"
      ]
     },
     "execution_count": 53,
     "metadata": {},
     "output_type": "execute_result"
    }
   ],
   "source": [
    "d1.keys()"
   ]
  },
  {
   "cell_type": "markdown",
   "id": "9bd002d9",
   "metadata": {
    "id": "9bd002d9"
   },
   "source": [
    "### e. Retrieving all `values` from a Dictionary using `dict.values()`  method\n",
    "- The `dict.values()` method returns all the values  of a dict object\n",
    "- If a value occurs multiple times in the dictionary, it will appear that many times"
   ]
  },
  {
   "cell_type": "code",
   "execution_count": null,
   "id": "521ab72a",
   "metadata": {
    "id": "521ab72a"
   },
   "outputs": [],
   "source": [
    "d1 = {\n",
    "    'name':'Sawaira',\n",
    "    'age':22,\n",
    "    'address':'Pak Villas',\n",
    "    'marks':[60, 75, 80]\n",
    "}"
   ]
  },
  {
   "cell_type": "code",
   "execution_count": null,
   "id": "7a1fc953",
   "metadata": {
    "id": "7a1fc953",
    "outputId": "129d0fe1-2b4b-4564-8bcb-3b2f13ef68ad"
   },
   "outputs": [
    {
     "data": {
      "text/plain": [
       "dict_values(['Sawaira', 22, 'Pak Villas', [60, 75, 80]])"
      ]
     },
     "execution_count": 55,
     "metadata": {},
     "output_type": "execute_result"
    }
   ],
   "source": [
    "d1.values()"
   ]
  },
  {
   "cell_type": "markdown",
   "id": "525e4368",
   "metadata": {
    "id": "525e4368"
   },
   "source": [
    "<img align=\"center\" width=\"600\" height=\"400\"  src=\"https://lh3.googleusercontent.com/bO10VOJN6sSHLznohOnlvJLyXjp_S2YtstfEak9vSDTUOLsO3kRcNf5kTw5J1VttEKqPqPrsYhEQCrtlXkhI9H8kxOW65Twk3u4kB5QYu7xfQ0FDXEPE_0Idd79FSu4yXEvV1jYq\" >"
   ]
  },
  {
   "cell_type": "markdown",
   "id": "c8bf8328",
   "metadata": {
    "id": "c8bf8328"
   },
   "source": [
    "## 4. Adding/Modifying Elements of a Dictionary"
   ]
  },
  {
   "cell_type": "markdown",
   "id": "b3baf5f7",
   "metadata": {
    "id": "b3baf5f7"
   },
   "source": [
    "### a. Adding/Modifying Elements using `[]` Operator\n",
    "- You can  modify value associated with a key using `[]` operator and assignment statement\n",
    "```\n",
    "dict[key] = value\n",
    "```\n",
    "- If the key donot already exist, a new key:value is inserted in the dictionary"
   ]
  },
  {
   "cell_type": "code",
   "execution_count": null,
   "id": "ee36941b",
   "metadata": {
    "id": "ee36941b",
    "outputId": "ec020d30-6acf-4e87-82a8-8c6f500ea2bc"
   },
   "outputs": [
    {
     "data": {
      "text/plain": [
       "{'name': 'Sawaira', 'age': 22, 'address': 'Pak Villas', 'marks': [60, 75, 80]}"
      ]
     },
     "execution_count": 57,
     "metadata": {},
     "output_type": "execute_result"
    }
   ],
   "source": [
    "d1 = {\n",
    "    'name':'Sawaira',\n",
    "    'age':22,\n",
    "    'address':'Pak Villas',\n",
    "    'marks':[60, 75, 80]\n",
    "}\n",
    "d1"
   ]
  },
  {
   "cell_type": "code",
   "execution_count": null,
   "id": "9ab55d28",
   "metadata": {
    "id": "9ab55d28",
    "outputId": "a4c5b15c-f77b-47ed-a90e-d20bc97e8e0b"
   },
   "outputs": [
    {
     "data": {
      "text/plain": [
       "{'name': 'Sawaira', 'age': 22, 'address': 'Township', 'marks': [60, 75, 80]}"
      ]
     },
     "execution_count": 58,
     "metadata": {},
     "output_type": "execute_result"
    }
   ],
   "source": [
    "# Modify value corresponding to an existing key\n",
    "d1['address'] = 'Township'\n",
    "d1"
   ]
  },
  {
   "cell_type": "code",
   "execution_count": null,
   "id": "eb507d6e",
   "metadata": {
    "id": "eb507d6e",
    "outputId": "4887b15a-c5d7-476f-a0c5-92d1d65d3798"
   },
   "outputs": [
    {
     "data": {
      "text/plain": [
       "{'name': 'Sawaira',\n",
       " 'age': 22,\n",
       " 'address': 'Township',\n",
       " 'marks': [60, 75, 80],\n",
       " 'key1': 'value1'}"
      ]
     },
     "execution_count": 59,
     "metadata": {},
     "output_type": "execute_result"
    }
   ],
   "source": [
    "# Adding a new key:value pair\n",
    "d1['key1'] = 'value1'\n",
    "d1"
   ]
  },
  {
   "cell_type": "markdown",
   "id": "e40d6d74",
   "metadata": {
    "id": "e40d6d74"
   },
   "source": [
    "### b. Modifying Elements using `d1.update()` method\n",
    "- The `d1.update()` method is used to update the value corresponding to an existing key inside the dictionary\n",
    "```\n",
    "dict.update(key:value)\n",
    "```\n",
    "- If the key donot already exist, a new key:value is inserted in the dictionary"
   ]
  },
  {
   "cell_type": "code",
   "execution_count": null,
   "id": "be36f778",
   "metadata": {
    "id": "be36f778",
    "outputId": "6f3a891b-8be3-486b-d3fa-998ad0abd4c0"
   },
   "outputs": [
    {
     "data": {
      "text/plain": [
       "{'name': 'Ali', 'age': 20, 'address': 'Pak Villas', 'marks': [60, 75, 80]}"
      ]
     },
     "execution_count": 60,
     "metadata": {},
     "output_type": "execute_result"
    }
   ],
   "source": [
    "# Create a simple dictionary\n",
    "d1 = {\n",
    "    'name':'Ali',\n",
    "    'age':20,\n",
    "    'address':'Pak Villas',\n",
    "    'marks':[60, 75, 80]\n",
    "}\n",
    "d1"
   ]
  },
  {
   "cell_type": "code",
   "execution_count": null,
   "id": "4f7f5acf",
   "metadata": {
    "id": "4f7f5acf",
    "outputId": "b5bbb2e7-c927-4c12-a597-39a50236cac9"
   },
   "outputs": [
    {
     "data": {
      "text/plain": [
       "{'name': 'Ehtisham Sadiq',\n",
       " 'age': 20,\n",
       " 'address': 'Pak Villas',\n",
       " 'marks': [60, 75, 80]}"
      ]
     },
     "execution_count": 61,
     "metadata": {},
     "output_type": "execute_result"
    }
   ],
   "source": [
    "# Modify value corresponding to an existing key\n",
    "d1.update({'name':'Ehtisham Sadiq'})\n",
    "d1"
   ]
  },
  {
   "cell_type": "code",
   "execution_count": null,
   "id": "f4427151",
   "metadata": {
    "id": "f4427151",
    "outputId": "87063210-6f80-47f6-a07d-59748f654433"
   },
   "outputs": [
    {
     "data": {
      "text/plain": [
       "{'name': 'Ehtisham Sadiq',\n",
       " 'age': 20,\n",
       " 'address': 'Pak Villas',\n",
       " 'marks': [60, 75, 80],\n",
       " 'key2': 'value2'}"
      ]
     },
     "execution_count": 62,
     "metadata": {},
     "output_type": "execute_result"
    }
   ],
   "source": [
    "# Adding a new key:value pair\n",
    "d1.update({'key2':'value2'})\n",
    "d1"
   ]
  },
  {
   "cell_type": "markdown",
   "id": "202c78c0",
   "metadata": {
    "id": "202c78c0"
   },
   "source": [
    "**You can use the `dict.update()` method to merge two dictionaries**"
   ]
  },
  {
   "cell_type": "code",
   "execution_count": null,
   "id": "fbd84bff",
   "metadata": {
    "id": "fbd84bff"
   },
   "outputs": [],
   "source": [
    "d1 = {\n",
    "    'name':'Sawaira',\n",
    "    'age':22,\n",
    "}\n",
    "\n",
    "d2 = {\n",
    "    'address':'Pak Villas',\n",
    "    'marks':[60, 75, 80],\n",
    "    'age':21\n",
    "}"
   ]
  },
  {
   "cell_type": "code",
   "execution_count": null,
   "id": "21a4621f",
   "metadata": {
    "id": "21a4621f",
    "outputId": "f81f4ac2-a442-4a42-de49-9cbf84f4e23a"
   },
   "outputs": [
    {
     "data": {
      "text/plain": [
       "{'name': 'Sawaira', 'age': 21, 'address': 'Pak Villas', 'marks': [60, 75, 80]}"
      ]
     },
     "execution_count": 64,
     "metadata": {},
     "output_type": "execute_result"
    }
   ],
   "source": [
    "d1.update(d2)\n",
    "d1"
   ]
  },
  {
   "cell_type": "markdown",
   "id": "77a3ec17",
   "metadata": {
    "id": "77a3ec17"
   },
   "source": [
    "## 5. Removing Elements from a Dictionary"
   ]
  },
  {
   "cell_type": "markdown",
   "id": "bee8de58",
   "metadata": {
    "id": "bee8de58"
   },
   "source": [
    "### a. Removing Element using `[]` operator\n",
    "- To delete a dictionary element use the `del d1[key]`\n",
    "- To delete an entire dictionary from memory use `del d1`"
   ]
  },
  {
   "cell_type": "code",
   "execution_count": null,
   "id": "17874e8f",
   "metadata": {
    "id": "17874e8f",
    "outputId": "e1000161-0af7-49b4-fa86-02d768ba862b"
   },
   "outputs": [
    {
     "data": {
      "text/plain": [
       "{'name': 'Ali', 'age': 20, 'address': 'Pak Villas', 'marks': [60, 75, 80]}"
      ]
     },
     "execution_count": 65,
     "metadata": {},
     "output_type": "execute_result"
    }
   ],
   "source": [
    "d1 = {\n",
    "    'name':'Ali',\n",
    "    'age':20,\n",
    "    'address':'Pak Villas',\n",
    "    'marks':[60, 75, 80]\n",
    "}\n",
    "d1"
   ]
  },
  {
   "cell_type": "code",
   "execution_count": null,
   "id": "d581d04d",
   "metadata": {
    "id": "d581d04d",
    "outputId": "365fc725-ef2d-45c1-e5b3-d76356bea0d4"
   },
   "outputs": [
    {
     "data": {
      "text/plain": [
       "{'name': 'Ali', 'address': 'Pak Villas', 'marks': [60, 75, 80]}"
      ]
     },
     "execution_count": 66,
     "metadata": {},
     "output_type": "execute_result"
    }
   ],
   "source": [
    "del d1['age']\n",
    "d1"
   ]
  },
  {
   "cell_type": "code",
   "execution_count": null,
   "id": "96f35fe3",
   "metadata": {
    "id": "96f35fe3",
    "outputId": "1644bfda-d6e8-46f7-a76d-5898d1eaf9f1"
   },
   "outputs": [
    {
     "ename": "NameError",
     "evalue": "name 'd1' is not defined",
     "output_type": "error",
     "traceback": [
      "\u001b[1;31m---------------------------------------------------------------------------\u001b[0m",
      "\u001b[1;31mNameError\u001b[0m                                 Traceback (most recent call last)",
      "Cell \u001b[1;32mIn[67], line 3\u001b[0m\n\u001b[0;32m      1\u001b[0m \u001b[38;5;66;03m#this will delete the whole directory\u001b[39;00m\n\u001b[0;32m      2\u001b[0m \u001b[38;5;28;01mdel\u001b[39;00m d1\n\u001b[1;32m----> 3\u001b[0m \u001b[38;5;28mprint\u001b[39m(\u001b[43md1\u001b[49m)  \u001b[38;5;66;03m# will generate an error now\u001b[39;00m\n",
      "\u001b[1;31mNameError\u001b[0m: name 'd1' is not defined"
     ]
    }
   ],
   "source": [
    "#this will delete the whole directory\n",
    "del d1\n",
    "print(d1)  # will generate an error now"
   ]
  },
  {
   "cell_type": "markdown",
   "id": "689320ac",
   "metadata": {
    "id": "689320ac"
   },
   "source": [
    "### b. Removing Element using `d1.popitem()` Method\n",
    "- The `d1.popitem()` removes and returns a (key,value) pair as a 2-tuple\n",
    "- Pairs are returned in LIFO order, i.e., last inserted element is returned\n",
    "- Raises KeyError if the dict is empty"
   ]
  },
  {
   "cell_type": "code",
   "execution_count": null,
   "id": "5be61226",
   "metadata": {
    "id": "5be61226",
    "outputId": "1e180dcb-2150-49cb-f1e1-1893c96c103a"
   },
   "outputs": [
    {
     "data": {
      "text/plain": [
       "{'name': 'Sawaira', 'age': 22, 'address': 'Pak Villas', 'marks': [60, 75, 80]}"
      ]
     },
     "execution_count": 68,
     "metadata": {},
     "output_type": "execute_result"
    }
   ],
   "source": [
    "d1 = {\n",
    "    'name':'Sawaira',\n",
    "    'age':22,\n",
    "    'address':'Pak Villas',\n",
    "    'marks':[60, 75, 80]\n",
    "}\n",
    "d1"
   ]
  },
  {
   "cell_type": "code",
   "execution_count": null,
   "id": "0c4776fe",
   "metadata": {
    "id": "0c4776fe",
    "outputId": "e141f297-9c13-4757-9150-0bcbb2e89ff3"
   },
   "outputs": [
    {
     "data": {
      "text/plain": [
       "('marks', [60, 75, 80])"
      ]
     },
     "execution_count": 69,
     "metadata": {},
     "output_type": "execute_result"
    }
   ],
   "source": [
    "d1.popitem()"
   ]
  },
  {
   "cell_type": "code",
   "execution_count": null,
   "id": "coastal-location",
   "metadata": {
    "id": "coastal-location",
    "outputId": "7d120d64-2fb2-46dc-86d9-d3d32e481138"
   },
   "outputs": [
    {
     "data": {
      "text/plain": [
       "{'name': 'Sawaira', 'age': 22, 'address': 'Pak Villas'}"
      ]
     },
     "execution_count": 70,
     "metadata": {},
     "output_type": "execute_result"
    }
   ],
   "source": [
    "d1"
   ]
  },
  {
   "cell_type": "code",
   "execution_count": null,
   "id": "aba9d471",
   "metadata": {
    "id": "aba9d471",
    "outputId": "085cf2c2-e218-4f15-e23a-570cfd172781"
   },
   "outputs": [
    {
     "data": {
      "text/plain": [
       "('address', 'Pak Villas')"
      ]
     },
     "execution_count": 71,
     "metadata": {},
     "output_type": "execute_result"
    }
   ],
   "source": [
    "d1.popitem()"
   ]
  },
  {
   "cell_type": "code",
   "execution_count": null,
   "id": "c089f60f",
   "metadata": {
    "id": "c089f60f",
    "outputId": "0e822b37-699b-4039-a766-ff0fa24aeb4c"
   },
   "outputs": [
    {
     "data": {
      "text/plain": [
       "{'name': 'Sawaira', 'age': 22}"
      ]
     },
     "execution_count": 72,
     "metadata": {},
     "output_type": "execute_result"
    }
   ],
   "source": [
    "d1"
   ]
  },
  {
   "cell_type": "code",
   "execution_count": null,
   "id": "rolled-lawyer",
   "metadata": {
    "id": "rolled-lawyer",
    "outputId": "693ab333-8cee-4adf-9879-1aa4ab441623"
   },
   "outputs": [
    {
     "data": {
      "text/plain": [
       "('age', 22)"
      ]
     },
     "execution_count": 73,
     "metadata": {},
     "output_type": "execute_result"
    }
   ],
   "source": [
    "d1.popitem()"
   ]
  },
  {
   "cell_type": "markdown",
   "id": "a67d9031",
   "metadata": {
    "id": "a67d9031"
   },
   "source": [
    "### c. Removing Element using `d1.pop(key)` Method\n",
    "- The `d1.pop(key)` returns the value only of the key passed as its required argument\n",
    "- Moreover, the corresponding key-value pair is also removed from the dictionary\n",
    "- If key is not found a KeyError is raised"
   ]
  },
  {
   "cell_type": "code",
   "execution_count": null,
   "id": "2463a560",
   "metadata": {
    "id": "2463a560",
    "outputId": "802976c1-466a-46f2-ef99-1510b77caee4"
   },
   "outputs": [
    {
     "data": {
      "text/plain": [
       "{'name': 'Sawaira', 'age': 22, 'address': 'Pak Villas', 'marks': [60, 75, 80]}"
      ]
     },
     "execution_count": 74,
     "metadata": {},
     "output_type": "execute_result"
    }
   ],
   "source": [
    "d1 = {\n",
    "    'name':'Sawaira',\n",
    "    'age':22,\n",
    "    'address':'Pak Villas',\n",
    "    'marks':[60, 75, 80]\n",
    "}\n",
    "d1"
   ]
  },
  {
   "cell_type": "code",
   "execution_count": null,
   "id": "803ccb1b",
   "metadata": {
    "id": "803ccb1b",
    "outputId": "a64a61ed-a8b1-471f-e3d9-746ba3b2a1a5"
   },
   "outputs": [
    {
     "data": {
      "text/plain": [
       "'Sawaira'"
      ]
     },
     "execution_count": 75,
     "metadata": {},
     "output_type": "execute_result"
    }
   ],
   "source": [
    "d1.pop('name')"
   ]
  },
  {
   "cell_type": "code",
   "execution_count": null,
   "id": "1acdedb0",
   "metadata": {
    "id": "1acdedb0",
    "outputId": "d0495122-63ee-4c67-9b14-b4cfddaa2f7d"
   },
   "outputs": [
    {
     "data": {
      "text/plain": [
       "{'age': 22, 'address': 'Pak Villas', 'marks': [60, 75, 80]}"
      ]
     },
     "execution_count": 76,
     "metadata": {},
     "output_type": "execute_result"
    }
   ],
   "source": [
    "d1"
   ]
  },
  {
   "cell_type": "code",
   "execution_count": null,
   "id": "9c8bf117",
   "metadata": {
    "id": "9c8bf117"
   },
   "outputs": [],
   "source": [
    "# d1.pop('nok?ey') #This will raise an error"
   ]
  },
  {
   "cell_type": "markdown",
   "id": "f54b5f0b",
   "metadata": {
    "id": "f54b5f0b"
   },
   "source": [
    "### d. Removing Element using `d1.clear()` Method\n",
    "- The `d1.clear()` removes all items from the dictionary and returns None"
   ]
  },
  {
   "cell_type": "code",
   "execution_count": null,
   "id": "52892e03",
   "metadata": {
    "id": "52892e03"
   },
   "outputs": [],
   "source": [
    "d1 = {\n",
    "    'name':'Ehtisham',\n",
    "    'age':22,\n",
    "    'address':'Pak Villas',\n",
    "    'marks':[60, 75, 80]\n",
    "}\n",
    "d1"
   ]
  },
  {
   "cell_type": "code",
   "execution_count": null,
   "id": "a3781586",
   "metadata": {
    "id": "a3781586"
   },
   "outputs": [],
   "source": [
    "d1.clear()"
   ]
  },
  {
   "cell_type": "code",
   "execution_count": null,
   "id": "c2651f02",
   "metadata": {
    "id": "c2651f02"
   },
   "outputs": [],
   "source": [
    "d1"
   ]
  },
  {
   "cell_type": "markdown",
   "id": "0f4dd1c2",
   "metadata": {
    "id": "0f4dd1c2"
   },
   "source": [
    "## 6. Dictionary, Tuple and List conversions"
   ]
  },
  {
   "cell_type": "code",
   "execution_count": null,
   "id": "24e78729",
   "metadata": {
    "id": "24e78729",
    "outputId": "6f018de3-8c7f-4d8c-80ae-39eddd5b50d2"
   },
   "outputs": [
    {
     "data": {
      "text/plain": [
       "{'Name': 'Sawaira',\n",
       " 'Sex': 'female',\n",
       " 'Age': 22,\n",
       " 'Height': 5.3,\n",
       " 'Profession': 'data scientist'}"
      ]
     },
     "execution_count": 83,
     "metadata": {},
     "output_type": "execute_result"
    }
   ],
   "source": [
    "# Create a simple dictionary for these operations\n",
    "d1 = {\n",
    "    'Name': 'Sawaira',\n",
    "    'Sex': 'female',\n",
    "    'Age': 22,\n",
    "    'Height': 5.3,\n",
    "    'Profession': 'data scientist'\n",
    "}\n",
    "d1"
   ]
  },
  {
   "cell_type": "code",
   "execution_count": null,
   "id": "5f5ac187",
   "metadata": {
    "id": "5f5ac187",
    "outputId": "336deb7b-f315-4a71-d8ba-d5f49e006123"
   },
   "outputs": [
    {
     "name": "stdout",
     "output_type": "stream",
     "text": [
      "dict_items([('Name', 'Sawaira'), ('Sex', 'female'), ('Age', 22), ('Height', 5.3), ('Profession', 'data scientist')])\n",
      "\n",
      " <class 'dict_items'>\n"
     ]
    }
   ],
   "source": [
    "# The items() method, returns an object of dict_items containing two value tuples\n",
    "rv = d1.items()\n",
    "print(rv)\n",
    "print(\"\\n\", type(rv))"
   ]
  },
  {
   "cell_type": "code",
   "execution_count": null,
   "id": "26e3bf6b",
   "metadata": {
    "id": "26e3bf6b",
    "outputId": "1b0cbde8-43ac-48cd-8ed8-c18605a9477e"
   },
   "outputs": [
    {
     "name": "stdout",
     "output_type": "stream",
     "text": [
      "(('Name', 'Sawaira'), ('Sex', 'female'), ('Age', 22), ('Height', 5.3), ('Profession', 'data scientist'))\n",
      "\n",
      " <class 'tuple'>\n"
     ]
    }
   ],
   "source": [
    "# You can convert dictionary key-value pairs into a tuple containing two valued tuples\n",
    "t1 = tuple(d1.items())\n",
    "print(t1)\n",
    "print(\"\\n\", type(t1))"
   ]
  },
  {
   "cell_type": "code",
   "execution_count": null,
   "id": "6908b650",
   "metadata": {
    "id": "6908b650",
    "outputId": "07f8d954-88db-4cfe-e633-2c4f2b611c15"
   },
   "outputs": [
    {
     "name": "stdout",
     "output_type": "stream",
     "text": [
      "('Name', 'Sex', 'Age', 'Height', 'Profession')\n",
      "\n",
      " <class 'tuple'>\n"
     ]
    }
   ],
   "source": [
    "#converting dictionary keys only into a tuple\n",
    "t1 = tuple(d1.keys())\n",
    "print(t1)\n",
    "print(\"\\n\", type(t1))"
   ]
  },
  {
   "cell_type": "code",
   "execution_count": null,
   "id": "a040924f",
   "metadata": {
    "id": "a040924f",
    "outputId": "6a535ab5-7495-4651-d458-9c44475b4100"
   },
   "outputs": [
    {
     "name": "stdout",
     "output_type": "stream",
     "text": [
      "\n",
      " ['Sawaira', 'female', 22, 5.3, 'data scientist']\n",
      "<class 'list'>\n"
     ]
    }
   ],
   "source": [
    "#converting dictionary values only into a list\n",
    "mylist = list(d1.values())\n",
    "print(\"\\n\", mylist)\n",
    "print(type(mylist))"
   ]
  },
  {
   "cell_type": "markdown",
   "id": "af8f68ac",
   "metadata": {
    "id": "af8f68ac"
   },
   "source": [
    "## 7. Sorting a Dictionary by Values\n",
    "- We can use the built-in function `sorted(iterable)` to get a sorted copy of a dictionary (by value).\n",
    "- The `sorted(iterable)` returns a sorted version of the iterable, without making any change to the iterable.\n",
    "- It's syntax is quite similar to `list.sort()` method, however, the iterator to be sorted needs to be passed as a required parameteras shown below:\n",
    "```\n",
    "    sorted(iterable, key=None, reverse=False)\n",
    "```\n",
    "- By default the `reverse` argument is `False`, you override the default behavior by passing a `True` value to this argument to perform a descending sort\n",
    "- A custom key function can also be supplied to customize the sort order."
   ]
  },
  {
   "cell_type": "markdown",
   "id": "81562a11",
   "metadata": {
    "id": "81562a11"
   },
   "source": [
    "**Consider the following dictionary having `names` as keys and `marks` as values**"
   ]
  },
  {
   "cell_type": "code",
   "execution_count": null,
   "id": "0a29a9b7",
   "metadata": {
    "id": "0a29a9b7",
    "outputId": "e65ffcc7-0eb0-408d-ecb6-3bbddc19b59f"
   },
   "outputs": [
    {
     "data": {
      "text/plain": [
       "{'Sawaira': 81, 'Ayesha': 90, 'Ali': 76, 'Dua': 73, 'Khubaib': 93}"
      ]
     },
     "execution_count": 88,
     "metadata": {},
     "output_type": "execute_result"
    }
   ],
   "source": [
    "dict1 = {\n",
    "        'Sawaira': 81,\n",
    "         'Ayesha':90,\n",
    "        'Ali':76,\n",
    "        'Dua':73,\n",
    "         'Khubaib':93,\n",
    "        }\n",
    "dict1"
   ]
  },
  {
   "cell_type": "code",
   "execution_count": null,
   "id": "37a29315",
   "metadata": {
    "id": "37a29315",
    "outputId": "8dd7b015-6e2b-4a50-b960-da12e9f9ea97"
   },
   "outputs": [
    {
     "data": {
      "text/plain": [
       "['Sawaira', 'Khubaib', 'Dua', 'Ayesha', 'Ali']"
      ]
     },
     "execution_count": 96,
     "metadata": {},
     "output_type": "execute_result"
    }
   ],
   "source": [
    "sorted(dict1, reverse=True)"
   ]
  },
  {
   "cell_type": "code",
   "execution_count": null,
   "id": "509de2b8",
   "metadata": {
    "id": "509de2b8",
    "outputId": "92e56df2-0112-4f89-8df3-a00b3c0e127e"
   },
   "outputs": [
    {
     "data": {
      "text/plain": [
       "['Ali', 'Ayesha', 'Dua', 'Khubaib', 'Sawaira']"
      ]
     },
     "execution_count": 97,
     "metadata": {},
     "output_type": "execute_result"
    }
   ],
   "source": [
    "sorted(dict1)"
   ]
  },
  {
   "cell_type": "markdown",
   "id": "ec112673",
   "metadata": {
    "id": "ec112673"
   },
   "source": [
    "**When you pass a dictionary object to the `sorted()` function, it will return the list of sorted dictionary keys**"
   ]
  },
  {
   "cell_type": "code",
   "execution_count": null,
   "id": "342246d7",
   "metadata": {
    "id": "342246d7",
    "outputId": "0f2aea2f-9ecc-48ff-c641-cf4a0392a8a8"
   },
   "outputs": [
    {
     "data": {
      "text/plain": [
       "['Ali', 'Ayesha', 'Dua', 'Khubaib', 'Sawaira']"
      ]
     },
     "execution_count": 98,
     "metadata": {},
     "output_type": "execute_result"
    }
   ],
   "source": [
    "d2 = sorted(dict1)\n",
    "d2"
   ]
  },
  {
   "cell_type": "markdown",
   "id": "1bad6321",
   "metadata": {
    "id": "1bad6321"
   },
   "source": [
    "**You can pass the keys only to the `sorted()` function, to do the above task**"
   ]
  },
  {
   "cell_type": "code",
   "execution_count": null,
   "id": "homeless-catering",
   "metadata": {
    "id": "homeless-catering",
    "outputId": "3b95f3b1-61ca-45f2-915d-d6555ae09882"
   },
   "outputs": [
    {
     "data": {
      "text/plain": [
       "dict_keys(['Sawaira', 'Ayesha', 'Ali', 'Dua', 'Khubaib'])"
      ]
     },
     "execution_count": 99,
     "metadata": {},
     "output_type": "execute_result"
    }
   ],
   "source": [
    "dict1.keys()"
   ]
  },
  {
   "cell_type": "code",
   "execution_count": null,
   "id": "66df17d9",
   "metadata": {
    "id": "66df17d9",
    "outputId": "8eca59bd-9e5a-48fe-def0-5f5e0809f8c0"
   },
   "outputs": [
    {
     "data": {
      "text/plain": [
       "['Ali', 'Ayesha', 'Dua', 'Khubaib', 'Sawaira']"
      ]
     },
     "execution_count": 100,
     "metadata": {},
     "output_type": "execute_result"
    }
   ],
   "source": [
    "d2 = sorted(dict1.keys())\n",
    "d2"
   ]
  },
  {
   "cell_type": "markdown",
   "id": "30acac88",
   "metadata": {
    "id": "30acac88"
   },
   "source": [
    "**Similarly you can pass the values only to the `sorted()` function, and it will return the list of sorted values**"
   ]
  },
  {
   "cell_type": "code",
   "execution_count": null,
   "id": "second-boring",
   "metadata": {
    "id": "second-boring",
    "outputId": "ebaa0627-f6d7-4886-9ea8-6457182ff919"
   },
   "outputs": [
    {
     "data": {
      "text/plain": [
       "dict_values([81, 90, 76, 73, 93])"
      ]
     },
     "execution_count": 101,
     "metadata": {},
     "output_type": "execute_result"
    }
   ],
   "source": [
    "dict1.values()"
   ]
  },
  {
   "cell_type": "code",
   "execution_count": null,
   "id": "ae007f27",
   "metadata": {
    "id": "ae007f27",
    "outputId": "183d97ee-a048-40e7-fede-ed5da343e33e"
   },
   "outputs": [
    {
     "data": {
      "text/plain": [
       "[73, 76, 81, 90, 93]"
      ]
     },
     "execution_count": 102,
     "metadata": {},
     "output_type": "execute_result"
    }
   ],
   "source": [
    "d2 = sorted(dict1.values())\n",
    "d2"
   ]
  },
  {
   "cell_type": "markdown",
   "id": "295bbb71",
   "metadata": {
    "id": "295bbb71"
   },
   "source": [
    "**Let us do customized sorting with Python Dictionaries**"
   ]
  },
  {
   "cell_type": "markdown",
   "id": "53bf33d8",
   "metadata": {
    "id": "53bf33d8"
   },
   "source": [
    "**Example 1: Suppose we have a dictionary containing student names along with their marks and we want to sort the dictionary by highest marks of the students first**"
   ]
  },
  {
   "cell_type": "code",
   "execution_count": null,
   "id": "89b0a8ab",
   "metadata": {
    "id": "89b0a8ab",
    "outputId": "daa711bf-a305-4f74-cefa-039344d30354"
   },
   "outputs": [
    {
     "data": {
      "text/plain": [
       "dict_items([('Sawaira', 81), ('Ayesha', 90), ('Ali', 76), ('Dua', 73), ('Adeen', 93)])"
      ]
     },
     "execution_count": 103,
     "metadata": {},
     "output_type": "execute_result"
    }
   ],
   "source": [
    "dict1 = {'Sawaira': 81,\n",
    "         'Ayesha':90,\n",
    "        'Ali':76,\n",
    "        'Dua':73,\n",
    "         'Adeen':93,\n",
    "        }\n",
    "ls = dict1.items()\n",
    "ls"
   ]
  },
  {
   "cell_type": "code",
   "execution_count": null,
   "id": "electronic-marble",
   "metadata": {
    "id": "electronic-marble",
    "outputId": "259a69a7-52af-4a7e-8ba9-7c2dd21ac201"
   },
   "outputs": [
    {
     "name": "stdout",
     "output_type": "stream",
     "text": [
      "('Sawaira', 81)\n",
      "('Ayesha', 90)\n",
      "('Ali', 76)\n",
      "('Dua', 73)\n",
      "('Adeen', 93)\n"
     ]
    }
   ],
   "source": [
    "for i in ls:\n",
    "    print(i)"
   ]
  },
  {
   "cell_type": "code",
   "execution_count": null,
   "id": "77b05206",
   "metadata": {
    "id": "77b05206",
    "outputId": "e9860fbd-80d5-4146-96dc-50f853e80824"
   },
   "outputs": [
    {
     "name": "stdout",
     "output_type": "stream",
     "text": [
      "81\n",
      "90\n",
      "76\n",
      "73\n",
      "93\n"
     ]
    }
   ],
   "source": [
    "for i in ls:\n",
    "    print(i[1])"
   ]
  },
  {
   "cell_type": "code",
   "execution_count": null,
   "id": "technical-finnish",
   "metadata": {
    "id": "technical-finnish",
    "outputId": "a712357f-4874-4f99-85cb-4dee12018f93"
   },
   "outputs": [
    {
     "name": "stdout",
     "output_type": "stream",
     "text": [
      "Help on built-in function sorted in module builtins:\n",
      "\n",
      "sorted(iterable, /, *, key=None, reverse=False)\n",
      "    Return a new list containing all items from the iterable in ascending order.\n",
      "    \n",
      "    A custom key function can be supplied to customize the sort order, and the\n",
      "    reverse flag can be set to request the result in descending order.\n",
      "\n"
     ]
    }
   ],
   "source": [
    "help(sorted)"
   ]
  },
  {
   "cell_type": "code",
   "execution_count": null,
   "id": "republican-fetish",
   "metadata": {
    "id": "republican-fetish",
    "outputId": "f4198c1a-8fc6-4c2d-ecfd-6401181ffeb4",
    "scrolled": true
   },
   "outputs": [
    {
     "name": "stdout",
     "output_type": "stream",
     "text": [
      "('Sawaira', 81)\n",
      "('Ayesha', 90)\n",
      "('Ali', 76)\n",
      "('Dua', 73)\n",
      "('Adeen', 93)\n"
     ]
    }
   ],
   "source": [
    "# dict1.items()\n",
    "for m in dict1.items():\n",
    "    print(m)"
   ]
  },
  {
   "cell_type": "code",
   "execution_count": null,
   "id": "a0e128a4",
   "metadata": {
    "id": "a0e128a4",
    "outputId": "bb80f02d-ddaa-4bd6-b006-ec1d342f3fcf"
   },
   "outputs": [
    {
     "name": "stdout",
     "output_type": "stream",
     "text": [
      "[('Adeen', 93), ('Ayesha', 90), ('Sawaira', 81), ('Ali', 76), ('Dua', 73)]\n"
     ]
    }
   ],
   "source": [
    "# Function receives a key:value tuple (key, value) and returns the value\n",
    "def func1(item):\n",
    "    return item[1]\n",
    "\n",
    "\n",
    "mylist = sorted(dict1.items(), key = func1, reverse=True)\n",
    "\n",
    "print(mylist)\n"
   ]
  },
  {
   "cell_type": "markdown",
   "id": "ff2fc3e3",
   "metadata": {
    "id": "ff2fc3e3"
   },
   "source": [
    "Note the `sorted()` function returned a list object in which each element is a two valued tuple having (key,value) pairs. You can always typecast such lists to a dictionary object"
   ]
  },
  {
   "cell_type": "code",
   "execution_count": null,
   "id": "5eb1c717",
   "metadata": {
    "id": "5eb1c717",
    "outputId": "506c767c-2197-4d64-fe41-2a6f5eecc6f1"
   },
   "outputs": [
    {
     "data": {
      "text/plain": [
       "{'Adeen': 93, 'Ayesha': 90, 'Sawaira': 81, 'Ali': 76, 'Dua': 73}"
      ]
     },
     "execution_count": 110,
     "metadata": {},
     "output_type": "execute_result"
    }
   ],
   "source": [
    "sorted_dict = dict(mylist)\n",
    "sorted_dict"
   ]
  },
  {
   "cell_type": "code",
   "execution_count": null,
   "id": "1bc663ac",
   "metadata": {
    "id": "1bc663ac",
    "outputId": "30cc18c8-2900-4470-c309-f40029772b4a"
   },
   "outputs": [
    {
     "data": {
      "text/plain": [
       "dict"
      ]
     },
     "execution_count": 111,
     "metadata": {},
     "output_type": "execute_result"
    }
   ],
   "source": [
    "type(sorted_dict)"
   ]
  },
  {
   "cell_type": "markdown",
   "id": "6a575f97",
   "metadata": {
    "id": "6a575f97"
   },
   "source": [
    "**Example 2: Suppose we have a JSON array containing name, age and grades of students. We want to sort it by the age of the students.**\n",
    "- JSON stands for JavaScript Object Notation\n",
    "- JSON is a text format for storing and transporting data\n",
    "- A JSON string has comma separated `key:value` pairs"
   ]
  },
  {
   "cell_type": "code",
   "execution_count": null,
   "id": "25db9c4a",
   "metadata": {
    "id": "25db9c4a",
    "outputId": "228e47e1-a659-4fec-d1a8-110ee8619553"
   },
   "outputs": [
    {
     "data": {
      "text/plain": [
       "[{'name': 'Sawaira', 'age': 22, 'grade': 'A+'},\n",
       " {'name': 'Ali', 'age': 20, 'grade': 'A'},\n",
       " {'name': 'Ayesha', 'age': 17, 'grade': 'C'},\n",
       " {'name': 'Dua', 'age': 7, 'grade': 'D'},\n",
       " {'name': 'Adeen', 'age': 3, 'grade': 'A'},\n",
       " {'name': 'Khubaib', 'age': 5, 'grade': 'B'}]"
      ]
     },
     "execution_count": 112,
     "metadata": {},
     "output_type": "execute_result"
    }
   ],
   "source": [
    "# The following JSON array defines a student object with 3 properties: `name`, `age`, and `grade`\n",
    "# It is actually a list containing dictionary objects each object containing three key:value pairs\n",
    "students = [\n",
    "         {\"name\": \"Sawaira\", \"age\": 22, \"grade\": \"A+\"},\n",
    "         {\"name\": \"Ali\", \"age\": 20, \"grade\": \"A\"},\n",
    "         {\"name\": \"Ayesha\", \"age\": 17, \"grade\": \"C\"},\n",
    "         {\"name\": \"Dua\", \"age\": 7, \"grade\": \"D\"},\n",
    "         {\"name\": \"Adeen\", \"age\": 3, \"grade\": \"A\"},\n",
    "         {\"name\": \"Khubaib\", \"age\": 5, \"grade\": \"B\"}\n",
    "        ]\n",
    "students"
   ]
  },
  {
   "cell_type": "code",
   "execution_count": null,
   "id": "de97a063",
   "metadata": {
    "id": "de97a063"
   },
   "outputs": [],
   "source": [
    "# sorted(students)"
   ]
  },
  {
   "cell_type": "code",
   "execution_count": null,
   "id": "593b1bca",
   "metadata": {
    "id": "593b1bca",
    "outputId": "85e109ec-dcb5-4131-cff6-81d50e445aab"
   },
   "outputs": [
    {
     "name": "stdout",
     "output_type": "stream",
     "text": [
      "22\n",
      "20\n",
      "17\n",
      "7\n",
      "3\n",
      "5\n"
     ]
    }
   ],
   "source": [
    "for i in students:\n",
    "    print(i.get('age'))"
   ]
  },
  {
   "cell_type": "code",
   "execution_count": null,
   "id": "b5f46b71",
   "metadata": {
    "id": "b5f46b71",
    "outputId": "9fbaef98-cfae-45d1-eaea-0ba529bcc744"
   },
   "outputs": [
    {
     "data": {
      "text/plain": [
       "[{'name': 'Sawaira', 'age': 22, 'grade': 'A+'},\n",
       " {'name': 'Ali', 'age': 20, 'grade': 'A'},\n",
       " {'name': 'Ayesha', 'age': 17, 'grade': 'C'},\n",
       " {'name': 'Dua', 'age': 7, 'grade': 'D'},\n",
       " {'name': 'Khubaib', 'age': 5, 'grade': 'B'},\n",
       " {'name': 'Adeen', 'age': 3, 'grade': 'A'}]"
      ]
     },
     "execution_count": 115,
     "metadata": {},
     "output_type": "execute_result"
    }
   ],
   "source": [
    "# Function receives a dictionary object and returns the value corresponding to key age in that dictionary\n",
    "def func2(item):\n",
    "     return item.get('age') #return item['age']\n",
    "\n",
    "sorted_students = sorted(students, key = func2, reverse=True)\n",
    "\n",
    "sorted_students"
   ]
  },
  {
   "cell_type": "code",
   "execution_count": null,
   "id": "4f60cdc2",
   "metadata": {
    "id": "4f60cdc2"
   },
   "outputs": [],
   "source": [
    "# dict10 = dict(sorted_students)"
   ]
  },
  {
   "cell_type": "markdown",
   "id": "6e45acd9",
   "metadata": {
    "id": "6e45acd9"
   },
   "source": [
    "Note the `sorted()` function returned a list object in which each element is a dictionary object having three key:value pairs"
   ]
  },
  {
   "cell_type": "markdown",
   "id": "c0f4a519",
   "metadata": {
    "id": "c0f4a519"
   },
   "source": [
    "## 8. Simple Assignment (aliasing) vs Shallow Copy vs Deep Copy"
   ]
  },
  {
   "cell_type": "markdown",
   "id": "4aac33b0",
   "metadata": {
    "id": "4aac33b0"
   },
   "source": [
    "### a. Aliasing: Making an Alias of a List object using simple Assignment `=` Operator\n",
    "- In Python, we use `=` operator to create a copy/alias of an object.\n",
    "- Remember it doesnot create a new object, rather creates a new variable that shares the reference of the original object."
   ]
  },
  {
   "cell_type": "code",
   "execution_count": null,
   "id": "17189b7d",
   "metadata": {
    "id": "17189b7d",
    "outputId": "a9cf7df7-175e-425f-fc5a-e0604aaebd9c"
   },
   "outputs": [
    {
     "name": "stdout",
     "output_type": "stream",
     "text": [
      "{'Sawaira': 81, 'Ayesha': 90, 'Ali': 76, 'Dua': 73, 'Adeen': 93}\n",
      "ID of dict1: 2023961480640\n",
      "ID of dict2: 2023961480640\n"
     ]
    }
   ],
   "source": [
    "dict1 = {'Sawaira': 81,\n",
    "         'Ayesha':90,\n",
    "        'Ali':76,\n",
    "        'Dua':73,\n",
    "         'Adeen':93,\n",
    "        }\n",
    "print(dict1)\n",
    "\n",
    "dict2 = dict1\n",
    "\n",
    "# Both references point to same memory object, so have the same ID\n",
    "print('ID of dict1:', id(dict1))\n",
    "print('ID of dict2:', id(dict2))"
   ]
  },
  {
   "cell_type": "code",
   "execution_count": null,
   "id": "7962e717",
   "metadata": {
    "id": "7962e717",
    "outputId": "11b3ad4b-b668-4d2f-b433-349f1769ec90"
   },
   "outputs": [
    {
     "name": "stdout",
     "output_type": "stream",
     "text": [
      "\n",
      "dict1: {'Sawaira': 81, 'Ayesha': 90, 'Ali': 76, 'Dua': 73, 'Adeen': 93, 'Khubaib': 100}\n",
      "dict2: {'Sawaira': 81, 'Ayesha': 90, 'Ali': 76, 'Dua': 73, 'Adeen': 93, 'Khubaib': 100}\n"
     ]
    }
   ],
   "source": [
    "# If you modify an element of one object, the change will be visible in both\n",
    "dict2[\"Khubaib\"] = 100\n",
    "\n",
    "print('\\ndict1:', dict1)\n",
    "print('dict2:', dict2)\n"
   ]
  },
  {
   "cell_type": "markdown",
   "id": "ae7c3184",
   "metadata": {
    "id": "ae7c3184"
   },
   "source": [
    "### b. Shallow Copy\n",
    "- We have used the `copy.copy()` method of copy module to create a shallow copy of List objects in our previous session\n",
    "- To create a shallow copy of a list or dictionary, we can also use `copy()` method of List and Dictionary objects."
   ]
  },
  {
   "cell_type": "code",
   "execution_count": null,
   "id": "d09fb369",
   "metadata": {
    "id": "d09fb369",
    "outputId": "1eba697c-d072-4846-b524-c9b7e5531019"
   },
   "outputs": [
    {
     "name": "stdout",
     "output_type": "stream",
     "text": [
      "{'Sawaira': 81, 'Ayesha': 90, 'Ali': 76, 'Dua': 73, 'Adeen': 93}\n",
      "ID of dict1: 2023955775168\n",
      "ID of dict2: 2023961476544\n"
     ]
    }
   ],
   "source": [
    "import copy\n",
    "dict1 = {'Sawaira': 81,\n",
    "         'Ayesha':90,\n",
    "        'Ali':76,\n",
    "        'Dua':73,\n",
    "         'Adeen':93,\n",
    "        }\n",
    "print(dict1)\n",
    "\n",
    "#dict2 = copy.copy(dict1)\n",
    "dict2 = dict1.copy()\n",
    "\n",
    "\n",
    "# Both variables point to different memory objects, so have the different ID\n",
    "print('ID of dict1:', id(dict1))\n",
    "print('ID of dict2:', id(dict2))"
   ]
  },
  {
   "cell_type": "code",
   "execution_count": null,
   "id": "4095a88e",
   "metadata": {
    "id": "4095a88e",
    "outputId": "20ecd381-2e73-487b-e1d6-01c9a1140544"
   },
   "outputs": [
    {
     "name": "stdout",
     "output_type": "stream",
     "text": [
      "\n",
      "dict1: {'Sawaira': 81, 'Ayesha': 90, 'Ali': 76, 'Dua': 73, 'Adeen': 93}\n",
      "dict2: {'Sawaira': 81, 'Ayesha': 90, 'Ali': 76, 'Dua': 73, 'Adeen': 93, 'Khubaib': 100}\n"
     ]
    }
   ],
   "source": [
    "# If you modify an element of one object, the change will NOT be visible in other\n",
    "dict2[\"Khubaib\"] = 100\n",
    "\n",
    "print('\\ndict1:', dict1)\n",
    "print('dict2:', dict2)\n"
   ]
  },
  {
   "cell_type": "markdown",
   "id": "5d06c019",
   "metadata": {
    "id": "5d06c019"
   },
   "source": [
    "**This seems woking fine, then why this is called shallow copy**"
   ]
  },
  {
   "cell_type": "markdown",
   "id": "bed7ee06",
   "metadata": {
    "id": "bed7ee06"
   },
   "source": [
    "**Limitation of Shallow Copy**\n",
    "- The word Shallow copy comes in picture when there is some object in dictionary like list or user define objects instead of primitive datatypes.\n",
    "- The limitation of shallow copy is that it does not create a copy of nested objects, instead it just copies the reference of nested objects. This means, a copy process does not recurse or create copies of nested objects itself.\n",
    "- Let us understand this by an example"
   ]
  },
  {
   "cell_type": "code",
   "execution_count": null,
   "id": "be8025d4",
   "metadata": {
    "id": "be8025d4",
    "outputId": "24d62a16-e78a-40e2-cdef-a8bbeef34aba"
   },
   "outputs": [
    {
     "name": "stdout",
     "output_type": "stream",
     "text": [
      "{'Sawaira': 81, 'Ayesha': 90, 'Ali': [55, 66, 77], 'Dua': 73, 'Adeen': 93}\n",
      "ID of dict1: 2023961339072\n",
      "ID of dict2: 2023955775168\n"
     ]
    }
   ],
   "source": [
    "import copy\n",
    "dict1 = {'Sawaira': 81,\n",
    "         'Ayesha':90,\n",
    "        'Ali':[55, 66, 77],  #note we have a list of marks as a dictionary value\n",
    "        'Dua':73,\n",
    "         'Adeen':93,\n",
    "        }\n",
    "print(dict1)\n",
    "\n",
    "#dict2 = copy.copy(dict1)\n",
    "dict2 = dict1.copy()\n",
    "\n",
    "\n",
    "# Both variables point to different memory objects, so have the different ID\n",
    "print('ID of dict1:', id(dict1))\n",
    "print('ID of dict2:', id(dict2))"
   ]
  },
  {
   "cell_type": "code",
   "execution_count": null,
   "id": "44adc1ca",
   "metadata": {
    "id": "44adc1ca",
    "outputId": "cf55a257-a968-486a-b56d-eaedb81e15ae"
   },
   "outputs": [
    {
     "name": "stdout",
     "output_type": "stream",
     "text": [
      "\n",
      "dict1: {'Sawaira': 81, 'Ayesha': 90, 'Ali': [55, 0, 77], 'Dua': 73, 'Adeen': 93}\n",
      "\n",
      "dict2: {'Sawaira': 81, 'Ayesha': 90, 'Ali': [55, 0, 77], 'Dua': 73, 'Adeen': 93}\n"
     ]
    }
   ],
   "source": [
    "# If you modify a nested element of one object, the change will be visible in both\n",
    "# This is the limitation of shallow copy\n",
    "\n",
    "dict2[\"Ali\"][1] = 0\n",
    "\n",
    "print('\\ndict1:', dict1)\n",
    "print('\\ndict2:', dict2)\n"
   ]
  },
  {
   "cell_type": "markdown",
   "id": "f24c4ad9",
   "metadata": {
    "id": "f24c4ad9"
   },
   "source": [
    "- **Marks of student 'Ali' has been changed in both :(**\n",
    "- **So in case of a dictionary having primitive datatypes, the shallow copy works fine. However, when we have nested objects inside the dictionary the shallow copy does not work**\n",
    "- **Lets solve this using deep copy**"
   ]
  },
  {
   "cell_type": "markdown",
   "id": "fbf7c5a1",
   "metadata": {
    "id": "fbf7c5a1"
   },
   "source": [
    "### c. Deep Copy: Making a Copy of an Object using `copy.deepcopy()` Method\n",
    "- Deep copy creates a new object and recursively creates independent copy of original object and all its nested objects."
   ]
  },
  {
   "cell_type": "code",
   "execution_count": null,
   "id": "5ffcd728",
   "metadata": {
    "id": "5ffcd728",
    "outputId": "e087d2bd-65de-46dd-f424-f9b8376ae2db"
   },
   "outputs": [
    {
     "name": "stdout",
     "output_type": "stream",
     "text": [
      "{'Sawaira': 81, 'Ayesha': 90, 'Ali': [55, 66, 77], 'Dua': 73, 'Adeen': 93}\n",
      "ID of dict1: 2023961170304\n",
      "ID of dict2: 2023955775168\n"
     ]
    }
   ],
   "source": [
    "import copy\n",
    "\n",
    "dict1 = {'Sawaira': 81,\n",
    "         'Ayesha':90,\n",
    "        'Ali':[55, 66, 77],  #note we have a list of marks as a dictionary value\n",
    "        'Dua':73,\n",
    "         'Adeen':93,\n",
    "        }\n",
    "print(dict1)\n",
    "\n",
    "dict2 = copy.deepcopy(dict1)\n",
    "\n",
    "# Both variables point to different memory objects, so have the different ID\n",
    "print('ID of dict1:', id(dict1))\n",
    "print('ID of dict2:', id(dict2))"
   ]
  },
  {
   "cell_type": "code",
   "execution_count": null,
   "id": "a6d9dee9",
   "metadata": {
    "id": "a6d9dee9",
    "outputId": "8519f3d8-a36d-4636-d3a1-a9be8adb80cb"
   },
   "outputs": [
    {
     "name": "stdout",
     "output_type": "stream",
     "text": [
      "\n",
      "dict1: {'Sawaira': 81, 'Ayesha': 90, 'Ali': [55, 66, 77], 'Dua': 73, 'Adeen': 93}\n",
      "\n",
      "dict2: {'Sawaira': 81, 'Ayesha': 90, 'Ali': [55, 0, 77], 'Dua': 73, 'Adeen': 93}\n"
     ]
    }
   ],
   "source": [
    "# If you modify a nested element of one object, the change will be visible in other\n",
    "dict2[\"Ali\"][1] = 0\n",
    "\n",
    "print('\\ndict1:', dict1)\n",
    "print('\\ndict2:', dict2)\n"
   ]
  },
  {
   "cell_type": "markdown",
   "id": "dress-hurricane",
   "metadata": {
    "id": "dress-hurricane"
   },
   "source": [
    "![](images/dict_operations.jpg)"
   ]
  },
  {
   "cell_type": "markdown",
   "id": "26a08d4c",
   "metadata": {
    "id": "26a08d4c"
   },
   "source": [
    "# Visualize Python Code: https://pythontutor.com/"
   ]
  },
  {
   "cell_type": "markdown",
   "id": "nasty-austria",
   "metadata": {
    "id": "nasty-austria"
   },
   "source": [
    "# Bonus Portion"
   ]
  },
  {
   "cell_type": "markdown",
   "id": "vertical-poland",
   "metadata": {
    "id": "vertical-poland"
   },
   "source": [
    "### Dictionary is used to create DataFrame."
   ]
  },
  {
   "cell_type": "code",
   "execution_count": 1,
   "id": "fd3930e4",
   "metadata": {
    "id": "fd3930e4"
   },
   "outputs": [],
   "source": [
    "import pandas as pd"
   ]
  },
  {
   "cell_type": "code",
   "execution_count": 2,
   "id": "technological-exhibition",
   "metadata": {
    "colab": {
     "base_uri": "https://localhost:8080/"
    },
    "id": "technological-exhibition",
    "outputId": "f08bb5cf-1632-4215-f561-5cb4a0eb8620"
   },
   "outputs": [
    {
     "name": "stdout",
     "output_type": "stream",
     "text": [
      "Creating Dataframe from Dictionary\n"
     ]
    }
   ],
   "source": [
    "\n",
    "# Dictionary with list object in values\n",
    "studentData = {\n",
    "        'name' : ['sawaira', 'Ahmed', 'Ali'],\n",
    "        'age' : [22, 22, 20],\n",
    "        'city' : ['Okara', 'Sargodha', 'Lahore']\n",
    "    }\n",
    "\n",
    "print('Creating Dataframe from Dictionary')\n",
    "\n",
    "#  Pass dictionary in Dataframe constructor to create a new object\n",
    "#  keys will be the column names and lists in values will be column data\n",
    "# pd.DataFrame()\n",
    "dfObj = pd.DataFrame(studentData)\n",
    "    # Print data frame object on console\n",
    "dfObj.to_csv('Data.csv', index=False)"
   ]
  },
  {
   "cell_type": "code",
   "execution_count": 3,
   "id": "unlikely-nigeria",
   "metadata": {
    "colab": {
     "base_uri": "https://localhost:8080/",
     "height": 143
    },
    "id": "unlikely-nigeria",
    "outputId": "dc05ee6f-9301-43dd-f719-8c6d6934668a"
   },
   "outputs": [
    {
     "data": {
      "text/html": [
       "\n",
       "  <div id=\"df-3ffd6d02-d471-41c0-9260-ad744005dff3\" class=\"colab-df-container\">\n",
       "    <div>\n",
       "<style scoped>\n",
       "    .dataframe tbody tr th:only-of-type {\n",
       "        vertical-align: middle;\n",
       "    }\n",
       "\n",
       "    .dataframe tbody tr th {\n",
       "        vertical-align: top;\n",
       "    }\n",
       "\n",
       "    .dataframe thead th {\n",
       "        text-align: right;\n",
       "    }\n",
       "</style>\n",
       "<table border=\"1\" class=\"dataframe\">\n",
       "  <thead>\n",
       "    <tr style=\"text-align: right;\">\n",
       "      <th></th>\n",
       "      <th>0</th>\n",
       "      <th>1</th>\n",
       "      <th>2</th>\n",
       "    </tr>\n",
       "  </thead>\n",
       "  <tbody>\n",
       "    <tr>\n",
       "      <th>name</th>\n",
       "      <td>Sawaira</td>\n",
       "      <td>Ahmed</td>\n",
       "      <td>Ali</td>\n",
       "    </tr>\n",
       "    <tr>\n",
       "      <th>age</th>\n",
       "      <td>22</td>\n",
       "      <td>22</td>\n",
       "      <td>20</td>\n",
       "    </tr>\n",
       "    <tr>\n",
       "      <th>city</th>\n",
       "      <td>lahore</td>\n",
       "      <td>Sargodha</td>\n",
       "      <td>Lahore</td>\n",
       "    </tr>\n",
       "  </tbody>\n",
       "</table>\n",
       "</div>\n",
       "    <div class=\"colab-df-buttons\">\n",
       "\n",
       "  <div class=\"colab-df-container\">\n",
       "    <button class=\"colab-df-convert\" onclick=\"convertToInteractive('df-3ffd6d02-d471-41c0-9260-ad744005dff3')\"\n",
       "            title=\"Convert this dataframe to an interactive table.\"\n",
       "            style=\"display:none;\">\n",
       "\n",
       "  <svg xmlns=\"http://www.w3.org/2000/svg\" height=\"24px\" viewBox=\"0 -960 960 960\">\n",
       "    <path d=\"M120-120v-720h720v720H120Zm60-500h600v-160H180v160Zm220 220h160v-160H400v160Zm0 220h160v-160H400v160ZM180-400h160v-160H180v160Zm440 0h160v-160H620v160ZM180-180h160v-160H180v160Zm440 0h160v-160H620v160Z\"/>\n",
       "  </svg>\n",
       "    </button>\n",
       "\n",
       "  <style>\n",
       "    .colab-df-container {\n",
       "      display:flex;\n",
       "      gap: 12px;\n",
       "    }\n",
       "\n",
       "    .colab-df-convert {\n",
       "      background-color: #E8F0FE;\n",
       "      border: none;\n",
       "      border-radius: 50%;\n",
       "      cursor: pointer;\n",
       "      display: none;\n",
       "      fill: #1967D2;\n",
       "      height: 32px;\n",
       "      padding: 0 0 0 0;\n",
       "      width: 32px;\n",
       "    }\n",
       "\n",
       "    .colab-df-convert:hover {\n",
       "      background-color: #E2EBFA;\n",
       "      box-shadow: 0px 1px 2px rgba(60, 64, 67, 0.3), 0px 1px 3px 1px rgba(60, 64, 67, 0.15);\n",
       "      fill: #174EA6;\n",
       "    }\n",
       "\n",
       "    .colab-df-buttons div {\n",
       "      margin-bottom: 4px;\n",
       "    }\n",
       "\n",
       "    [theme=dark] .colab-df-convert {\n",
       "      background-color: #3B4455;\n",
       "      fill: #D2E3FC;\n",
       "    }\n",
       "\n",
       "    [theme=dark] .colab-df-convert:hover {\n",
       "      background-color: #434B5C;\n",
       "      box-shadow: 0px 1px 3px 1px rgba(0, 0, 0, 0.15);\n",
       "      filter: drop-shadow(0px 1px 2px rgba(0, 0, 0, 0.3));\n",
       "      fill: #FFFFFF;\n",
       "    }\n",
       "  </style>\n",
       "\n",
       "    <script>\n",
       "      const buttonEl =\n",
       "        document.querySelector('#df-3ffd6d02-d471-41c0-9260-ad744005dff3 button.colab-df-convert');\n",
       "      buttonEl.style.display =\n",
       "        google.colab.kernel.accessAllowed ? 'block' : 'none';\n",
       "\n",
       "      async function convertToInteractive(key) {\n",
       "        const element = document.querySelector('#df-3ffd6d02-d471-41c0-9260-ad744005dff3');\n",
       "        const dataTable =\n",
       "          await google.colab.kernel.invokeFunction('convertToInteractive',\n",
       "                                                    [key], {});\n",
       "        if (!dataTable) return;\n",
       "\n",
       "        const docLinkHtml = 'Like what you see? Visit the ' +\n",
       "          '<a target=\"_blank\" href=https://colab.research.google.com/notebooks/data_table.ipynb>data table notebook</a>'\n",
       "          + ' to learn more about interactive tables.';\n",
       "        element.innerHTML = '';\n",
       "        dataTable['output_type'] = 'display_data';\n",
       "        await google.colab.output.renderOutput(dataTable, element);\n",
       "        const docLink = document.createElement('div');\n",
       "        docLink.innerHTML = docLinkHtml;\n",
       "        element.appendChild(docLink);\n",
       "      }\n",
       "    </script>\n",
       "  </div>\n",
       "\n",
       "\n",
       "<div id=\"df-775a9cff-aaa0-4e8d-b29b-01718f93a88a\">\n",
       "  <button class=\"colab-df-quickchart\" onclick=\"quickchart('df-775a9cff-aaa0-4e8d-b29b-01718f93a88a')\"\n",
       "            title=\"Suggest charts.\"\n",
       "            style=\"display:none;\">\n",
       "\n",
       "<svg xmlns=\"http://www.w3.org/2000/svg\" height=\"24px\"viewBox=\"0 0 24 24\"\n",
       "     width=\"24px\">\n",
       "    <g>\n",
       "        <path d=\"M19 3H5c-1.1 0-2 .9-2 2v14c0 1.1.9 2 2 2h14c1.1 0 2-.9 2-2V5c0-1.1-.9-2-2-2zM9 17H7v-7h2v7zm4 0h-2V7h2v10zm4 0h-2v-4h2v4z\"/>\n",
       "    </g>\n",
       "</svg>\n",
       "  </button>\n",
       "\n",
       "<style>\n",
       "  .colab-df-quickchart {\n",
       "      --bg-color: #E8F0FE;\n",
       "      --fill-color: #1967D2;\n",
       "      --hover-bg-color: #E2EBFA;\n",
       "      --hover-fill-color: #174EA6;\n",
       "      --disabled-fill-color: #AAA;\n",
       "      --disabled-bg-color: #DDD;\n",
       "  }\n",
       "\n",
       "  [theme=dark] .colab-df-quickchart {\n",
       "      --bg-color: #3B4455;\n",
       "      --fill-color: #D2E3FC;\n",
       "      --hover-bg-color: #434B5C;\n",
       "      --hover-fill-color: #FFFFFF;\n",
       "      --disabled-bg-color: #3B4455;\n",
       "      --disabled-fill-color: #666;\n",
       "  }\n",
       "\n",
       "  .colab-df-quickchart {\n",
       "    background-color: var(--bg-color);\n",
       "    border: none;\n",
       "    border-radius: 50%;\n",
       "    cursor: pointer;\n",
       "    display: none;\n",
       "    fill: var(--fill-color);\n",
       "    height: 32px;\n",
       "    padding: 0;\n",
       "    width: 32px;\n",
       "  }\n",
       "\n",
       "  .colab-df-quickchart:hover {\n",
       "    background-color: var(--hover-bg-color);\n",
       "    box-shadow: 0 1px 2px rgba(60, 64, 67, 0.3), 0 1px 3px 1px rgba(60, 64, 67, 0.15);\n",
       "    fill: var(--button-hover-fill-color);\n",
       "  }\n",
       "\n",
       "  .colab-df-quickchart-complete:disabled,\n",
       "  .colab-df-quickchart-complete:disabled:hover {\n",
       "    background-color: var(--disabled-bg-color);\n",
       "    fill: var(--disabled-fill-color);\n",
       "    box-shadow: none;\n",
       "  }\n",
       "\n",
       "  .colab-df-spinner {\n",
       "    border: 2px solid var(--fill-color);\n",
       "    border-color: transparent;\n",
       "    border-bottom-color: var(--fill-color);\n",
       "    animation:\n",
       "      spin 1s steps(1) infinite;\n",
       "  }\n",
       "\n",
       "  @keyframes spin {\n",
       "    0% {\n",
       "      border-color: transparent;\n",
       "      border-bottom-color: var(--fill-color);\n",
       "      border-left-color: var(--fill-color);\n",
       "    }\n",
       "    20% {\n",
       "      border-color: transparent;\n",
       "      border-left-color: var(--fill-color);\n",
       "      border-top-color: var(--fill-color);\n",
       "    }\n",
       "    30% {\n",
       "      border-color: transparent;\n",
       "      border-left-color: var(--fill-color);\n",
       "      border-top-color: var(--fill-color);\n",
       "      border-right-color: var(--fill-color);\n",
       "    }\n",
       "    40% {\n",
       "      border-color: transparent;\n",
       "      border-right-color: var(--fill-color);\n",
       "      border-top-color: var(--fill-color);\n",
       "    }\n",
       "    60% {\n",
       "      border-color: transparent;\n",
       "      border-right-color: var(--fill-color);\n",
       "    }\n",
       "    80% {\n",
       "      border-color: transparent;\n",
       "      border-right-color: var(--fill-color);\n",
       "      border-bottom-color: var(--fill-color);\n",
       "    }\n",
       "    90% {\n",
       "      border-color: transparent;\n",
       "      border-bottom-color: var(--fill-color);\n",
       "    }\n",
       "  }\n",
       "</style>\n",
       "\n",
       "  <script>\n",
       "    async function quickchart(key) {\n",
       "      const quickchartButtonEl =\n",
       "        document.querySelector('#' + key + ' button');\n",
       "      quickchartButtonEl.disabled = true;  // To prevent multiple clicks.\n",
       "      quickchartButtonEl.classList.add('colab-df-spinner');\n",
       "      try {\n",
       "        const charts = await google.colab.kernel.invokeFunction(\n",
       "            'suggestCharts', [key], {});\n",
       "      } catch (error) {\n",
       "        console.error('Error during call to suggestCharts:', error);\n",
       "      }\n",
       "      quickchartButtonEl.classList.remove('colab-df-spinner');\n",
       "      quickchartButtonEl.classList.add('colab-df-quickchart-complete');\n",
       "    }\n",
       "    (() => {\n",
       "      let quickchartButtonEl =\n",
       "        document.querySelector('#df-775a9cff-aaa0-4e8d-b29b-01718f93a88a button');\n",
       "      quickchartButtonEl.style.display =\n",
       "        google.colab.kernel.accessAllowed ? 'block' : 'none';\n",
       "    })();\n",
       "  </script>\n",
       "</div>\n",
       "    </div>\n",
       "  </div>\n"
      ],
      "text/plain": [
       "            0         1       2\n",
       "name  Sawaira     Ahmed     Ali\n",
       "age        22        22      20\n",
       "city   lahore  Sargodha  Lahore"
      ]
     },
     "execution_count": 3,
     "metadata": {},
     "output_type": "execute_result"
    }
   ],
   "source": [
    "#    Create dataframe frm nested dictionary\n",
    "studentData = {\n",
    "    0 : {\n",
    "        'name' : 'Sawaira',\n",
    "        'age' : 22,\n",
    "        'city' : 'lahore'},\n",
    "    1 : {\n",
    "        'name' : 'Ahmed',\n",
    "        'age' : 22,\n",
    "        'city' : 'Sargodha'},\n",
    "    2 : {\n",
    "        'name' : 'Ali',\n",
    "        'age' : 20,\n",
    "        'city' : 'Lahore'}\n",
    "    }\n",
    "\n",
    "dfObj = pd.DataFrame(studentData)\n",
    "# Print Dataframe object on console\n",
    "dfObj\n",
    "\n"
   ]
  },
  {
   "cell_type": "code",
   "execution_count": 4,
   "id": "valuable-modem",
   "metadata": {
    "colab": {
     "base_uri": "https://localhost:8080/",
     "height": 161
    },
    "id": "valuable-modem",
    "outputId": "9b808cd8-2f9c-4945-81e0-974176255e8a"
   },
   "outputs": [
    {
     "name": "stdout",
     "output_type": "stream",
     "text": [
      "Transpose the dictionary\n"
     ]
    },
    {
     "data": {
      "text/html": [
       "\n",
       "  <div id=\"df-aebc5b2f-1fed-40a5-8f15-4a213447c668\" class=\"colab-df-container\">\n",
       "    <div>\n",
       "<style scoped>\n",
       "    .dataframe tbody tr th:only-of-type {\n",
       "        vertical-align: middle;\n",
       "    }\n",
       "\n",
       "    .dataframe tbody tr th {\n",
       "        vertical-align: top;\n",
       "    }\n",
       "\n",
       "    .dataframe thead th {\n",
       "        text-align: right;\n",
       "    }\n",
       "</style>\n",
       "<table border=\"1\" class=\"dataframe\">\n",
       "  <thead>\n",
       "    <tr style=\"text-align: right;\">\n",
       "      <th></th>\n",
       "      <th>name</th>\n",
       "      <th>age</th>\n",
       "      <th>city</th>\n",
       "    </tr>\n",
       "  </thead>\n",
       "  <tbody>\n",
       "    <tr>\n",
       "      <th>0</th>\n",
       "      <td>Sawaira</td>\n",
       "      <td>22</td>\n",
       "      <td>lahore</td>\n",
       "    </tr>\n",
       "    <tr>\n",
       "      <th>1</th>\n",
       "      <td>Ahmed</td>\n",
       "      <td>22</td>\n",
       "      <td>Sargodha</td>\n",
       "    </tr>\n",
       "    <tr>\n",
       "      <th>2</th>\n",
       "      <td>Ali</td>\n",
       "      <td>20</td>\n",
       "      <td>Lahore</td>\n",
       "    </tr>\n",
       "  </tbody>\n",
       "</table>\n",
       "</div>\n",
       "    <div class=\"colab-df-buttons\">\n",
       "\n",
       "  <div class=\"colab-df-container\">\n",
       "    <button class=\"colab-df-convert\" onclick=\"convertToInteractive('df-aebc5b2f-1fed-40a5-8f15-4a213447c668')\"\n",
       "            title=\"Convert this dataframe to an interactive table.\"\n",
       "            style=\"display:none;\">\n",
       "\n",
       "  <svg xmlns=\"http://www.w3.org/2000/svg\" height=\"24px\" viewBox=\"0 -960 960 960\">\n",
       "    <path d=\"M120-120v-720h720v720H120Zm60-500h600v-160H180v160Zm220 220h160v-160H400v160Zm0 220h160v-160H400v160ZM180-400h160v-160H180v160Zm440 0h160v-160H620v160ZM180-180h160v-160H180v160Zm440 0h160v-160H620v160Z\"/>\n",
       "  </svg>\n",
       "    </button>\n",
       "\n",
       "  <style>\n",
       "    .colab-df-container {\n",
       "      display:flex;\n",
       "      gap: 12px;\n",
       "    }\n",
       "\n",
       "    .colab-df-convert {\n",
       "      background-color: #E8F0FE;\n",
       "      border: none;\n",
       "      border-radius: 50%;\n",
       "      cursor: pointer;\n",
       "      display: none;\n",
       "      fill: #1967D2;\n",
       "      height: 32px;\n",
       "      padding: 0 0 0 0;\n",
       "      width: 32px;\n",
       "    }\n",
       "\n",
       "    .colab-df-convert:hover {\n",
       "      background-color: #E2EBFA;\n",
       "      box-shadow: 0px 1px 2px rgba(60, 64, 67, 0.3), 0px 1px 3px 1px rgba(60, 64, 67, 0.15);\n",
       "      fill: #174EA6;\n",
       "    }\n",
       "\n",
       "    .colab-df-buttons div {\n",
       "      margin-bottom: 4px;\n",
       "    }\n",
       "\n",
       "    [theme=dark] .colab-df-convert {\n",
       "      background-color: #3B4455;\n",
       "      fill: #D2E3FC;\n",
       "    }\n",
       "\n",
       "    [theme=dark] .colab-df-convert:hover {\n",
       "      background-color: #434B5C;\n",
       "      box-shadow: 0px 1px 3px 1px rgba(0, 0, 0, 0.15);\n",
       "      filter: drop-shadow(0px 1px 2px rgba(0, 0, 0, 0.3));\n",
       "      fill: #FFFFFF;\n",
       "    }\n",
       "  </style>\n",
       "\n",
       "    <script>\n",
       "      const buttonEl =\n",
       "        document.querySelector('#df-aebc5b2f-1fed-40a5-8f15-4a213447c668 button.colab-df-convert');\n",
       "      buttonEl.style.display =\n",
       "        google.colab.kernel.accessAllowed ? 'block' : 'none';\n",
       "\n",
       "      async function convertToInteractive(key) {\n",
       "        const element = document.querySelector('#df-aebc5b2f-1fed-40a5-8f15-4a213447c668');\n",
       "        const dataTable =\n",
       "          await google.colab.kernel.invokeFunction('convertToInteractive',\n",
       "                                                    [key], {});\n",
       "        if (!dataTable) return;\n",
       "\n",
       "        const docLinkHtml = 'Like what you see? Visit the ' +\n",
       "          '<a target=\"_blank\" href=https://colab.research.google.com/notebooks/data_table.ipynb>data table notebook</a>'\n",
       "          + ' to learn more about interactive tables.';\n",
       "        element.innerHTML = '';\n",
       "        dataTable['output_type'] = 'display_data';\n",
       "        await google.colab.output.renderOutput(dataTable, element);\n",
       "        const docLink = document.createElement('div');\n",
       "        docLink.innerHTML = docLinkHtml;\n",
       "        element.appendChild(docLink);\n",
       "      }\n",
       "    </script>\n",
       "  </div>\n",
       "\n",
       "\n",
       "<div id=\"df-05315c31-2ea1-4ce3-b917-4b7cea41b81f\">\n",
       "  <button class=\"colab-df-quickchart\" onclick=\"quickchart('df-05315c31-2ea1-4ce3-b917-4b7cea41b81f')\"\n",
       "            title=\"Suggest charts.\"\n",
       "            style=\"display:none;\">\n",
       "\n",
       "<svg xmlns=\"http://www.w3.org/2000/svg\" height=\"24px\"viewBox=\"0 0 24 24\"\n",
       "     width=\"24px\">\n",
       "    <g>\n",
       "        <path d=\"M19 3H5c-1.1 0-2 .9-2 2v14c0 1.1.9 2 2 2h14c1.1 0 2-.9 2-2V5c0-1.1-.9-2-2-2zM9 17H7v-7h2v7zm4 0h-2V7h2v10zm4 0h-2v-4h2v4z\"/>\n",
       "    </g>\n",
       "</svg>\n",
       "  </button>\n",
       "\n",
       "<style>\n",
       "  .colab-df-quickchart {\n",
       "      --bg-color: #E8F0FE;\n",
       "      --fill-color: #1967D2;\n",
       "      --hover-bg-color: #E2EBFA;\n",
       "      --hover-fill-color: #174EA6;\n",
       "      --disabled-fill-color: #AAA;\n",
       "      --disabled-bg-color: #DDD;\n",
       "  }\n",
       "\n",
       "  [theme=dark] .colab-df-quickchart {\n",
       "      --bg-color: #3B4455;\n",
       "      --fill-color: #D2E3FC;\n",
       "      --hover-bg-color: #434B5C;\n",
       "      --hover-fill-color: #FFFFFF;\n",
       "      --disabled-bg-color: #3B4455;\n",
       "      --disabled-fill-color: #666;\n",
       "  }\n",
       "\n",
       "  .colab-df-quickchart {\n",
       "    background-color: var(--bg-color);\n",
       "    border: none;\n",
       "    border-radius: 50%;\n",
       "    cursor: pointer;\n",
       "    display: none;\n",
       "    fill: var(--fill-color);\n",
       "    height: 32px;\n",
       "    padding: 0;\n",
       "    width: 32px;\n",
       "  }\n",
       "\n",
       "  .colab-df-quickchart:hover {\n",
       "    background-color: var(--hover-bg-color);\n",
       "    box-shadow: 0 1px 2px rgba(60, 64, 67, 0.3), 0 1px 3px 1px rgba(60, 64, 67, 0.15);\n",
       "    fill: var(--button-hover-fill-color);\n",
       "  }\n",
       "\n",
       "  .colab-df-quickchart-complete:disabled,\n",
       "  .colab-df-quickchart-complete:disabled:hover {\n",
       "    background-color: var(--disabled-bg-color);\n",
       "    fill: var(--disabled-fill-color);\n",
       "    box-shadow: none;\n",
       "  }\n",
       "\n",
       "  .colab-df-spinner {\n",
       "    border: 2px solid var(--fill-color);\n",
       "    border-color: transparent;\n",
       "    border-bottom-color: var(--fill-color);\n",
       "    animation:\n",
       "      spin 1s steps(1) infinite;\n",
       "  }\n",
       "\n",
       "  @keyframes spin {\n",
       "    0% {\n",
       "      border-color: transparent;\n",
       "      border-bottom-color: var(--fill-color);\n",
       "      border-left-color: var(--fill-color);\n",
       "    }\n",
       "    20% {\n",
       "      border-color: transparent;\n",
       "      border-left-color: var(--fill-color);\n",
       "      border-top-color: var(--fill-color);\n",
       "    }\n",
       "    30% {\n",
       "      border-color: transparent;\n",
       "      border-left-color: var(--fill-color);\n",
       "      border-top-color: var(--fill-color);\n",
       "      border-right-color: var(--fill-color);\n",
       "    }\n",
       "    40% {\n",
       "      border-color: transparent;\n",
       "      border-right-color: var(--fill-color);\n",
       "      border-top-color: var(--fill-color);\n",
       "    }\n",
       "    60% {\n",
       "      border-color: transparent;\n",
       "      border-right-color: var(--fill-color);\n",
       "    }\n",
       "    80% {\n",
       "      border-color: transparent;\n",
       "      border-right-color: var(--fill-color);\n",
       "      border-bottom-color: var(--fill-color);\n",
       "    }\n",
       "    90% {\n",
       "      border-color: transparent;\n",
       "      border-bottom-color: var(--fill-color);\n",
       "    }\n",
       "  }\n",
       "</style>\n",
       "\n",
       "  <script>\n",
       "    async function quickchart(key) {\n",
       "      const quickchartButtonEl =\n",
       "        document.querySelector('#' + key + ' button');\n",
       "      quickchartButtonEl.disabled = true;  // To prevent multiple clicks.\n",
       "      quickchartButtonEl.classList.add('colab-df-spinner');\n",
       "      try {\n",
       "        const charts = await google.colab.kernel.invokeFunction(\n",
       "            'suggestCharts', [key], {});\n",
       "      } catch (error) {\n",
       "        console.error('Error during call to suggestCharts:', error);\n",
       "      }\n",
       "      quickchartButtonEl.classList.remove('colab-df-spinner');\n",
       "      quickchartButtonEl.classList.add('colab-df-quickchart-complete');\n",
       "    }\n",
       "    (() => {\n",
       "      let quickchartButtonEl =\n",
       "        document.querySelector('#df-05315c31-2ea1-4ce3-b917-4b7cea41b81f button');\n",
       "      quickchartButtonEl.style.display =\n",
       "        google.colab.kernel.accessAllowed ? 'block' : 'none';\n",
       "    })();\n",
       "  </script>\n",
       "</div>\n",
       "    </div>\n",
       "  </div>\n"
      ],
      "text/plain": [
       "      name age      city\n",
       "0  Sawaira  22    lahore\n",
       "1    Ahmed  22  Sargodha\n",
       "2      Ali  20    Lahore"
      ]
     },
     "execution_count": 4,
     "metadata": {},
     "output_type": "execute_result"
    }
   ],
   "source": [
    "print(\"Transpose the dictionary\")\n",
    "\n",
    "# Transpose dataframe object\n",
    "dfObj = dfObj.transpose()\n",
    "dfObj"
   ]
  },
  {
   "cell_type": "markdown",
   "id": "055bad4f",
   "metadata": {
    "id": "055bad4f"
   },
   "source": [
    "## Check your Concepts\n",
    "\n",
    "Try answering the following questions to test your understanding of the topics covered in this notebook:\n",
    "\n",
    "\n",
    "1. What is a dictionary in Python?\n",
    "2. How do you create a dictionary?\n",
    "3. What are keys and values?\n",
    "4. How do you access the value associated with a specific key in a dictionary?\n",
    "5. What happens if you try to access the value for a key that doesn't exist in a dictionary?\n",
    "6. Can a dictionary have two keys with the same value? Two values with the same key?\n",
    "7. Define a dictionary that maps month name abbreviations to month names.\n",
    "8. Define a dictionary with five entries that maps student identification numbers to\n",
    "their full names.\n",
    "9. What is the `.get` method of a dictionary used for?\n",
    "10. How do you change the value associated with a key in a dictionary?\n",
    "11. How do you add or remove a key-value pair in a dictionary?\n",
    "12. How do you access the keys, values, and key-value pairs within a dictionary?\n",
    "13. Describe/Differentiate the concept of aliasing, shallow copy and deep copy using assignment statement, `dict.copy()`, `copy.copy()` and `copy.deepcopy()` methods\n",
    "14. Practice sorting dictionaries having different types of `key:value` combinations\n",
    "15. Create and initialize a dictionary that maps the English words `one` through `five` to the numbers 1 through 5.\n",
    "16. Which part of a dictionary element must be immutable?\n",
    "17. What is the difference between the dictionary methods pop and popitem?\n",
    "18.  What does the items method return?\n",
    "19.  What does the keys method return?\n",
    "20.  What does the values method return?"
   ]
  },
  {
   "cell_type": "code",
   "execution_count": null,
   "id": "chinese-booking",
   "metadata": {
    "id": "chinese-booking",
    "outputId": "63167eb6-62ea-46d8-ff95-be9bafa85650"
   },
   "outputs": [
    {
     "name": "stdout",
     "output_type": "stream",
     "text": [
      "['__class__', '__class_getitem__', '__contains__', '__delattr__', '__delitem__', '__dir__', '__doc__', '__eq__', '__format__', '__ge__', '__getattribute__', '__getitem__', '__getstate__', '__gt__', '__hash__', '__init__', '__init_subclass__', '__ior__', '__iter__', '__le__', '__len__', '__lt__', '__ne__', '__new__', '__or__', '__reduce__', '__reduce_ex__', '__repr__', '__reversed__', '__ror__', '__setattr__', '__setitem__', '__sizeof__', '__str__', '__subclasshook__', 'clear', 'copy', 'fromkeys', 'get', 'items', 'keys', 'pop', 'popitem', 'setdefault', 'update', 'values']\n"
     ]
    }
   ],
   "source": [
    "print(dir(dict))"
   ]
  }
 ],
 "metadata": {
  "colab": {
   "provenance": []
  },
  "kernelspec": {
   "display_name": "Python 3 (ipykernel)",
   "language": "python",
   "name": "python3"
  },
  "language_info": {
   "codemirror_mode": {
    "name": "ipython",
    "version": 3
   },
   "file_extension": ".py",
   "mimetype": "text/x-python",
   "name": "python",
   "nbconvert_exporter": "python",
   "pygments_lexer": "ipython3",
   "version": "3.11.3"
  }
 },
 "nbformat": 4,
 "nbformat_minor": 5
}
