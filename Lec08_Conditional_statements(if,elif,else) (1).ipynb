{
 "cells": [
  {
   "cell_type": "code",
   "execution_count": null,
   "id": "9717d7f2",
   "metadata": {
    "id": "9717d7f2"
   },
   "outputs": [],
   "source": [
    "# # Python Built-in Data structures\n",
    "# - Mutable DS(List, Dictionary, Set)\n",
    "# - Immutable DS(String, Tuple, Numbers(int, float, bool))\n",
    "\n",
    "# Conditional\n",
    "#     - if statement\n",
    "#     - if-else statement\n",
    "#     - if-elif-else statement\n",
    "\n",
    "# Repetitional Statements\n",
    "#     - While loop\n",
    "#     - for loop"
   ]
  },
  {
   "cell_type": "code",
   "execution_count": null,
   "id": "3ab10038",
   "metadata": {
    "id": "3ab10038"
   },
   "outputs": [],
   "source": [
    "# How to create dictionaries?\n",
    "# {'key':12, }\n",
    "# key-> immutable(int, string, tuple)\n",
    "# value-> mutable(list, dict, tuple, int, etc)\n",
    "\n",
    "# Proof of concepts\n",
    "# key-> unique(does allow duplicate)\n",
    "# values -> duplicates\n",
    "\n",
    "# Accessing elements of a dictionary\n",
    "# dict.get(\"key\")\n",
    "# dict[\"key\"] -> this returns value.\n",
    "\n",
    "# Adding/Modifying elements of a dictionary\n",
    "# dict[\"key\"] =\n",
    "# dict.update()\n",
    "\n",
    "# Removing elements from a dictionary\n",
    "# del\n",
    "# dict.\n",
    "# clear\n",
    "\n",
    "\n",
    "# Dictionary, tuple and list conversions\n",
    "# list(dict.keys())\n",
    "# list(dict.values())\n",
    "\n",
    "\n",
    "\n",
    "# Sorting Dictionary values\n",
    "# sorted(iterable, key=custom-function, reverse=False/True)\n",
    "# Sorting of Json file\n",
    "\n",
    "\n",
    "# Aliasing vs Shallow Copy vs Deep Copy\n",
    "\n",
    "# Bonus: Dictionary(missing values, null values, duplicates operations) -> Dataframe(table containing rows and columns)(Pandas) -> CSV files"
   ]
  },
  {
   "cell_type": "markdown",
   "id": "22f54aa8",
   "metadata": {
    "id": "22f54aa8"
   },
   "source": [
    "<h1 align=\"center\" style=\"color:red\"> If-elif-else </h1>"
   ]
  },
  {
   "cell_type": "markdown",
   "id": "85ce601a",
   "metadata": {
    "id": "85ce601a"
   },
   "source": [
    "## Learning agenda of this notebook\n",
    "There are scenarios in programming, where we need to make a decision and based on that decision we want the flow of execution to move to one block of code or the other. In Python this decision making is done using `if...else` statements.\n",
    "1. Python Indentation\n",
    "2. Branching with `if`, `else`, and `elif`\n",
    "    - `if` statement\n",
    "    - `if...else` statement\n",
    "    - Ternary operator\n",
    "    - Nested `if...else` statement\n",
    "    - Ladder of `if...elif...else`\n",
    "3. The `pass` statement"
   ]
  },
  {
   "cell_type": "code",
   "execution_count": 1,
   "id": "c06c9b8d",
   "metadata": {
    "id": "c06c9b8d"
   },
   "outputs": [],
   "source": [
    "a = 9+6 #this is a statement(One line of code), right side value is called a expression, here `a` is a variable"
   ]
  },
  {
   "cell_type": "code",
   "execution_count": 2,
   "id": "3fac9bf0",
   "metadata": {
    "colab": {
     "base_uri": "https://localhost:8080/"
    },
    "id": "3fac9bf0",
    "outputId": "4715e18e-87b4-408b-fca3-876cd1518034"
   },
   "outputs": [
    {
     "data": {
      "text/plain": [
       "15"
      ]
     },
     "execution_count": 2,
     "metadata": {},
     "output_type": "execute_result"
    }
   ],
   "source": [
    "a"
   ]
  },
  {
   "cell_type": "markdown",
   "id": "f1e3dcfe",
   "metadata": {
    "id": "f1e3dcfe"
   },
   "source": [
    "## 1.  Python Expression, **Statements** and **Indentation**\n",
    "\n",
    "> **Expressions and Statements**: An expression is some code that evaluates to a value. As a rule of thumb, an expression is anything that can appear on the right side of the assignment operator `=`. On the contrary a statement is an instruction that can be executed.\n",
    "\n",
    "> **Python Indentation**:\n",
    ">- Most programming languages like C, C++, Java use braces { } to define a block of code.\n",
    ">- Python use indentation to tell the interpreter that the group of statements belongs to a particular block of code.\n",
    ">- Whitespace is used for indentation in Python. All statements with the same distance to the right belong to the same block of code. If a block has to be more deeply nested, it is simply indented further to the right.\n",
    ">- Python uses 4 spaces as indentation by default. However, the number of spaces is up to you, but a minimum of 1 space has to be used.\n",
    ">- Pressing `Tab` in a Jupyter notebook cell, will indent the code by 4 spaces, and pressing `Shift+Tab` will reduce the indentation by 4 spaces."
   ]
  },
  {
   "cell_type": "markdown",
   "id": "d3d9bffb",
   "metadata": {
    "id": "d3d9bffb"
   },
   "source": [
    "<img src=\"https://www.askpython.com/wp-content/uploads/2019/06/python-indentation.png\" height=340 width=800>"
   ]
  },
  {
   "cell_type": "code",
   "execution_count": 3,
   "id": "4673fd83",
   "metadata": {
    "id": "4673fd83"
   },
   "outputs": [],
   "source": [
    "# name = \"Sam\"\n",
    "\n",
    "# if name == \"Sam\":\n",
    "# print(\"Hello Sam\")\n",
    "# else:\n",
    "# print(\"Hello dude\")\n",
    "# print(\"How  are you?\")"
   ]
  },
  {
   "cell_type": "code",
   "execution_count": 4,
   "id": "225a729f",
   "metadata": {
    "id": "225a729f"
   },
   "outputs": [],
   "source": [
    "# name = \"Sam\"\n",
    "\n",
    "# if name == \"Sam\":\n",
    "#     print(\"Hello Sam\")\n",
    "# else:\n",
    "#     print(\"Hello dude\")\n",
    "\n",
    "# print(\"How  are you?\")"
   ]
  },
  {
   "cell_type": "code",
   "execution_count": null,
   "id": "4e755077",
   "metadata": {
    "id": "4e755077"
   },
   "outputs": [],
   "source": [
    "# def display(name):\n",
    "#     a = 5\n",
    "#     b = 7\n",
    "#     print (\"Hello\", name, \"Welcome to Data Science Course!\")\n",
    "#     c = 8\n",
    "#     def display2(name):\n",
    "#         print(name)\n",
    "#     return a,b,c"
   ]
  },
  {
   "cell_type": "code",
   "execution_count": null,
   "id": "f28e9a59",
   "metadata": {
    "id": "f28e9a59"
   },
   "outputs": [],
   "source": [
    "# display('Sawaira Iqbal')"
   ]
  },
  {
   "cell_type": "code",
   "execution_count": null,
   "id": "b162f5ef",
   "metadata": {
    "id": "b162f5ef"
   },
   "outputs": [],
   "source": [
    "# # total = 3+4\n",
    "# # total\n",
    "# def display():\n",
    "#     name = \"Sawaira\"\n",
    "#     age = 21\n",
    "#     return name,age\n",
    "\n",
    "# Class = \"SE\""
   ]
  },
  {
   "cell_type": "code",
   "execution_count": null,
   "id": "5cbe8f4a",
   "metadata": {
    "id": "5cbe8f4a"
   },
   "outputs": [],
   "source": [
    "# # display()\n",
    "# # name\n",
    "# Class"
   ]
  },
  {
   "cell_type": "code",
   "execution_count": 5,
   "id": "56fdda25",
   "metadata": {
    "colab": {
     "base_uri": "https://localhost:8080/"
    },
    "id": "56fdda25",
    "outputId": "652e5315-f6da-4b23-86a9-27255e8effbb"
   },
   "outputs": [
    {
     "name": "stdout",
     "output_type": "stream",
     "text": [
      "5 6\n"
     ]
    }
   ],
   "source": [
    "a = 5\n",
    "b = 6 # Giving an extra extra space without the need of a block will flag an error\n",
    "print(a,b)"
   ]
  },
  {
   "cell_type": "code",
   "execution_count": 6,
   "id": "411afb08",
   "metadata": {
    "colab": {
     "base_uri": "https://localhost:8080/"
    },
    "id": "411afb08",
    "outputId": "5d0d6120-12f3-4bda-8961-ab8cde8739ae"
   },
   "outputs": [
    {
     "name": "stdout",
     "output_type": "stream",
     "text": [
      "True Statement\n"
     ]
    }
   ],
   "source": [
    "if (2 == 1):\n",
    "    print(\"Hello!\")\n",
    "\n",
    "print('True Statement')  # Not doing an indentation also flags an error"
   ]
  },
  {
   "cell_type": "markdown",
   "id": "3a39551f",
   "metadata": {
    "id": "3a39551f"
   },
   "source": [
    "# **2. Branching with `if`, `else` and `elif`**\n",
    "One of the most powerful features of programming languages is *branching*: the ability to make decisions and execute a different set of statements based on whether one or more conditions are true."
   ]
  },
  {
   "cell_type": "code",
   "execution_count": 9,
   "id": "d8aefd78",
   "metadata": {
    "colab": {
     "base_uri": "https://localhost:8080/"
    },
    "id": "d8aefd78",
    "outputId": "0556fa6b-e2eb-4fa1-f292-89ee7d4333e0"
   },
   "outputs": [
    {
     "name": "stdout",
     "output_type": "stream",
     "text": [
      "you can apply, you are young now\n"
     ]
    }
   ],
   "source": [
    "age = 18\n",
    "\n",
    "if age<18:\n",
    "  print(\"You are not eligible for cnic card\")\n",
    "\n",
    "elif age>=18 and age<69:\n",
    "  print(\"you can apply, you are young now\")\n",
    "\n",
    "else:\n",
    "  print(\"you are overage\")"
   ]
  },
  {
   "cell_type": "markdown",
   "id": "5f2e034e",
   "metadata": {
    "id": "5f2e034e"
   },
   "source": [
    "# **a. `if` Statement**\n",
    "\n",
    "In Python, branching is implemented using the `if` statement, which is written as follows:\n",
    "\n",
    "```\n",
    "if condition:\n",
    "    statement1\n",
    "    statement2\n",
    "statement(s)\n",
    "```\n",
    "\n",
    "- The `condition` can be a value, variable or expression.\n",
    "- If the condition evaluates to `True`, then the statements within the *`if` block* are executed.\n",
    "- Notice the four spaces before `statement1`, and `statement2`, which inform Python interpreter that these statements are associated with the `if` statement above.\n",
    "- This technique of structuring code by adding spaces is called *indentation*.\n"
   ]
  },
  {
   "cell_type": "code",
   "execution_count": 10,
   "id": "63b134c0",
   "metadata": {
    "colab": {
     "base_uri": "https://localhost:8080/"
    },
    "id": "63b134c0",
    "outputId": "650ed952-da7f-4512-e2dc-8d125acfcde7"
   },
   "outputs": [
    {
     "name": "stdout",
     "output_type": "stream",
     "text": [
      "The \"if\" statement\n",
      "******************\n",
      "\n",
      "The \"if\" statement is used for conditional execution:\n",
      "\n",
      "   if_stmt ::= \"if\" assignment_expression \":\" suite\n",
      "               (\"elif\" assignment_expression \":\" suite)*\n",
      "               [\"else\" \":\" suite]\n",
      "\n",
      "It selects exactly one of the suites by evaluating the expressions one\n",
      "by one until one is found to be true (see section Boolean operations\n",
      "for the definition of true and false); then that suite is executed\n",
      "(and no other part of the \"if\" statement is executed or evaluated).\n",
      "If all expressions are false, the suite of the \"else\" clause, if\n",
      "present, is executed.\n",
      "\n",
      "Related help topics: TRUTHVALUE\n",
      "\n"
     ]
    }
   ],
   "source": [
    "help('if')"
   ]
  },
  {
   "cell_type": "code",
   "execution_count": 11,
   "id": "ecdea0c7",
   "metadata": {
    "colab": {
     "base_uri": "https://localhost:8080/"
    },
    "id": "ecdea0c7",
    "outputId": "b1883a78-22d4-4393-b235-8c6ff10d09b5"
   },
   "outputs": [
    {
     "name": "stdout",
     "output_type": "stream",
     "text": [
      "Truth Value Testing\n",
      "*******************\n",
      "\n",
      "Any object can be tested for truth value, for use in an \"if\" or\n",
      "\"while\" condition or as operand of the Boolean operations below.\n",
      "\n",
      "By default, an object is considered true unless its class defines\n",
      "either a \"__bool__()\" method that returns \"False\" or a \"__len__()\"\n",
      "method that returns zero, when called with the object. [1]  Here are\n",
      "most of the built-in objects considered false:\n",
      "\n",
      "* constants defined to be false: \"None\" and \"False\".\n",
      "\n",
      "* zero of any numeric type: \"0\", \"0.0\", \"0j\", \"Decimal(0)\",\n",
      "  \"Fraction(0, 1)\"\n",
      "\n",
      "* empty sequences and collections: \"''\", \"()\", \"[]\", \"{}\", \"set()\",\n",
      "  \"range(0)\"\n",
      "\n",
      "Operations and built-in functions that have a Boolean result always\n",
      "return \"0\" or \"False\" for false and \"1\" or \"True\" for true, unless\n",
      "otherwise stated. (Important exception: the Boolean operations \"or\"\n",
      "and \"and\" always return one of their operands.)\n",
      "\n",
      "Related help topics: if, while, and, or, not, BASICMETHODS\n",
      "\n"
     ]
    }
   ],
   "source": [
    "help('TRUTHVALUE')"
   ]
  },
  {
   "cell_type": "markdown",
   "id": "8c3cb597",
   "metadata": {
    "id": "8c3cb597"
   },
   "source": [
    "In Python the following values evaluate to `False` (they are often called *falsy* values):\n",
    "1. The value `False` itself\n",
    "2. The integer `0`\n",
    "3. The float `0.0`\n",
    "4. The empty value `None`\n",
    "5. The empty text `\"\"`\n",
    "6. The empty list `[]`\n",
    "7. The empty tuple `()`\n",
    "8. The empty dictionary `{}`\n",
    "9. The empty set `set()`\n",
    "10. The empty range `range(0)`\n",
    "\n",
    "Everything else evaluates to `True` (a value that evaluates to `True` is often called a *truthy* value).\n",
    "\n",
    "The **None** type includes a single value `None`, used to indicate the absence of a value. `None` has the type `NoneType`. It is often used to declare a variable whose value may be assigned later or as a return value of functions that do not return a value"
   ]
  },
  {
   "cell_type": "code",
   "execution_count": 12,
   "id": "f75afdf8",
   "metadata": {
    "colab": {
     "base_uri": "https://localhost:8080/"
    },
    "id": "f75afdf8",
    "outputId": "81095a13-5c6b-4d15-f0bd-1298b94c1d1e"
   },
   "outputs": [
    {
     "name": "stdout",
     "output_type": "stream",
     "text": [
      "False False False False\n"
     ]
    }
   ],
   "source": [
    "a = False\n",
    "b = bool(0)\n",
    "c = bool(0.0)\n",
    "d = bool(None)\n",
    "print(a, b,c, d)"
   ]
  },
  {
   "cell_type": "code",
   "execution_count": 13,
   "id": "6ab704d4",
   "metadata": {
    "colab": {
     "base_uri": "https://localhost:8080/"
    },
    "id": "6ab704d4",
    "outputId": "00a586be-7b49-4e7f-ad0d-62dc4e866ae6"
   },
   "outputs": [
    {
     "name": "stdout",
     "output_type": "stream",
     "text": [
      "<class 'NoneType'>\n"
     ]
    }
   ],
   "source": [
    "print(type(None))\n",
    "# var = None"
   ]
  },
  {
   "cell_type": "code",
   "execution_count": 14,
   "id": "839e0850",
   "metadata": {
    "colab": {
     "base_uri": "https://localhost:8080/"
    },
    "id": "839e0850",
    "outputId": "93f73b5a-0655-4d27-f75e-a362ff301a30"
   },
   "outputs": [
    {
     "name": "stdout",
     "output_type": "stream",
     "text": [
      "True\n",
      "False\n"
     ]
    }
   ],
   "source": [
    "x = 2\n",
    "\n",
    "print(x==2) # comaparing content 2==1\n",
    "\n",
    "print(x==3)"
   ]
  },
  {
   "cell_type": "code",
   "execution_count": 15,
   "id": "3a5c1e7a",
   "metadata": {
    "colab": {
     "base_uri": "https://localhost:8080/"
    },
    "id": "3a5c1e7a",
    "outputId": "f8f8dd11-bbb4-45eb-9a92-e39324f63dc3"
   },
   "outputs": [
    {
     "name": "stdout",
     "output_type": "stream",
     "text": [
      "This will execute, only if the condition is true\n",
      "I'm in if block!\n",
      "\n",
      "\n",
      "\n",
      "I'm not in if block\n",
      "Hello\n",
      "This will always execute\n",
      "Done!\n"
     ]
    }
   ],
   "source": [
    "# Example:\n",
    "x = 2\n",
    "if (x == 2): # you can put parenthesis around condition, but it is OK if you dont\n",
    "    print('This will execute, only if the condition is true')\n",
    "    print(\"I'm in if block!\")\n",
    "\n",
    "print(\"\\n\\n\\nI'm not in if block\")\n",
    "print(\"Hello\")\n",
    "print('This will always execute')\n",
    "print(\"Done!\")"
   ]
  },
  {
   "cell_type": "code",
   "execution_count": 16,
   "id": "ec30cffd",
   "metadata": {
    "colab": {
     "base_uri": "https://localhost:8080/"
    },
    "id": "ec30cffd",
    "outputId": "d9a0d624-e189-44a1-f269-db7ff13b5fa8"
   },
   "outputs": [
    {
     "name": "stdout",
     "output_type": "stream",
     "text": [
      "\n",
      "\n",
      "\n",
      "I'm not in if block\n",
      "Hello\n",
      "This will always execute\n",
      "Done!\n"
     ]
    }
   ],
   "source": [
    "# Example:\n",
    "x = 2\n",
    "if (x == 3): # you can put parenthesis around condition, but it is OK if you dont\n",
    "    print('This will execute, only if the condition is true')\n",
    "    print(\"I'm in if block!\")\n",
    "\n",
    "print(\"\\n\\n\\nI'm not in if block\")\n",
    "print(\"Hello\")\n",
    "print('This will always execute')\n",
    "print(\"Done!\")"
   ]
  },
  {
   "cell_type": "code",
   "execution_count": 17,
   "id": "e6886853",
   "metadata": {
    "id": "e6886853"
   },
   "outputs": [],
   "source": [
    "# take input from user/prompts  -> input()"
   ]
  },
  {
   "cell_type": "code",
   "execution_count": 18,
   "id": "2e49c278",
   "metadata": {
    "colab": {
     "base_uri": "https://localhost:8080/"
    },
    "id": "2e49c278",
    "outputId": "55ad628b-5d74-4bd0-c868-ad55b943a019"
   },
   "outputs": [
    {
     "name": "stdout",
     "output_type": "stream",
     "text": [
      "Enter your age : 21\n",
      "You are a young person!\n",
      "Done!\n"
     ]
    }
   ],
   "source": [
    "# Example , take age of user and tell her/him , about his/her age status\n",
    "age = int(input(\"Enter your age : \"))\n",
    "\n",
    "\n",
    "if age >= 18:\n",
    "    print(\"You are a young person!\")\n",
    "\n",
    "print(\"Done!\")"
   ]
  },
  {
   "cell_type": "markdown",
   "id": "59bdac9b",
   "metadata": {
    "id": "59bdac9b"
   },
   "source": [
    "# **b. `if...else` statement**\n",
    "\n",
    "- The simple `if` statement shown above tells us that if a condition is True it will execute a block of statements and if the condition is False it won’t.\n",
    "- But what if we want to do something else if the condition is false.\n",
    "- Here comes the `else` statement. We can use the `else` statement with `if` statement to execute a block of code when the condition is False. It is written as follows:\n",
    "\n",
    "```\n",
    "if condition:\n",
    "    statement1\n",
    "    statement2\n",
    "else:\n",
    "    statement3\n",
    "    statement4\n",
    "remaining statement(s)\n",
    "```\n",
    "\n",
    "If `condition` evaluates to `True`, the statements in the `if` block are executed. If it evaluates to `False`, the statements in the `else` block are executed."
   ]
  },
  {
   "cell_type": "code",
   "execution_count": 20,
   "id": "e4469b9d",
   "metadata": {
    "colab": {
     "base_uri": "https://localhost:8080/"
    },
    "id": "e4469b9d",
    "outputId": "f195e20c-4fc5-40e3-c494-cfb3355a8e60"
   },
   "outputs": [
    {
     "name": "stdout",
     "output_type": "stream",
     "text": [
      "Enter your age : 12\n",
      "Your are a teenager!\n",
      "I'm in the else block\n",
      "Done!\n"
     ]
    }
   ],
   "source": [
    "# Example , take age of user and tell her/him , about his/her age status\n",
    "age = int(input(\"Enter your age : \"))\n",
    "\n",
    "\n",
    "if age>=18:\n",
    "    print(\"You are a young person!\")\n",
    "    print(\"I'm in the if Block\")\n",
    "\n",
    "else:\n",
    "    print(\"Your are a teenager!\")\n",
    "    print(\"I'm in the else block\")\n",
    "\n",
    "print(\"Done!\")"
   ]
  },
  {
   "cell_type": "code",
   "execution_count": 21,
   "id": "3771980a",
   "metadata": {
    "colab": {
     "base_uri": "https://localhost:8080/"
    },
    "id": "3771980a",
    "outputId": "80a75407-251c-4b70-c02e-f889120534e5"
   },
   "outputs": [
    {
     "name": "stdout",
     "output_type": "stream",
     "text": [
      "Enter a number : 4\n",
      "4 is even number!\n",
      "I'm in if block\n",
      "Done!\n"
     ]
    }
   ],
   "source": [
    "number = int(input(\"Enter a number : \"))\n",
    "\n",
    "if number%2 == 0:\n",
    "    print(f\"{number} is even number!\")\n",
    "    print(\"I'm in if block\")\n",
    "\n",
    "else:\n",
    "    print(f\"{number} is odd number!\")\n",
    "    print(\"I'm in else block\")\n",
    "\n",
    "print(\"Done!\")"
   ]
  },
  {
   "cell_type": "code",
   "execution_count": 22,
   "id": "de70eb8c",
   "metadata": {
    "id": "de70eb8c"
   },
   "outputs": [],
   "source": [
    "# 21%2"
   ]
  },
  {
   "cell_type": "code",
   "execution_count": 23,
   "id": "de994e5c",
   "metadata": {
    "colab": {
     "base_uri": "https://localhost:8080/"
    },
    "id": "de994e5c",
    "outputId": "61637247-9632-44f0-80ee-a08ad0e83a45"
   },
   "outputs": [
    {
     "name": "stdout",
     "output_type": "stream",
     "text": [
      "enter a number: 45\n",
      "Odd\n",
      "Bye\n"
     ]
    }
   ],
   "source": [
    "# Example 1: Take input from user by using the input function and decide if the number is even or odd\n",
    "x = input(\"enter a number: \")\n",
    "\n",
    "# by default the type returned by input() is string, so don't forget to type cast it\n",
    "\n",
    "x = int(x)\n",
    "\n",
    "if(x % 2 == 0):\n",
    "    print(\"Even\")\n",
    "else:\n",
    "    print(\"Odd\")\n",
    "\n",
    "print(\"Bye\")"
   ]
  },
  {
   "cell_type": "markdown",
   "id": "8226e32c",
   "metadata": {
    "id": "8226e32c"
   },
   "source": [
    "> The `input()` function allows a user to insert a value into a program. It returns a string value, which can be casted to any data type as per the requirement."
   ]
  },
  {
   "cell_type": "code",
   "execution_count": 24,
   "id": "70421ded",
   "metadata": {
    "colab": {
     "base_uri": "https://localhost:8080/"
    },
    "id": "70421ded",
    "outputId": "50f73eba-35f4-4183-f2f6-a7592ab60ee7"
   },
   "outputs": [
    {
     "name": "stdout",
     "output_type": "stream",
     "text": [
      "True\n"
     ]
    }
   ],
   "source": [
    "a = 5\n",
    "b = 10\n",
    "print(a < b)"
   ]
  },
  {
   "cell_type": "code",
   "execution_count": 25,
   "id": "c8198dab",
   "metadata": {
    "colab": {
     "base_uri": "https://localhost:8080/"
    },
    "id": "c8198dab",
    "outputId": "2cbec18e-7158-46a8-97ea-efe869378051"
   },
   "outputs": [
    {
     "name": "stdout",
     "output_type": "stream",
     "text": [
      "b is greater than a.\n",
      "i'm in if Block\n",
      "i'm neither in the if-block, nor in the else-block\n"
     ]
    }
   ],
   "source": [
    "#Example 2:\n",
    "a = 5\n",
    "b = 10\n",
    "if (a < b):\n",
    "    print('b is greater than a.')\n",
    "    print (\"i'm in if Block\")\n",
    "\n",
    "else:\n",
    "    print('a is smaller than b.')\n",
    "    print (\"i'm in else Block\")\n",
    "\n",
    "print (\"i'm neither in the if-block, nor in the else-block\")"
   ]
  },
  {
   "cell_type": "markdown",
   "id": "c42be9c2",
   "metadata": {
    "id": "c42be9c2"
   },
   "source": [
    "# **c. Python Ternary Opertor**\n",
    "\n",
    "1.   List item\n",
    "2.   List item\n",
    "\n",
    "\n",
    "- The Python ternary operator is a type of conditional expression that evaluates a statement.\n",
    "- This is different from the `if..else` structure mentioned above, because it is not a control structure that directs the flow of program execution. It rather acts more like an operator that defines an expression.\n",
    "```\n",
    "rv = <expr1> if <condition> else <expr2>\n",
    "```"
   ]
  },
  {
   "cell_type": "code",
   "execution_count": 26,
   "id": "09b6ffdd",
   "metadata": {
    "colab": {
     "base_uri": "https://localhost:8080/"
    },
    "id": "09b6ffdd",
    "outputId": "875cd699-8ada-46b0-f541-5f87403ac01a"
   },
   "outputs": [
    {
     "name": "stdout",
     "output_type": "stream",
     "text": [
      "Enter a number : 3\n"
     ]
    }
   ],
   "source": [
    "number = int(input(\"Enter a number : \"))"
   ]
  },
  {
   "cell_type": "code",
   "execution_count": 27,
   "id": "81057bea",
   "metadata": {
    "colab": {
     "base_uri": "https://localhost:8080/"
    },
    "id": "81057bea",
    "outputId": "9038e187-10af-450f-bc8c-a6dfd266f963"
   },
   "outputs": [
    {
     "name": "stdout",
     "output_type": "stream",
     "text": [
      "Number is Odd!\n"
     ]
    }
   ],
   "source": [
    "a = \"Number is even!\" if number%2==0 else \"Number is Odd!\"\n",
    "print(a)"
   ]
  },
  {
   "cell_type": "code",
   "execution_count": 28,
   "id": "9df530a4",
   "metadata": {
    "colab": {
     "base_uri": "https://localhost:8080/",
     "height": 36
    },
    "id": "9df530a4",
    "outputId": "9378c8f1-0e2e-4fd1-dffc-f57c8443e779"
   },
   "outputs": [
    {
     "data": {
      "application/vnd.google.colaboratory.intrinsic+json": {
       "type": "string"
      },
      "text/plain": [
       "'adult'"
      ]
     },
     "execution_count": 28,
     "metadata": {},
     "output_type": "execute_result"
    }
   ],
   "source": [
    "# Example 1: Let us assign a specific value to variable rv (adult or child), depending on a condition\n",
    "age = 19\n",
    "rv = 'adult' if age>= 18 else 'child'\n",
    "rv"
   ]
  },
  {
   "cell_type": "code",
   "execution_count": 29,
   "id": "a378d4b2",
   "metadata": {
    "colab": {
     "base_uri": "https://localhost:8080/"
    },
    "id": "a378d4b2",
    "outputId": "c8982ff6-dc1a-46b2-c757-41cb6976f4bd"
   },
   "outputs": [
    {
     "name": "stdout",
     "output_type": "stream",
     "text": [
      "The number 5 is odd.\n"
     ]
    }
   ],
   "source": [
    "# Example 2: Let us assign a specific value to variable parity (even or odd), depending on a condition\n",
    "a_number = 5\n",
    "\n",
    "parity = 'even' if a_number % 2 == 0 else 'odd'\n",
    "\n",
    "# print('The number {} is {}.'.format(a_number, parity))\n",
    "\n",
    "print(f'The number {a_number} is {parity}.')"
   ]
  },
  {
   "cell_type": "markdown",
   "id": "029e6291",
   "metadata": {
    "id": "029e6291"
   },
   "source": [
    "# **d. Nested `if...else` Statement**\n",
    "Python allows us to nest `if` statements within `if` statements. i.e, we can place an if statement inside another if statement.\n"
   ]
  },
  {
   "cell_type": "markdown",
   "id": "29d45c29",
   "metadata": {
    "id": "29d45c29"
   },
   "source": [
    "> The `input()` function allows a user to insert a value into a program. It returns a string value, which can be casted to any data type as per the requirement."
   ]
  },
  {
   "cell_type": "code",
   "execution_count": 30,
   "id": "fbb5681e",
   "metadata": {
    "colab": {
     "base_uri": "https://localhost:8080/"
    },
    "id": "fbb5681e",
    "outputId": "980f8646-cb52-4599-ff06-13228a353a3c"
   },
   "outputs": [
    {
     "name": "stdout",
     "output_type": "stream",
     "text": [
      "Enter your age : 21\n"
     ]
    }
   ],
   "source": [
    "age = input(\"Enter your age : \")\n",
    "\n",
    "age = int(age)"
   ]
  },
  {
   "cell_type": "code",
   "execution_count": 31,
   "id": "4d1982df",
   "metadata": {
    "colab": {
     "base_uri": "https://localhost:8080/"
    },
    "id": "4d1982df",
    "outputId": "a80d2806-55b1-44d3-c331-b863f96ff1bc"
   },
   "outputs": [
    {
     "name": "stdout",
     "output_type": "stream",
     "text": [
      "Do you have CNIC ? Y/N : Y\n",
      "Welcome , you can vote!\n",
      "Done!\n"
     ]
    }
   ],
   "source": [
    "if age>=18:\n",
    "    rv = input(\"Do you have CNIC ? Y/N : \")\n",
    "    if (rv=='Y') or (rv=='y'):\n",
    "        print(\"Welcome , you can vote!\")\n",
    "    else:\n",
    "        print(\"You can vote until a CNIC!\")\n",
    "else:\n",
    "    print(\"You are too young for Vote!\")\n",
    "\n",
    "print(\"Done!\")"
   ]
  },
  {
   "cell_type": "code",
   "execution_count": 33,
   "id": "5a9faf7f",
   "metadata": {
    "colab": {
     "base_uri": "https://localhost:8080/"
    },
    "id": "5a9faf7f",
    "outputId": "73bac6d3-fdd7-45ce-c37a-d60b6b581e2f"
   },
   "outputs": [
    {
     "name": "stdout",
     "output_type": "stream",
     "text": [
      "Please enter your age: 17\n",
      "You are too young to vote\n"
     ]
    }
   ],
   "source": [
    " # Example:\n",
    "age = float(input(\"Please enter your age: \"))\n",
    "\n",
    "if (age >= 18):\n",
    "    rv = input(\"Do you have National ID card? Y/N: \")\n",
    "    if ((rv == 'Y') or (rv == 'y')):\n",
    "        print(\"Welcome, you can vote\")\n",
    "    else:\n",
    "        print(\"Since you donot have CNIC, so you cannot vote.\")\n",
    "else:\n",
    "    print(\"You are too young to vote\")"
   ]
  },
  {
   "cell_type": "markdown",
   "id": "0e3a37bb",
   "metadata": {
    "id": "0e3a37bb"
   },
   "source": [
    "> Nested `if`, `else` statements are often confusing to read and prone to human error. It's good to avoid nesting whenever possible, or limit the nesting to 1 or 2 levels."
   ]
  },
  {
   "cell_type": "markdown",
   "id": "5e1ebc20",
   "metadata": {
    "id": "5e1ebc20"
   },
   "source": [
    "\n",
    "\n",
    "# **e. Ladder of `if`...`elif`...`else` Statements**\n",
    "\n",
    "- Python also provides an `elif` statement (short for \"else if\") to chain a series of conditional blocks.\n",
    "- The conditions are evaluated one by one from top to bottom.\n",
    "- For the first condition that evaluates to `True`, its associated block of statements is executed.\n",
    "- The remaining conditions and statements are not evaluated at all.\n",
    "- So, in an `if`, `elif`, `elif`... chain, at most one block of statements is executed, the one corresponding to the first condition that evaluates to `True`."
   ]
  },
  {
   "cell_type": "code",
   "execution_count": 36,
   "id": "11c0c83b",
   "metadata": {
    "colab": {
     "base_uri": "https://localhost:8080/"
    },
    "id": "11c0c83b",
    "outputId": "740c7c3a-dd13-4758-d049-575113459991"
   },
   "outputs": [
    {
     "name": "stdout",
     "output_type": "stream",
     "text": [
      "Enter your subject marks: 88\n"
     ]
    }
   ],
   "source": [
    "# Example 1:\n",
    "y = input(\"Enter your subject marks: \")\n",
    "\n",
    "# by default the type is string, so we need to convert the type first\n",
    "\n",
    "y = int(y)"
   ]
  },
  {
   "cell_type": "code",
   "execution_count": 37,
   "id": "5b7deacb",
   "metadata": {
    "colab": {
     "base_uri": "https://localhost:8080/"
    },
    "id": "5b7deacb",
    "outputId": "455f9d81-7aee-4765-e75f-9bf85c8cebe6"
   },
   "outputs": [
    {
     "name": "stdout",
     "output_type": "stream",
     "text": [
      "Letter Grade A\n"
     ]
    }
   ],
   "source": [
    "if  (y >= 85):\n",
    "    print(\"Letter Grade A\")\n",
    "\n",
    "elif((y >= 80) and (y<85)):\n",
    "    print(\"Letter Grade A-\")\n",
    "\n",
    "elif((y >= 77) and (y<80)):\n",
    "    print(\"Letter Grade B+\")\n",
    "\n",
    "elif((y >= 73) and (y<77)):\n",
    "    print(\"Letter Grade B\")\n",
    "\n",
    "else:\n",
    "    print(\"Bad Grade\")"
   ]
  },
  {
   "cell_type": "code",
   "execution_count": 38,
   "id": "476d5ee8",
   "metadata": {
    "colab": {
     "base_uri": "https://localhost:8080/"
    },
    "id": "476d5ee8",
    "outputId": "27ed9382-f52d-493a-8cd1-dd742b1109b6"
   },
   "outputs": [
    {
     "name": "stdout",
     "output_type": "stream",
     "text": [
      "15 is divisible by 3\n"
     ]
    }
   ],
   "source": [
    "# Example 2: Remember in an if-elif ladder at most one block of statements is executed\n",
    "a_number = 15\n",
    "\n",
    "if (a_number % 2 == 0):\n",
    "    print('{} is divisible by 2'.format(a_number))\n",
    "\n",
    "elif a_number % 3 == 0:\n",
    "    print('{} is divisible by 3'.format(a_number))\n",
    "\n",
    "elif a_number % 5 == 0:\n",
    "    print('{} is divisible by 5'.format(a_number))\n",
    "\n",
    "elif a_number % 7 == 0:\n",
    "    print('{} is divisible by 7'.format(a_number))"
   ]
  },
  {
   "cell_type": "markdown",
   "id": "a27f3521",
   "metadata": {
    "id": "a27f3521"
   },
   "source": [
    ">- Note that the message `15 is divisible by 5` is not printed because the condition `a_number % 5 == 0` isn't evaluated, since the previous condition `a_number % 3 == 0` evaluates to `True`.\n",
    ">- This is the key difference between using a chain of `if`, `elif`, `elif`... statements vs. a chain of `if` statements, where each condition is evaluated independently.\n",
    ">- This is shown below"
   ]
  },
  {
   "cell_type": "code",
   "execution_count": 39,
   "id": "835ccec2",
   "metadata": {
    "colab": {
     "base_uri": "https://localhost:8080/"
    },
    "id": "835ccec2",
    "outputId": "32fad169-0c8d-4854-ef52-0ba6d90035ad"
   },
   "outputs": [
    {
     "name": "stdout",
     "output_type": "stream",
     "text": [
      "15 is divisible by 3\n",
      "15 is divisible by 5\n"
     ]
    }
   ],
   "source": [
    "# Example 3:\n",
    "a_number = 15\n",
    "if a_number % 2 == 0:\n",
    "    print('{} is divisible by 2'.format(a_number))\n",
    "\n",
    "if a_number % 3 == 0:\n",
    "    print('{} is divisible by 3'.format(a_number))\n",
    "\n",
    "if a_number % 5 == 0:\n",
    "    print('{} is divisible by 5'.format(a_number))\n",
    "\n",
    "if a_number % 7 == 0:\n",
    "    print('{} is divisible by 7'.format(a_number))"
   ]
  },
  {
   "cell_type": "code",
   "execution_count": 40,
   "id": "6d11c2f1",
   "metadata": {
    "colab": {
     "base_uri": "https://localhost:8080/"
    },
    "id": "6d11c2f1",
    "outputId": "982b9b93-abeb-41c6-ba76-84124c160309"
   },
   "outputs": [
    {
     "name": "stdout",
     "output_type": "stream",
     "text": [
      "All checks failed!\n",
      "73 is not divisible by 2, 3 or 5\n"
     ]
    }
   ],
   "source": [
    "# Example 4: You can also include an `else` statement at the end of a chain of `if`, `elif`... statements.\n",
    "# This code within the `else` block is evaluated, when none of the conditions hold true.\n",
    "\n",
    "a_number = 73\n",
    "\n",
    "if a_number % 2 == 0:\n",
    "    print('{} is divisible by 2'.format(a_number))\n",
    "\n",
    "elif a_number % 3 == 0:\n",
    "    print('{} is divisible by 3'.format(a_number))\n",
    "\n",
    "elif a_number % 5 == 0:\n",
    "    print('{} is divisible by 5'.format(a_number))\n",
    "\n",
    "else:\n",
    "    print('All checks failed!')\n",
    "    print('{} is not divisible by 2, 3 or 5'.format(a_number))"
   ]
  },
  {
   "cell_type": "code",
   "execution_count": 41,
   "id": "106a9f37",
   "metadata": {
    "colab": {
     "base_uri": "https://localhost:8080/"
    },
    "id": "106a9f37",
    "outputId": "7f0fa079-28ac-45aa-ad65-60affd9a47b5"
   },
   "outputs": [
    {
     "data": {
      "text/plain": [
       "True"
      ]
     },
     "execution_count": 41,
     "metadata": {},
     "output_type": "execute_result"
    }
   ],
   "source": [
    "# True and False\n",
    "not False"
   ]
  },
  {
   "cell_type": "code",
   "execution_count": 43,
   "id": "10b0fbff",
   "metadata": {
    "colab": {
     "base_uri": "https://localhost:8080/"
    },
    "id": "10b0fbff",
    "outputId": "94abe539-c678-41d8-9f60-f3d0e22efed6"
   },
   "outputs": [
    {
     "name": "stdout",
     "output_type": "stream",
     "text": [
      "The number 12 is not divisible by 5\n"
     ]
    }
   ],
   "source": [
    "# Example 5: Conditions can also be combined using the logical operators `and`, `or` and `not`.\n",
    "a_number = 12\n",
    "\n",
    "if a_number % 3 == 0 and a_number % 5 == 0:\n",
    "    print(\"The number {} is divisible by 3 and 5\".format(a_number))\n",
    "\n",
    "elif not a_number % 5 == 0:\n",
    "    print(\"The number {} is not divisible by 5\".format(a_number))"
   ]
  },
  {
   "cell_type": "markdown",
   "id": "5aa7fd27",
   "metadata": {
    "id": "5aa7fd27"
   },
   "source": [
    "## **3. The `pass` statement (Do nothing)**\n",
    "The `pass` statement is generally used as a placeholder i.e. when the user does not know what code to write. So user simply places pass at that line. So user can simply place pass where empty code is not allowed, like in loops, function definitions, class definitions, or in if statements."
   ]
  },
  {
   "cell_type": "code",
   "execution_count": 44,
   "id": "21fb029f",
   "metadata": {
    "colab": {
     "base_uri": "https://localhost:8080/"
    },
    "id": "21fb029f",
    "outputId": "b1e48abb-5782-4e91-c62f-f441b717230a"
   },
   "outputs": [
    {
     "name": "stdout",
     "output_type": "stream",
     "text": [
      "The \"pass\" statement\n",
      "********************\n",
      "\n",
      "   pass_stmt ::= \"pass\"\n",
      "\n",
      "\"pass\" is a null operation — when it is executed, nothing happens. It\n",
      "is useful as a placeholder when a statement is required syntactically,\n",
      "but no code needs to be executed, for example:\n",
      "\n",
      "   def f(arg): pass    # a function that does nothing (yet)\n",
      "\n",
      "   class C: pass       # a class with no methods (yet)\n",
      "\n"
     ]
    }
   ],
   "source": [
    "help('pass')"
   ]
  },
  {
   "cell_type": "code",
   "execution_count": 45,
   "id": "3a631e5c",
   "metadata": {
    "colab": {
     "base_uri": "https://localhost:8080/"
    },
    "id": "3a631e5c",
    "outputId": "3db88a68-1d9f-4b4d-dc9a-88a718e802da"
   },
   "outputs": [
    {
     "name": "stdout",
     "output_type": "stream",
     "text": [
      "I will place code when the condition is true, later :)\n"
     ]
    }
   ],
   "source": [
    "# A simple example of pass:\n",
    "x = 6\n",
    "\n",
    "if x < 0:\n",
    "    pass\n",
    "\n",
    "\n",
    "print(\"I will place code when the condition is true, later :)\")"
   ]
  },
  {
   "cell_type": "code",
   "execution_count": 46,
   "id": "8c58ef44",
   "metadata": {
    "id": "8c58ef44"
   },
   "outputs": [],
   "source": [
    "def func():\n",
    "    pass"
   ]
  },
  {
   "cell_type": "markdown",
   "id": "57782dfd",
   "metadata": {
    "id": "57782dfd"
   },
   "source": [
    "## **Check your Concepts**\n",
    "\n",
    "Try answering the following questions to test your understanding of the topics covered in this notebook:\n",
    "\n",
    "1. What is branching in programming languages?\n",
    "2. What is the purpose of the `if` statement in Python?\n",
    "3. What is the syntax of the `if` statement? Give an example.\n",
    "4. What is indentation? Why is it used?\n",
    "5. What is an indented block of statements?\n",
    "6. How do you perform indentation in Python?\n",
    "7. What happens if some code is not indented correctly?\n",
    "8. What happens when the condition within the `if` statement evaluates to `True`? What happens if the condition evaluates for `false`?\n",
    "9. How do you check if a number is even?\n",
    "10. What is the purpose of the `else` statement in Python?\n",
    "11. What is the syntax of the `else` statement? Give an example.\n",
    "12. Write a program that prints different messages based on whether a number is positive or negative.\n",
    "13. Can the `else` statement be used without an `if` statement?\n",
    "14. What is the purpose of the `elif` statement in Python?\n",
    "15. What is the syntax of the `elif` statement? Give an example.\n",
    "16. Write a program that prints different messages for different months of the year.\n",
    "17. Write a program that uses `if`, `elif`, and `else` statements together.\n",
    "18. Can the `elif` statement be used without an `if` statement?\n",
    "19. Can the `elif` statement be used without an `else` statement?\n",
    "20. What is the difference between a chain of `if`, `elif`, `elif`… statements and a chain of `if`, `if`, `if`… statements? Give an example.\n",
    "21. Can non-boolean conditions be used with `if` statements? Give some examples.\n",
    "22. What are nested conditional statements? How are they useful?\n",
    "23. Give an example of nested conditional statements.\n",
    "24. Why is it advisable to avoid nested conditional statements?\n",
    "25. What is the shorthand `if` conditional expression?\n",
    "26. What is the syntax of the shorthand `if` conditional expression? Give an example.\n",
    "27. What is the difference between the shorthand `if` expression and the regular `if` statement?\n",
    "28. What is a statement in Python?\n",
    "29. What is an expression in Python?\n",
    "30. What is the difference between statements and expressions?\n",
    "31. Is every statement an expression? Give an example or counterexample.\n",
    "32. Is every expression a statement? Give an example or counterexample.\n",
    "33. What is the purpose of the pass statement in `if` blocks?\n",
    "34. Python does not have a switch or case statement. To get around this fact, one can use dictionary mapping. Try to implement code for this task.\n",
    "35. Write an if statement that assigns 0 to x if y is equal to 20.\n",
    "36. Write an if statement that assigns 0.2 to commissionRate if sales is greater thanor equal to 10000.\n",
    "37.  Write an if statement that assigns 20 to the variable y and assigns 40 to the variable z if the variable x is greater than 100.\n",
    "38. How do you test that a string userInput is the empty string?\n",
    "39. Suppose x and y are variables, each of which contains a number. Write a code frag\u0002ment that sets y to x if x is positive and to 0 otherwise."
   ]
  },
  {
   "cell_type": "code",
   "execution_count": null,
   "id": "af6706e2",
   "metadata": {
    "id": "af6706e2"
   },
   "outputs": [],
   "source": []
  }
 ],
 "metadata": {
  "colab": {
   "provenance": []
  },
  "kernelspec": {
   "display_name": "Python 3 (ipykernel)",
   "language": "python",
   "name": "python3"
  },
  "language_info": {
   "codemirror_mode": {
    "name": "ipython",
    "version": 3
   },
   "file_extension": ".py",
   "mimetype": "text/x-python",
   "name": "python",
   "nbconvert_exporter": "python",
   "pygments_lexer": "ipython3",
   "version": "3.11.3"
  }
 },
 "nbformat": 4,
 "nbformat_minor": 5
}
