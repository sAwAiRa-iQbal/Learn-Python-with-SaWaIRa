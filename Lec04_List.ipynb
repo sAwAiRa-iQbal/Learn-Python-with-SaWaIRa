{
 "cells": [
  {
   "cell_type": "markdown",
   "id": "f58bcb9f",
   "metadata": {},
   "source": [
    "<h1 align=center style=\"color:red;\"> List DataType in Python </h1>"
   ]
  },
  {
   "cell_type": "markdown",
   "id": "burning-exclusion",
   "metadata": {},
   "source": [
    " \n",
    "Lists in Python however, tend to be more flexible than arrays in other languages for a two good reasons: \n",
    "\n",
    "- They have no fixed size (meaning we don't have to specify how big a list will be).\n",
    "- They have no fixed type constraint."
   ]
  },
  {
   "cell_type": "markdown",
   "id": "blocked-pension",
   "metadata": {},
   "source": [
    "> **A List is a numerically ordered sequence of elements that can store elements of heterogeneous types, is iterable, mutable and allows duplicate elements.**"
   ]
  },
  {
   "cell_type": "markdown",
   "id": "serial-locking",
   "metadata": {},
   "source": [
    "## Learning agenda of this notebook\n",
    "* **Data Structures** are a particular way of organizing data in computer. A clever way of laying out your data to make sure the data does what you want it to do. Most of the variables types that we have studied so far (numbers and strings) have one value in them, when we put a new value in them the old value is overwritten.\n",
    "* **Collections** allows us to put many values in a single variable. Lists, Sets, Tuples, and Dictionaries are some types of Python collections\n",
    "* **Sequences** are collections of objects, however, each object in a sequence is assigned an index and the items of a sequence can be manipulated using its respective index. List and Tuples fall into this category.\n",
    "* Today we are going to talk about **Python Lists**, which is a collection of arbitrary objects, somewhat akin to an array in many other programming languages, but more flexible. Unlike strings, Lists are mutable, meaning the elements inside a list can be changed.\n",
    "\n",
    "1. How to create lists?\n",
    "2. Proof of concepts: Lists are heterogeneous, ordered, mutable, nested, and allow duplicate elements\n",
    "3. Different ways to access list elements\n",
    "4. Slicing Lists\n",
    "5. List concatenation and repetition\n",
    "6. Modifying/Adding elements to a List using `append()`, `extend()`, and `insert()` methods\n",
    "7. Removing elements from a list using `pop()` and `remove()` methods\n",
    "8. Converting string object to list and vice-versa (using type casting, `split()` and `join()`)\n",
    "9. Aliasing vs Shallow Copy vs Deep Copy\n",
    "10. Sorting a list and Custom sorting\n",
    "11. Misc Concepts"
   ]
  },
  {
   "cell_type": "code",
   "execution_count": null,
   "id": "parental-lloyd",
   "metadata": {},
   "outputs": [],
   "source": [
    "help(list)"
   ]
  },
  {
   "cell_type": "markdown",
   "id": "statistical-bishop",
   "metadata": {},
   "source": [
    "## 1. How to Create Lists?\n",
    ">- **A Python List is a numerically ordered sequence of elements that can store multiple items of heterogeneous types and allows duplicate elements.**\n",
    ">- **A Python List can be created by placing comma separated values in square brackets.**"
   ]
  },
  {
   "cell_type": "code",
   "execution_count": 1,
   "id": "abroad-annotation",
   "metadata": {},
   "outputs": [
    {
     "name": "stdout",
     "output_type": "stream",
     "text": [
      "[1, 2, 3, 4, 5]\n"
     ]
    }
   ],
   "source": [
    "# It allows us to store elements of different data types (number, boolean, string, list) in one container.\n",
    "\n",
    "list1 = [1,2,3,4,5]   #list of integers\n",
    "print(list1)"
   ]
  },
  {
   "cell_type": "code",
   "execution_count": 2,
   "id": "19cf1ba7",
   "metadata": {},
   "outputs": [
    {
     "name": "stdout",
     "output_type": "stream",
     "text": [
      "[3.7, 6.5, 3.8, 7.95]\n"
     ]
    }
   ],
   "source": [
    "list2 = [3.7, 6.5, 3.8, 7.95 ]   #list of floats\n",
    "print(list2)"
   ]
  },
  {
   "cell_type": "code",
   "execution_count": 3,
   "id": "b2bef6e6",
   "metadata": {},
   "outputs": [
    {
     "name": "stdout",
     "output_type": "stream",
     "text": [
      "['hello', 'this', 'F', 'good show']\n",
      "[True, False, True]\n",
      "[]\n"
     ]
    }
   ],
   "source": [
    "list3 = [\"hello\", \"this\", \"F\", \"good show\"]   #list of strings\n",
    "print(list3)\n",
    "\n",
    "list4 = [True, False, True]   #list of boolean\n",
    "print(list4)\n",
    "\n",
    "list5 = []   #this will create an empty list\n",
    "print(list5)\n"
   ]
  },
  {
   "cell_type": "code",
   "execution_count": 4,
   "id": "9ca86044",
   "metadata": {},
   "outputs": [
    {
     "name": "stdout",
     "output_type": "stream",
     "text": [
      "<class 'list'>\n"
     ]
    }
   ],
   "source": [
    "print(type(list5))"
   ]
  },
  {
   "cell_type": "code",
   "execution_count": 5,
   "id": "f7f3649e",
   "metadata": {},
   "outputs": [
    {
     "data": {
      "text/plain": [
       "[]"
      ]
     },
     "execution_count": 5,
     "metadata": {},
     "output_type": "execute_result"
    }
   ],
   "source": [
    "# another method to create a list\n",
    "var = list()\n",
    "var"
   ]
  },
  {
   "cell_type": "markdown",
   "id": "bearing-chemical",
   "metadata": {},
   "source": [
    "# > **List inside list is called nested list**"
   ]
  },
  {
   "cell_type": "code",
   "execution_count": 6,
   "id": "lyric-microwave",
   "metadata": {},
   "outputs": [
    {
     "name": "stdout",
     "output_type": "stream",
     "text": [
      "4\n"
     ]
    },
    {
     "data": {
      "text/plain": [
       "'Sawaira'"
      ]
     },
     "execution_count": 6,
     "metadata": {},
     "output_type": "execute_result"
    }
   ],
   "source": [
    "# Nested list: lists can also have another list as an item\n",
    "list1 = [\"Sawaira\", 30, 5.5, [10,[\"Ahmed\",\"Noor\"],'ali']]\n",
    "print(len(list1))\n",
    "list1[0]"
   ]
  },
  {
   "cell_type": "code",
   "execution_count": 7,
   "id": "8b49408e",
   "metadata": {},
   "outputs": [
    {
     "data": {
      "text/plain": [
       "30"
      ]
     },
     "execution_count": 7,
     "metadata": {},
     "output_type": "execute_result"
    }
   ],
   "source": [
    "list1[1]"
   ]
  },
  {
   "cell_type": "code",
   "execution_count": 8,
   "id": "194f34fb",
   "metadata": {},
   "outputs": [
    {
     "data": {
      "text/plain": [
       "5.5"
      ]
     },
     "execution_count": 8,
     "metadata": {},
     "output_type": "execute_result"
    }
   ],
   "source": [
    "list1[2]"
   ]
  },
  {
   "cell_type": "code",
   "execution_count": 9,
   "id": "4c5cd738",
   "metadata": {},
   "outputs": [
    {
     "data": {
      "text/plain": [
       "[10, ['Ahmed', 'Noor'], 'ali']"
      ]
     },
     "execution_count": 9,
     "metadata": {},
     "output_type": "execute_result"
    }
   ],
   "source": [
    "list1[3]"
   ]
  },
  {
   "cell_type": "code",
   "execution_count": null,
   "id": "czech-fluid",
   "metadata": {},
   "outputs": [],
   "source": [
    "# we can create empty list\n",
    "empty_list = []\n",
    "print (empty_list)"
   ]
  },
  {
   "cell_type": "code",
   "execution_count": null,
   "id": "07decc81",
   "metadata": {},
   "outputs": [],
   "source": []
  },
  {
   "cell_type": "markdown",
   "id": "plastic-blues",
   "metadata": {},
   "source": [
    "# > **printing multiple lists using single print() function**"
   ]
  },
  {
   "cell_type": "code",
   "execution_count": 10,
   "id": "ethical-grill",
   "metadata": {},
   "outputs": [
    {
     "name": "stdout",
     "output_type": "stream",
     "text": [
      "[1, 2, 3, 4, 5]\n",
      "['Sawaira', 30, 5.5, [10, 'ali']]\n",
      "[]\n"
     ]
    }
   ],
   "source": [
    "#printing multiple lists\n",
    "list1 = [1,2,3,4,5]\n",
    "\n",
    "\n",
    "list2 = [\"Sawaira\", 30, 5.5, [10,'ali']]\n",
    "\n",
    "empty_list = []\n",
    "\n",
    "print(list1, list2, empty_list,sep=\"\\n\")"
   ]
  },
  {
   "cell_type": "markdown",
   "id": "prospective-electronics",
   "metadata": {},
   "source": [
    "## 2. Proof of concepts"
   ]
  },
  {
   "cell_type": "markdown",
   "id": "golden-policy",
   "metadata": {},
   "source": [
    "# a. Lists are heterogeneous\n",
    "- Lists are heterogeneous, as their elements/items can be of any data type"
   ]
  },
  {
   "cell_type": "code",
   "execution_count": 11,
   "id": "governing-junction",
   "metadata": {},
   "outputs": [
    {
     "name": "stdout",
     "output_type": "stream",
     "text": [
      "list1:  ['Sawaira', 30, 5.5]\n"
     ]
    }
   ],
   "source": [
    "list1 = [\"Sawaira\", 30, 5.5]\n",
    "print(\"list1: \", list1)"
   ]
  },
  {
   "cell_type": "markdown",
   "id": "excessive-router",
   "metadata": {},
   "source": [
    "# b. Lists are ordered\n",
    "- Lists are ordered means every element is associated by an index\n",
    "- Every time you access list elements they will show up in same sequence. \n",
    "- Moreover, two lists having same elements in different order are not same."
   ]
  },
  {
   "cell_type": "code",
   "execution_count": 12,
   "id": "uniform-tribe",
   "metadata": {},
   "outputs": [
    {
     "data": {
      "text/plain": [
       "(140732528321608, 140732528321608)"
      ]
     },
     "execution_count": 12,
     "metadata": {},
     "output_type": "execute_result"
    }
   ],
   "source": [
    "x = 10\n",
    "y = 10\n",
    "id(x), id(y)"
   ]
  },
  {
   "cell_type": "code",
   "execution_count": 13,
   "id": "turned-parliament",
   "metadata": {},
   "outputs": [
    {
     "name": "stdout",
     "output_type": "stream",
     "text": [
      "2337548471296 2337548668992\n"
     ]
    }
   ],
   "source": [
    "x = [1, 2, 3]\n",
    "y = [1, 2, 3]\n",
    "\n",
    "\n",
    "print(id(x), id(y)) \n"
   ]
  },
  {
   "cell_type": "code",
   "execution_count": 14,
   "id": "c70942a5",
   "metadata": {},
   "outputs": [
    {
     "name": "stdout",
     "output_type": "stream",
     "text": [
      "False\n",
      "True\n"
     ]
    }
   ],
   "source": [
    "print(x is y)\n",
    "print(x == y)"
   ]
  },
  {
   "cell_type": "code",
   "execution_count": 15,
   "id": "enhanced-pharmaceutical",
   "metadata": {},
   "outputs": [
    {
     "name": "stdout",
     "output_type": "stream",
     "text": [
      "2337548632000\n",
      "2337548671616\n",
      "False\n",
      "False\n"
     ]
    }
   ],
   "source": [
    "a = [1, 2, 3]\n",
    "b = [2, 3, 1]\n",
    "\n",
    "\n",
    "print(id(a), id(b), a is b, a == b, sep=\"\\n\")"
   ]
  },
  {
   "cell_type": "markdown",
   "id": "naughty-headquarters",
   "metadata": {},
   "source": [
    "# c. Lists are mutable\n",
    "- We have seen in previous session that Strings are **immutable**, i.e., we cannot change the contents of a string, however, we can assign an entirely new string to a variable\n",
    "- List on the contrary are **mutable**, i.e., once a List object is created, you can change an element of the list using the index `[]` and assignment `=' operator"
   ]
  },
  {
   "cell_type": "code",
   "execution_count": 16,
   "id": "assured-possibility",
   "metadata": {},
   "outputs": [
    {
     "data": {
      "text/plain": [
       "[10, 20, 30, 40, 50]"
      ]
     },
     "execution_count": 16,
     "metadata": {},
     "output_type": "execute_result"
    }
   ],
   "source": [
    "numbers = [10, 20, 30, 40, 50]\n",
    "\n",
    "numbers"
   ]
  },
  {
   "cell_type": "code",
   "execution_count": 17,
   "id": "2ce40732",
   "metadata": {},
   "outputs": [
    {
     "name": "stdout",
     "output_type": "stream",
     "text": [
      "numbers:  [10, 20, 555, 40, 50]\n"
     ]
    }
   ],
   "source": [
    "numbers[2] = 555\n",
    "\n",
    "print(\"numbers: \", numbers)"
   ]
  },
  {
   "cell_type": "markdown",
   "id": "cardiac-glasgow",
   "metadata": {},
   "source": [
    "# d. Lists can have duplicate emements"
   ]
  },
  {
   "cell_type": "code",
   "execution_count": 19,
   "id": "broken-future",
   "metadata": {},
   "outputs": [
    {
     "data": {
      "text/plain": [
       "['Sawaira', 'Ali', 'Ayesha', 'Husnain', 'Ahmed']"
      ]
     },
     "execution_count": 19,
     "metadata": {},
     "output_type": "execute_result"
    }
   ],
   "source": [
    "# lists allow duplicate elements\n",
    "names = ['Sawaira', 'Ali', 'Ayesha', 'Husnain', 'Ahmed']\n",
    "names"
   ]
  },
  {
   "cell_type": "code",
   "execution_count": 20,
   "id": "f9925619",
   "metadata": {},
   "outputs": [
    {
     "data": {
      "text/plain": [
       "{'Ahmed', 'Ali', 'Ayesha', 'Husnain', 'Sawaira'}"
      ]
     },
     "execution_count": 20,
     "metadata": {},
     "output_type": "execute_result"
    }
   ],
   "source": [
    "set1 = set(names)\n",
    "set1"
   ]
  },
  {
   "cell_type": "code",
   "execution_count": 21,
   "id": "f18b6528",
   "metadata": {},
   "outputs": [
    {
     "name": "stdout",
     "output_type": "stream",
     "text": [
      "['Sawaira', 'Ali', 'Ayesha', 'Husnain', 'Ahmed']\n",
      "{'Ayesha', 'Ahmed', 'Ali', 'Sawaira', 'Husnain'}\n"
     ]
    }
   ],
   "source": [
    "print(names)\n",
    "print(set1)"
   ]
  },
  {
   "cell_type": "markdown",
   "id": "transsexual-airplane",
   "metadata": {},
   "source": [
    "# e. Lists can be nested to arbitrary depth\n",
    "- You can have list within list and that can be done to an arbitrary depth. You are only restricted to the available memory on your system"
   ]
  },
  {
   "cell_type": "code",
   "execution_count": 22,
   "id": "coordinated-table",
   "metadata": {},
   "outputs": [
    {
     "name": "stdout",
     "output_type": "stream",
     "text": [
      "[1, 2, 3, [4, 5], [6, 7, 8, 9], 10, 11]\n"
     ]
    }
   ],
   "source": [
    "# A list having two sub-lists within it\n",
    "a = [1,2,3,[4,5],[6,7,8,9],10,11]\n",
    "print(a)\n"
   ]
  },
  {
   "cell_type": "code",
   "execution_count": 23,
   "id": "91a8125e",
   "metadata": {},
   "outputs": [
    {
     "name": "stdout",
     "output_type": "stream",
     "text": [
      "[1, 2, 3, [4, 5, [6, 7, 8, [9, 10, 11]]]] 4\n"
     ]
    }
   ],
   "source": [
    "# A list having a sublist, which is further having a sublist and that again having a sublist\n",
    "b = [1,2,3,[4,5,[6,7,8,[9,10,11]]]]\n",
    "# a, b\n",
    "print(b , len(b))"
   ]
  },
  {
   "cell_type": "markdown",
   "id": "reported-assignment",
   "metadata": {},
   "source": [
    "# f. Packing and Unpacking Lists"
   ]
  },
  {
   "cell_type": "code",
   "execution_count": 24,
   "id": "surprising-extra",
   "metadata": {},
   "outputs": [
    {
     "data": {
      "text/plain": [
       "['Learning', 'Python', 'for', 'Data', 'Science', 'with', 'Sawaira', 'iqbal']"
      ]
     },
     "execution_count": 24,
     "metadata": {},
     "output_type": "execute_result"
    }
   ],
   "source": [
    "# you can unpack list elements\n",
    "mylist = ['Learning', 'Python', 'for', 'Data', 'Science', 'with', 'Sawaira', 'iqbal']\n",
    "\n",
    "\n",
    "mylist"
   ]
  },
  {
   "cell_type": "code",
   "execution_count": 25,
   "id": "e0a6a535",
   "metadata": {},
   "outputs": [
    {
     "ename": "ValueError",
     "evalue": "too many values to unpack (expected 7)",
     "output_type": "error",
     "traceback": [
      "\u001b[1;31m---------------------------------------------------------------------------\u001b[0m",
      "\u001b[1;31mValueError\u001b[0m                                Traceback (most recent call last)",
      "Cell \u001b[1;32mIn[25], line 1\u001b[0m\n\u001b[1;32m----> 1\u001b[0m a, b, c, d, e, f, g \u001b[38;5;241m=\u001b[39m mylist \u001b[38;5;66;03m# the number of variables on the left must match the number of elements in the list\u001b[39;00m\n\u001b[0;32m      3\u001b[0m \u001b[38;5;28mprint\u001b[39m (a, b,c,d, e,f,g, sep\u001b[38;5;241m=\u001b[39m\u001b[38;5;124m\"\u001b[39m\u001b[38;5;130;01m\\n\u001b[39;00m\u001b[38;5;124m\"\u001b[39m)\n",
      "\u001b[1;31mValueError\u001b[0m: too many values to unpack (expected 7)"
     ]
    }
   ],
   "source": [
    "a, b, c, d, e, f, g = mylist # the number of variables on the left must match the number of elements in the list\n",
    "\n",
    "print (a, b,c,d, e,f,g, sep=\"\\n\")\n",
    "\n"
   ]
  },
  {
   "cell_type": "code",
   "execution_count": 26,
   "id": "c9bdea0d",
   "metadata": {},
   "outputs": [
    {
     "name": "stdout",
     "output_type": "stream",
     "text": [
      "<class 'list'>\n"
     ]
    }
   ],
   "source": [
    "print(type(a))"
   ]
  },
  {
   "cell_type": "markdown",
   "id": "champion-israel",
   "metadata": {},
   "source": [
    "## 3. Different ways to access elements of a list\n",
    "- Since Lists like Strings are of type sequence, and any element within a sequence can be accessed by entrying an index within square brackets. So naturally this must work for Lists as well strings.\n",
    "- Similarly, if we want to find out the index of a specific item/element, we can use the `index()` method of List class"
   ]
  },
  {
   "cell_type": "code",
   "execution_count": 34,
   "id": "hollywood-venice",
   "metadata": {},
   "outputs": [
    {
     "name": "stdout",
     "output_type": "stream",
     "text": [
      "[10, 'ali']\n"
     ]
    }
   ],
   "source": [
    "#You can access elements of list using indexing which starts from zero\n",
    "list1 = [\"Sawaira\", 30, 5.5, [10,'ali']]\n",
    "print(list1[3])"
   ]
  },
  {
   "cell_type": "code",
   "execution_count": 35,
   "id": "6b7f291e",
   "metadata": {},
   "outputs": [
    {
     "name": "stdout",
     "output_type": "stream",
     "text": [
      "Sawaira\n",
      "w\n"
     ]
    }
   ],
   "source": [
    "#accessing Nested list element\n",
    "print(list1[0])\n",
    "print(list1[0][2])              #accessing third element of string at index 0\n"
   ]
  },
  {
   "cell_type": "code",
   "execution_count": 36,
   "id": "e0ca2be4",
   "metadata": {},
   "outputs": [
    {
     "name": "stdout",
     "output_type": "stream",
     "text": [
      "ali\n"
     ]
    }
   ],
   "source": [
    "print(list1[3][1])              #accessing second element of Nested list"
   ]
  },
  {
   "cell_type": "code",
   "execution_count": 37,
   "id": "earlier-career",
   "metadata": {},
   "outputs": [
    {
     "data": {
      "text/plain": [
       "['Sawaira', 30, 5.5, [10, 'ali']]"
      ]
     },
     "execution_count": 37,
     "metadata": {},
     "output_type": "execute_result"
    }
   ],
   "source": [
    "#Negative indexing starts looking at the list from the right hand side\n",
    "list1 = [\"Sawaira\", 30, 5.5, [10,'ali']]\n",
    "list1"
   ]
  },
  {
   "cell_type": "code",
   "execution_count": 38,
   "id": "404d8e4e",
   "metadata": {},
   "outputs": [
    {
     "name": "stdout",
     "output_type": "stream",
     "text": [
      "[10, 'ali']\n",
      "5.5\n"
     ]
    }
   ],
   "source": [
    "print(list1[-1])                #accessing last element\n",
    "print(list1[-2])                #accessing second last element"
   ]
  },
  {
   "cell_type": "code",
   "execution_count": 39,
   "id": "satisfactory-failure",
   "metadata": {},
   "outputs": [
    {
     "name": "stdout",
     "output_type": "stream",
     "text": [
      "Help on built-in function index:\n",
      "\n",
      "index(value, start=0, stop=9223372036854775807, /) method of builtins.list instance\n",
      "    Return first index of value.\n",
      "    \n",
      "    Raises ValueError if the value is not present.\n",
      "\n"
     ]
    }
   ],
   "source": [
    "help(list1.index)"
   ]
  },
  {
   "cell_type": "code",
   "execution_count": 40,
   "id": "ranking-animation",
   "metadata": {},
   "outputs": [],
   "source": [
    "# index(value) method is used when you know the list element and wants to get its index\n",
    "# index(value) method returns the index of the first matched item with its only argument\n",
    "mylist = [27, 4.5, 'Ehtisham', 64, 'ali', 19, 'Ehtisham']\n"
   ]
  },
  {
   "cell_type": "code",
   "execution_count": 41,
   "id": "0ccf6315",
   "metadata": {},
   "outputs": [
    {
     "name": "stdout",
     "output_type": "stream",
     "text": [
      "\n",
      "mylist:  [27, 4.5, 'Ehtisham', 64, 'ali', 19, 'Ehtisham']\n"
     ]
    }
   ],
   "source": [
    "print(\"\\nmylist: \", mylist)\n"
   ]
  },
  {
   "cell_type": "code",
   "execution_count": 43,
   "id": "00cb6943",
   "metadata": {},
   "outputs": [
    {
     "data": {
      "text/plain": [
       "4"
      ]
     },
     "execution_count": 43,
     "metadata": {},
     "output_type": "execute_result"
    }
   ],
   "source": [
    "mylist.index('ali')"
   ]
  },
  {
   "cell_type": "code",
   "execution_count": 44,
   "id": "883c5e7c",
   "metadata": {},
   "outputs": [
    {
     "data": {
      "text/plain": [
       "2"
      ]
     },
     "execution_count": 44,
     "metadata": {},
     "output_type": "execute_result"
    }
   ],
   "source": [
    "mylist.index(\"Ehtisham\")"
   ]
  },
  {
   "cell_type": "code",
   "execution_count": 45,
   "id": "3604c40c",
   "metadata": {},
   "outputs": [],
   "source": [
    "# mylist[2]"
   ]
  },
  {
   "cell_type": "markdown",
   "id": "ongoing-velvet",
   "metadata": {},
   "source": [
    "## 4. Slicing Lists\n",
    "- Like anyother sequence object we can perform slicing with lists as well.\n",
    "- Slicing is the process of obtaining a portion of a list by using its indices.\n",
    "- Given a list, we can use the following template to slice it and obtain a sublist:\n",
    "```\n",
    "mylist[start:end:step]\n",
    "```\n",
    "\n",
    "- **start** is the index from where we want the sublist to start. If start is not provided, slicing starts from the beginning.\n",
    "- **end** is the index where we want our sublist to end (not inclusive in the sublist). If end is not provided, slicing goes till the last element of the list.\n",
    "- **step** is the step through which we want to skip elements in the list. The default step is 1, so we iterate through every element of the list."
   ]
  },
  {
   "cell_type": "code",
   "execution_count": 46,
   "id": "dying-salem",
   "metadata": {},
   "outputs": [
    {
     "data": {
      "text/plain": [
       "['a', 'b', 'c', 'd', 'e', 'f', 'g', 'h', 'i']"
      ]
     },
     "execution_count": 46,
     "metadata": {},
     "output_type": "execute_result"
    }
   ],
   "source": [
    "list1 = ['a','b','c','d','e','f','g','h','i']\n",
    "list1"
   ]
  },
  {
   "cell_type": "code",
   "execution_count": 47,
   "id": "diverse-message",
   "metadata": {},
   "outputs": [
    {
     "data": {
      "text/plain": [
       "['a', 'b', 'c', 'd', 'e', 'f', 'g', 'h', 'i']"
      ]
     },
     "execution_count": 47,
     "metadata": {},
     "output_type": "execute_result"
    }
   ],
   "source": [
    "list1[::]"
   ]
  },
  {
   "cell_type": "code",
   "execution_count": 48,
   "id": "executive-august",
   "metadata": {},
   "outputs": [
    {
     "data": {
      "text/plain": [
       "['d', 'e', 'f', 'g', 'h', 'i']"
      ]
     },
     "execution_count": 48,
     "metadata": {},
     "output_type": "execute_result"
    }
   ],
   "source": [
    "list1[3:]"
   ]
  },
  {
   "cell_type": "code",
   "execution_count": 49,
   "id": "neutral-carbon",
   "metadata": {},
   "outputs": [
    {
     "data": {
      "text/plain": [
       "['a', 'b', 'c', 'd']"
      ]
     },
     "execution_count": 49,
     "metadata": {},
     "output_type": "execute_result"
    }
   ],
   "source": [
    "list1[:4]"
   ]
  },
  {
   "cell_type": "code",
   "execution_count": 50,
   "id": "behavioral-retail",
   "metadata": {},
   "outputs": [
    {
     "data": {
      "text/plain": [
       "['c', 'd', 'e']"
      ]
     },
     "execution_count": 50,
     "metadata": {},
     "output_type": "execute_result"
    }
   ],
   "source": [
    "list1[2:5]"
   ]
  },
  {
   "cell_type": "code",
   "execution_count": 51,
   "id": "viral-template",
   "metadata": {},
   "outputs": [
    {
     "data": {
      "text/plain": [
       "['a', 'b', 'c', 'd', 'e', 'f', 'g']"
      ]
     },
     "execution_count": 51,
     "metadata": {},
     "output_type": "execute_result"
    }
   ],
   "source": [
    "list1[:-2]"
   ]
  },
  {
   "cell_type": "code",
   "execution_count": 52,
   "id": "aboriginal-drink",
   "metadata": {},
   "outputs": [
    {
     "data": {
      "text/plain": [
       "'i'"
      ]
     },
     "execution_count": 52,
     "metadata": {},
     "output_type": "execute_result"
    }
   ],
   "source": [
    "list1[-1]"
   ]
  },
  {
   "cell_type": "code",
   "execution_count": 53,
   "id": "incorporate-crown",
   "metadata": {},
   "outputs": [
    {
     "name": "stdout",
     "output_type": "stream",
     "text": [
      "['a', 'b', 'c', 'd', 'e', 'f', 'g', 'h', 'i']\n",
      "['a', 'b', 'c', 'd', 'e', 'f', 'g', 'h', 'i']\n",
      "['a', 'c', 'e', 'g', 'i']\n",
      "['a', 'd', 'g']\n"
     ]
    }
   ],
   "source": [
    "# Slicing by using strides\n",
    "list1 = ['a','b','c','d','e','f','g','h','i']\n",
    "print(list1[::])  # A default step of 1\n",
    "print(list1[::1])  # A step of 1\n",
    "print(list1[::2])  # A step of 2\n",
    "print(list1[::3])  # A step of 3"
   ]
  },
  {
   "cell_type": "code",
   "execution_count": 54,
   "id": "interior-beaver",
   "metadata": {},
   "outputs": [
    {
     "name": "stdout",
     "output_type": "stream",
     "text": [
      "['i', 'h', 'g', 'f', 'e', 'd', 'c', 'b', 'a']\n"
     ]
    }
   ],
   "source": [
    "# Reverse slicing\n",
    "list1 = ['a','b','c','d','e','f','g','h','i']\n",
    "\n",
    "print(list1[::-1]) # Take 1 step back each time\n",
    "\n"
   ]
  },
  {
   "cell_type": "code",
   "execution_count": 55,
   "id": "cf30ce23",
   "metadata": {},
   "outputs": [
    {
     "name": "stdout",
     "output_type": "stream",
     "text": [
      "['f', 'e', 'd', 'c']\n"
     ]
    }
   ],
   "source": [
    "print(list1[5:1:-1]) # Take 1 step back each time\n",
    "# if start is less than end in case of a negative step, it will return empty string"
   ]
  },
  {
   "cell_type": "code",
   "execution_count": 56,
   "id": "f7574b09",
   "metadata": {},
   "outputs": [
    {
     "name": "stdout",
     "output_type": "stream",
     "text": [
      "[]\n"
     ]
    }
   ],
   "source": [
    "\n",
    "print(list1[2:10:-1])\n",
    "\n"
   ]
  },
  {
   "cell_type": "code",
   "execution_count": 57,
   "id": "f6248cdb",
   "metadata": {},
   "outputs": [
    {
     "name": "stdout",
     "output_type": "stream",
     "text": [
      "['i', 'g', 'e', 'c', 'a']\n"
     ]
    }
   ],
   "source": [
    "print(list1[::-2]) # Take 2 steps back"
   ]
  },
  {
   "cell_type": "code",
   "execution_count": 58,
   "id": "31f67520",
   "metadata": {},
   "outputs": [
    {
     "data": {
      "text/plain": [
       "9"
      ]
     },
     "execution_count": 58,
     "metadata": {},
     "output_type": "execute_result"
    }
   ],
   "source": [
    "len(list1)"
   ]
  },
  {
   "cell_type": "markdown",
   "id": "electoral-buffer",
   "metadata": {},
   "source": [
    "Here are some experiments you should try out:\n",
    "\n",
    "* Try setting one or both indices of the range are larger than the size of the list, e.g., `a_list[2:10]`\n",
    "* Try setting the start index of the range to be larger than the end index, e.g., `a_list[12:10]`\n",
    "* Try leaving out the start or end index of a range, e.g., `a_list[2:]` or `a_list[:5]`\n",
    "* Try using negative indices for the range, e.g., `a_list[-2:-5]` or `a_list[-5:-2]` (can you explain the results?)\n",
    "\n",
    "> The flexible and interactive nature of Jupyter notebooks makes them an excellent tool for learning and experimentation. If you are new to Python, you can resolve most questions as soon as they arise simply by typing the code into a cell and executing it. **Let your curiosity run wild, discover what Python is capable of and what it isn't!**"
   ]
  },
  {
   "cell_type": "markdown",
   "id": "legislative-latest",
   "metadata": {},
   "source": [
    "## 5. List Concatenation and Repetition"
   ]
  },
  {
   "cell_type": "markdown",
   "id": "competent-antibody",
   "metadata": {},
   "source": [
    "### a. Concatenating Lists\n",
    "- Like Strings, the `+` operator can be used to concatenate two or more lists"
   ]
  },
  {
   "cell_type": "code",
   "execution_count": 59,
   "id": "naked-guest",
   "metadata": {},
   "outputs": [
    {
     "name": "stdout",
     "output_type": "stream",
     "text": [
      "[1, 2, 3]\n",
      "[1, 2, 3, 4, 5]\n"
     ]
    }
   ],
   "source": [
    "# Add some elements to the end of an existing list using concatenation operator\n",
    "a = [1,2,3]\n",
    "b = a + [4,5]\n",
    "\n",
    "\n",
    "print(a)\n",
    "print(b)"
   ]
  },
  {
   "cell_type": "code",
   "execution_count": 60,
   "id": "5eb8d1b7",
   "metadata": {},
   "outputs": [
    {
     "name": "stdout",
     "output_type": "stream",
     "text": [
      "[1, 2, 3]\n",
      "[1, 2, 3, 4, 5]\n",
      "[0, 1, 2, 3, 4, 5]\n"
     ]
    }
   ],
   "source": [
    "# Add some elements to the beginning of an existing list using concatenation operator\n",
    "c = [0] + b\n",
    "print(a, b, c, sep=\"\\n\")"
   ]
  },
  {
   "cell_type": "code",
   "execution_count": 61,
   "id": "north-benefit",
   "metadata": {},
   "outputs": [
    {
     "name": "stdout",
     "output_type": "stream",
     "text": [
      "['fruits', 'bread', 'veggies', 'meat', 'spices', 'burger']\n"
     ]
    }
   ],
   "source": [
    "# use + operator to concatenate two lists\n",
    "\n",
    "food_items1 = ['fruits', 'bread', 'veggies'] \n",
    "food_items2 = ['meat', 'spices', 'burger']\n",
    "food = food_items1 + food_items2\n",
    "print(food)"
   ]
  },
  {
   "cell_type": "code",
   "execution_count": 62,
   "id": "wanted-claim",
   "metadata": {},
   "outputs": [
    {
     "name": "stdout",
     "output_type": "stream",
     "text": [
      "[5, 3.4, 'hello', 31, 9.7, 'bye']\n"
     ]
    }
   ],
   "source": [
    "# You can concatenate two heterogeneous lists\n",
    "list1 = [5, 3.4, 'hello']\n",
    "list2 = [31, 9.7, 'bye']\n",
    "list3 = list1 + list2\n",
    "print(list3)"
   ]
  },
  {
   "cell_type": "code",
   "execution_count": 63,
   "id": "sensitive-report",
   "metadata": {},
   "outputs": [
    {
     "name": "stdout",
     "output_type": "stream",
     "text": [
      "[1, 2, 3, 4, 5, 6, [7, 8]]\n"
     ]
    }
   ],
   "source": [
    "num1 = [1,2,3]\n",
    "num2 = num1 + [4, 5, 6, [7, 8]]\n",
    "print (num2)"
   ]
  },
  {
   "cell_type": "markdown",
   "id": "acceptable-commercial",
   "metadata": {},
   "source": [
    "# b. Replicating Lists\n",
    "- Like Strings, the `*` operator can be used to repeat or replicate a list multiple times"
   ]
  },
  {
   "cell_type": "code",
   "execution_count": 64,
   "id": "polish-stand",
   "metadata": {},
   "outputs": [
    {
     "name": "stdout",
     "output_type": "stream",
     "text": [
      "['Sawaira', 'Ali', 'Ahmed', 'Sawaira', 'Ali', 'Ahmed', 'Sawaira', 'Ali', 'Ahmed']\n"
     ]
    }
   ],
   "source": [
    "# use list * n syntax to create large lists by repeating the list n times\n",
    "name = ['Sawaira', 'Ali', 'Ahmed']\n",
    "a = name * 3\n",
    "print(a)"
   ]
  },
  {
   "cell_type": "code",
   "execution_count": 65,
   "id": "textile-senator",
   "metadata": {},
   "outputs": [
    {
     "name": "stdout",
     "output_type": "stream",
     "text": [
      "['A', 'A', 'A', 'A', 'A', 'A', 'A', 'A', 'A', 'A', 'A', 'A', 'A', 'A', 'A', 'A', 'A', 'A', 'A', 'A', 'A', 'A', 'A', 'A', 'A', 'A', 'A', 'A', 'A', 'A', 'A', 'A', 'A', 'A', 'A', 'A', 'A', 'A', 'A', 'A', 'A', 'A', 'A', 'A', 'A', 'A', 'A', 'A', 'A', 'A', 'A', 'A', 'A', 'A', 'A', 'A', 'A', 'A', 'A', 'A', 'A', 'A', 'A', 'A', 'A', 'A', 'A', 'A', 'A', 'A', 'A', 'A', 'A', 'A', 'A', 'A', 'A', 'A', 'A', 'A', 'A', 'A', 'A', 'A', 'A', 'A', 'A', 'A', 'A', 'A', 'A', 'A', 'A', 'A', 'A', 'A', 'A', 'A', 'A', 'A']\n"
     ]
    }
   ],
   "source": [
    "#list of 100 A's\n",
    "buf = ['A']\n",
    "newbuf = buf * 100\n",
    "print(newbuf)"
   ]
  },
  {
   "cell_type": "markdown",
   "id": "military-easter",
   "metadata": {},
   "source": [
    "## 6. Modifying/Adding elements to a list\n",
    "\n",
    "- We have worked on different methods of String class in our previous session. Similarly there are several built-in methods of the List class. \n",
    "> **Remember, unlike String methods, most methods of List class modify the original List rather than returning a new one.**\n",
    "- Lists are dynamic, as we write our Python program, we can actually make changes to our already created list, whithout having to go for compiling it again. \n",
    "- If we have to add certain elements to an already created list, the original list gorws dynamically without the need of compiling/running the program again (as in case of heap memory in C/C++)\n",
    "\n",
    "- We can use a list methods to perform various tasks on a list object and modify it. \n",
    "- Some list methods that can be used to alter a list are (append, insert, extend, remove, pop, clear, index, count, sort, reverse, split and join)\n",
    "- Check out some common list operations here: https://www.w3schools.com/python/python_ref_list.asp ."
   ]
  },
  {
   "cell_type": "markdown",
   "id": "royal-ratio",
   "metadata": {},
   "source": [
    "## a. Modifying/Adding elements to a list using [ ] operator"
   ]
  },
  {
   "cell_type": "code",
   "execution_count": 66,
   "id": "prostate-manner",
   "metadata": {},
   "outputs": [
    {
     "name": "stdout",
     "output_type": "stream",
     "text": [
      "Original List :  ['data science', 'machine learning', 2, 5, 7]\n"
     ]
    }
   ],
   "source": [
    "mylist = ['data science', 'machine learning', 2, 5, 7]\n",
    "# Let us change the second element of this list\n",
    "print(\"Original List : \", mylist)\n",
    "\n"
   ]
  },
  {
   "cell_type": "code",
   "execution_count": 67,
   "id": "2fda6e20",
   "metadata": {},
   "outputs": [
    {
     "name": "stdout",
     "output_type": "stream",
     "text": [
      "5\n",
      "New List/ Modified List :  ['data science', 'big data', 2, 5, 7]\n"
     ]
    }
   ],
   "source": [
    "mylist[1] = 'big data' #item assignment\n",
    "\n",
    "print(len(mylist))\n",
    "print(\"New List/ Modified List : \",mylist)"
   ]
  },
  {
   "cell_type": "code",
   "execution_count": 68,
   "id": "capital-knitting",
   "metadata": {},
   "outputs": [
    {
     "name": "stdout",
     "output_type": "stream",
     "text": [
      "Original List :  ['data science', 'machine learning', 2, 5, 7]\n"
     ]
    }
   ],
   "source": [
    "# We can use the slice index to modify multiple list elements in one go\n",
    "mylist = ['data science', 'machine learning', 2, 5, 7]\n",
    "print(\"Original List : \", mylist)\n",
    "\n"
   ]
  },
  {
   "cell_type": "code",
   "execution_count": 69,
   "id": "e7f202ba",
   "metadata": {},
   "outputs": [
    {
     "name": "stdout",
     "output_type": "stream",
     "text": [
      "5\n",
      "Modified List :  ['english', 'urdu', 2, 5, 7]\n"
     ]
    }
   ],
   "source": [
    "mylist[0:2] = ['english', 'urdu'] # Note we are replacing two elements with two elements\n",
    "\n",
    "print(len(mylist))\n",
    "\n",
    "print(\"Modified List : \", mylist)"
   ]
  },
  {
   "cell_type": "code",
   "execution_count": null,
   "id": "0aa1ee9f",
   "metadata": {},
   "outputs": [],
   "source": []
  },
  {
   "cell_type": "code",
   "execution_count": 70,
   "id": "expected-operation",
   "metadata": {},
   "outputs": [
    {
     "data": {
      "text/plain": [
       "['data science', 'machine learning', 2, 5, 7]"
      ]
     },
     "execution_count": 70,
     "metadata": {},
     "output_type": "execute_result"
    }
   ],
   "source": [
    "# We can replace more number of elements with lesser number of elements in a list\n",
    "mylist = ['data science', 'machine learning', 2, 5, 7]\n",
    "\n",
    "mylist"
   ]
  },
  {
   "cell_type": "code",
   "execution_count": 71,
   "id": "120f9c6c",
   "metadata": {},
   "outputs": [
    {
     "data": {
      "text/plain": [
       "['BIG DATA', 2, 5, 7]"
      ]
     },
     "execution_count": 71,
     "metadata": {},
     "output_type": "execute_result"
    }
   ],
   "source": [
    "mylist[0:2] = ['BIG DATA'] # Note we are replacing two elements with one element\n",
    "mylist"
   ]
  },
  {
   "cell_type": "code",
   "execution_count": 72,
   "id": "c8ff15c3",
   "metadata": {},
   "outputs": [
    {
     "data": {
      "text/plain": [
       "['B', 'I', 'G', ' ', 'D', 'A', 'T', 'A', 5, 7]"
      ]
     },
     "execution_count": 72,
     "metadata": {},
     "output_type": "execute_result"
    }
   ],
   "source": [
    "mylist[0:2] = 'BIG DATA' # Note we are replacing two elements with one element\n",
    "mylist"
   ]
  },
  {
   "cell_type": "code",
   "execution_count": null,
   "id": "4fe9b6cc",
   "metadata": {},
   "outputs": [],
   "source": []
  },
  {
   "cell_type": "code",
   "execution_count": 73,
   "id": "potential-operation",
   "metadata": {},
   "outputs": [
    {
     "data": {
      "text/plain": [
       "['data science', 'machine learning', 2, 5, 7]"
      ]
     },
     "execution_count": 73,
     "metadata": {},
     "output_type": "execute_result"
    }
   ],
   "source": [
    "# We can replace one element with more number of elements in a list\n",
    "mylist = ['data science', 'machine learning', 2, 5, 7]\n",
    "\n",
    "mylist"
   ]
  },
  {
   "cell_type": "code",
   "execution_count": 74,
   "id": "e96b0139",
   "metadata": {},
   "outputs": [
    {
     "data": {
      "text/plain": [
       "[['math', 'stat'], 'machine learning', 2, 5, 7]"
      ]
     },
     "execution_count": 74,
     "metadata": {},
     "output_type": "execute_result"
    }
   ],
   "source": [
    "mylist[0] = ['math', 'stat'] # Note we are replacing one element with two elements\n",
    "\n",
    "mylist"
   ]
  },
  {
   "cell_type": "markdown",
   "id": "residential-syndication",
   "metadata": {},
   "source": [
    "- Note the elements have been added, but as a sub-list. The first element 'data science' is replaced by a sub-list having two elements 'math' and 'stat'\n",
    "- If you want the elements to be individually placed in the list do as follows:"
   ]
  },
  {
   "cell_type": "code",
   "execution_count": 75,
   "id": "growing-fitting",
   "metadata": {},
   "outputs": [
    {
     "data": {
      "text/plain": [
       "['math', 'stat', 'machine learning', 2, 5, 7]"
      ]
     },
     "execution_count": 75,
     "metadata": {},
     "output_type": "execute_result"
    }
   ],
   "source": [
    "mylist = ['data science', 'machine learning', 2, 5, 7]\n",
    "mylist[0:1] = ['math', 'stat'] # Note we using a slice instead of single index, although it means just zero\n",
    "mylist"
   ]
  },
  {
   "cell_type": "markdown",
   "id": "modified-referral",
   "metadata": {},
   "source": [
    "# b. Adding elements to a list using `list.append(value)` method\n",
    "- `list.append(value)` method is used when you want to add a single element at the end of the list\n",
    "- It is passed one argument which is the element to be inserted and returns none/void"
   ]
  },
  {
   "cell_type": "code",
   "execution_count": 76,
   "id": "ordered-region",
   "metadata": {},
   "outputs": [
    {
     "name": "stdout",
     "output_type": "stream",
     "text": [
      "Help on built-in function append:\n",
      "\n",
      "append(object, /) method of builtins.list instance\n",
      "    Append object to the end of the list.\n",
      "\n"
     ]
    }
   ],
   "source": [
    "list1 = []\n",
    "help(list1.append)"
   ]
  },
  {
   "cell_type": "code",
   "execution_count": 77,
   "id": "becoming-activity",
   "metadata": {},
   "outputs": [
    {
     "name": "stdout",
     "output_type": "stream",
     "text": [
      "[2, 4, 6, 8]\n"
     ]
    }
   ],
   "source": [
    "list1 = [2, 4, 6, 8]\n",
    "print(list1)\n"
   ]
  },
  {
   "cell_type": "code",
   "execution_count": 78,
   "id": "advisory-optimization",
   "metadata": {},
   "outputs": [],
   "source": [
    "list1.append(4.631)\n"
   ]
  },
  {
   "cell_type": "code",
   "execution_count": 79,
   "id": "exciting-absorption",
   "metadata": {},
   "outputs": [
    {
     "data": {
      "text/plain": [
       "[2, 4, 6, 8, 4.631]"
      ]
     },
     "execution_count": 79,
     "metadata": {},
     "output_type": "execute_result"
    }
   ],
   "source": [
    "list1"
   ]
  },
  {
   "cell_type": "code",
   "execution_count": 80,
   "id": "91552b1b",
   "metadata": {},
   "outputs": [
    {
     "data": {
      "text/plain": [
       "[2, 4, 6, 8, 4.631, 'hello']"
      ]
     },
     "execution_count": 80,
     "metadata": {},
     "output_type": "execute_result"
    }
   ],
   "source": [
    "list1.append('hello')\n",
    "list1"
   ]
  },
  {
   "cell_type": "code",
   "execution_count": null,
   "id": "mysterious-hearing",
   "metadata": {},
   "outputs": [],
   "source": []
  },
  {
   "cell_type": "code",
   "execution_count": 81,
   "id": "fifty-dylan",
   "metadata": {},
   "outputs": [],
   "source": [
    "# You cannot add multiple elements using append\n",
    "# If you try it will actually add those elements as a sub-list\n",
    "list1 = [2, 4, 6, 8]\n",
    "\n",
    "list1.append([4.631, 'hello'])\n"
   ]
  },
  {
   "cell_type": "code",
   "execution_count": 82,
   "id": "2232d9e1",
   "metadata": {},
   "outputs": [
    {
     "data": {
      "text/plain": [
       "[2, 4, 6, 8, [4.631, 'hello']]"
      ]
     },
     "execution_count": 82,
     "metadata": {},
     "output_type": "execute_result"
    }
   ],
   "source": [
    "list1"
   ]
  },
  {
   "cell_type": "code",
   "execution_count": 83,
   "id": "622a99a2",
   "metadata": {},
   "outputs": [
    {
     "data": {
      "text/plain": [
       "[2, 4, 6, 8, [4.631, 'hello'], ['ali', 32, 4, 4]]"
      ]
     },
     "execution_count": 83,
     "metadata": {},
     "output_type": "execute_result"
    }
   ],
   "source": [
    "list1.append(['ali',32,4,4])\n",
    "\n",
    "list1"
   ]
  },
  {
   "cell_type": "markdown",
   "id": "defensive-circle",
   "metadata": {},
   "source": [
    "# c. Adding elements to a list using `list.extend(sublist)` method\n",
    "- `list.extend(sublist)` method is used when you want to add multiple elements at the end of the list\n",
    "- It is passed a list to be added at the end and returns none/void"
   ]
  },
  {
   "cell_type": "code",
   "execution_count": 84,
   "id": "figured-arrangement",
   "metadata": {},
   "outputs": [
    {
     "name": "stdout",
     "output_type": "stream",
     "text": [
      "Help on built-in function extend:\n",
      "\n",
      "extend(iterable, /) method of builtins.list instance\n",
      "    Extend list by appending elements from the iterable.\n",
      "\n"
     ]
    }
   ],
   "source": [
    "list1 = []\n",
    "help(list1.extend)"
   ]
  },
  {
   "cell_type": "code",
   "execution_count": 85,
   "id": "cheap-persian",
   "metadata": {},
   "outputs": [
    {
     "name": "stdout",
     "output_type": "stream",
     "text": [
      "Original List :  [2, 4, 6, 8]\n"
     ]
    },
    {
     "data": {
      "text/plain": [
       "[2, 4, 6, 8, 4.631, 'hello', 'A', 'l', 'i']"
      ]
     },
     "execution_count": 85,
     "metadata": {},
     "output_type": "execute_result"
    }
   ],
   "source": [
    "list1 = [2, 4, 6, 8]\n",
    "print(\"Original List : \", list1)\n",
    "list1.extend([4.631, 'hello'])\n",
    "list1.extend('Ali')\n",
    "list1"
   ]
  },
  {
   "cell_type": "code",
   "execution_count": 86,
   "id": "interpreted-burton",
   "metadata": {},
   "outputs": [
    {
     "data": {
      "text/plain": [
       "['apple', 'banana', 'cherry', 'potato', 'tomato', 'radish']"
      ]
     },
     "execution_count": 86,
     "metadata": {},
     "output_type": "execute_result"
    }
   ],
   "source": [
    "# another example of extend()\n",
    "fruits = ['apple', 'banana', 'cherry']\n",
    "vegs = ['potato', 'tomato', 'radish']\n",
    "fruits.extend(vegs)\n",
    "fruits"
   ]
  },
  {
   "cell_type": "markdown",
   "id": "convinced-savannah",
   "metadata": {},
   "source": [
    "# d. Adding elements to a list using `list.insert(index, value)` method\n",
    "- `list.insert(index, value)` method is used when you want to add an element at a specific location in the list\n",
    "- It is passed index and value and returns none/void"
   ]
  },
  {
   "cell_type": "code",
   "execution_count": 87,
   "id": "thermal-belarus",
   "metadata": {},
   "outputs": [
    {
     "name": "stdout",
     "output_type": "stream",
     "text": [
      "Help on built-in function insert:\n",
      "\n",
      "insert(index, object, /) method of builtins.list instance\n",
      "    Insert object before index.\n",
      "\n"
     ]
    }
   ],
   "source": [
    "list1 = []\n",
    "help(list1.insert)"
   ]
  },
  {
   "cell_type": "code",
   "execution_count": 89,
   "id": "constitutional-illustration",
   "metadata": {},
   "outputs": [
    {
     "name": "stdout",
     "output_type": "stream",
     "text": [
      "\n",
      "Original family list:  ['Sawaira', 'Ali', 'Ayesha']\n"
     ]
    }
   ],
   "source": [
    "myfamily = [\"Sawaira\", 'Ali', 'Ayesha']\n",
    "\n",
    "print(\"\\nOriginal family list: \", myfamily)\n"
   ]
  },
  {
   "cell_type": "code",
   "execution_count": 90,
   "id": "de371ea2",
   "metadata": {},
   "outputs": [
    {
     "name": "stdout",
     "output_type": "stream",
     "text": [
      "After insert:  ['Sawaira', 'Ali', 'Dua', 'Ayesha']\n"
     ]
    }
   ],
   "source": [
    "myfamily.insert(2,'Dua')\n",
    "\n",
    "print(\"After insert: \", myfamily)"
   ]
  },
  {
   "cell_type": "code",
   "execution_count": 91,
   "id": "earned-voltage",
   "metadata": {},
   "outputs": [
    {
     "name": "stdout",
     "output_type": "stream",
     "text": [
      "After insert:  ['Sawaira', 'Ali', 'Dua', 'Adeen', 'Ayesha']\n"
     ]
    }
   ],
   "source": [
    "myfamily.insert(3,'Adeen')\n",
    "print(\"After insert: \", myfamily)"
   ]
  },
  {
   "cell_type": "code",
   "execution_count": null,
   "id": "da7154d8",
   "metadata": {},
   "outputs": [],
   "source": []
  },
  {
   "cell_type": "code",
   "execution_count": 94,
   "id": "absent-usage",
   "metadata": {},
   "outputs": [
    {
     "name": "stdout",
     "output_type": "stream",
     "text": [
      "4\n",
      "['Sawaira', 'Ali', 'Ayesha', ['Dua', 'Adeen']]\n"
     ]
    }
   ],
   "source": [
    "# you can insert a sub-list\n",
    "\n",
    "myfamily = [\"Sawaira\", 'Ali', 'Ayesha']\n",
    "\n",
    "myfamily.insert(5,['Dua','Adeen'])\n",
    "\n",
    "print(len(myfamily))\n",
    "\n",
    "print(myfamily)"
   ]
  },
  {
   "cell_type": "code",
   "execution_count": 93,
   "id": "d951b317",
   "metadata": {},
   "outputs": [
    {
     "data": {
      "text/plain": [
       "['Dua', 'Adeen']"
      ]
     },
     "execution_count": 93,
     "metadata": {},
     "output_type": "execute_result"
    }
   ],
   "source": [
    "myfamily[3]"
   ]
  },
  {
   "cell_type": "code",
   "execution_count": null,
   "id": "566a2369",
   "metadata": {},
   "outputs": [],
   "source": []
  },
  {
   "cell_type": "markdown",
   "id": "accessory-advancement",
   "metadata": {},
   "source": [
    "## 7. Removing elements from a list using `list.pop()` and `list.remove()` methods\n",
    "- Lists are dynamic, as we write our Python program, we can actually make changes to our already created list, whithout having to go for compiling it again. \n",
    "- If we have to remove certain elements from an already created list, the original list shrinks dynamically without the need of compiling/running the program again (as in case of heap memory in C/C++)"
   ]
  },
  {
   "cell_type": "markdown",
   "id": "ruled-lambda",
   "metadata": {},
   "source": [
    "### a. Removing element from a List using `list.pop(index)` method\n",
    "- The `list.pop()` method without any argument removes the last item (right most element) in the list and returns it\n",
    "- If given an argument/index, will remove that item from list whose index is given and returns it"
   ]
  },
  {
   "cell_type": "code",
   "execution_count": 95,
   "id": "charming-shield",
   "metadata": {},
   "outputs": [
    {
     "name": "stdout",
     "output_type": "stream",
     "text": [
      "Help on built-in function pop:\n",
      "\n",
      "pop(index=-1, /) method of builtins.list instance\n",
      "    Remove and return item at index (default last).\n",
      "    \n",
      "    Raises IndexError if list is empty or index is out of range.\n",
      "\n"
     ]
    }
   ],
   "source": [
    "list1 = []\n",
    "help(list1.pop)"
   ]
  },
  {
   "cell_type": "code",
   "execution_count": 97,
   "id": "collectible-farmer",
   "metadata": {},
   "outputs": [
    {
     "name": "stdout",
     "output_type": "stream",
     "text": [
      "Original list:  ['Learning', 'Python', 'Data', 'Science', 'with', 'Sawaira', 'Iqbal']\n"
     ]
    }
   ],
   "source": [
    "mylist = ['Learning', 'Python', 'Data', 'Science', 'with', 'Sawaira', 'Iqbal']\n",
    "\n",
    "\n",
    "print(\"Original list: \", mylist)\n"
   ]
  },
  {
   "cell_type": "code",
   "execution_count": 98,
   "id": "6db28e84",
   "metadata": {},
   "outputs": [
    {
     "name": "stdout",
     "output_type": "stream",
     "text": [
      "\n",
      "After pop():  ['Learning', 'Python', 'Data', 'Science', 'with', 'Sawaira']\n",
      "Element popped is:  Iqbal\n"
     ]
    }
   ],
   "source": [
    "x  = mylist.pop()\n",
    "print(\"\\nAfter pop(): \", mylist)\n",
    "print(\"Element popped is: \", x)"
   ]
  },
  {
   "cell_type": "code",
   "execution_count": null,
   "id": "2135547c",
   "metadata": {},
   "outputs": [],
   "source": []
  },
  {
   "cell_type": "code",
   "execution_count": 99,
   "id": "proper-shock",
   "metadata": {},
   "outputs": [
    {
     "name": "stdout",
     "output_type": "stream",
     "text": [
      "\n",
      "After pop(2):  ['Learning', 'Python', 'Science', 'with', 'Sawaira']\n",
      "Element popped is:  Data\n"
     ]
    }
   ],
   "source": [
    "y = mylist.pop(2)\n",
    "print(\"\\nAfter pop(2): \", mylist)\n",
    "print(\"Element popped is: \", y)"
   ]
  },
  {
   "cell_type": "code",
   "execution_count": 100,
   "id": "muslim-illustration",
   "metadata": {},
   "outputs": [
    {
     "name": "stdout",
     "output_type": "stream",
     "text": [
      "\n",
      "After pop(-2):  ['Learning', 'Python', 'Science', 'Sawaira']\n",
      "Element popped is:  with\n"
     ]
    }
   ],
   "source": [
    "z = mylist.pop(-2)\n",
    "print(\"\\nAfter pop(-2): \", mylist)\n",
    "print(\"Element popped is: \", z)"
   ]
  },
  {
   "cell_type": "code",
   "execution_count": 101,
   "id": "endangered-decrease",
   "metadata": {},
   "outputs": [
    {
     "ename": "IndexError",
     "evalue": "pop from empty list",
     "output_type": "error",
     "traceback": [
      "\u001b[1;31m---------------------------------------------------------------------------\u001b[0m",
      "\u001b[1;31mIndexError\u001b[0m                                Traceback (most recent call last)",
      "Cell \u001b[1;32mIn[101], line 2\u001b[0m\n\u001b[0;32m      1\u001b[0m list2 \u001b[38;5;241m=\u001b[39m []\n\u001b[1;32m----> 2\u001b[0m \u001b[43mlist2\u001b[49m\u001b[38;5;241;43m.\u001b[39;49m\u001b[43mpop\u001b[49m\u001b[43m(\u001b[49m\u001b[43m)\u001b[49m\n",
      "\u001b[1;31mIndexError\u001b[0m: pop from empty list"
     ]
    }
   ],
   "source": [
    "list2 = []\n",
    "list2.pop()"
   ]
  },
  {
   "cell_type": "code",
   "execution_count": 102,
   "id": "0f3c7717",
   "metadata": {},
   "outputs": [
    {
     "ename": "IndexError",
     "evalue": "list index out of range",
     "output_type": "error",
     "traceback": [
      "\u001b[1;31m---------------------------------------------------------------------------\u001b[0m",
      "\u001b[1;31mIndexError\u001b[0m                                Traceback (most recent call last)",
      "Cell \u001b[1;32mIn[102], line 1\u001b[0m\n\u001b[1;32m----> 1\u001b[0m \u001b[38;5;28mlen\u001b[39m(mylist), \u001b[43mmylist\u001b[49m\u001b[43m[\u001b[49m\u001b[38;5;241;43m5\u001b[39;49m\u001b[43m]\u001b[49m\n",
      "\u001b[1;31mIndexError\u001b[0m: list index out of range"
     ]
    }
   ],
   "source": [
    "len(mylist), mylist[5]"
   ]
  },
  {
   "cell_type": "markdown",
   "id": "asian-edmonton",
   "metadata": {},
   "source": [
    "# b. Removing element from a list using `list.remove(val)` method\n",
    "- The `list.remove(value)` method is used when you want to remove a specific element without returning it\n",
    "- It is passed exactly one argument, which is the value to be removed and returns none/void\n",
    "- In case of multiple occurrances, it removes the first occurrence of the element"
   ]
  },
  {
   "cell_type": "code",
   "execution_count": 103,
   "id": "russian-smoke",
   "metadata": {},
   "outputs": [
    {
     "name": "stdout",
     "output_type": "stream",
     "text": [
      "Help on built-in function remove:\n",
      "\n",
      "remove(value, /) method of builtins.list instance\n",
      "    Remove first occurrence of value.\n",
      "    \n",
      "    Raises ValueError if the value is not present.\n",
      "\n"
     ]
    }
   ],
   "source": [
    "list1 = []\n",
    "help(list1.remove)"
   ]
  },
  {
   "cell_type": "code",
   "execution_count": 105,
   "id": "electoral-siemens",
   "metadata": {},
   "outputs": [
    {
     "name": "stdout",
     "output_type": "stream",
     "text": [
      "\n",
      "Original list:  ['Learning', 'Python', 'for', 'Data', 'Science', 'with', 'Sawaira', 'Iqbal']\n"
     ]
    }
   ],
   "source": [
    "mylist = ['Learning', 'Python', 'for', 'Data', 'Science', 'with', 'Sawaira', 'Iqbal']\n",
    "\n",
    "print(\"\\nOriginal list: \", mylist)"
   ]
  },
  {
   "cell_type": "code",
   "execution_count": 106,
   "id": "828bf6be",
   "metadata": {},
   "outputs": [
    {
     "name": "stdout",
     "output_type": "stream",
     "text": [
      "After remove('Data'):  ['Learning', 'Python', 'for', 'Science', 'with', 'Sawaira', 'Iqbal']\n",
      "Return value of remove() is:  None\n"
     ]
    }
   ],
   "source": [
    "x = mylist.remove('Data')\n",
    "\n",
    "print(\"After remove('Data'): \", mylist)\n",
    "print(\"Return value of remove() is: \", x)"
   ]
  },
  {
   "cell_type": "code",
   "execution_count": 109,
   "id": "a8b1ec08",
   "metadata": {},
   "outputs": [
    {
     "name": "stdout",
     "output_type": "stream",
     "text": [
      "After remove('Data'):  ['Learning', 'Python', 'for', 'Science', 'with', 'Sawaira']\n",
      "Return value of remove() is:  None\n"
     ]
    }
   ],
   "source": [
    "x = mylist.remove('Iqbal')\n",
    "\n",
    "print(\"After remove('Data'): \", mylist)\n",
    "print(\"Return value of remove() is: \", x)"
   ]
  },
  {
   "cell_type": "markdown",
   "id": "objective-stand",
   "metadata": {},
   "source": [
    "# c. Using `list.clear()` method to remove all the list elements"
   ]
  },
  {
   "cell_type": "code",
   "execution_count": 110,
   "id": "arctic-brave",
   "metadata": {},
   "outputs": [
    {
     "name": "stdout",
     "output_type": "stream",
     "text": [
      "Help on built-in function clear:\n",
      "\n",
      "clear() method of builtins.list instance\n",
      "    Remove all items from list.\n",
      "\n"
     ]
    }
   ],
   "source": [
    "list1 = []\n",
    "help(list1.clear)"
   ]
  },
  {
   "cell_type": "code",
   "execution_count": 112,
   "id": "altered-extra",
   "metadata": {},
   "outputs": [
    {
     "name": "stdout",
     "output_type": "stream",
     "text": [
      "2337554847424\n",
      "\n",
      "After clear() the list becomes empty:  []\n",
      "2337554847424\n"
     ]
    }
   ],
   "source": [
    "mylist = ['Learning', 'Python', 'for', 'Data', 'Science', 'with', 'Sawaira', 'iqbal']\n",
    "print(id(mylist))\n",
    "\n",
    "mylist.clear()\n",
    "\n",
    "print(\"\\nAfter clear() the list becomes empty: \", mylist)\n",
    "print(id(mylist))"
   ]
  },
  {
   "cell_type": "markdown",
   "id": "overall-burton",
   "metadata": {},
   "source": [
    "# d. Using `del` Keyword to delete one or more list items or delete the list entirely from memory"
   ]
  },
  {
   "cell_type": "code",
   "execution_count": 113,
   "id": "expanded-parts",
   "metadata": {},
   "outputs": [
    {
     "name": "stdout",
     "output_type": "stream",
     "text": [
      "The \"del\" statement\n",
      "*******************\n",
      "\n",
      "   del_stmt ::= \"del\" target_list\n",
      "\n",
      "Deletion is recursively defined very similar to the way assignment is\n",
      "defined. Rather than spelling it out in full details, here are some\n",
      "hints.\n",
      "\n",
      "Deletion of a target list recursively deletes each target, from left\n",
      "to right.\n",
      "\n",
      "Deletion of a name removes the binding of that name from the local or\n",
      "global namespace, depending on whether the name occurs in a \"global\"\n",
      "statement in the same code block.  If the name is unbound, a\n",
      "\"NameError\" exception will be raised.\n",
      "\n",
      "Deletion of attribute references, subscriptions and slicings is passed\n",
      "to the primary object involved; deletion of a slicing is in general\n",
      "equivalent to assignment of an empty slice of the right type (but even\n",
      "this is determined by the sliced object).\n",
      "\n",
      "Changed in version 3.2: Previously it was illegal to delete a name\n",
      "from the local namespace if it occurs as a free variable in a nested\n",
      "block.\n",
      "\n",
      "Related help topics: BASICMETHODS\n",
      "\n"
     ]
    }
   ],
   "source": [
    "help('del')"
   ]
  },
  {
   "cell_type": "code",
   "execution_count": 114,
   "id": "willing-rabbit",
   "metadata": {},
   "outputs": [
    {
     "data": {
      "text/plain": [
       "[1, 2, 3, 7, 8, 9]"
      ]
     },
     "execution_count": 114,
     "metadata": {},
     "output_type": "execute_result"
    }
   ],
   "source": [
    "# use del keyword to delete one or more list items by using index or to delete the list entirely from memory\n",
    "list3 = [1,2,3,4,5,6,7,8,9]\n",
    "\n",
    "del list3[3:6]\n",
    "\n",
    "list3"
   ]
  },
  {
   "cell_type": "code",
   "execution_count": null,
   "id": "48241d3e",
   "metadata": {},
   "outputs": [],
   "source": []
  },
  {
   "cell_type": "code",
   "execution_count": 115,
   "id": "aboriginal-carnival",
   "metadata": {},
   "outputs": [
    {
     "name": "stdout",
     "output_type": "stream",
     "text": [
      "\n",
      "Original list [1, 2, 3, [53, 41, 99, 12], 8, 9]\n",
      "After del list1[3] the list becomes [1, 2, 3, 8, 9]\n"
     ]
    }
   ],
   "source": [
    "# use del keyword to delete one or more list items by using index or to delete the list entirely from memory\n",
    "list3 = [1,2,3,[53, 41, 99, 12], 8,9]\n",
    "\n",
    "print(\"\\nOriginal list\", list3)\n",
    "\n",
    "del list3[3]\n",
    "\n",
    "print(\"After del list1[3] the list becomes\", list3)"
   ]
  },
  {
   "cell_type": "code",
   "execution_count": 117,
   "id": "nasty-reason",
   "metadata": {},
   "outputs": [
    {
     "ename": "NameError",
     "evalue": "name 'mylist' is not defined",
     "output_type": "error",
     "traceback": [
      "\u001b[1;31m---------------------------------------------------------------------------\u001b[0m",
      "\u001b[1;31mNameError\u001b[0m                                 Traceback (most recent call last)",
      "Cell \u001b[1;32mIn[117], line 6\u001b[0m\n\u001b[0;32m      2\u001b[0m mylist \u001b[38;5;241m=\u001b[39m [\u001b[38;5;124m'\u001b[39m\u001b[38;5;124mLearning\u001b[39m\u001b[38;5;124m'\u001b[39m, \u001b[38;5;124m'\u001b[39m\u001b[38;5;124mPython\u001b[39m\u001b[38;5;124m'\u001b[39m, \u001b[38;5;124m'\u001b[39m\u001b[38;5;124mfor\u001b[39m\u001b[38;5;124m'\u001b[39m, \u001b[38;5;124m'\u001b[39m\u001b[38;5;124mData\u001b[39m\u001b[38;5;124m'\u001b[39m, \u001b[38;5;124m'\u001b[39m\u001b[38;5;124mScience\u001b[39m\u001b[38;5;124m'\u001b[39m, \u001b[38;5;124m'\u001b[39m\u001b[38;5;124mwith\u001b[39m\u001b[38;5;124m'\u001b[39m, \u001b[38;5;124m'\u001b[39m\u001b[38;5;124mSawaira\u001b[39m\u001b[38;5;124m'\u001b[39m, \u001b[38;5;124m'\u001b[39m\u001b[38;5;124miqbal\u001b[39m\u001b[38;5;124m'\u001b[39m]\n\u001b[0;32m      4\u001b[0m \u001b[38;5;28;01mdel\u001b[39;00m mylist\n\u001b[1;32m----> 6\u001b[0m \u001b[43mmylist\u001b[49m\n",
      "\u001b[1;31mNameError\u001b[0m: name 'mylist' is not defined"
     ]
    }
   ],
   "source": [
    "#to delete entire list\n",
    "mylist = ['Learning', 'Python', 'for', 'Data', 'Science', 'with', 'Sawaira', 'iqbal']\n",
    "\n",
    "del mylist\n",
    "\n",
    "mylist"
   ]
  },
  {
   "cell_type": "code",
   "execution_count": null,
   "id": "12d765c2",
   "metadata": {},
   "outputs": [],
   "source": []
  },
  {
   "cell_type": "markdown",
   "id": "hairy-lighter",
   "metadata": {},
   "source": [
    "## 8. Converting String object to List and vice-versa"
   ]
  },
  {
   "cell_type": "code",
   "execution_count": 118,
   "id": "empirical-lightning",
   "metadata": {},
   "outputs": [
    {
     "name": "stdout",
     "output_type": "stream",
     "text": [
      "Original string: \n",
      "Learning Python for Data Science with Sawaira Iqbal\n",
      "and its type is:  \n",
      "<class 'str'>\n"
     ]
    }
   ],
   "source": [
    "# convert a string into list using list()\n",
    "str1 =  \"Learning Python for Data Science with Sawaira Iqbal\"\n",
    "\n",
    "print(\"Original string: \", str1, \"and its type is:  \", type(str1), sep=\"\\n\")"
   ]
  },
  {
   "cell_type": "code",
   "execution_count": 119,
   "id": "85584d82",
   "metadata": {},
   "outputs": [
    {
     "name": "stdout",
     "output_type": "stream",
     "text": [
      "l1: \n",
      "['L', 'e', 'a', 'r', 'n', 'i', 'n', 'g', ' ', 'P', 'y', 't', 'h', 'o', 'n', ' ', 'f', 'o', 'r', ' ', 'D', 'a', 't', 'a', ' ', 'S', 'c', 'i', 'e', 'n', 'c', 'e', ' ', 'w', 'i', 't', 'h', ' ', 'S', 'a', 'w', 'a', 'i', 'r', 'a', ' ', 'I', 'q', 'b', 'a', 'l']\n",
      "and its type is:  \n",
      "<class 'list'>\n"
     ]
    }
   ],
   "source": [
    "l1 = list(str1)\n",
    "print(\"l1: \", l1, \"and its type is:  \", type(l1), sep=\"\\n\")"
   ]
  },
  {
   "cell_type": "code",
   "execution_count": 120,
   "id": "8ff1e5c3",
   "metadata": {},
   "outputs": [
    {
     "name": "stdout",
     "output_type": "stream",
     "text": [
      "l1: \n",
      "['L', 'e', 'a', 'r', 'n', 'i', 'n', 'g', ' ', 'P', 'y', 't', 'h', 'o', 'n', ' ', 'f', 'o', 'r', ' ', 'D', 'a', 't', 'a', ' ', 'S', 'c', 'i', 'e', 'n', 'c', 'e', ' ', 'w', 'i', 't', 'h', ' ', 'S', 'a', 'w', 'a', 'i', 'r', 'a', ' ', 'I', 'q', 'b', 'a', 'l']\n",
      "and its type is:  \n",
      "<class 'list'>\n"
     ]
    }
   ],
   "source": [
    "l1 = list(str1)\n",
    "print(\"l1: \", l1, \"and its type is:  \", type(l1), sep=\"\\n\")"
   ]
  },
  {
   "cell_type": "code",
   "execution_count": null,
   "id": "a98de3c0",
   "metadata": {},
   "outputs": [],
   "source": []
  },
  {
   "cell_type": "markdown",
   "id": "still-boost",
   "metadata": {},
   "source": [
    "# b. Use `str.split()` to Split a String into List\n",
    "- Used to tokenize a string based on some delimiter, which can be stored in a list\n",
    "- It returns a list having tokens of the string based on spaces if no argument is passed"
   ]
  },
  {
   "cell_type": "code",
   "execution_count": 121,
   "id": "regional-possession",
   "metadata": {},
   "outputs": [
    {
     "name": "stdout",
     "output_type": "stream",
     "text": [
      "Help on built-in function split:\n",
      "\n",
      "split(sep=None, maxsplit=-1) method of builtins.str instance\n",
      "    Return a list of the substrings in the string, using sep as the separator string.\n",
      "    \n",
      "      sep\n",
      "        The separator used to split the string.\n",
      "    \n",
      "        When set to None (the default value), will split on any whitespace\n",
      "        character (including \\\\n \\\\r \\\\t \\\\f and spaces) and will discard\n",
      "        empty strings from the result.\n",
      "      maxsplit\n",
      "        Maximum number of splits (starting from the left).\n",
      "        -1 (the default value) means no limit.\n",
      "    \n",
      "    Note, str.split() is mainly useful for data that has been intentionally\n",
      "    delimited.  With natural text that includes punctuation, consider using\n",
      "    the regular expression module.\n",
      "\n"
     ]
    }
   ],
   "source": [
    "str1 = \"\"\n",
    "help(str1.split)"
   ]
  },
  {
   "cell_type": "code",
   "execution_count": 126,
   "id": "discrete-aviation",
   "metadata": {},
   "outputs": [
    {
     "data": {
      "text/plain": [
       "['Learn', 'ng Python for Data Sc', 'ence w', 'th Sawa', 'ra Iqbal']"
      ]
     },
     "execution_count": 126,
     "metadata": {},
     "output_type": "execute_result"
    }
   ],
   "source": [
    "#this is a string\n",
    "str1 =   \"Learning Python for Data Science with Sawaira Iqbal\"\n",
    "\n",
    "list1 = str1.split(\"i\")\n",
    "list1"
   ]
  },
  {
   "cell_type": "code",
   "execution_count": 127,
   "id": "complicated-physics",
   "metadata": {},
   "outputs": [
    {
     "data": {
      "text/plain": [
       "['Data S', 'ien', 'e is GR8 Degree']"
      ]
     },
     "execution_count": 127,
     "metadata": {},
     "output_type": "execute_result"
    }
   ],
   "source": [
    "str2 = \"Data Science is GR8 Degree\"    #this is a string\n",
    "list2 = str2.split('c')\n",
    "list2"
   ]
  },
  {
   "cell_type": "code",
   "execution_count": null,
   "id": "6c47f665",
   "metadata": {},
   "outputs": [],
   "source": []
  },
  {
   "cell_type": "markdown",
   "id": "distant-aruba",
   "metadata": {},
   "source": [
    "# c. Use `str.join()` to Join List into a String\n",
    "- It is the reverse of `str.split()` method, and is used to joing multiple strings by inserting the string in between on which this method is called"
   ]
  },
  {
   "cell_type": "code",
   "execution_count": 128,
   "id": "lyric-cholesterol",
   "metadata": {},
   "outputs": [
    {
     "name": "stdout",
     "output_type": "stream",
     "text": [
      "Help on built-in function join:\n",
      "\n",
      "join(iterable, /) method of builtins.str instance\n",
      "    Concatenate any number of strings.\n",
      "    \n",
      "    The string whose method is called is inserted in between each given string.\n",
      "    The result is returned as a new string.\n",
      "    \n",
      "    Example: '.'.join(['ab', 'pq', 'rs']) -> 'ab.pq.rs'\n",
      "\n"
     ]
    }
   ],
   "source": [
    "str1 = \"\"\n",
    "help(str1.join)"
   ]
  },
  {
   "cell_type": "code",
   "execution_count": 129,
   "id": "numerical-latest",
   "metadata": {},
   "outputs": [
    {
     "data": {
      "text/plain": [
       "['This', 'is', 'getting', 'more', 'and', 'more', 'interesting']"
      ]
     },
     "execution_count": 129,
     "metadata": {},
     "output_type": "execute_result"
    }
   ],
   "source": [
    "list1 = ['This', 'is', 'getting', 'more', 'and', 'more', 'interesting']\n",
    "list1"
   ]
  },
  {
   "cell_type": "code",
   "execution_count": 130,
   "id": "boxed-somalia",
   "metadata": {},
   "outputs": [
    {
     "name": "stdout",
     "output_type": "stream",
     "text": [
      "This is getting more and more interesting\n",
      "<class 'str'>\n"
     ]
    }
   ],
   "source": [
    "str2 = ' '.join(list1)\n",
    "print(str2)\n",
    "print(type(str2))"
   ]
  },
  {
   "cell_type": "code",
   "execution_count": 131,
   "id": "adequate-prescription",
   "metadata": {},
   "outputs": [],
   "source": [
    "delimiter = \" # \"\n",
    "str3 = delimiter.join(list1)\n"
   ]
  },
  {
   "cell_type": "code",
   "execution_count": 132,
   "id": "4bac0162",
   "metadata": {},
   "outputs": [
    {
     "name": "stdout",
     "output_type": "stream",
     "text": [
      "This # is # getting # more # and # more # interesting\n",
      "<class 'str'>\n"
     ]
    }
   ],
   "source": [
    "print(str3)\n",
    "print(type(str3))"
   ]
  },
  {
   "cell_type": "markdown",
   "id": "muslim-verification",
   "metadata": {},
   "source": [
    "# d. Some Built-in Functions that can be used on Lists"
   ]
  },
  {
   "cell_type": "code",
   "execution_count": 133,
   "id": "educational-superior",
   "metadata": {},
   "outputs": [
    {
     "name": "stdout",
     "output_type": "stream",
     "text": [
      "Help on built-in function len in module builtins:\n",
      "\n",
      "len(obj, /)\n",
      "    Return the number of items in a container.\n",
      "\n"
     ]
    }
   ],
   "source": [
    "help(len)"
   ]
  },
  {
   "cell_type": "code",
   "execution_count": 134,
   "id": "growing-assumption",
   "metadata": {},
   "outputs": [
    {
     "name": "stdout",
     "output_type": "stream",
     "text": [
      "Help on built-in function min in module builtins:\n",
      "\n",
      "min(...)\n",
      "    min(iterable, *[, default=obj, key=func]) -> value\n",
      "    min(arg1, arg2, *args, *[, key=func]) -> value\n",
      "    \n",
      "    With a single iterable argument, return its smallest item. The\n",
      "    default keyword-only argument specifies an object to return if\n",
      "    the provided iterable is empty.\n",
      "    With two or more arguments, return the smallest argument.\n",
      "\n"
     ]
    }
   ],
   "source": [
    "help(min)"
   ]
  },
  {
   "cell_type": "code",
   "execution_count": 135,
   "id": "documentary-piece",
   "metadata": {},
   "outputs": [
    {
     "name": "stdout",
     "output_type": "stream",
     "text": [
      "Help on built-in function max in module builtins:\n",
      "\n",
      "max(...)\n",
      "    max(iterable, *[, default=obj, key=func]) -> value\n",
      "    max(arg1, arg2, *args, *[, key=func]) -> value\n",
      "    \n",
      "    With a single iterable argument, return its biggest item. The\n",
      "    default keyword-only argument specifies an object to return if\n",
      "    the provided iterable is empty.\n",
      "    With two or more arguments, return the largest argument.\n",
      "\n"
     ]
    }
   ],
   "source": [
    "help(max)"
   ]
  },
  {
   "cell_type": "code",
   "execution_count": 136,
   "id": "linear-michigan",
   "metadata": {},
   "outputs": [
    {
     "data": {
      "text/plain": [
       "[3, 8, 1, 6, 0, 8, 4]"
      ]
     },
     "execution_count": 136,
     "metadata": {},
     "output_type": "execute_result"
    }
   ],
   "source": [
    "list_num = [3, 8, 1, 6, 0, 8, 4]\n",
    "\n",
    "list_num"
   ]
  },
  {
   "cell_type": "code",
   "execution_count": 137,
   "id": "124779c9",
   "metadata": {},
   "outputs": [
    {
     "name": "stdout",
     "output_type": "stream",
     "text": [
      "length of list:  7\n",
      "max element in list:  8\n",
      "min element in list:  0\n",
      "Sum of element in list:  30\n"
     ]
    }
   ],
   "source": [
    "print(\"length of list: \", len(list_num))\n",
    "\n",
    "print(\"max element in list: \", max(list_num))\n",
    "\n",
    "print(\"min element in list: \",min(list_num))\n",
    "\n",
    "print(\"Sum of element in list: \",sum(list_num))"
   ]
  },
  {
   "cell_type": "code",
   "execution_count": null,
   "id": "d978da2d",
   "metadata": {},
   "outputs": [],
   "source": []
  },
  {
   "cell_type": "code",
   "execution_count": 138,
   "id": "415ccb60",
   "metadata": {},
   "outputs": [],
   "source": [
    "# functions vs Methods\n",
    "# function\n",
    "# len(list/str/tuple/set)\n",
    "\n",
    "# method\n",
    "# str.pop"
   ]
  },
  {
   "cell_type": "markdown",
   "id": "minus-stevens",
   "metadata": {},
   "source": [
    "# 9. Simple Assignment (aliasing) vs Shallow Copy vs Deep Copy\n"
   ]
  },
  {
   "cell_type": "markdown",
   "id": "hearing-removal",
   "metadata": {},
   "source": [
    "### a. Aliasing: Making an Alias of a List object using simple Assignment `=` Operator\n",
    "- In Python, we use `=` operator to create a copy/alias of an object. \n",
    "- Remember it doesnot create a new object, rather creates a new variable that shares the reference of the original object."
   ]
  },
  {
   "cell_type": "code",
   "execution_count": 139,
   "id": "attempted-table",
   "metadata": {},
   "outputs": [
    {
     "name": "stdout",
     "output_type": "stream",
     "text": [
      "ID of Old List: 2337554468800\n",
      "ID of New List: 2337554468800\n"
     ]
    }
   ],
   "source": [
    "list1 = [1, 2, 3, 4]\n",
    "list2 = list1\n",
    "\n",
    "# Both variables point to same memory object, so have the same ID\n",
    "print('ID of Old List:', id(list1))\n",
    "print('ID of New List:', id(list2))"
   ]
  },
  {
   "cell_type": "code",
   "execution_count": 140,
   "id": "entire-nitrogen",
   "metadata": {},
   "outputs": [
    {
     "name": "stdout",
     "output_type": "stream",
     "text": [
      "\n",
      "Old List: [1, 2, 9, 4]\n",
      "New List: [1, 2, 9, 4]\n"
     ]
    }
   ],
   "source": [
    "# If you modify an element of one object, the change will be visible in both\n",
    "list2[2] = 9\n",
    "\n",
    "print('\\nOld List:', list1)\n",
    "print('New List:', list2)\n"
   ]
  },
  {
   "cell_type": "markdown",
   "id": "civic-fraction",
   "metadata": {},
   "source": [
    "# b. Shallow Copy\n",
    "- Shallow copy creates a new list object.\n",
    "- There are two ways of making a shallow copy\n",
    "    - On the right hand side of  `=` operator use slice operator\n",
    "    - Use `copy.copy()` method"
   ]
  },
  {
   "cell_type": "code",
   "execution_count": 141,
   "id": "direct-identifier",
   "metadata": {},
   "outputs": [
    {
     "name": "stdout",
     "output_type": "stream",
     "text": [
      "[1, 2, 3, 4] [1, 2, 3, 4]\n",
      "ID of Old List: 2337555206976\n",
      "ID of New List: 2337555204672\n"
     ]
    }
   ],
   "source": [
    "# Shallow copy using slice operator while doing assignment\n",
    "list1 = [1, 2, 3, 4]\n",
    "list2 = list1[:]\n",
    "\n",
    "# Both variables point to different memory objects, so have the different ID\n",
    "print(list1, list2)\n",
    "print('ID of Old List:', id(list1))\n",
    "print('ID of New List:', id(list2))"
   ]
  },
  {
   "cell_type": "code",
   "execution_count": null,
   "id": "2753f067",
   "metadata": {},
   "outputs": [],
   "source": []
  },
  {
   "cell_type": "code",
   "execution_count": 142,
   "id": "former-electricity",
   "metadata": {},
   "outputs": [
    {
     "name": "stdout",
     "output_type": "stream",
     "text": [
      "\n",
      "Old List: [1, 2, 3, 4]\n",
      "New List: [1, 2, 9, 4]\n"
     ]
    }
   ],
   "source": [
    "# If you modify an element of one object, the change will be not visible in both\n",
    "list2[2] = 9\n",
    "\n",
    "print('\\nOld List:', list1)\n",
    "print('New List:', list2)"
   ]
  },
  {
   "cell_type": "code",
   "execution_count": 143,
   "id": "occupied-invention",
   "metadata": {},
   "outputs": [
    {
     "name": "stdout",
     "output_type": "stream",
     "text": [
      "ID of Old List: 2337554466176\n",
      "ID of New List: 2337555140416\n"
     ]
    }
   ],
   "source": [
    "# Shallow copy using the `copy.copy()` method\n",
    "import copy\n",
    "list1 = [1, 2, 3, 4]\n",
    "list2 = copy.copy(list1)\n",
    "\n",
    "# Both variables point to different memory objects, so have different ID\n",
    "print('ID of Old List:', id(list1))\n",
    "print('ID of New List:', id(list2))"
   ]
  },
  {
   "cell_type": "code",
   "execution_count": 144,
   "id": "wanted-phase",
   "metadata": {},
   "outputs": [
    {
     "name": "stdout",
     "output_type": "stream",
     "text": [
      "\n",
      "Old List: [1, 2, 3, 4]\n",
      "New List: [1, 2, 3, 'a']\n"
     ]
    }
   ],
   "source": [
    "# If you modify an element of one object, the change will not be visible in other\n",
    "list2[3] = 'a'\n",
    "\n",
    "print('\\nOld List:', list1)\n",
    "print('New List:', list2)"
   ]
  },
  {
   "cell_type": "markdown",
   "id": "stupid-farmer",
   "metadata": {},
   "source": [
    "**This seems woking fine, then why this is called shallow copy**"
   ]
  },
  {
   "cell_type": "markdown",
   "id": "sustainable-railway",
   "metadata": {},
   "source": [
    "**Limitation of Shallow Copy**\n",
    "- Above examples seems fine. But shallow copy doesn't create a copy of nested objects, instead it just copies the reference of nested objects. This means, a copy process does not recurse or create copies of nested objects itself.\n",
    "- Let us understand this by an example"
   ]
  },
  {
   "cell_type": "code",
   "execution_count": 145,
   "id": "western-mountain",
   "metadata": {},
   "outputs": [],
   "source": [
    "import copy\n",
    "old_list = [[1, 2, 3], [4, 5, 6], [7, 8, 9]]\n",
    "new_list = copy.copy(old_list)\n",
    "\n"
   ]
  },
  {
   "cell_type": "code",
   "execution_count": 146,
   "id": "639c30eb",
   "metadata": {},
   "outputs": [
    {
     "name": "stdout",
     "output_type": "stream",
     "text": [
      "ID of Old List: 2337554176256\n",
      "ID of New List: 2337554476224\n",
      "[[1, 2, 3], [4, 5, 6], [7, 8, 9]]\n",
      "[[1, 2, 3], [4, 5, 6], [7, 8, 9]]\n"
     ]
    }
   ],
   "source": [
    "# Both variables point to different memory object, having same references of original object elements\n",
    "print('ID of Old List:', id(old_list))\n",
    "print('ID of New List:', id(new_list))\n",
    "print(old_list)\n",
    "print(new_list)"
   ]
  },
  {
   "cell_type": "code",
   "execution_count": 147,
   "id": "better-tours",
   "metadata": {},
   "outputs": [
    {
     "name": "stdout",
     "output_type": "stream",
     "text": [
      "\n",
      "Old List: [[1, 2, 3], [4, 5, 6], [7, 8, 'a']]\n",
      "New List: [[1, 2, 3], [4, 5, 6], [7, 8, 'a']]\n"
     ]
    }
   ],
   "source": [
    "# If you modify an element of one object, the change will be visible in both\n",
    "new_list[2][2] = 'a'\n",
    "\n",
    "# See contents of both lists\n",
    "print('\\nOld List:', old_list)\n",
    "print('New List:', new_list)"
   ]
  },
  {
   "cell_type": "code",
   "execution_count": 148,
   "id": "abd01ce2",
   "metadata": {},
   "outputs": [
    {
     "name": "stdout",
     "output_type": "stream",
     "text": [
      "\n",
      "Old List: [[1, 2, 3], [4, 5, 'b'], [7, 8, 'a']]\n",
      "New List: [[1, 2, 3], [4, 5, 'b'], [7, 8, 'a']]\n"
     ]
    }
   ],
   "source": [
    "# If you modify an element of one object, the change will be visible in both\n",
    "old_list[1][2] = 'b'\n",
    "\n",
    "# See contents of both lists\n",
    "print('\\nOld List:', old_list)\n",
    "print('New List:', new_list)"
   ]
  },
  {
   "cell_type": "markdown",
   "id": "endangered-chorus",
   "metadata": {},
   "source": [
    "### c. Deep Copy: Making a Copy of an Object using `copy.deepcopy()` Method\n",
    "- Deep copy creates a new object and recursively creates independent copy of original object and all its nested objects."
   ]
  },
  {
   "cell_type": "code",
   "execution_count": 149,
   "id": "cardiac-melissa",
   "metadata": {},
   "outputs": [
    {
     "name": "stdout",
     "output_type": "stream",
     "text": [
      "ID of Old List: 2337554401344\n",
      "ID of New List: 2337548679296\n"
     ]
    }
   ],
   "source": [
    "import copy\n",
    "old_list = [[1, 2, 3], [4, 5, 6], [7, 8, 9]]\n",
    "new_list = copy.deepcopy(old_list)\n",
    "\n",
    "# Both variables point to different memory object, having their own object elements\n",
    "print('ID of Old List:', id(old_list))\n",
    "print('ID of New List:', id(new_list))\n"
   ]
  },
  {
   "cell_type": "code",
   "execution_count": 150,
   "id": "cosmetic-people",
   "metadata": {},
   "outputs": [
    {
     "name": "stdout",
     "output_type": "stream",
     "text": [
      "\n",
      "Old List: [[1, 2, 3], [4, 5, 6], [7, 8, 9]]\n",
      "New List: [[1, 2, 3], [4, 5, 6], [7, 8, 'a']]\n"
     ]
    }
   ],
   "source": [
    "# If you modify an element of one object, the change will be made only to that object element\n",
    "new_list[2][2] = 'a'\n",
    "\n",
    "# See contents of both lists\n",
    "print('\\nOld List:', old_list)\n",
    "print('New List:', new_list)"
   ]
  },
  {
   "cell_type": "markdown",
   "id": "productive-joint",
   "metadata": {},
   "source": [
    "# 10. Sorting a List\n",
    "- You can use following three methods to sort list elements\n",
    "    - The `list.sort()` method can sort the list elements (ascending + descending) on which it is called and returns None (modifies the list on which it is called).\n",
    "    - The `list.reverse()` method simply reverse the list elements on which it is called and returns None (modifies the list on which it is called).\n",
    "    - The `sorted(iterable)` is a built-in function, which returns a sorted version of the list, which is passed to it as parameter (list remains as it is). Limitation is it is a bit slow as it makes a copy of the list. Advantage is that it can sort any iterable."
   ]
  },
  {
   "cell_type": "markdown",
   "id": "special-reservation",
   "metadata": {},
   "source": [
    "## a. The `list.sort()` method"
   ]
  },
  {
   "cell_type": "code",
   "execution_count": 151,
   "id": "acoustic-definition",
   "metadata": {},
   "outputs": [
    {
     "name": "stdout",
     "output_type": "stream",
     "text": [
      "Original numbers list:  [3, 8, 1, 6, 0, 8, 4]\n"
     ]
    }
   ],
   "source": [
    "# Modifies list on which it is called and returns none/void\n",
    "list_num = [3, 8, 1, 6, 0, 8, 4]\n",
    "print(\"Original numbers list: \", list_num)\n",
    "\n"
   ]
  },
  {
   "cell_type": "code",
   "execution_count": 152,
   "id": "97972f83",
   "metadata": {},
   "outputs": [
    {
     "name": "stdout",
     "output_type": "stream",
     "text": [
      "Ascending Sort:  [0, 1, 3, 4, 6, 8, 8]\n"
     ]
    }
   ],
   "source": [
    "list_num.sort()\n",
    "print(\"Ascending Sort: \", list_num)\n"
   ]
  },
  {
   "cell_type": "code",
   "execution_count": 153,
   "id": "bc0b376b",
   "metadata": {},
   "outputs": [
    {
     "name": "stdout",
     "output_type": "stream",
     "text": [
      "Descending Sort:  [8, 8, 6, 4, 3, 1, 0]\n"
     ]
    }
   ],
   "source": [
    "list_num.sort(reverse=True)\n",
    "print(\"Descending Sort: \", list_num)\n"
   ]
  },
  {
   "cell_type": "code",
   "execution_count": 154,
   "id": "accessible-explorer",
   "metadata": {},
   "outputs": [
    {
     "name": "stdout",
     "output_type": "stream",
     "text": [
      "\n",
      "Original names list:  ['XYZ', 'ABC', 'MNO', 'Ehtisham']\n"
     ]
    }
   ],
   "source": [
    "list_names = [\"XYZ\", \"ABC\", \"MNO\", \"Ehtisham\"]\n",
    "print(\"\\nOriginal names list: \", list_names)\n",
    "\n"
   ]
  },
  {
   "cell_type": "code",
   "execution_count": 155,
   "id": "7be541e5",
   "metadata": {},
   "outputs": [
    {
     "name": "stdout",
     "output_type": "stream",
     "text": [
      "Ascending Sort:  ['ABC', 'Ehtisham', 'MNO', 'XYZ']\n",
      "Descending Sort:  ['XYZ', 'MNO', 'Ehtisham', 'ABC']\n"
     ]
    }
   ],
   "source": [
    "list_names.sort()         \n",
    "print(\"Ascending Sort: \", list_names)\n",
    "\n",
    "list_names.sort(reverse=True)         \n",
    "print(\"Descending Sort: \", list_names)"
   ]
  },
  {
   "cell_type": "markdown",
   "id": "soviet-mission",
   "metadata": {},
   "source": [
    "# b. Custom Sorting using `list.sort()` Method"
   ]
  },
  {
   "cell_type": "markdown",
   "id": "animated-kelly",
   "metadata": {},
   "source": [
    "**Example 1: Suppose given a list with elements `['ccc', 'aaaaa', 'd', 'bb']` and I want to sort it by length of strings within the list so that the output list is like : `['d', 'bb', 'ccc', 'aaaaa']`**\n",
    "\n",
    "```\n",
    "    list.sort(*, key=None, reverse=False)\n",
    "```\n",
    "- We write a one argument function, and pass that function to the `key` parameter of `list.sort()` method\n",
    "- The `list.sort()` method will run this one argument function on all the elements of the list and return a single value, and build up a shadow list of those new values. \n",
    "- Suppose the one argument function in this case is the Python built-in function `len()`, which when called on every element of `list1` will return a shadow list containing length of every string within the original list containing `[3,4,2,1]`\n",
    "- The `list1.sort()` method will then sort `list1` elements based on the values of the shadow list and generate the required sorted list :)"
   ]
  },
  {
   "cell_type": "code",
   "execution_count": 156,
   "id": "informed-regulation",
   "metadata": {},
   "outputs": [
    {
     "data": {
      "text/plain": [
       "['aaaaa', 'bb', 'ccc', 'd']"
      ]
     },
     "execution_count": 156,
     "metadata": {},
     "output_type": "execute_result"
    }
   ],
   "source": [
    "list1 = ['ccc', 'aaaaa', 'd', 'bb']\n",
    "list1.sort()\n",
    "list1"
   ]
  },
  {
   "cell_type": "code",
   "execution_count": 157,
   "id": "iraqi-cement",
   "metadata": {},
   "outputs": [
    {
     "data": {
      "text/plain": [
       "['d', 'bb', 'ccc', 'aaaaa']"
      ]
     },
     "execution_count": 157,
     "metadata": {},
     "output_type": "execute_result"
    }
   ],
   "source": [
    "#Example 1:\n",
    "list1 = ['ccc', 'aaaaa', 'd', 'bb']\n",
    "list1.sort(key=len)\n",
    "list1"
   ]
  },
  {
   "cell_type": "code",
   "execution_count": 158,
   "id": "15b3e1ef",
   "metadata": {},
   "outputs": [
    {
     "data": {
      "text/plain": [
       "['aaaaa', 'ccc', 'bb', 'd']"
      ]
     },
     "execution_count": 158,
     "metadata": {},
     "output_type": "execute_result"
    }
   ],
   "source": [
    "#Example 1:\n",
    "list1 = ['ccc', 'aaaaa', 'd', 'bb']\n",
    "list1.sort(key=len, reverse=True)\n",
    "list1"
   ]
  },
  {
   "cell_type": "markdown",
   "id": "speaking-radical",
   "metadata": {},
   "source": [
    "**Example 2: Suppose given a list with elements `['abcz', 'xyza', 'bas', 'Ehtisham']` and I want to sort it by last character of strings within the list so that the output list is like : `['xyza', 'Ehtisham', 'bas', 'abcz']`**\n",
    "\n",
    "```\n",
    "    list.sort(*, key=None, reverse=False)\n",
    "```\n",
    "- We write a one argument function, and pass that function to the `key` parameter of `list.sort()` method\n",
    "- The `list.sort()` method will run this one argument function on all the elements of the list and return a single value, and build up a shadow list of those new values. \n",
    "- This time the one argument function is a custom built function that receives a string and returns its last character. When called on every element of `list1` will return a shadow list containing only the last character of every string within the original list containing `['z', 'a', 's', 'f']`\n",
    "- The `list1.sort()` method will then sort `list1` elements based on the values of the shadow list and generate the required sorted list :)"
   ]
  },
  {
   "cell_type": "code",
   "execution_count": 159,
   "id": "located-dragon",
   "metadata": {},
   "outputs": [
    {
     "data": {
      "text/plain": [
       "['bas', 'Ehtisham', 'abcz', 'xyza']"
      ]
     },
     "execution_count": 159,
     "metadata": {},
     "output_type": "execute_result"
    }
   ],
   "source": [
    "def last(s):\n",
    "    return s[-2]\n",
    "\n",
    "list1 = ['abcz', 'xyza', 'bas', 'Ehtisham']\n",
    "\n",
    "list1.sort(key=last)\n",
    "list1"
   ]
  },
  {
   "cell_type": "code",
   "execution_count": 160,
   "id": "secure-bench",
   "metadata": {},
   "outputs": [],
   "source": [
    "list10 = [32,4,34,5,45,425,325,32,5,325]"
   ]
  },
  {
   "cell_type": "code",
   "execution_count": 161,
   "id": "fluid-animal",
   "metadata": {},
   "outputs": [
    {
     "data": {
      "text/plain": [
       "[32, 4, 34, 5, 45, 425, 325, 32, 5, 325]"
      ]
     },
     "execution_count": 161,
     "metadata": {},
     "output_type": "execute_result"
    }
   ],
   "source": [
    "# list10.reverse()\n",
    "list10"
   ]
  },
  {
   "cell_type": "code",
   "execution_count": 162,
   "id": "4a7ea6a1",
   "metadata": {},
   "outputs": [],
   "source": [
    "list10.reverse()"
   ]
  },
  {
   "cell_type": "code",
   "execution_count": 163,
   "id": "7bfb46b3",
   "metadata": {},
   "outputs": [
    {
     "data": {
      "text/plain": [
       "[325, 5, 32, 325, 425, 45, 5, 34, 4, 32]"
      ]
     },
     "execution_count": 163,
     "metadata": {},
     "output_type": "execute_result"
    }
   ],
   "source": [
    "list10"
   ]
  },
  {
   "cell_type": "markdown",
   "id": "suspended-trout",
   "metadata": {},
   "source": [
    "## 11. Misc Concepts"
   ]
  },
  {
   "cell_type": "markdown",
   "id": "outdoor-grounds",
   "metadata": {},
   "source": [
    "### a. Use of  `in` Operator on Lists"
   ]
  },
  {
   "cell_type": "code",
   "execution_count": 164,
   "id": "binary-patrick",
   "metadata": {},
   "outputs": [
    {
     "name": "stdout",
     "output_type": "stream",
     "text": [
      "Membership test operations\n",
      "**************************\n",
      "\n",
      "The operators \"in\" and \"not in\" test for membership.  \"x in s\"\n",
      "evaluates to \"True\" if *x* is a member of *s*, and \"False\" otherwise.\n",
      "\"x not in s\" returns the negation of \"x in s\".  All built-in sequences\n",
      "and set types support this as well as dictionary, for which \"in\" tests\n",
      "whether the dictionary has a given key. For container types such as\n",
      "list, tuple, set, frozenset, dict, or collections.deque, the\n",
      "expression \"x in y\" is equivalent to \"any(x is e or x == e for e in\n",
      "y)\".\n",
      "\n",
      "For the string and bytes types, \"x in y\" is \"True\" if and only if *x*\n",
      "is a substring of *y*.  An equivalent test is \"y.find(x) != -1\".\n",
      "Empty strings are always considered to be a substring of any other\n",
      "string, so \"\"\" in \"abc\"\" will return \"True\".\n",
      "\n",
      "For user-defined classes which define the \"__contains__()\" method, \"x\n",
      "in y\" returns \"True\" if \"y.__contains__(x)\" returns a true value, and\n",
      "\"False\" otherwise.\n",
      "\n",
      "For user-defined classes which do not define \"__contains__()\" but do\n",
      "define \"__iter__()\", \"x in y\" is \"True\" if some value \"z\", for which\n",
      "the expression \"x is z or x == z\" is true, is produced while iterating\n",
      "over \"y\". If an exception is raised during the iteration, it is as if\n",
      "\"in\" raised that exception.\n",
      "\n",
      "Lastly, the old-style iteration protocol is tried: if a class defines\n",
      "\"__getitem__()\", \"x in y\" is \"True\" if and only if there is a non-\n",
      "negative integer index *i* such that \"x is y[i] or x == y[i]\", and no\n",
      "lower integer index raises the \"IndexError\" exception.  (If any other\n",
      "exception is raised, it is as if \"in\" raised that exception).\n",
      "\n",
      "The operator \"not in\" is defined to have the inverse truth value of\n",
      "\"in\".\n",
      "\n",
      "Related help topics: SEQUENCEMETHODS\n",
      "\n"
     ]
    }
   ],
   "source": [
    "help('in')"
   ]
  },
  {
   "cell_type": "code",
   "execution_count": 165,
   "id": "pregnant-price",
   "metadata": {},
   "outputs": [
    {
     "name": "stdout",
     "output_type": "stream",
     "text": [
      "False\n"
     ]
    }
   ],
   "source": [
    "list_num = [3, 8, 1, 6, 0, 8, 4]\n",
    "rv1 = 9 in list_num\n",
    "print(rv1)\n"
   ]
  },
  {
   "cell_type": "code",
   "execution_count": 166,
   "id": "0ad7d5ed",
   "metadata": {},
   "outputs": [
    {
     "name": "stdout",
     "output_type": "stream",
     "text": [
      "True\n"
     ]
    }
   ],
   "source": [
    "\n",
    "rv2 = 9 not in list_num\n",
    "print(rv2)\n",
    "\n"
   ]
  },
  {
   "cell_type": "code",
   "execution_count": 167,
   "id": "0eee54c5",
   "metadata": {},
   "outputs": [
    {
     "name": "stdout",
     "output_type": "stream",
     "text": [
      "True\n"
     ]
    }
   ],
   "source": [
    "list_names = [\"XYZ\", \"ABC\", \"MNO\", \"Ehtisham\"]\n",
    "name = \"Ehtisham\"\n",
    "rv3 = name in list_names\n",
    "print(rv3)"
   ]
  },
  {
   "cell_type": "code",
   "execution_count": null,
   "id": "ff16a0af",
   "metadata": {},
   "outputs": [],
   "source": []
  },
  {
   "cell_type": "markdown",
   "id": "hazardous-surge",
   "metadata": {},
   "source": [
    "# b. Comparing objects and values"
   ]
  },
  {
   "cell_type": "code",
   "execution_count": 168,
   "id": "incorporated-future",
   "metadata": {},
   "outputs": [
    {
     "name": "stdout",
     "output_type": "stream",
     "text": [
      "Help on built-in function id in module builtins:\n",
      "\n",
      "id(obj, /)\n",
      "    Return the identity of an object.\n",
      "    \n",
      "    This is guaranteed to be unique among simultaneously existing objects.\n",
      "    (CPython uses the object's memory address.)\n",
      "\n"
     ]
    }
   ],
   "source": [
    "help(id)"
   ]
  },
  {
   "cell_type": "code",
   "execution_count": 169,
   "id": "distributed-nomination",
   "metadata": {},
   "outputs": [
    {
     "data": {
      "text/plain": [
       "(2337527758320, 2337527758320)"
      ]
     },
     "execution_count": 169,
     "metadata": {},
     "output_type": "execute_result"
    }
   ],
   "source": [
    "# in case of strings, both a and b refers to the same memory location containing string 'hello'\n",
    "a = 'hello'\n",
    "b = 'hello'\n",
    "id(a), id(b)"
   ]
  },
  {
   "cell_type": "code",
   "execution_count": 170,
   "id": "auburn-musician",
   "metadata": {},
   "outputs": [
    {
     "data": {
      "text/plain": [
       "(2337555385024, 2337554774656)"
      ]
     },
     "execution_count": 170,
     "metadata": {},
     "output_type": "execute_result"
    }
   ],
   "source": [
    "# in case of list, both a and b refers to two different objects in the memory having same values\n",
    "x = ['hello']\n",
    "y = ['hello']\n",
    "id(x), id(y)"
   ]
  },
  {
   "cell_type": "code",
   "execution_count": 171,
   "id": "gothic-oklahoma",
   "metadata": {},
   "outputs": [
    {
     "name": "stdout",
     "output_type": "stream",
     "text": [
      "Comparisons\n",
      "***********\n",
      "\n",
      "Unlike C, all comparison operations in Python have the same priority,\n",
      "which is lower than that of any arithmetic, shifting or bitwise\n",
      "operation.  Also unlike C, expressions like \"a < b < c\" have the\n",
      "interpretation that is conventional in mathematics:\n",
      "\n",
      "   comparison    ::= or_expr (comp_operator or_expr)*\n",
      "   comp_operator ::= \"<\" | \">\" | \"==\" | \">=\" | \"<=\" | \"!=\"\n",
      "                     | \"is\" [\"not\"] | [\"not\"] \"in\"\n",
      "\n",
      "Comparisons yield boolean values: \"True\" or \"False\". Custom *rich\n",
      "comparison methods* may return non-boolean values. In this case Python\n",
      "will call \"bool()\" on such value in boolean contexts.\n",
      "\n",
      "Comparisons can be chained arbitrarily, e.g., \"x < y <= z\" is\n",
      "equivalent to \"x < y and y <= z\", except that \"y\" is evaluated only\n",
      "once (but in both cases \"z\" is not evaluated at all when \"x < y\" is\n",
      "found to be false).\n",
      "\n",
      "Formally, if *a*, *b*, *c*, …, *y*, *z* are expressions and *op1*,\n",
      "*op2*, …, *opN* are comparison operators, then \"a op1 b op2 c ... y\n",
      "opN z\" is equivalent to \"a op1 b and b op2 c and ... y opN z\", except\n",
      "that each expression is evaluated at most once.\n",
      "\n",
      "Note that \"a op1 b op2 c\" doesn’t imply any kind of comparison between\n",
      "*a* and *c*, so that, e.g., \"x < y > z\" is perfectly legal (though\n",
      "perhaps not pretty).\n",
      "\n",
      "\n",
      "Value comparisons\n",
      "=================\n",
      "\n",
      "The operators \"<\", \">\", \"==\", \">=\", \"<=\", and \"!=\" compare the values\n",
      "of two objects.  The objects do not need to have the same type.\n",
      "\n",
      "Chapter Objects, values and types states that objects have a value (in\n",
      "addition to type and identity).  The value of an object is a rather\n",
      "abstract notion in Python: For example, there is no canonical access\n",
      "method for an object’s value.  Also, there is no requirement that the\n",
      "value of an object should be constructed in a particular way, e.g.\n",
      "comprised of all its data attributes. Comparison operators implement a\n",
      "particular notion of what the value of an object is.  One can think of\n",
      "them as defining the value of an object indirectly, by means of their\n",
      "comparison implementation.\n",
      "\n",
      "Because all types are (direct or indirect) subtypes of \"object\", they\n",
      "inherit the default comparison behavior from \"object\".  Types can\n",
      "customize their comparison behavior by implementing *rich comparison\n",
      "methods* like \"__lt__()\", described in Basic customization.\n",
      "\n",
      "The default behavior for equality comparison (\"==\" and \"!=\") is based\n",
      "on the identity of the objects.  Hence, equality comparison of\n",
      "instances with the same identity results in equality, and equality\n",
      "comparison of instances with different identities results in\n",
      "inequality.  A motivation for this default behavior is the desire that\n",
      "all objects should be reflexive (i.e. \"x is y\" implies \"x == y\").\n",
      "\n",
      "A default order comparison (\"<\", \">\", \"<=\", and \">=\") is not provided;\n",
      "an attempt raises \"TypeError\".  A motivation for this default behavior\n",
      "is the lack of a similar invariant as for equality.\n",
      "\n",
      "The behavior of the default equality comparison, that instances with\n",
      "different identities are always unequal, may be in contrast to what\n",
      "types will need that have a sensible definition of object value and\n",
      "value-based equality.  Such types will need to customize their\n",
      "comparison behavior, and in fact, a number of built-in types have done\n",
      "that.\n",
      "\n",
      "The following list describes the comparison behavior of the most\n",
      "important built-in types.\n",
      "\n",
      "* Numbers of built-in numeric types (Numeric Types — int, float,\n",
      "  complex) and of the standard library types \"fractions.Fraction\" and\n",
      "  \"decimal.Decimal\" can be compared within and across their types,\n",
      "  with the restriction that complex numbers do not support order\n",
      "  comparison.  Within the limits of the types involved, they compare\n",
      "  mathematically (algorithmically) correct without loss of precision.\n",
      "\n",
      "  The not-a-number values \"float('NaN')\" and \"decimal.Decimal('NaN')\"\n",
      "  are special.  Any ordered comparison of a number to a not-a-number\n",
      "  value is false. A counter-intuitive implication is that not-a-number\n",
      "  values are not equal to themselves.  For example, if \"x =\n",
      "  float('NaN')\", \"3 < x\", \"x < 3\" and \"x == x\" are all false, while \"x\n",
      "  != x\" is true.  This behavior is compliant with IEEE 754.\n",
      "\n",
      "* \"None\" and \"NotImplemented\" are singletons.  **PEP 8** advises that\n",
      "  comparisons for singletons should always be done with \"is\" or \"is\n",
      "  not\", never the equality operators.\n",
      "\n",
      "* Binary sequences (instances of \"bytes\" or \"bytearray\") can be\n",
      "  compared within and across their types.  They compare\n",
      "  lexicographically using the numeric values of their elements.\n",
      "\n",
      "* Strings (instances of \"str\") compare lexicographically using the\n",
      "  numerical Unicode code points (the result of the built-in function\n",
      "  \"ord()\") of their characters. [3]\n",
      "\n",
      "  Strings and binary sequences cannot be directly compared.\n",
      "\n",
      "* Sequences (instances of \"tuple\", \"list\", or \"range\") can be compared\n",
      "  only within each of their types, with the restriction that ranges do\n",
      "  not support order comparison.  Equality comparison across these\n",
      "  types results in inequality, and ordering comparison across these\n",
      "  types raises \"TypeError\".\n",
      "\n",
      "  Sequences compare lexicographically using comparison of\n",
      "  corresponding elements.  The built-in containers typically assume\n",
      "  identical objects are equal to themselves.  That lets them bypass\n",
      "  equality tests for identical objects to improve performance and to\n",
      "  maintain their internal invariants.\n",
      "\n",
      "  Lexicographical comparison between built-in collections works as\n",
      "  follows:\n",
      "\n",
      "  * For two collections to compare equal, they must be of the same\n",
      "    type, have the same length, and each pair of corresponding\n",
      "    elements must compare equal (for example, \"[1,2] == (1,2)\" is\n",
      "    false because the type is not the same).\n",
      "\n",
      "  * Collections that support order comparison are ordered the same as\n",
      "    their first unequal elements (for example, \"[1,2,x] <= [1,2,y]\"\n",
      "    has the same value as \"x <= y\").  If a corresponding element does\n",
      "    not exist, the shorter collection is ordered first (for example,\n",
      "    \"[1,2] < [1,2,3]\" is true).\n",
      "\n",
      "* Mappings (instances of \"dict\") compare equal if and only if they\n",
      "  have equal \"(key, value)\" pairs. Equality comparison of the keys and\n",
      "  values enforces reflexivity.\n",
      "\n",
      "  Order comparisons (\"<\", \">\", \"<=\", and \">=\") raise \"TypeError\".\n",
      "\n",
      "* Sets (instances of \"set\" or \"frozenset\") can be compared within and\n",
      "  across their types.\n",
      "\n",
      "  They define order comparison operators to mean subset and superset\n",
      "  tests.  Those relations do not define total orderings (for example,\n",
      "  the two sets \"{1,2}\" and \"{2,3}\" are not equal, nor subsets of one\n",
      "  another, nor supersets of one another).  Accordingly, sets are not\n",
      "  appropriate arguments for functions which depend on total ordering\n",
      "  (for example, \"min()\", \"max()\", and \"sorted()\" produce undefined\n",
      "  results given a list of sets as inputs).\n",
      "\n",
      "  Comparison of sets enforces reflexivity of its elements.\n",
      "\n",
      "* Most other built-in types have no comparison methods implemented, so\n",
      "  they inherit the default comparison behavior.\n",
      "\n",
      "User-defined classes that customize their comparison behavior should\n",
      "follow some consistency rules, if possible:\n",
      "\n",
      "* Equality comparison should be reflexive. In other words, identical\n",
      "  objects should compare equal:\n",
      "\n",
      "     \"x is y\" implies \"x == y\"\n",
      "\n",
      "* Comparison should be symmetric. In other words, the following\n",
      "  expressions should have the same result:\n",
      "\n",
      "     \"x == y\" and \"y == x\"\n",
      "\n",
      "     \"x != y\" and \"y != x\"\n",
      "\n",
      "     \"x < y\" and \"y > x\"\n",
      "\n",
      "     \"x <= y\" and \"y >= x\"\n",
      "\n",
      "* Comparison should be transitive. The following (non-exhaustive)\n",
      "  examples illustrate that:\n",
      "\n",
      "     \"x > y and y > z\" implies \"x > z\"\n",
      "\n",
      "     \"x < y and y <= z\" implies \"x < z\"\n",
      "\n",
      "* Inverse comparison should result in the boolean negation. In other\n",
      "  words, the following expressions should have the same result:\n",
      "\n",
      "     \"x == y\" and \"not x != y\"\n",
      "\n",
      "     \"x < y\" and \"not x >= y\" (for total ordering)\n",
      "\n",
      "     \"x > y\" and \"not x <= y\" (for total ordering)\n",
      "\n",
      "  The last two expressions apply to totally ordered collections (e.g.\n",
      "  to sequences, but not to sets or mappings). See also the\n",
      "  \"total_ordering()\" decorator.\n",
      "\n",
      "* The \"hash()\" result should be consistent with equality. Objects that\n",
      "  are equal should either have the same hash value, or be marked as\n",
      "  unhashable.\n",
      "\n",
      "Python does not enforce these consistency rules. In fact, the\n",
      "not-a-number values are an example for not following these rules.\n",
      "\n",
      "\n",
      "Membership test operations\n",
      "==========================\n",
      "\n",
      "The operators \"in\" and \"not in\" test for membership.  \"x in s\"\n",
      "evaluates to \"True\" if *x* is a member of *s*, and \"False\" otherwise.\n",
      "\"x not in s\" returns the negation of \"x in s\".  All built-in sequences\n",
      "and set types support this as well as dictionary, for which \"in\" tests\n",
      "whether the dictionary has a given key. For container types such as\n",
      "list, tuple, set, frozenset, dict, or collections.deque, the\n",
      "expression \"x in y\" is equivalent to \"any(x is e or x == e for e in\n",
      "y)\".\n",
      "\n",
      "For the string and bytes types, \"x in y\" is \"True\" if and only if *x*\n",
      "is a substring of *y*.  An equivalent test is \"y.find(x) != -1\".\n",
      "Empty strings are always considered to be a substring of any other\n",
      "string, so \"\"\" in \"abc\"\" will return \"True\".\n",
      "\n",
      "For user-defined classes which define the \"__contains__()\" method, \"x\n",
      "in y\" returns \"True\" if \"y.__contains__(x)\" returns a true value, and\n",
      "\"False\" otherwise.\n",
      "\n",
      "For user-defined classes which do not define \"__contains__()\" but do\n",
      "define \"__iter__()\", \"x in y\" is \"True\" if some value \"z\", for which\n",
      "the expression \"x is z or x == z\" is true, is produced while iterating\n",
      "over \"y\". If an exception is raised during the iteration, it is as if\n",
      "\"in\" raised that exception.\n",
      "\n",
      "Lastly, the old-style iteration protocol is tried: if a class defines\n",
      "\"__getitem__()\", \"x in y\" is \"True\" if and only if there is a non-\n",
      "negative integer index *i* such that \"x is y[i] or x == y[i]\", and no\n",
      "lower integer index raises the \"IndexError\" exception.  (If any other\n",
      "exception is raised, it is as if \"in\" raised that exception).\n",
      "\n",
      "The operator \"not in\" is defined to have the inverse truth value of\n",
      "\"in\".\n",
      "\n",
      "\n",
      "Identity comparisons\n",
      "====================\n",
      "\n",
      "The operators \"is\" and \"is not\" test for an object’s identity: \"x is\n",
      "y\" is true if and only if *x* and *y* are the same object.  An\n",
      "Object’s identity is determined using the \"id()\" function.  \"x is not\n",
      "y\" yields the inverse truth value. [4]\n",
      "\n",
      "Related help topics: EXPRESSIONS, BASICMETHODS\n",
      "\n"
     ]
    }
   ],
   "source": [
    "help('is')"
   ]
  },
  {
   "cell_type": "code",
   "execution_count": 172,
   "id": "proper-adult",
   "metadata": {},
   "outputs": [
    {
     "name": "stdout",
     "output_type": "stream",
     "text": [
      "False\n",
      "True\n"
     ]
    }
   ],
   "source": [
    "x = ['hello']\n",
    "y = ['hello']\n",
    "print (x is y) # is operator is checking the memory address (ID) of two lists\n",
    "print (x == y) # == operator is checking the contents of two lists"
   ]
  },
  {
   "cell_type": "code",
   "execution_count": 173,
   "id": "surprised-gather",
   "metadata": {},
   "outputs": [
    {
     "name": "stdout",
     "output_type": "stream",
     "text": [
      "True\n",
      "True\n"
     ]
    }
   ],
   "source": [
    "x = 'hello'\n",
    "y = 'hello'\n",
    "print (x is y) # is operator is checking the memory address (ID) of two strings\n",
    "print (x == y) # == operator is checking the contents of two strings"
   ]
  },
  {
   "cell_type": "code",
   "execution_count": null,
   "id": "a5331c8c",
   "metadata": {},
   "outputs": [],
   "source": []
  },
  {
   "cell_type": "markdown",
   "id": "modern-background",
   "metadata": {},
   "source": [
    "## Check your Concepts\n",
    "\n",
    "Try answering the following questions to test your understanding of the topics covered in this notebook:\n",
    "\n",
    "1. What is a list in Python?\n",
    "2. How do you create a list?\n",
    "3. Can a Python list contain values of different data types?\n",
    "4. Can a list contain another list as an element within it?\n",
    "5. Can you create a list without any values?\n",
    "6. How do you check the length of a list in Python?\n",
    "7. How do you retrieve a value from a list?\n",
    "8. What is the smallest and largest index you can use to access elements from a list containing five elements?\n",
    "9. What happens if you try to access an index equal to or larger than the size of a list?\n",
    "10. What happens if you try to access a negative index within a list?\n",
    "11. How do you access a range of elements from a list?\n",
    "12. How many elements does the list returned by the expression `a_list[2:5]` contain?\n",
    "13. What do the ranges `a_list[:2]` and `a_list[2:]` represent?\n",
    "14. How do you change the item stored at a specific index within a list?\n",
    "15. How do you insert a new item at the beginning, middle, or end of a list?\n",
    "16. How do you remove an item from al list?\n",
    "17. How do you remove the item at a given index from a list?\n",
    "18. How do you check if a list contains a value?\n",
    "19. How do you combine two or most lists to create a larger list?\n",
    "20. How do you create a copy of a list?\n",
    "21. Does the expression `a_new_list = a_list` create a copy of the list `a_list`?\n",
    "22. How can you find the list of all the methods supported by lists?\n",
    "23. Understand the difference between creating an alias of a list, and shallow copy and deep copy"
   ]
  },
  {
   "cell_type": "markdown",
   "id": "demographic-capital",
   "metadata": {},
   "source": [
    "**Go to https://pythontutor.com/ and copy paste following code to visualize aliasing, shallow and deep copy**"
   ]
  },
  {
   "cell_type": "code",
   "execution_count": null,
   "id": "straight-prefix",
   "metadata": {},
   "outputs": [],
   "source": []
  },
  {
   "cell_type": "markdown",
   "id": "ranking-karaoke",
   "metadata": {},
   "source": [
    "# Practice Programs"
   ]
  },
  {
   "cell_type": "markdown",
   "id": "inclusive-picking",
   "metadata": {},
   "source": [
    "**1. The program takes a list and prints the largest number in the list.**"
   ]
  },
  {
   "cell_type": "code",
   "execution_count": 174,
   "id": "horizontal-throw",
   "metadata": {},
   "outputs": [],
   "source": [
    "list1 = [12, 35, 9, 56, 24]"
   ]
  },
  {
   "cell_type": "code",
   "execution_count": 175,
   "id": "40c60353",
   "metadata": {},
   "outputs": [
    {
     "name": "stdout",
     "output_type": "stream",
     "text": [
      "Original list :  [12, 35, 9, 56, 24]\n"
     ]
    }
   ],
   "source": [
    "print(\"Original list : \", list1)"
   ]
  },
  {
   "cell_type": "code",
   "execution_count": 176,
   "id": "28455ee8",
   "metadata": {},
   "outputs": [],
   "source": [
    "list1.sort()"
   ]
  },
  {
   "cell_type": "code",
   "execution_count": 177,
   "id": "adef833f",
   "metadata": {},
   "outputs": [
    {
     "data": {
      "text/plain": [
       "[9, 12, 24, 35, 56]"
      ]
     },
     "execution_count": 177,
     "metadata": {},
     "output_type": "execute_result"
    }
   ],
   "source": [
    "list1"
   ]
  },
  {
   "cell_type": "code",
   "execution_count": 178,
   "id": "395c6eaf",
   "metadata": {},
   "outputs": [
    {
     "name": "stdout",
     "output_type": "stream",
     "text": [
      "Largest element in the list is :  56\n"
     ]
    }
   ],
   "source": [
    "large = list1[-1]\n",
    "print(\"Largest element in the list is : \", large)"
   ]
  },
  {
   "cell_type": "markdown",
   "id": "blessed-bankruptcy",
   "metadata": {},
   "source": [
    "2. Python program to interchange first and last elements in a list\n",
    "- Input : [12, 35, 9, 56, 24]\n",
    "- Output : [24, 35, 9, 56, 12]\n"
   ]
  },
  {
   "cell_type": "code",
   "execution_count": 179,
   "id": "mobile-reverse",
   "metadata": {},
   "outputs": [
    {
     "data": {
      "text/plain": [
       "[9, 12, 24, 35, 56]"
      ]
     },
     "execution_count": 179,
     "metadata": {},
     "output_type": "execute_result"
    }
   ],
   "source": [
    "list1"
   ]
  },
  {
   "cell_type": "code",
   "execution_count": 180,
   "id": "palestinian-breeding",
   "metadata": {},
   "outputs": [],
   "source": [
    "# swapping\n",
    "list1[0], list1[-1] = list1[-1], list1[0]"
   ]
  },
  {
   "cell_type": "code",
   "execution_count": 181,
   "id": "ebca0f2b",
   "metadata": {},
   "outputs": [],
   "source": [
    "# a = 12\n",
    "# b = 24\n",
    "# print(\"Before swapping : \", a,b)\n",
    "\n",
    "# a , b = b , a\n",
    "# print(\"After Swapping : \", a , b)"
   ]
  },
  {
   "cell_type": "code",
   "execution_count": 182,
   "id": "709f8c1c",
   "metadata": {},
   "outputs": [
    {
     "data": {
      "text/plain": [
       "[56, 12, 24, 35, 9]"
      ]
     },
     "execution_count": 182,
     "metadata": {},
     "output_type": "execute_result"
    }
   ],
   "source": [
    "list1"
   ]
  }
 ],
 "metadata": {
  "kernelspec": {
   "display_name": "Python 3 (ipykernel)",
   "language": "python",
   "name": "python3"
  },
  "language_info": {
   "codemirror_mode": {
    "name": "ipython",
    "version": 3
   },
   "file_extension": ".py",
   "mimetype": "text/x-python",
   "name": "python",
   "nbconvert_exporter": "python",
   "pygments_lexer": "ipython3",
   "version": "3.11.3"
  }
 },
 "nbformat": 4,
 "nbformat_minor": 5
}
