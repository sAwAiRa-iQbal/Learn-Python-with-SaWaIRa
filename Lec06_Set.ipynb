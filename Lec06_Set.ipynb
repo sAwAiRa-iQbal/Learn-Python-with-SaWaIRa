{
 "cells": [
  {
   "cell_type": "markdown",
   "id": "b72a4641",
   "metadata": {},
   "source": [
    "<h1 align=\"center\" style=\"color:red\" >Python-Sets </h1>\n",
    "\n",
    "<br>\n",
    "<br>\n",
    "\n",
    "#### [Click me to learn more about Python Sets](https://docs.python.org/3/tutorial/datastructures.html#sets)"
   ]
  },
  {
   "cell_type": "markdown",
   "id": "8ac4c95a",
   "metadata": {},
   "source": [
    "<img align=\"center\" width=\"600\" height=\"500\"  src=\"https://f4n3x6c5.stackpathcdn.com/article/python-datatypes/Images/pd12.png\" > "
   ]
  },
  {
   "cell_type": "markdown",
   "id": "84f43960",
   "metadata": {},
   "source": [
    "> **A Set is an unordered and unindexed collection of heterogeneous items that is iterable, mutable and has no duplicate elements.**\n",
    "\n",
    "- Like Lists, a set is created by placing comma separated values, but in curly brackets rather square brackets. \n",
    "- Like List, a set also allows us to store elements of different data types in one container.\n",
    "- Like List, it is possible to add, remove, or modify values in a set.\n",
    "- Any immutable data type can be an element of a set: a number, a string, a tuple. Mutable data types cannot be elements of the set.\n",
    "- To be honest, this data structure is extremely useful and is underutilized by beginners, so try to keep it in mind!\n",
    "- The major advantage of using a set, as opposed to a list, is that it has a highly optimized method for membership testing and eliminating duplicate entries\n",
    "\n",
    "<img align=\"center\" width=\"600\" height=\"500\"  src=\"https://pynative.com/wp-content/uploads/2021/03/python-sets.jpg\" > "
   ]
  },
  {
   "cell_type": "code",
   "execution_count": null,
   "id": "e8e32051",
   "metadata": {},
   "outputs": [],
   "source": [
    "# list -> []\n",
    "# tuple -> ()\n",
    "# set -> {}"
   ]
  },
  {
   "cell_type": "markdown",
   "id": "bab7df9e",
   "metadata": {},
   "source": [
    "## Learning agenda of this notebook\n",
    "1. How to create Sets?\n",
    "2. Proof of concepts: Sets are heterogeneous, un-ordered, mutable, nested, and DOES NOT allow duplicate elements\n",
    "3. Accessing elements of sets?\n",
    "4. Slicing a set (can't be performed as there is no index associated with set values)\n",
    "5. Set concatenation and repetition (can't be performed as on list and tuples)\n",
    "6. Adding/Updating elements to a set using `add()`, and `update()` methods\n",
    "7. Removing elements from a set using `pop()`, `remove()` and `discard()` methods. \n",
    "8. Converting string object to set and vice-versa (using type casting, `split()` and `join()`)\n",
    "9. Elements of a set cannot be sorted (being unordered)\n",
    "9. Misc set methods \n",
    "10. Some Built-in functions that can be used on sets (len, max, min, sum)\n",
    "11. Misc Concepts\n",
    "    - Union of sets \n",
    "    - Intersection of sets \n",
    "    - Difference of sets \n",
    "    - Symmetric Difference of sets \n",
    "    - Subsets \n",
    "    - Supersets \n",
    "    - Disjoint sets "
   ]
  },
  {
   "cell_type": "code",
   "execution_count": null,
   "id": "34f38cef",
   "metadata": {},
   "outputs": [],
   "source": [
    "help(set)"
   ]
  },
  {
   "cell_type": "markdown",
   "id": "375fe6cd",
   "metadata": {},
   "source": [
    "## 1. How to create Sets?\n",
    "- A set is created by placing comma separated values in curly brackets `{}`. \n",
    "- The preferred of creating a set is by using `set()` method, and passing a list to it, as curly brackets are also used by dictionary object in Python."
   ]
  },
  {
   "cell_type": "code",
   "execution_count": 1,
   "id": "damaged-threshold",
   "metadata": {},
   "outputs": [],
   "source": [
    "# [2,3,4,]\n",
    "# (3,4,5,)\n",
    "# {3,4,5,5}\n",
    "\n",
    "# dict1 = {}\n",
    "# type(dict1)"
   ]
  },
  {
   "cell_type": "code",
   "execution_count": 2,
   "id": "68e4e104",
   "metadata": {},
   "outputs": [
    {
     "name": "stdout",
     "output_type": "stream",
     "text": [
      "{1, 2, 3, 4, 5} <class 'set'>\n"
     ]
    }
   ],
   "source": [
    "s1 = {1,2,3,4,5} #set of integers\n",
    "\n",
    "print(s1, type(s1))"
   ]
  },
  {
   "cell_type": "code",
   "execution_count": 3,
   "id": "ae0b07af",
   "metadata": {},
   "outputs": [],
   "source": [
    "# set([2,3,4,5]), set((3,4,5,5))"
   ]
  },
  {
   "cell_type": "code",
   "execution_count": 4,
   "id": "ab77412e",
   "metadata": {},
   "outputs": [
    {
     "name": "stdout",
     "output_type": "stream",
     "text": [
      "{1, 2, 3, 4, 5} <class 'set'>\n"
     ]
    }
   ],
   "source": [
    "s2 = set([1, 2, 3, 4, 5])\n",
    "print(s2, type(s2))"
   ]
  },
  {
   "cell_type": "code",
   "execution_count": 5,
   "id": "1b82a24e",
   "metadata": {},
   "outputs": [
    {
     "name": "stdout",
     "output_type": "stream",
     "text": [
      "{3.8, 3.7, 6.5, 7.95}\n"
     ]
    }
   ],
   "source": [
    "s2 = {3.7, 6.5, 3.8, 7.95} #set of floats\n",
    "\n",
    "s2 = set([3.7, 6.5, 3.8, 7.95])\n",
    "print(s2)"
   ]
  },
  {
   "cell_type": "code",
   "execution_count": 6,
   "id": "699523dd",
   "metadata": {},
   "outputs": [
    {
     "name": "stdout",
     "output_type": "stream",
     "text": [
      "{'hello', 'this', 'good show', 'F'}\n"
     ]
    }
   ],
   "source": [
    "s3 = {\"hello\", \"this\", \"F\", \"good show\"}   #set of strings\n",
    "\n",
    "s3 = set([\"hello\", \"this\", \"F\", \"good show\"])\n",
    "print(s3)"
   ]
  },
  {
   "cell_type": "code",
   "execution_count": 7,
   "id": "bcb32ccb",
   "metadata": {},
   "outputs": [
    {
     "name": "stdout",
     "output_type": "stream",
     "text": [
      "{False, True}\n"
     ]
    }
   ],
   "source": [
    "s4 = {True, False, True, True, False}   #set of boolean\n",
    "\n",
    "s4 = set([True, False, True, True, False])\n",
    "print(s4)\n"
   ]
  },
  {
   "cell_type": "code",
   "execution_count": 8,
   "id": "4ba31757",
   "metadata": {},
   "outputs": [
    {
     "name": "stdout",
     "output_type": "stream",
     "text": [
      "set()\n",
      "<class 'set'>\n",
      "{} <class 'dict'>\n"
     ]
    }
   ],
   "source": [
    "# creating an empty set\n",
    "emptyset = {}  # this is not correct way\n",
    "\n",
    "# to create empty set, we can use set()\n",
    "s5 = set()\n",
    "print(s5)\n",
    "print(type(s5))\n",
    "print(emptyset, type(emptyset))"
   ]
  },
  {
   "cell_type": "markdown",
   "id": "55c8f975",
   "metadata": {},
   "source": [
    "## 2. Proof of concepts: Sets are heterogeneous, unordered, mutable, nested, and does not allow duplicate elements"
   ]
  },
  {
   "cell_type": "markdown",
   "id": "39ca07b0",
   "metadata": {},
   "source": [
    "### a. Sets are heterogeneous\n",
    "- Sets are heterogeneous, as their elements/items can be of any data type"
   ]
  },
  {
   "cell_type": "code",
   "execution_count": 10,
   "id": "bc6ff398",
   "metadata": {},
   "outputs": [
    {
     "name": "stdout",
     "output_type": "stream",
     "text": [
      "s1:  {'Sawaira', 5.5, 30}\n"
     ]
    }
   ],
   "source": [
    "s1 = {\"Sawaira\", 30, 5.5}\n",
    "print(\"s1: \", s1)"
   ]
  },
  {
   "cell_type": "markdown",
   "id": "8cab05cb",
   "metadata": {},
   "source": [
    "### b. Sets are unordered\n",
    "- Sets are unordered means elements of a set are NOT associated by any index\n",
    "- When you access set elements they may show up in different sequence. \n",
    "- Moreover, two sets having same elements in different order \n",
    "    - have different memory addresses\n",
    "    - the `is` operator compares the memory adresses\n",
    "    - the `==` operator compares the contents"
   ]
  },
  {
   "cell_type": "code",
   "execution_count": 12,
   "id": "204c5f5a",
   "metadata": {},
   "outputs": [
    {
     "name": "stdout",
     "output_type": "stream",
     "text": [
      "2339202009120\n"
     ]
    }
   ],
   "source": [
    "s2 = set(['Learning', 'Python', 'for', 'Data', 'Science', 'with', 'Sawaira', 'Iqbal'])\n",
    "print(id(s2))"
   ]
  },
  {
   "cell_type": "code",
   "execution_count": 13,
   "id": "0a78ae5f",
   "metadata": {},
   "outputs": [
    {
     "name": "stdout",
     "output_type": "stream",
     "text": [
      "2339202009792\n",
      "2339202009568\n",
      "True\n",
      "False\n"
     ]
    }
   ],
   "source": [
    "a = {1, 2, 3}\n",
    "b = {2, 3, 1}\n",
    "print(id(a), id(b), a == b, a is b, sep=\"\\n\")"
   ]
  },
  {
   "cell_type": "markdown",
   "id": "97158f1c",
   "metadata": {},
   "source": [
    "### c. Sets are mutable\n",
    "- Yes, Python sets are mutable because the set itself may be modified, but the elements contained in the set must be of an immutable type.\n",
    "- However, since sets cannot be indexed, so we can't change them using index withing subscript operator"
   ]
  },
  {
   "cell_type": "code",
   "execution_count": 14,
   "id": "20dd3eb4",
   "metadata": {},
   "outputs": [
    {
     "data": {
      "text/plain": [
       "{10, 20, 30, 40, 50}"
      ]
     },
     "execution_count": 14,
     "metadata": {},
     "output_type": "execute_result"
    }
   ],
   "source": [
    "numbers = set([10, 20, 30, 40, 50])\n",
    "numbers"
   ]
  },
  {
   "cell_type": "code",
   "execution_count": 15,
   "id": "ac0ebca6",
   "metadata": {},
   "outputs": [
    {
     "ename": "TypeError",
     "evalue": "'set' object does not support item assignment",
     "output_type": "error",
     "traceback": [
      "\u001b[1;31m---------------------------------------------------------------------------\u001b[0m",
      "\u001b[1;31mTypeError\u001b[0m                                 Traceback (most recent call last)",
      "Cell \u001b[1;32mIn[15], line 1\u001b[0m\n\u001b[1;32m----> 1\u001b[0m \u001b[43mnumbers\u001b[49m\u001b[43m[\u001b[49m\u001b[38;5;241;43m2\u001b[39;49m\u001b[43m]\u001b[49m \u001b[38;5;241m=\u001b[39m \u001b[38;5;241m15\u001b[39m   \u001b[38;5;66;03m# Will flag an error because set elements cannot be indxed using ubscript operator\u001b[39;00m\n\u001b[0;32m      3\u001b[0m \u001b[38;5;28mprint\u001b[39m(\u001b[38;5;124m\"\u001b[39m\u001b[38;5;124mnumbers: \u001b[39m\u001b[38;5;124m\"\u001b[39m, numbers)\n",
      "\u001b[1;31mTypeError\u001b[0m: 'set' object does not support item assignment"
     ]
    }
   ],
   "source": [
    "numbers[2] = 15   # Will flag an error because set elements cannot be indxed using ubscript operator\n",
    "\n",
    "print(\"numbers: \", numbers)"
   ]
  },
  {
   "cell_type": "markdown",
   "id": "2672fb9b",
   "metadata": {},
   "source": [
    "### d. Sets CANNOT have duplicate elements"
   ]
  },
  {
   "cell_type": "code",
   "execution_count": 26,
   "id": "44eca53d",
   "metadata": {},
   "outputs": [
    {
     "name": "stdout",
     "output_type": "stream",
     "text": [
      "{'Dua', 'Sawaira', 'Ayesha', 'Ali'}\n"
     ]
    }
   ],
   "source": [
    "# Sets do not allow duplicate elements\n",
    "# The following line will not raise an error, however, 'Ehtisham' will be added to the set only once\n",
    "names = {'Sawaira', 'Ali', 'Ayesha', 'Sawaira', 'Dua'}\n",
    "print(names)"
   ]
  },
  {
   "cell_type": "code",
   "execution_count": 27,
   "id": "cf09e096",
   "metadata": {},
   "outputs": [
    {
     "name": "stdout",
     "output_type": "stream",
     "text": [
      "\n",
      "List:  [2, 4, 5, 6, 8, 7, 3, 3, 2]\n"
     ]
    }
   ],
   "source": [
    "# So when we want to remove duplication from list, we typecast it to a set\n",
    "mylist = [2, 4, 5, 6, 8, 7, 3, 3, 2]\n",
    "\n",
    "print(\"\\nList: \", mylist)"
   ]
  },
  {
   "cell_type": "code",
   "execution_count": 28,
   "id": "a9b53680",
   "metadata": {},
   "outputs": [],
   "source": [
    "# help(set.remove)"
   ]
  },
  {
   "cell_type": "code",
   "execution_count": 29,
   "id": "38f3ceaf",
   "metadata": {},
   "outputs": [
    {
     "name": "stdout",
     "output_type": "stream",
     "text": [
      "\n",
      "List converted to set:  {2, 3, 4, 5, 6, 7, 8}\n"
     ]
    }
   ],
   "source": [
    "myset = set(mylist)\n",
    "print(\"\\nList converted to set: \", myset)"
   ]
  },
  {
   "cell_type": "code",
   "execution_count": 30,
   "id": "3e81a9ae",
   "metadata": {},
   "outputs": [
    {
     "name": "stdout",
     "output_type": "stream",
     "text": [
      "[2, 3, 4, 5, 6, 7, 8]\n"
     ]
    }
   ],
   "source": [
    "newlist = list(myset)\n",
    "print(newlist)"
   ]
  },
  {
   "cell_type": "code",
   "execution_count": 31,
   "id": "fda85351",
   "metadata": {},
   "outputs": [],
   "source": [
    "# all code into one line \n",
    "# list(set(mylist))"
   ]
  },
  {
   "cell_type": "markdown",
   "id": "3bdd5021",
   "metadata": {},
   "source": [
    "### e. Mutable data types cannot be elements of the set."
   ]
  },
  {
   "cell_type": "code",
   "execution_count": 33,
   "id": "249a9511",
   "metadata": {},
   "outputs": [
    {
     "data": {
      "text/plain": [
       "{(10, 'Ali'), 30, 5.5, 'Sawaira', True}"
      ]
     },
     "execution_count": 33,
     "metadata": {},
     "output_type": "execute_result"
    }
   ],
   "source": [
    "# You can have a number, string, and tuple type of elements inside a set (being immutable)\n",
    "s1 = {\"Sawaira\", 30, 5.5, True, (10,'Ali')}\n",
    "s1"
   ]
  },
  {
   "cell_type": "code",
   "execution_count": 34,
   "id": "ac591739",
   "metadata": {},
   "outputs": [
    {
     "ename": "TypeError",
     "evalue": "unhashable type: 'list'",
     "output_type": "error",
     "traceback": [
      "\u001b[1;31m---------------------------------------------------------------------------\u001b[0m",
      "\u001b[1;31mTypeError\u001b[0m                                 Traceback (most recent call last)",
      "Cell \u001b[1;32mIn[34], line 2\u001b[0m\n\u001b[0;32m      1\u001b[0m \u001b[38;5;66;03m# You cannot have a list, set or dictionary inside a set (being mutable)\u001b[39;00m\n\u001b[1;32m----> 2\u001b[0m s1 \u001b[38;5;241m=\u001b[39m {\u001b[38;5;124m\"\u001b[39m\u001b[38;5;124mEhtisham\u001b[39m\u001b[38;5;124m\"\u001b[39m, \u001b[38;5;241m30\u001b[39m, \u001b[38;5;241m5.5\u001b[39m, [\u001b[38;5;241m10\u001b[39m,\u001b[38;5;124m'\u001b[39m\u001b[38;5;124mAli\u001b[39m\u001b[38;5;124m'\u001b[39m]}\n\u001b[0;32m      3\u001b[0m s1\n",
      "\u001b[1;31mTypeError\u001b[0m: unhashable type: 'list'"
     ]
    }
   ],
   "source": [
    "# You cannot have a list, set or dictionary inside a set (being mutable)\n",
    "s1 = {\"Ehtisham\", 30, 5.5, [10,'Ali']}\n",
    "s1"
   ]
  },
  {
   "cell_type": "code",
   "execution_count": 36,
   "id": "f88676ce",
   "metadata": {},
   "outputs": [
    {
     "ename": "TypeError",
     "evalue": "unhashable type: 'set'",
     "output_type": "error",
     "traceback": [
      "\u001b[1;31m---------------------------------------------------------------------------\u001b[0m",
      "\u001b[1;31mTypeError\u001b[0m                                 Traceback (most recent call last)",
      "Cell \u001b[1;32mIn[36], line 2\u001b[0m\n\u001b[0;32m      1\u001b[0m \u001b[38;5;66;03m# You cannot have a list, set or dictionary inside a set (being mutable)\u001b[39;00m\n\u001b[1;32m----> 2\u001b[0m s1 \u001b[38;5;241m=\u001b[39m {\u001b[38;5;124m\"\u001b[39m\u001b[38;5;124mSawaira\u001b[39m\u001b[38;5;124m\"\u001b[39m, \u001b[38;5;241m30\u001b[39m, \u001b[38;5;241m5.5\u001b[39m, {\u001b[38;5;241m10\u001b[39m,\u001b[38;5;124m'\u001b[39m\u001b[38;5;124mAli\u001b[39m\u001b[38;5;124m'\u001b[39m}}\n",
      "\u001b[1;31mTypeError\u001b[0m: unhashable type: 'set'"
     ]
    }
   ],
   "source": [
    "# You cannot have a list, set or dictionary inside a set (being mutable)\n",
    "s1 = {\"Sawaira\", 30, 5.5, {10,'Ali'}}"
   ]
  },
  {
   "cell_type": "code",
   "execution_count": 37,
   "id": "74906d5f",
   "metadata": {},
   "outputs": [
    {
     "ename": "TypeError",
     "evalue": "unhashable type: 'dict'",
     "output_type": "error",
     "traceback": [
      "\u001b[1;31m---------------------------------------------------------------------------\u001b[0m",
      "\u001b[1;31mTypeError\u001b[0m                                 Traceback (most recent call last)",
      "Cell \u001b[1;32mIn[37], line 2\u001b[0m\n\u001b[0;32m      1\u001b[0m \u001b[38;5;66;03m# You cannot have a list, set or dictionary inside a set (being mutable)\u001b[39;00m\n\u001b[1;32m----> 2\u001b[0m s1 \u001b[38;5;241m=\u001b[39m {\u001b[38;5;124m\"\u001b[39m\u001b[38;5;124mSawaira\u001b[39m\u001b[38;5;124m\"\u001b[39m, \u001b[38;5;241m30\u001b[39m, \u001b[38;5;241m5.5\u001b[39m, {\u001b[38;5;124m'\u001b[39m\u001b[38;5;124mkey\u001b[39m\u001b[38;5;124m'\u001b[39m:\u001b[38;5;124m'\u001b[39m\u001b[38;5;124mvalue\u001b[39m\u001b[38;5;124m'\u001b[39m}}\n",
      "\u001b[1;31mTypeError\u001b[0m: unhashable type: 'dict'"
     ]
    }
   ],
   "source": [
    "# You cannot have a list, set or dictionary inside a set (being mutable)\n",
    "s1 = {\"Sawaira\", 30, 5.5, {'key':'value'}}"
   ]
  },
  {
   "cell_type": "markdown",
   "id": "f15c5f09",
   "metadata": {},
   "source": [
    "# e. Nested Sets\n",
    "- You can have tuple inside a set\n",
    "- However, you CANNOT have a list, set, and dictionary objects inside a set, because sets cannot contain mutable values\n",
    "- This is one situation where you may wish to use a frozenset, which is very similar to a set except that a frozenset is immutable."
   ]
  },
  {
   "cell_type": "code",
   "execution_count": 38,
   "id": "9b7a9473",
   "metadata": {},
   "outputs": [
    {
     "name": "stdout",
     "output_type": "stream",
     "text": [
      "{'Sawaira', 5.5, (10, 'Ali'), 30}\n"
     ]
    }
   ],
   "source": [
    "# Nested sets: sets can have another tuple as an item\n",
    "s1 = {\"Sawaira\", 30, 5.5, (10,'Ali')}\n",
    "print(s1)"
   ]
  },
  {
   "cell_type": "code",
   "execution_count": 39,
   "id": "730c6029",
   "metadata": {},
   "outputs": [
    {
     "ename": "TypeError",
     "evalue": "unhashable type: 'list'",
     "output_type": "error",
     "traceback": [
      "\u001b[1;31m---------------------------------------------------------------------------\u001b[0m",
      "\u001b[1;31mTypeError\u001b[0m                                 Traceback (most recent call last)",
      "Cell \u001b[1;32mIn[39], line 2\u001b[0m\n\u001b[0;32m      1\u001b[0m \u001b[38;5;66;03m# However, you cannot have a list inside a set, , because sets cannot contain mutable values (lists are mutable)\u001b[39;00m\n\u001b[1;32m----> 2\u001b[0m s1 \u001b[38;5;241m=\u001b[39m {\u001b[38;5;124m\"\u001b[39m\u001b[38;5;124mSawaira\u001b[39m\u001b[38;5;124m\"\u001b[39m, \u001b[38;5;241m30\u001b[39m, \u001b[38;5;241m5.5\u001b[39m, [\u001b[38;5;241m10\u001b[39m,\u001b[38;5;124m'\u001b[39m\u001b[38;5;124mAli\u001b[39m\u001b[38;5;124m'\u001b[39m]} \u001b[38;5;66;03m# Error unhashable type list\u001b[39;00m\n",
      "\u001b[1;31mTypeError\u001b[0m: unhashable type: 'list'"
     ]
    }
   ],
   "source": [
    "# However, you cannot have a list inside a set, , because sets cannot contain mutable values (lists are mutable)\n",
    "s1 = {\"Sawaira\", 30, 5.5, [10,'Ali']} # Error unhashable type list"
   ]
  },
  {
   "cell_type": "code",
   "execution_count": 40,
   "id": "78cb26b4",
   "metadata": {},
   "outputs": [
    {
     "ename": "TypeError",
     "evalue": "unhashable type: 'set'",
     "output_type": "error",
     "traceback": [
      "\u001b[1;31m---------------------------------------------------------------------------\u001b[0m",
      "\u001b[1;31mTypeError\u001b[0m                                 Traceback (most recent call last)",
      "Cell \u001b[1;32mIn[40], line 2\u001b[0m\n\u001b[0;32m      1\u001b[0m \u001b[38;5;66;03m# Similarly, you cannot have a set within a set, because sets cannot contain mutable values (sets are mutable)\u001b[39;00m\n\u001b[1;32m----> 2\u001b[0m s1 \u001b[38;5;241m=\u001b[39m {\u001b[38;5;124m\"\u001b[39m\u001b[38;5;124mSawaira\u001b[39m\u001b[38;5;124m\"\u001b[39m, \u001b[38;5;241m30\u001b[39m, \u001b[38;5;241m5.5\u001b[39m, {\u001b[38;5;241m10\u001b[39m,\u001b[38;5;124m'\u001b[39m\u001b[38;5;124mAli\u001b[39m\u001b[38;5;124m'\u001b[39m}} \u001b[38;5;66;03m# Error unhashable type set\u001b[39;00m\n",
      "\u001b[1;31mTypeError\u001b[0m: unhashable type: 'set'"
     ]
    }
   ],
   "source": [
    "# Similarly, you cannot have a set within a set, because sets cannot contain mutable values (sets are mutable)\n",
    "s1 = {\"Sawaira\", 30, 5.5, {10,'Ali'}} # Error unhashable type set"
   ]
  },
  {
   "cell_type": "markdown",
   "id": "188b18b7",
   "metadata": {},
   "source": [
    "# f. Packing and Unpacking Sets"
   ]
  },
  {
   "cell_type": "code",
   "execution_count": 41,
   "id": "ca04fd8b",
   "metadata": {},
   "outputs": [
    {
     "name": "stdout",
     "output_type": "stream",
     "text": [
      "{'Data', 'Python', 'with', 'Iqbal', 'Learning', 'Sawaira', 'Science', 'for'}\n"
     ]
    }
   ],
   "source": [
    "# you can unpack set elements\n",
    "myset = set(['Learning', 'Python', 'for', 'Data', 'Science', 'with', 'Sawaira', 'Iqbal'])\n",
    "print(myset)"
   ]
  },
  {
   "cell_type": "code",
   "execution_count": 43,
   "id": "47e7dc57",
   "metadata": {},
   "outputs": [
    {
     "name": "stdout",
     "output_type": "stream",
     "text": [
      "8\n",
      "Data\n",
      "Python\n",
      "with\n",
      "Iqbal\n",
      "Learning\n"
     ]
    }
   ],
   "source": [
    "print(len(myset))\n",
    "a, b, c, d, e, f, g, h = myset # the number of variables on the left must match the length of set\n",
    "print(a, b, c, d, e, sep=\"\\n\")"
   ]
  },
  {
   "cell_type": "markdown",
   "id": "343a1c9f",
   "metadata": {},
   "source": [
    "**Note the randomness, because sets are unordered**"
   ]
  },
  {
   "cell_type": "code",
   "execution_count": 45,
   "id": "4daa862f",
   "metadata": {},
   "outputs": [
    {
     "name": "stdout",
     "output_type": "stream",
     "text": [
      "('Data', 'Python', 'with', 'Iqbal', 'Learning', 'Sawaira', 'Science')\n"
     ]
    }
   ],
   "source": [
    "# you can pack individual elements to a set\n",
    "t1 = a, b, c, d, e, f, g # By default they are packed into a tuple\n",
    "print(t1)"
   ]
  },
  {
   "cell_type": "code",
   "execution_count": 46,
   "id": "74d3c474",
   "metadata": {},
   "outputs": [
    {
     "name": "stdout",
     "output_type": "stream",
     "text": [
      "{'Data', 'Python', 'with', 'Iqbal', 'Learning', 'Sawaira', 'Science'}\n",
      "<class 'set'>\n"
     ]
    }
   ],
   "source": [
    "set2 = set(t1)      # So you have to type cast it to set\n",
    "print(set2)\n",
    "print(type(set2))"
   ]
  },
  {
   "cell_type": "markdown",
   "id": "828e48f6",
   "metadata": {},
   "source": [
    "## 3. Different ways to access elements of a Set\n",
    "- Since sets are unordered, i.e., items of a set have no associated index, therefore elements of a Set cannot be accessed by referring to an index\n",
    "- However, you can access individual set elements using a for loop\n",
    "- Ask if a specified value is present in a set, by using the `in` operator."
   ]
  },
  {
   "cell_type": "code",
   "execution_count": 47,
   "id": "ef2037c4",
   "metadata": {},
   "outputs": [
    {
     "name": "stdout",
     "output_type": "stream",
     "text": [
      "myset:  {'Data', 'Python', 'with', 'Iqbal', 'Learning', 'Sawaira', 'Science', 'for'}\n"
     ]
    }
   ],
   "source": [
    "# Set items cannot be accessed by referring to an index, since sets are unordered the items has no index. \n",
    "\n",
    "# method 1\n",
    "myset = set(['Learning', 'Python', 'for', 'Data', 'Science', 'with', 'Sawaira', 'Iqbal'])\n",
    "\n",
    "# method 2\n",
    "myset = {'Learning', 'Python', 'for', 'Data', 'Science', 'with', 'Sawaira', 'Iqbal'}\n",
    "print(\"myset: \", myset)"
   ]
  },
  {
   "cell_type": "code",
   "execution_count": 48,
   "id": "474ec9a8",
   "metadata": {},
   "outputs": [
    {
     "name": "stdout",
     "output_type": "stream",
     "text": [
      "Data\n",
      "Python\n",
      "with\n",
      "Iqbal\n",
      "Learning\n",
      "Sawaira\n",
      "Science\n",
      "for\n"
     ]
    }
   ],
   "source": [
    "# But you can loop through the set items using a for loop\n",
    "myset = set(['Learning', 'Python', 'for', 'Data', 'Science', 'with', 'Sawaira', 'Iqbal'])\n",
    "\n",
    "\n",
    "for i in myset:\n",
    "    print(i)"
   ]
  },
  {
   "cell_type": "code",
   "execution_count": 49,
   "id": "f65bd44a",
   "metadata": {},
   "outputs": [
    {
     "data": {
      "text/plain": [
       "True"
      ]
     },
     "execution_count": 49,
     "metadata": {},
     "output_type": "execute_result"
    }
   ],
   "source": [
    "# To check if a specific element is there in the set, use the in keyword\n",
    "rv = 'Data' in myset\n",
    "rv"
   ]
  },
  {
   "cell_type": "code",
   "execution_count": 50,
   "id": "73b65377",
   "metadata": {},
   "outputs": [
    {
     "data": {
      "text/plain": [
       "False"
      ]
     },
     "execution_count": 50,
     "metadata": {},
     "output_type": "execute_result"
    }
   ],
   "source": [
    "# To check if a specific element is there in the set, use the in keyword\n",
    "rv = 'Data1' in myset\n",
    "rv"
   ]
  },
  {
   "cell_type": "markdown",
   "id": "6981795a",
   "metadata": {},
   "source": [
    "## 4. You cannot perform Slicing on Sets\n",
    "- Slicing is the process of obtaining a portion of a sequence by using its indices.\n",
    "- Since no indices are associated with Set elements, so they do not support slicing or indexing in `[ ]` operator"
   ]
  },
  {
   "cell_type": "markdown",
   "id": "f675f997",
   "metadata": {},
   "source": [
    "## 5. You cannot perform Set Concatenation and Repetition\n",
    "- The concatenation operator `+` and replication operator `*` does not work on sets, as there is no index associated with set elements. So concatenation and repetition using `+` and `*` operator doesnot make any sense"
   ]
  },
  {
   "cell_type": "markdown",
   "id": "0089ec98",
   "metadata": {},
   "source": [
    "## 6. Adding elements to a Set\n",
    "- Sets are dynamic, as we write our Python program, we can actually make changes to our already created set, whithout having to go for compiling it again. \n",
    "- If we have to add certain elements to an already created set, the original set gorws dynamically without the need of compiling/running the program again (as in case of heap memory in C/C++)"
   ]
  },
  {
   "cell_type": "markdown",
   "id": "f15562e5",
   "metadata": {},
   "source": [
    "### a. Cannot Modify/Add elements to a set using [ ] operator"
   ]
  },
  {
   "cell_type": "markdown",
   "id": "054f79f4",
   "metadata": {},
   "source": [
    "### b. Adding elements to a set using `set.add(value)` method\n",
    "- The `set.add(val)` method is used to add an element to a set\n",
    "- Only one element at a time can be added to the set by using `set.add()` method\n",
    "- Lists and sets cannot be added to a set as elements because they are mutable (hashable)\n",
    "- Tuples can be added because tuples are immutable and hence Hashable. "
   ]
  },
  {
   "cell_type": "code",
   "execution_count": 51,
   "id": "4376bcfa",
   "metadata": {},
   "outputs": [
    {
     "name": "stdout",
     "output_type": "stream",
     "text": [
      "Help on method_descriptor:\n",
      "\n",
      "add(...)\n",
      "    Add an element to a set.\n",
      "    \n",
      "    This has no effect if the element is already present.\n",
      "\n"
     ]
    }
   ],
   "source": [
    "help(set.add)"
   ]
  },
  {
   "cell_type": "code",
   "execution_count": 52,
   "id": "37eca3ae",
   "metadata": {},
   "outputs": [
    {
     "data": {
      "text/plain": [
       "set()"
      ]
     },
     "execution_count": 52,
     "metadata": {},
     "output_type": "execute_result"
    }
   ],
   "source": [
    "#create an empty set\n",
    "set1 = set()\n",
    "set1"
   ]
  },
  {
   "cell_type": "code",
   "execution_count": 53,
   "id": "b3272262",
   "metadata": {},
   "outputs": [],
   "source": [
    "set1.add(25)\n",
    "set1.add(73)"
   ]
  },
  {
   "cell_type": "code",
   "execution_count": 54,
   "id": "114e01ad",
   "metadata": {},
   "outputs": [
    {
     "data": {
      "text/plain": [
       "{25, 73}"
      ]
     },
     "execution_count": 54,
     "metadata": {},
     "output_type": "execute_result"
    }
   ],
   "source": [
    "set1"
   ]
  },
  {
   "cell_type": "code",
   "execution_count": 55,
   "id": "8dffa764",
   "metadata": {},
   "outputs": [
    {
     "data": {
      "text/plain": [
       "{25, 73}"
      ]
     },
     "execution_count": 55,
     "metadata": {},
     "output_type": "execute_result"
    }
   ],
   "source": [
    "# Adding an existing element\n",
    "set1.add(25)\n",
    "set1"
   ]
  },
  {
   "cell_type": "code",
   "execution_count": 56,
   "id": "dce1fa75",
   "metadata": {},
   "outputs": [
    {
     "data": {
      "text/plain": [
       "{(19, 25), 25, 73}"
      ]
     },
     "execution_count": 56,
     "metadata": {},
     "output_type": "execute_result"
    }
   ],
   "source": [
    "# Adding a tuple to a set\n",
    "set1.add((19,25))\n",
    "set1"
   ]
  },
  {
   "cell_type": "code",
   "execution_count": 57,
   "id": "39de81fd",
   "metadata": {},
   "outputs": [
    {
     "ename": "TypeError",
     "evalue": "unhashable type: 'list'",
     "output_type": "error",
     "traceback": [
      "\u001b[1;31m---------------------------------------------------------------------------\u001b[0m",
      "\u001b[1;31mTypeError\u001b[0m                                 Traceback (most recent call last)",
      "Cell \u001b[1;32mIn[57], line 2\u001b[0m\n\u001b[0;32m      1\u001b[0m \u001b[38;5;66;03m# Adding a list to a set\u001b[39;00m\n\u001b[1;32m----> 2\u001b[0m \u001b[43mset1\u001b[49m\u001b[38;5;241;43m.\u001b[39;49m\u001b[43madd\u001b[49m\u001b[43m(\u001b[49m\u001b[43m[\u001b[49m\u001b[38;5;241;43m19\u001b[39;49m\u001b[43m,\u001b[49m\u001b[38;5;241;43m25\u001b[39;49m\u001b[43m]\u001b[49m\u001b[43m)\u001b[49m\n",
      "\u001b[1;31mTypeError\u001b[0m: unhashable type: 'list'"
     ]
    }
   ],
   "source": [
    "# Adding a list to a set\n",
    "set1.add([19,25])"
   ]
  },
  {
   "cell_type": "code",
   "execution_count": 58,
   "id": "c2c6c857",
   "metadata": {},
   "outputs": [
    {
     "ename": "TypeError",
     "evalue": "unhashable type: 'set'",
     "output_type": "error",
     "traceback": [
      "\u001b[1;31m---------------------------------------------------------------------------\u001b[0m",
      "\u001b[1;31mTypeError\u001b[0m                                 Traceback (most recent call last)",
      "Cell \u001b[1;32mIn[58], line 2\u001b[0m\n\u001b[0;32m      1\u001b[0m \u001b[38;5;66;03m# Adding a set to a set\u001b[39;00m\n\u001b[1;32m----> 2\u001b[0m \u001b[43mset1\u001b[49m\u001b[38;5;241;43m.\u001b[39;49m\u001b[43madd\u001b[49m\u001b[43m(\u001b[49m\u001b[43m{\u001b[49m\u001b[38;5;241;43m19\u001b[39;49m\u001b[43m,\u001b[49m\u001b[38;5;241;43m25\u001b[39;49m\u001b[43m}\u001b[49m\u001b[43m)\u001b[49m\n",
      "\u001b[1;31mTypeError\u001b[0m: unhashable type: 'set'"
     ]
    }
   ],
   "source": [
    "# Adding a set to a set\n",
    "set1.add({19,25})"
   ]
  },
  {
   "cell_type": "code",
   "execution_count": 59,
   "id": "3273a3b1",
   "metadata": {},
   "outputs": [
    {
     "name": "stdout",
     "output_type": "stream",
     "text": [
      "Set after adding three elements:  {73, 25, (19, 25)}\n"
     ]
    }
   ],
   "source": [
    "print(\"Set after adding three elements: \", set1)\n"
   ]
  },
  {
   "cell_type": "markdown",
   "id": "6fa7f3ff",
   "metadata": {},
   "source": [
    "### c. Adding elements to a set using `set.add(val)` or `set.update(val)` method\n",
    "- The `set.add(val)` method is used to add a single element to a set\n",
    "- The `set.update(val)` method is used to add two or more elements to a set\n",
    "- If the value already exist no change occur\n",
    "- Lists and sets cannot be added to a set as elements because they are not hashable \n",
    "- Tuples can be added because tuples are immutable and hence Hashable. "
   ]
  },
  {
   "cell_type": "code",
   "execution_count": 60,
   "id": "e1667dd0",
   "metadata": {},
   "outputs": [
    {
     "name": "stdout",
     "output_type": "stream",
     "text": [
      "Help on built-in function add:\n",
      "\n",
      "add(...) method of builtins.set instance\n",
      "    Add an element to a set.\n",
      "    \n",
      "    This has no effect if the element is already present.\n",
      "\n"
     ]
    }
   ],
   "source": [
    "s1 = set()\n",
    "help(s1.add)"
   ]
  },
  {
   "cell_type": "code",
   "execution_count": 61,
   "id": "f8f7703e",
   "metadata": {},
   "outputs": [
    {
     "name": "stdout",
     "output_type": "stream",
     "text": [
      "Help on built-in function update:\n",
      "\n",
      "update(...) method of builtins.set instance\n",
      "    Update a set with the union of itself and others.\n",
      "\n"
     ]
    }
   ],
   "source": [
    "set1 = set()\n",
    "help(set1.update)"
   ]
  },
  {
   "cell_type": "code",
   "execution_count": 62,
   "id": "a20a9c65",
   "metadata": {},
   "outputs": [
    {
     "data": {
      "text/plain": [
       "{4, 9, 12, 99}"
      ]
     },
     "execution_count": 62,
     "metadata": {},
     "output_type": "execute_result"
    }
   ],
   "source": [
    "# add() method is used to add a single element, passed as a list\n",
    "set1 = set([4, 9, 12])\n",
    "set1.add(99)\n",
    "set1.add(4) # Note the duplicate element 4 will not be added twice\n",
    "set1"
   ]
  },
  {
   "cell_type": "code",
   "execution_count": 63,
   "id": "4ef16f1b",
   "metadata": {},
   "outputs": [],
   "source": [
    "# update() method is used to add one, two or more elements, passed as a list\n",
    "set1 = set([4, 9, 12])\n"
   ]
  },
  {
   "cell_type": "code",
   "execution_count": 64,
   "id": "181a2bec",
   "metadata": {},
   "outputs": [
    {
     "data": {
      "text/plain": [
       "{3.5, 4, 9, 12, 99}"
      ]
     },
     "execution_count": 64,
     "metadata": {},
     "output_type": "execute_result"
    }
   ],
   "source": [
    "set1.update([99])\n",
    "set1.update([4, 3.5]) # Note the duplicate element 4 will not be added twice\n",
    "set1"
   ]
  },
  {
   "cell_type": "code",
   "execution_count": 65,
   "id": "b619bbe3",
   "metadata": {},
   "outputs": [
    {
     "data": {
      "text/plain": [
       "{12, 4, 45, 9, 'Iqbal', 'Sawaira'}"
      ]
     },
     "execution_count": 65,
     "metadata": {},
     "output_type": "execute_result"
    }
   ],
   "source": [
    "# update() method is used to add one two or more elements, passed as a list\n",
    "set3 = set([4, 9, 12])\n",
    "set3.update(['Sawaira', 'Iqbal', 45])\n",
    "set3"
   ]
  },
  {
   "cell_type": "code",
   "execution_count": 66,
   "id": "c5267657",
   "metadata": {},
   "outputs": [
    {
     "data": {
      "text/plain": [
       "{4, 9, 12, 33}"
      ]
     },
     "execution_count": 66,
     "metadata": {},
     "output_type": "execute_result"
    }
   ],
   "source": [
    "# You cannot add a single numeric value being not iterable\n",
    "set2 = set([4, 9, 12])\n",
    "set2.update([33])\n",
    "set2"
   ]
  },
  {
   "cell_type": "code",
   "execution_count": 68,
   "id": "9279b662",
   "metadata": {},
   "outputs": [
    {
     "data": {
      "text/plain": [
       "{12, 4, 9, 'S', 'Sawaira', 'a', 'i', 'r', 'w'}"
      ]
     },
     "execution_count": 68,
     "metadata": {},
     "output_type": "execute_result"
    }
   ],
   "source": [
    "# See what happens when you add a string \n",
    "set2 = set([4, 9, 12])\n",
    "set2.update('Sawaira')\n",
    "set2.update(['Sawaira'])\n",
    "set2"
   ]
  },
  {
   "cell_type": "code",
   "execution_count": 69,
   "id": "9671ff93",
   "metadata": {},
   "outputs": [
    {
     "data": {
      "text/plain": [
       "{(44, 33), (99, 88), 12, 4, 9}"
      ]
     },
     "execution_count": 69,
     "metadata": {},
     "output_type": "execute_result"
    }
   ],
   "source": [
    "# the update() method also accepts a list having one or more tuples as its argument\n",
    "set4 = set([4, 9, 12])\n",
    "set4.update([(99, 88), (44, 33)])\n",
    "set4"
   ]
  },
  {
   "cell_type": "markdown",
   "id": "01969759",
   "metadata": {},
   "source": [
    "## 7. Removing elements from a set\n",
    "- Sets are dynamic, as we write our Python program, we can actually make changes to our already created sets, whithout having to go for compiling it again. \n",
    "- If we have to remove certain elements from an already created set, the original set shrinks dynamically without the need of compiling/running the program again (as in case of heap memory in C/C++)"
   ]
  },
  {
   "cell_type": "markdown",
   "id": "e68b7d6e",
   "metadata": {},
   "source": [
    "### a. Removing element from a set using `set.pop(index)` method\n",
    "- The `set.pop()` method removes and return an arbitrary set element"
   ]
  },
  {
   "cell_type": "code",
   "execution_count": 70,
   "id": "f2f0cf51",
   "metadata": {},
   "outputs": [
    {
     "name": "stdout",
     "output_type": "stream",
     "text": [
      "Help on built-in function pop:\n",
      "\n",
      "pop(...) method of builtins.set instance\n",
      "    Remove and return an arbitrary set element.\n",
      "    Raises KeyError if the set is empty.\n",
      "\n"
     ]
    }
   ],
   "source": [
    "s1 = set()\n",
    "help(s1.pop)"
   ]
  },
  {
   "cell_type": "code",
   "execution_count": 71,
   "id": "25872094",
   "metadata": {},
   "outputs": [
    {
     "name": "stdout",
     "output_type": "stream",
     "text": [
      "Original set:  {'Data', 'Python', 'with', 'Iqbal', 'Learning', 'Sawaira', 'Science', 'for'}\n"
     ]
    }
   ],
   "source": [
    "s1 = {'Learning', 'Python', 'for', 'Data', 'Science', 'with', 'Sawaira', 'Iqbal'}\n",
    "\n",
    "print(\"Original set: \", s1)"
   ]
  },
  {
   "cell_type": "code",
   "execution_count": 72,
   "id": "c94e6976",
   "metadata": {},
   "outputs": [
    {
     "name": "stdout",
     "output_type": "stream",
     "text": [
      "Element popped is:  Data\n",
      "Set now is:  {'Python', 'with', 'Iqbal', 'Learning', 'Sawaira', 'Science', 'for'}\n"
     ]
    }
   ],
   "source": [
    "x  = s1.pop()\n",
    "print(\"Element popped is: \", x)\n",
    "print(\"Set now is: \", s1)"
   ]
  },
  {
   "cell_type": "markdown",
   "id": "c671b027",
   "metadata": {},
   "source": [
    "### b. Removing element from a set using `set.remove(val)` method\n",
    "- The `set.remove(val)` method is used to remove a specific element by value from a set without returning it\n",
    "- The remove method is passed exactly one argument, which is the value to be removed and returns none/void"
   ]
  },
  {
   "cell_type": "code",
   "execution_count": 73,
   "id": "7f107f44",
   "metadata": {},
   "outputs": [
    {
     "name": "stdout",
     "output_type": "stream",
     "text": [
      "Help on built-in function remove:\n",
      "\n",
      "remove(...) method of builtins.set instance\n",
      "    Remove an element from a set; it must be a member.\n",
      "    \n",
      "    If the element is not a member, raise a KeyError.\n",
      "\n"
     ]
    }
   ],
   "source": [
    "s1 = set()\n",
    "help(s1.remove)"
   ]
  },
  {
   "cell_type": "code",
   "execution_count": 74,
   "id": "60866510",
   "metadata": {},
   "outputs": [],
   "source": [
    "# help(list.remove)"
   ]
  },
  {
   "cell_type": "code",
   "execution_count": 75,
   "id": "4f57faff",
   "metadata": {},
   "outputs": [
    {
     "name": "stdout",
     "output_type": "stream",
     "text": [
      "\n",
      "Original set:  {'Data', 'Python', 'with', 'Iqbal', 'Learning', 'Sawaira', 'Science', 'for'}\n"
     ]
    }
   ],
   "source": [
    "s2 = {'Learning', 'Python', 'for', 'Data', 'Science', 'with', 'Sawaira', 'Iqbal'}\n",
    "print(\"\\nOriginal set: \", s2)\n",
    "x = s2.remove('Data')\n",
    "# print(x)"
   ]
  },
  {
   "cell_type": "code",
   "execution_count": 76,
   "id": "09f21773",
   "metadata": {},
   "outputs": [
    {
     "name": "stdout",
     "output_type": "stream",
     "text": [
      "After remove('Data'):  {'Python', 'with', 'Iqbal', 'Learning', 'Sawaira', 'Science', 'for'}\n",
      "Return value of remove() is:  None\n"
     ]
    },
    {
     "ename": "KeyError",
     "evalue": "'ali'",
     "output_type": "error",
     "traceback": [
      "\u001b[1;31m---------------------------------------------------------------------------\u001b[0m",
      "\u001b[1;31mKeyError\u001b[0m                                  Traceback (most recent call last)",
      "Cell \u001b[1;32mIn[76], line 7\u001b[0m\n\u001b[0;32m      3\u001b[0m \u001b[38;5;28mprint\u001b[39m(\u001b[38;5;124m\"\u001b[39m\u001b[38;5;124mReturn value of remove() is: \u001b[39m\u001b[38;5;124m\"\u001b[39m, x)\n\u001b[0;32m      5\u001b[0m \u001b[38;5;66;03m# If the element to be removed does not exist in the set remove() method will flag an error\u001b[39;00m\n\u001b[1;32m----> 7\u001b[0m \u001b[43ms2\u001b[49m\u001b[38;5;241;43m.\u001b[39;49m\u001b[43mremove\u001b[49m\u001b[43m(\u001b[49m\u001b[38;5;124;43m\"\u001b[39;49m\u001b[38;5;124;43mali\u001b[39;49m\u001b[38;5;124;43m\"\u001b[39;49m\u001b[43m)\u001b[49m\n",
      "\u001b[1;31mKeyError\u001b[0m: 'ali'"
     ]
    }
   ],
   "source": [
    "print(\"After remove('Data'): \", s2)\n",
    "\n",
    "print(\"Return value of remove() is: \", x)\n",
    "\n",
    "# If the element to be removed does not exist in the set remove() method will flag an error\n",
    "\n",
    "s2.remove(\"ali\")"
   ]
  },
  {
   "cell_type": "markdown",
   "id": "3e3173d2",
   "metadata": {},
   "source": [
    "### c. Removing element from a set using `set.discard(val)` method\n",
    "- The `set.discard(val)` like `set.remove(val)` method is used to remove a specific element by value from a set without returning it\n",
    "- The advantage of using `set.discard(val)` method is that, if the element doesn’t exist in the set, no error is raised and the set remains unchanged."
   ]
  },
  {
   "cell_type": "code",
   "execution_count": 77,
   "id": "6d7e82ec",
   "metadata": {},
   "outputs": [
    {
     "name": "stdout",
     "output_type": "stream",
     "text": [
      "Help on built-in function discard:\n",
      "\n",
      "discard(...) method of builtins.set instance\n",
      "    Remove an element from a set if it is a member.\n",
      "    \n",
      "    Unlike set.remove(), the discard() method does not raise\n",
      "    an exception when an element is missing from the set.\n",
      "\n"
     ]
    }
   ],
   "source": [
    "s1 = set()\n",
    "help(s1.discard)"
   ]
  },
  {
   "cell_type": "code",
   "execution_count": 63,
   "id": "1aea3ce6",
   "metadata": {},
   "outputs": [],
   "source": [
    "s2 = {'Learning', 'Python', 'for', 'Data', 'Science', 'with', 'Sawaira', 'Iqbal'}"
   ]
  },
  {
   "cell_type": "code",
   "execution_count": 78,
   "id": "b37a3c89",
   "metadata": {},
   "outputs": [
    {
     "name": "stdout",
     "output_type": "stream",
     "text": [
      "{'Python', 'Iqbal', 'Learning', 'Sawaira', 'Science', 'for'} None\n"
     ]
    }
   ],
   "source": [
    "y = s2.discard('with')\n",
    "print(s2,y)"
   ]
  },
  {
   "cell_type": "markdown",
   "id": "dda6cf82",
   "metadata": {},
   "source": [
    "### d. Using `set.clear()` method to remove all the set elements"
   ]
  },
  {
   "cell_type": "code",
   "execution_count": 79,
   "id": "68d85dc0",
   "metadata": {},
   "outputs": [
    {
     "data": {
      "text/plain": [
       "{'Data', 'Iqbal', 'Learning', 'Python', 'Sawaira', 'Science', 'for', 'with'}"
      ]
     },
     "execution_count": 79,
     "metadata": {},
     "output_type": "execute_result"
    }
   ],
   "source": [
    "#use the clear() method to empty a set\n",
    "s2 = {'Learning', 'Python', 'for', 'Data', 'Science', 'with', 'Sawaira', 'Iqbal'}\n",
    "s2"
   ]
  },
  {
   "cell_type": "code",
   "execution_count": 80,
   "id": "31117f63",
   "metadata": {},
   "outputs": [
    {
     "data": {
      "text/plain": [
       "set()"
      ]
     },
     "execution_count": 80,
     "metadata": {},
     "output_type": "execute_result"
    }
   ],
   "source": [
    "s2.clear()\n",
    "s2"
   ]
  },
  {
   "cell_type": "markdown",
   "id": "b25354c2",
   "metadata": {},
   "source": [
    "### e. Using `del` Keyword to delete the set entirely from memory"
   ]
  },
  {
   "cell_type": "code",
   "execution_count": 81,
   "id": "149dc87f",
   "metadata": {},
   "outputs": [
    {
     "data": {
      "text/plain": [
       "{'Data', 'Iqbal', 'Learning', 'Python', 'Sawaira', 'Science', 'for', 'with'}"
      ]
     },
     "execution_count": 81,
     "metadata": {},
     "output_type": "execute_result"
    }
   ],
   "source": [
    "# use del keyword to delete entire set, (you cannot delete a specific element as it is non-indexed)\n",
    "s1 = {'Learning', 'Python', 'for', 'Data', 'Science', 'with', 'Sawaira', 'Iqbal'}\n",
    "s1"
   ]
  },
  {
   "cell_type": "code",
   "execution_count": 82,
   "id": "20feadb2",
   "metadata": {},
   "outputs": [],
   "source": [
    "del s1"
   ]
  },
  {
   "cell_type": "code",
   "execution_count": 83,
   "id": "ab3dc63d",
   "metadata": {},
   "outputs": [
    {
     "ename": "NameError",
     "evalue": "name 's1' is not defined",
     "output_type": "error",
     "traceback": [
      "\u001b[1;31m---------------------------------------------------------------------------\u001b[0m",
      "\u001b[1;31mNameError\u001b[0m                                 Traceback (most recent call last)",
      "Cell \u001b[1;32mIn[83], line 1\u001b[0m\n\u001b[1;32m----> 1\u001b[0m \u001b[38;5;28mprint\u001b[39m(\u001b[43ms1\u001b[49m)\n",
      "\u001b[1;31mNameError\u001b[0m: name 's1' is not defined"
     ]
    }
   ],
   "source": [
    "print(s1)"
   ]
  },
  {
   "cell_type": "markdown",
   "id": "03e06036",
   "metadata": {},
   "source": [
    "## 8. Converting string object to set and vice-versa (using type casting, split() and join())"
   ]
  },
  {
   "cell_type": "markdown",
   "id": "051759d3",
   "metadata": {},
   "source": [
    "### a. Type Casting"
   ]
  },
  {
   "cell_type": "code",
   "execution_count": 84,
   "id": "24e78729",
   "metadata": {},
   "outputs": [
    {
     "name": "stdout",
     "output_type": "stream",
     "text": [
      "Original string:  Data Science using Python\n"
     ]
    }
   ],
   "source": [
    "# convert a string into set using set()\n",
    "str1 = 'Data Science using Python'    #this is a string\n",
    "print(\"Original string: \", str1)\n",
    "\n"
   ]
  },
  {
   "cell_type": "code",
   "execution_count": 85,
   "id": "2992819a",
   "metadata": {},
   "outputs": [],
   "source": [
    "# print(list(str1))\n",
    "# print(tuple(str1))\n",
    "# print(set(str1))"
   ]
  },
  {
   "cell_type": "code",
   "execution_count": 86,
   "id": "aa42aa48",
   "metadata": {},
   "outputs": [
    {
     "name": "stdout",
     "output_type": "stream",
     "text": [
      "s1: \n",
      "{' ', 'c', 'g', 'a', 'o', 'h', 't', 's', 'n', 'y', 'P', 'u', 'S', 'e', 'i', 'D'}\n",
      "and its type is:  \n",
      "<class 'set'>\n"
     ]
    }
   ],
   "source": [
    "s1 = set(str1)\n",
    "print(\"s1: \", s1, \"and its type is:  \", type(s1), sep=\"\\n\")"
   ]
  },
  {
   "cell_type": "markdown",
   "id": "a19b18c0",
   "metadata": {},
   "source": [
    "### b. Use `str.split()` to Split a Tuple into Strings\n",
    "- Used to tokenize a string based on some delimiter, which can be stored in a Tuple\n",
    "- It returns a list having tokens of the string based on spaces if no argument is passed"
   ]
  },
  {
   "cell_type": "code",
   "execution_count": 87,
   "id": "da289249",
   "metadata": {},
   "outputs": [
    {
     "name": "stdout",
     "output_type": "stream",
     "text": [
      "Help on built-in function split:\n",
      "\n",
      "split(sep=None, maxsplit=-1) method of builtins.str instance\n",
      "    Return a list of the substrings in the string, using sep as the separator string.\n",
      "    \n",
      "      sep\n",
      "        The separator used to split the string.\n",
      "    \n",
      "        When set to None (the default value), will split on any whitespace\n",
      "        character (including \\\\n \\\\r \\\\t \\\\f and spaces) and will discard\n",
      "        empty strings from the result.\n",
      "      maxsplit\n",
      "        Maximum number of splits (starting from the left).\n",
      "        -1 (the default value) means no limit.\n",
      "    \n",
      "    Note, str.split() is mainly useful for data that has been intentionally\n",
      "    delimited.  With natural text that includes punctuation, consider using\n",
      "    the regular expression module.\n",
      "\n"
     ]
    }
   ],
   "source": [
    "str1 = \"\"\n",
    "help(str1.split)"
   ]
  },
  {
   "cell_type": "code",
   "execution_count": 88,
   "id": "1a729e8c",
   "metadata": {},
   "outputs": [
    {
     "data": {
      "text/plain": [
       "['Data', 'Science', 'using', 'Python']"
      ]
     },
     "execution_count": 88,
     "metadata": {},
     "output_type": "execute_result"
    }
   ],
   "source": [
    "str1 = 'Data Science using Python'    #this is a string\n",
    "str1.split()"
   ]
  },
  {
   "cell_type": "code",
   "execution_count": 89,
   "id": "5d55014f",
   "metadata": {},
   "outputs": [],
   "source": [
    "set1 = set(str1.split(' '))"
   ]
  },
  {
   "cell_type": "code",
   "execution_count": 90,
   "id": "eb4e16c5",
   "metadata": {},
   "outputs": [
    {
     "name": "stdout",
     "output_type": "stream",
     "text": [
      "{'Python', 'Data', 'using', 'Science'}\n",
      "<class 'set'>\n"
     ]
    }
   ],
   "source": [
    "print(set1)\n",
    "print(type(set1))"
   ]
  },
  {
   "cell_type": "code",
   "execution_count": 91,
   "id": "5f84edb1",
   "metadata": {},
   "outputs": [
    {
     "data": {
      "text/plain": [
       "{'Data S', 'e is GR8 Degree', 'ien'}"
      ]
     },
     "execution_count": 91,
     "metadata": {},
     "output_type": "execute_result"
    }
   ],
   "source": [
    "str2 = \"Data Science is GR8 Degree\"    #this is a string\n",
    "set2 = set(str2.split('c'))\n",
    "set2"
   ]
  },
  {
   "cell_type": "markdown",
   "id": "f532e4a3",
   "metadata": {},
   "source": [
    "### c. Use `str.join()` to Join Strings into a List\n",
    "- It is the reverse of `str.split()` method, and is used to joing multiple strings by inserting the string in between on which this method is called"
   ]
  },
  {
   "cell_type": "code",
   "execution_count": 92,
   "id": "0da0e902",
   "metadata": {},
   "outputs": [
    {
     "name": "stdout",
     "output_type": "stream",
     "text": [
      "Help on built-in function join:\n",
      "\n",
      "join(iterable, /) method of builtins.str instance\n",
      "    Concatenate any number of strings.\n",
      "    \n",
      "    The string whose method is called is inserted in between each given string.\n",
      "    The result is returned as a new string.\n",
      "    \n",
      "    Example: '.'.join(['ab', 'pq', 'rs']) -> 'ab.pq.rs'\n",
      "\n"
     ]
    }
   ],
   "source": [
    "str1 = \"\"\n",
    "help(str1.join)"
   ]
  },
  {
   "cell_type": "code",
   "execution_count": 93,
   "id": "2adc8071",
   "metadata": {},
   "outputs": [
    {
     "data": {
      "text/plain": [
       "{'This', 'and', 'getting', 'interesting', 'is', 'more'}"
      ]
     },
     "execution_count": 93,
     "metadata": {},
     "output_type": "execute_result"
    }
   ],
   "source": [
    "set1 = {'This', 'is', 'getting', 'more', 'and', 'more', 'interesting'}\n",
    "set1"
   ]
  },
  {
   "cell_type": "code",
   "execution_count": 94,
   "id": "f8b08a8f",
   "metadata": {},
   "outputs": [
    {
     "data": {
      "text/plain": [
       "'getting This more is and interesting'"
      ]
     },
     "execution_count": 94,
     "metadata": {},
     "output_type": "execute_result"
    }
   ],
   "source": [
    "str2 = ' '.join(set1)\n",
    "str2"
   ]
  },
  {
   "cell_type": "code",
   "execution_count": 95,
   "id": "83cccf73",
   "metadata": {},
   "outputs": [
    {
     "name": "stdout",
     "output_type": "stream",
     "text": [
      "getting This more is and interesting\n",
      "<class 'str'>\n"
     ]
    }
   ],
   "source": [
    "print(str2)\n",
    "print(type(str2))"
   ]
  },
  {
   "cell_type": "code",
   "execution_count": 96,
   "id": "ea960162",
   "metadata": {},
   "outputs": [
    {
     "name": "stdout",
     "output_type": "stream",
     "text": [
      "getting @ This @ more @ is @ and @ interesting\n",
      "<class 'str'>\n"
     ]
    }
   ],
   "source": [
    "delimiter = \" @ \"\n",
    "str3 = delimiter.join(set1)\n",
    "print(str3)\n",
    "print(type(str3))"
   ]
  },
  {
   "cell_type": "markdown",
   "id": "facf3ca5",
   "metadata": {},
   "source": [
    "## 9. Elements of a Set Cannot be Sorted\n",
    "- Given that sets are unordered, it is not possible to sort the values of a set. So you cannot call the built-in function `sorted()` or the `list.sort()` method on sets"
   ]
  },
  {
   "cell_type": "markdown",
   "id": "aa367cb0",
   "metadata": {},
   "source": [
    "## 10.  Misc Concepts"
   ]
  },
  {
   "cell_type": "markdown",
   "id": "98eb2d24",
   "metadata": {},
   "source": [
    "**Like Lists and Tuples, you can apply `max()`, `min()`, and `sum()` functions on Sets with numeric elements**"
   ]
  },
  {
   "cell_type": "code",
   "execution_count": 97,
   "id": "8aeda03f",
   "metadata": {},
   "outputs": [
    {
     "name": "stdout",
     "output_type": "stream",
     "text": [
      "{0, 1, 3, 4, 6, 8}\n"
     ]
    }
   ],
   "source": [
    "s1 = set([3, 8, 1, 6, 0, 8, 4])\n",
    "print(s1)"
   ]
  },
  {
   "cell_type": "code",
   "execution_count": 98,
   "id": "9a588b6e",
   "metadata": {},
   "outputs": [
    {
     "name": "stdout",
     "output_type": "stream",
     "text": [
      "length of set:  6\n",
      "max element in set:  8\n",
      "min element in set:  0\n",
      "Sum of element in set:  22\n"
     ]
    }
   ],
   "source": [
    "print(\"length of set: \", len(s1))\n",
    "print(\"max element in set: \", max(s1))\n",
    "print(\"min element in set: \",min(s1))\n",
    "print(\"Sum of element in set: \",sum(s1))"
   ]
  },
  {
   "cell_type": "markdown",
   "id": "8fe244da",
   "metadata": {},
   "source": [
    "**Like Lists and Tuples, you can apply `in` and `not in` membership operators on Sets**"
   ]
  },
  {
   "cell_type": "code",
   "execution_count": 99,
   "id": "7e77745e",
   "metadata": {},
   "outputs": [
    {
     "name": "stdout",
     "output_type": "stream",
     "text": [
      "False\n"
     ]
    }
   ],
   "source": [
    "s1 = set([3, 8, 1, 6, 0, 8, 4])\n",
    "\n",
    "rv1 = 9 in s1\n",
    "print(rv1)\n"
   ]
  },
  {
   "cell_type": "code",
   "execution_count": 100,
   "id": "14e7eada",
   "metadata": {},
   "outputs": [
    {
     "name": "stdout",
     "output_type": "stream",
     "text": [
      "True\n",
      "False\n"
     ]
    }
   ],
   "source": [
    "rv2 = 9 not in s1\n",
    "print(rv2)\n",
    "\n",
    "\n",
    "s2 = set([\"XYZ\", \"ABC\", \"MNO\", \"Ehtisham\"])\n",
    "rv3 = \"ALI\" in s2\n",
    "print(rv3)"
   ]
  },
  {
   "cell_type": "code",
   "execution_count": null,
   "id": "eb0496a4",
   "metadata": {},
   "outputs": [],
   "source": []
  },
  {
   "cell_type": "markdown",
   "id": "4042e6cf",
   "metadata": {},
   "source": [
    "**Comparing Objects and Values**"
   ]
  },
  {
   "cell_type": "code",
   "execution_count": 101,
   "id": "cd348f7b",
   "metadata": {},
   "outputs": [
    {
     "name": "stdout",
     "output_type": "stream",
     "text": [
      "2339181285616 2339181285616\n",
      "True\n",
      "True\n"
     ]
    }
   ],
   "source": [
    "#In case of strings, both variables str1 and str2 refers to the same memory location containing string object 'hello'\n",
    "str1 = 'hello'\n",
    "str2 = 'hello'\n",
    "print(id(str1), id(str2))\n",
    "\n",
    "print (str1 is str2)  # is operator is checking the memory address (ID) of two strings\n",
    "print (str1 == str2)  # == operator is checking the contents of two strings"
   ]
  },
  {
   "cell_type": "code",
   "execution_count": 102,
   "id": "7263cecb",
   "metadata": {},
   "outputs": [
    {
     "name": "stdout",
     "output_type": "stream",
     "text": [
      "2339207865600 2339207865152\n",
      "False\n",
      "True\n"
     ]
    }
   ],
   "source": [
    "#In case of sets, both t1 and t2 refers to two different objects in the memory having same values\n",
    "s1 = set([1, 2, 3])\n",
    "s2 = set([1, 2, 3])\n",
    "print(id(s1), id(s2))\n",
    "\n",
    "print (s1 is s2)   # is operator is checking the memory address (ID) of two sets\n",
    "print (s1 == s2)   # == operator is checking the contents of two sets element by element"
   ]
  },
  {
   "cell_type": "markdown",
   "id": "ff517f2e",
   "metadata": {},
   "source": [
    "## 11. Special Operations  related to Sets"
   ]
  },
  {
   "cell_type": "markdown",
   "id": "57a57000",
   "metadata": {},
   "source": [
    "### a. Union of sets\n",
    "- A `s1.union(s2)` method or `s1 | s2`, returns a new set containing all values that are in s1, or s2, or both"
   ]
  },
  {
   "cell_type": "markdown",
   "id": "specific-directive",
   "metadata": {},
   "source": [
    "![](images/Union-in-python.jpg)"
   ]
  },
  {
   "cell_type": "code",
   "execution_count": 103,
   "id": "d20c59a0",
   "metadata": {},
   "outputs": [
    {
     "name": "stdout",
     "output_type": "stream",
     "text": [
      "Help on built-in function union:\n",
      "\n",
      "union(...) method of builtins.set instance\n",
      "    Return the union of sets as a new set.\n",
      "    \n",
      "    (i.e. all elements that are in either set.)\n",
      "\n"
     ]
    }
   ],
   "source": [
    "s1 = set()\n",
    "s2 = set()\n",
    "# help(s1 | s2)\n",
    "help(s1.union)"
   ]
  },
  {
   "cell_type": "code",
   "execution_count": 104,
   "id": "5ba0e04b",
   "metadata": {},
   "outputs": [],
   "source": [
    "set1 = {'Sawaira', 'Sawaira', \"Dua\"}\n",
    "set2 = {'Ayesha', 'Ali', 'Sawaira'}"
   ]
  },
  {
   "cell_type": "code",
   "execution_count": 105,
   "id": "2e437964",
   "metadata": {},
   "outputs": [],
   "source": [
    "set3 = set1 | set2\n",
    "set4 = set1.union(set2)"
   ]
  },
  {
   "cell_type": "code",
   "execution_count": 106,
   "id": "28a77445",
   "metadata": {},
   "outputs": [
    {
     "name": "stdout",
     "output_type": "stream",
     "text": [
      "set1:  {'Dua', 'Sawaira'}\n",
      "set2:  {'Sawaira', 'Ayesha', 'Ali'}\n",
      "set1 | set2:  {'Sawaira', 'Ali', 'Dua', 'Ayesha'}\n",
      "set1.union(set2) :  {'Sawaira', 'Ali', 'Dua', 'Ayesha'}\n"
     ]
    }
   ],
   "source": [
    "print(\"set1: \", set1)\n",
    "print(\"set2: \", set2)\n",
    "print(\"set1 | set2: \", set3)\n",
    "print(\"set1.union(set2) : \", set4)"
   ]
  },
  {
   "cell_type": "markdown",
   "id": "8ea5d8f3",
   "metadata": {},
   "source": [
    "### b. Intersection of sets\n",
    "- A `s1.intersection(s2)` method or `s1 & s2`, returns a new set containing all values that are common in in s1 and s2"
   ]
  },
  {
   "cell_type": "markdown",
   "id": "german-pontiac",
   "metadata": {},
   "source": [
    "![](images/Intersection-of-Sets.png)"
   ]
  },
  {
   "cell_type": "code",
   "execution_count": 107,
   "id": "4b2dd4fa",
   "metadata": {},
   "outputs": [
    {
     "name": "stdout",
     "output_type": "stream",
     "text": [
      "Help on built-in function intersection:\n",
      "\n",
      "intersection(...) method of builtins.set instance\n",
      "    Return the intersection of two sets as a new set.\n",
      "    \n",
      "    (i.e. all elements that are in both sets.)\n",
      "\n"
     ]
    }
   ],
   "source": [
    "s1 = set()\n",
    "help(s1.intersection)"
   ]
  },
  {
   "cell_type": "code",
   "execution_count": 108,
   "id": "596c6b8d",
   "metadata": {
    "scrolled": true
   },
   "outputs": [],
   "source": [
    "set1 = {'Sawaira', 'Sawaira', \"Dua\"}\n",
    "set2 = {'Ayesha', 'Ali', 'Sawaira'}"
   ]
  },
  {
   "cell_type": "code",
   "execution_count": 109,
   "id": "b70c1bd2",
   "metadata": {},
   "outputs": [
    {
     "name": "stdout",
     "output_type": "stream",
     "text": [
      "set1:  {'Dua', 'Sawaira'}\n",
      "set2:  {'Sawaira', 'Ayesha', 'Ali'}\n",
      "set1 & set2:  {'Sawaira'}\n"
     ]
    }
   ],
   "source": [
    "set3 = set1 & set2\n",
    "set4 = set1.intersection(set2)\n",
    "\n",
    "print(\"set1: \", set1)\n",
    "print(\"set2: \", set2)\n",
    "print(\"set1 & set2: \", set4)"
   ]
  },
  {
   "cell_type": "markdown",
   "id": "d9a87205",
   "metadata": {},
   "source": [
    "### c. Difference of sets\n",
    "- A `s1.difference(s2)` method or `s1 - s2`, returns a new set containing all values of s1 that are not there in s2"
   ]
  },
  {
   "cell_type": "markdown",
   "id": "promising-master",
   "metadata": {},
   "source": [
    "![](images/difference-of-sets-aminusb-and-bminusa---venn-diagram.jpg)"
   ]
  },
  {
   "cell_type": "code",
   "execution_count": 110,
   "id": "bd0fef44",
   "metadata": {},
   "outputs": [
    {
     "name": "stdout",
     "output_type": "stream",
     "text": [
      "Help on built-in function difference:\n",
      "\n",
      "difference(...) method of builtins.set instance\n",
      "    Return the difference of two or more sets as a new set.\n",
      "    \n",
      "    (i.e. all elements that are in this set but not the others.)\n",
      "\n"
     ]
    }
   ],
   "source": [
    "s1 = set()\n",
    "help(s1.difference)"
   ]
  },
  {
   "cell_type": "code",
   "execution_count": 111,
   "id": "d8248e80",
   "metadata": {},
   "outputs": [],
   "source": [
    "set1 = {'Sawaira', 'Sawaira', 'dua'}\n",
    "set2 = {'Ayesha', 'Ali', 'Sawaira'}"
   ]
  },
  {
   "cell_type": "code",
   "execution_count": 112,
   "id": "b638ae80",
   "metadata": {},
   "outputs": [],
   "source": [
    "set3 = set1 - set2\n",
    "set4 = set1.difference(set2)\n"
   ]
  },
  {
   "cell_type": "code",
   "execution_count": 113,
   "id": "3a6ded5c",
   "metadata": {},
   "outputs": [
    {
     "name": "stdout",
     "output_type": "stream",
     "text": [
      "set1:  {'Sawaira', 'dua'}\n",
      "set2:  {'Sawaira', 'Ayesha', 'Ali'}\n",
      "set1 - set2:  {'dua'}\n"
     ]
    }
   ],
   "source": [
    "print(\"set1: \", set1)\n",
    "print(\"set2: \", set2)\n",
    "print(\"set1 - set2: \", set4)"
   ]
  },
  {
   "cell_type": "code",
   "execution_count": 114,
   "id": "e541108d",
   "metadata": {},
   "outputs": [
    {
     "data": {
      "text/plain": [
       "{'Ali', 'Ayesha'}"
      ]
     },
     "execution_count": 114,
     "metadata": {},
     "output_type": "execute_result"
    }
   ],
   "source": [
    "set2 - set1 "
   ]
  },
  {
   "cell_type": "markdown",
   "id": "733a12c9",
   "metadata": {},
   "source": [
    "### d. Symmetric Difference of sets\n",
    "- A `s1.symmetric_difference(s2)` method or `s1 ^ s2`, returns a new set containing all elements that are in exactly one of the sets, equivalent to `(s1 | s2)  - (s1 & s2)`"
   ]
  },
  {
   "cell_type": "code",
   "execution_count": 115,
   "id": "8e3e5779",
   "metadata": {},
   "outputs": [
    {
     "name": "stdout",
     "output_type": "stream",
     "text": [
      "Help on built-in function symmetric_difference:\n",
      "\n",
      "symmetric_difference(...) method of builtins.set instance\n",
      "    Return the symmetric difference of two sets as a new set.\n",
      "    \n",
      "    (i.e. all elements that are in exactly one of the sets.)\n",
      "\n"
     ]
    }
   ],
   "source": [
    "s1 = set()\n",
    "help(s1.symmetric_difference)"
   ]
  },
  {
   "cell_type": "code",
   "execution_count": 117,
   "id": "a89c59b7",
   "metadata": {},
   "outputs": [],
   "source": [
    "set1 = {'Sawaira', 'Sawaira', 'dua'}\n",
    "set2 = {'Ayesha', 'Ali', 'Sawaira'}"
   ]
  },
  {
   "cell_type": "code",
   "execution_count": 118,
   "id": "fdea6c44",
   "metadata": {},
   "outputs": [
    {
     "name": "stdout",
     "output_type": "stream",
     "text": [
      "set1:  {'Sawaira', 'dua'}\n",
      "set2:  {'Sawaira', 'Ayesha', 'Ali'}\n",
      "set1 ^ set2:  {'dua', 'Ayesha', 'Ali'}\n"
     ]
    }
   ],
   "source": [
    "set3 = set1 ^ set2\n",
    "set4 = set1.symmetric_difference(set2)\n",
    "\n",
    "print(\"set1: \", set1)\n",
    "print(\"set2: \", set2)\n",
    "print(\"set1 ^ set2: \", set4)"
   ]
  },
  {
   "cell_type": "code",
   "execution_count": 119,
   "id": "hungarian-tower",
   "metadata": {},
   "outputs": [],
   "source": [
    "# s1 = set1.union(set2)\n",
    "# print(s1)\n",
    "# s2 = set1.intersection(set2)\n",
    "# print(s2)\n",
    "# # # set1.union(set2) - set1.intersection(set2)\n",
    "# s3 = s1-s2\n",
    "# print(s3)"
   ]
  },
  {
   "cell_type": "markdown",
   "id": "96e8b480",
   "metadata": {},
   "source": [
    "### e. Checking Subset\n",
    "- The `s1.issubset(s2)` method or `s1 <= s2`, returns True if s1 is a subset of s2"
   ]
  },
  {
   "cell_type": "markdown",
   "id": "tracked-sullivan",
   "metadata": {},
   "source": [
    "![](images/subset_example1_0.png)"
   ]
  },
  {
   "cell_type": "code",
   "execution_count": 120,
   "id": "12911ff8",
   "metadata": {},
   "outputs": [
    {
     "name": "stdout",
     "output_type": "stream",
     "text": [
      "Help on built-in function issubset:\n",
      "\n",
      "issubset(...) method of builtins.set instance\n",
      "    Report whether another set contains this set.\n",
      "\n"
     ]
    }
   ],
   "source": [
    "s1 = set()\n",
    "help(s1.issubset)"
   ]
  },
  {
   "cell_type": "code",
   "execution_count": 121,
   "id": "24945626",
   "metadata": {},
   "outputs": [],
   "source": [
    "s1 = {1,2,3,4,5,6,7}\n",
    "s2 = {1,2,3,4}\n"
   ]
  },
  {
   "cell_type": "code",
   "execution_count": 122,
   "id": "b143d8e1",
   "metadata": {},
   "outputs": [
    {
     "name": "stdout",
     "output_type": "stream",
     "text": [
      "True\n"
     ]
    }
   ],
   "source": [
    "print(s2.issubset(s1))     # is s2 a subset of s1"
   ]
  },
  {
   "cell_type": "code",
   "execution_count": 123,
   "id": "72119ea7",
   "metadata": {},
   "outputs": [
    {
     "name": "stdout",
     "output_type": "stream",
     "text": [
      "False\n"
     ]
    }
   ],
   "source": [
    "print(s1 <= s2)            # is s1 a subset of s2"
   ]
  },
  {
   "cell_type": "markdown",
   "id": "8f00f73f",
   "metadata": {},
   "source": [
    "### f. Checking Superset\n",
    "- The `s1.issuperset(s2)` method or `s1 >= s2`, returns True if s1 is a superset of s2"
   ]
  },
  {
   "cell_type": "markdown",
   "id": "banner-programmer",
   "metadata": {},
   "source": [
    "<img align=\"center\" width=\"600\" height=\"400\"  src=\"data:image/png;base64,iVBORw0KGgoAAAANSUhEUgAAASgAAACrCAMAAADiivHpAAABU1BMVEX///8AAAD8/Pw3dKfs7Oz39/f/0kL5+fn/0ED19fU3caP/00Pv7++qqqrr6+u9vb2UlJTl5eWhoaHFxcVwcHDZ2dmOjo5HR0d/f383darf39//10hSUlK2trbT09Ofn58AY6CHh4fMzMw5OTkgICBdXV3/9+Nubm4WFhYqKirxtrz87u/j6/PItfh4eHhmZmbM2uf53uHupq3aACT309fwsbfrj5n/5ad8osS6zN7/3V1EAOkPDw8uLi4+Pj7mcn7aACr0xspJg7Tslp//4oH/zS1slr2TcPHogIrfOk7gRljcHzrdLUTiV2bkZnPZABmYtdJXi7geaJ/X4u3/5pWPsM86bZj/8cwkYJAAX56pwddbgqX/++L/43D/7qn/2zv/zlD/1W7/xxj/3Yf/13fp4fzKvPeFWu9vNe14RO7e1PqpjvNiGOy4ovV1QO4yAOjYAAByB8EbAAAOuklEQVR4nO2d+1vaSBfHJxGM0QQI4VZKgHCpXDQIIlsvqEixeMFW7Pbi7rsX97Xd2/u++///9J4JJARIIu2DBnE+fR6RSYKTb86cOedkSBEiEAgEAoFAIDwWNt4eXx4Bly+v15zqgz+UQEhGkiJzrA/e+2QhKPuFuOwTJYET4zIfjfhYp3qnsnHUfdZjYbnbvXRIKhnxQjzAIJ5F3ghCXAg3oaAIr4kIK8HvqZQzPdPY7j47OurptLCwvLzcvXKkGzISg6GghHgOySJIEpSjPiyUwrP+FO+F3+MRryM907h89hKhY12n5eVLR7oh0yHXKh8BobgAD2bkYX0+TgiKYEo+pHhltycl0o70TOOou6GalabT8rIjniDlj7sElEJBJsrBC5ISbnfCywkSn4rTXJBNiJyfdzvRM42jnkUNdHJGqNkH/NPRglEnIpQ5z7p9iFD2bPS5Ourr9NE5oSq1CmJqqNGuMRV4U91iUAUVqqiJKk46cuZqw4Am1PuPaz+9e/fuOyd61ESFYqMNP4qFSnELhEOohpqgWbniRHf6XOuDzjj03oNQr35eWWk9f/HwXWoW2qhZbDRq7WKl3MAW1mwyhQqiT5mH74zG93o8bvDjoBMWauX5ysriysNbe7OImItmrVFuwq8V1aKahVq7CnblGBtWOqlCAYut3+w/YXt76p0qIFQtokKjWKwW0Fat0aBRAUbgFvxzjGMrnfpCLS4uLek7r8FeLwdJ4No1/onjr/mH6Vrp9P49eoV1WlxqfdD2Xku+vbrs6rPhdRKPyoXvkaod01dwzbHKw33SH3kmOn18i3ZUnZZa+sy3ltxGV8mN4yOwxCNIehY+dSFSvewmIS+8/pSEPHojeZxMTn8sOs9210qnH9CHlqrTkFAb6G1ybTvJomcw7K67uPHoEkyLWfu0jY4XQKhtdDSPY/HaUFdR+djjB9DheU8no1DdZ93kW8QkN66Sa1io/tDbTjLb0LDdZTfgZT6F6uo6vV0bigM+aDoNWdT1Go5kjr+/vkSaRT0ZofQ63Y/v/rWj02ppOo34KMz20SWe8LaTVyDuwkv4xc1+usZ+a+PTnAq13e37p7fop5+fa6ys9AMDC6Hcz9Spj7lMgmdShWLhk5ILa2huLWqj29Opu/ZhoNPzIZ0MQukcH/deWeNonetqA9ftzXdH6NXzIaEGOi3dfBg56Kq7MNeimNKvFfyAdqx0MkTmfdgNJ3rqMNfdMaFGdLpxpNIyc9ALo0KN6NT6xekuzghrC2BTHwdCrSy2jNz86uzNoRmCuX758vilJtTK4ndDOFC2m3F2+uOu9eOLPk73aEbZ0fyTPuiIUqbsGP14C/8jQpmys2KY716g31pEKHN2enmLWoB6h9CLGyKUOa90nZaWfkHou1aLxAWmvFhcHBRWfvm1dXPHzZeny4udVksPx2+ITjZ8ePcrDgtubpb+TQJNAoFAIBAIU+Z2ff3zrdOdeAys7375ffez0714BKzvutHfr53uxSNgfXd9nVjUBKzv/vH773+abKDdnmg8HnUxpDahsr7Lote7w22smCilKZ2wwscdXOQ7I6zv3qIvRqE8ibAu0d6e/mtWcvQLQM6zvgsMfJQYU2WJ+fi4x8UyDOfypHh5X20MBB3sp+O4b29vdS8k5UGPvG98oHGiouoXf9jOzSheLJNipQXjxcaWfdJWpSJg1zT6bek/h4L26CrsEnnisyCPrWl0MdWfuyPzYRS8VeYpGxWdBd80Puj+ej0Wi2JB/Q/TqRnEk6GokEn7359fj2U3LnBVqw/Qp1lEACsxe0bB7S7zeXe8OQTT3733aRaJgk6C2Yb/7H75Y9ckvZEoKv0EXTrYU44z3fLfL58///2XyQYRlLrfTs0gLGQq5kuHb/8Hnnw0D+wRhwzwXns1g0D2a25PtoBNKdPvyywDMWT0rn2CkhyJRGQ+bnBM4Kek++zXrOGlKPsnzdA8zohLASVQgtc0r6eBAYpy3Xv3ZgY3RQXstnsgF/YNAtF4IkcFtAky/5TcVIDas5vnI1R6NFwPhimld0j0CQ0+mLxE662C+daU5tVkinoq0VSYylpvFC1HpdL3azAsp92joFXN2Z3AHtFjbHLh2Zo3pBRsVIhGra6dyMMPxjjBM4JxXzd+F/Wb/n3RbsbjKd5ym9TLi/0UNeVauoeyKk2E4JqkVnODU6NX1QiFzQxK1K4Q5QukzUvWLgohLpExnJM3Q+UGjkXMZPLgfRXThD9sk916bR2Q2Ns69UJCIG01BwckxPpEg0eNh8BziIjOGKxMhOmFMq88Cjk4JzFmECrmYkqDnHXVg0oRhHxmtYEgZXn9YJu1PWEkNYv2Uznbvb4WKYEfxWhKAF+ZqEGoIAzFjARCGYIUn4yEvLmRC2pPjULBCXjrg+1gtLyFUIr1/M7cGXfLlFtNf2wmg6+GzSJe94u+/TCg+9AxoQAOclTamKeWSqGsFr0I6vFpzYUJGfwzNnz5AwYfmwrtg8Q+E69L56xHVyBjf0pAHZ/D6lRLU5FsJKsPBsat0n8XDGM9RoTK4lFmtIGc6JH1ukbveO1dRDXVYaHEkvFNUKkzKBoez+dS1q44aDHQjUTxPuI03Xl8Vbvw6jsvRjdYVZRhoWTVn8UG7oMBK+eovs9i1eMlzYOJ6hUYEipqqKrhz+UoAUkmI0m2jg1i41vEsflxNQ2fb17x+zbCcFJMTqtkSHII0EdCb+jB1IWC/ZNN+BiOgwNciPP3/FQ0D4dpZ+9Rj5e1bgt7+CcWiunvLcQ8LMe4edWEBPzc0DqNQiZDb9/SX0fHnHwwuz+2s4D3KlGy7clPDlPaj+OgRDY3USxUSqF8HpTvzbQSlcFVMezM+b4Dj+TlSMDihjZ25ow/k/Uib88s3fVcDi4z3zfSekhSBFNnzloHUfJYVS4Yl8dVDQfwiU2rgkd7PHBtPZzHPGJUQCjO4/LQ0f4fZF2wLxwBQsX6Vu3hoh7Tg1FPKNrjcrlQqReB0Ph4Fwr3Bzcnqt7GxJmnqD0r97JnYmqR8TaJUkOMh3lggKjNGr7hy+uNoegk+QEd7qspDO09cixnci+ctwwOBLMKuolQHIw9eoJy1nTgTC2NEyZNNxnP3VeUdpnUMBXLUEkyiyJlk1AiA96iPvclhJiefjCid0jI0PjNqHgsHB7XFcf82bm/HRrWTIHdV1bTxmkuNj6R0ewg9hsQCuOKllnQP0/k9ewDZoqs0aftW+Vbo/gzOBqb89vGdGYQKrLBsNHZp+3z4QF42vNRpbt3fMwwe4M0xb8fMUYK+5N6HX4PFxBsan/zAKTEBisKGIuZ4Um9jq/+BCxq2EfJxolOmdRGlBJesWF7G2cO2NdmvWBeVurGspK/Pr53ymtyEy/sw+HYtJK9WSWm58QuSRoKxePjWYmshNLj4TqeDuY/jgpYmoJ7vGwJeUJ2LAJPYUHTcx+Z+61Xg2VN/LNn3KKUsFqQmvclnSJlWe4Vx8ceHRszHBrbUvSb1sI8KjiKsize5EYLF3RpPAhN4HKjRJl4/jnDJu+XRk0qsi8rI3fcaNWLr1KRe+jabKHYZGn5keBIiEaDI0NMwQaF7lo1NA94bdZYxO+8X5dSU8X4QxU4TfGIKa9o8/fpSZNWexi7u5c+awemwvaGXMTRTI8N1UXZ4s4wxm+7pmlyAnZnWbI1FXpPjS1oh5dIhSJwxfpXNJrw+/mhEEaIZaazJjBlM+/hwp71Ri7Xm+t4h1dIQRAsad5UkLxeaSiIyXrqU4rx0rZ5Wtby3mZQuy+Rd7i8WV9dDQ8XXtMDG5J8KDalmUayjxZli3ViCe22hNfh9a5uysOEhu8l+XS3y+1HIulJa7V3kbdftGK6ZNib0f1SxuEgKgq5RXxvqGnwxctAHLz5tNbCe+/I1BiZonxGByn49qiI5uUTjsYGSL35iSLa4KdZ1s0m9CwV/weu6sKy6RCj9u13YPx1KhfwS2JKlPxKhsr7dW08FDUty/42uOy+sqqHSmI4Fsv6tLnFmw9wyLOan1YPhQnWqwp8/yEI6RJvvCscdjrNo90MazXpMoybhh3oqT2DwD/Zuh2acY8+USM0/wWWIbLf6GhEpwfeQ+Pe+6aFO1Fq3m9TjRH9lq/egW/L30NfZhsYRHdMfWPgLyE/vf9HBSuV/6rTjlPzXwA2BZ/4VywHg8wn9wTtCYO/pz5xvSQCEdWTfZwUl4dZbKKzj8Ke877awBb82KO7K6dMZKLd5pp4jqIy9uOP8eFnSD1JNz4EliHDW5YsXSHqa1zZPONSHztW8ppkkoJfffLd08pabOASOfURbbJ38JVTd5xX6urTE4k1GUkp2oMS8+FsNpzT3vgeaOH9YyKYyGYGj+Gk9uoKb/o0IALCX+EOenlAtP4eDoFAIBAIBAKBQCAQCAQCgUAgEAiPn2KhUXS6D/dE5eKiXf2mI8uN8abNiwu9td2ZK83aJ9X2pn5GTBn/Svce9ofKtNpE95rwa7GM293qz4MOGtwl720onA8+uHh4Urn/7j8c7VNUfaMJ1Tg82ayg2gkq/IOqmxdnZ0VoOj0ro+abrZM3DXRxdnJYRIXDk/MiOj07P9SVqGyeQVOlc37Q1JoKnUrnwc/mHmmfdQbn24FTY1CtgxqbIFQVnVXQWQE1obVz2Dgvl/9poCJi3lTRwQEceaF/SBFE7Bygcu28UdbaLprlN/M09tonxa1DzUk1zg8PirpQRdRpFzc7F6cwoEAGOOv2Jgyn6uHFxcnJkFDYJsEO0dZg6DFnlfJh4YFP5j6BoYcGJoXKpxcGoU6azGahWASJOjV1M7P1pgHmozYdDIQqvymrH2QQCobsyfnBw53HvdM+q3UOtfFyUWmctFHzsHAKQh22K3iQnRRqBVQ978BsVu40KiBJ57RRg3eVs4rukE4uCpsF3KR/Lrh6tPXPHC3JbFQqW7orqbYPKjRyt9tVPMIqB3iqrxw0i3ivAranAxxK0E3chLfollisHeBhVh6YZgWOLVbmyUlZUZ0rV3yPlOcrXiQQCAQCgUAgEAiE2eD/FGW5do0Zld8AAAAASUVORK5CYII=\" > "
   ]
  },
  {
   "cell_type": "code",
   "execution_count": 119,
   "id": "70ba3168",
   "metadata": {},
   "outputs": [
    {
     "name": "stdout",
     "output_type": "stream",
     "text": [
      "Help on built-in function issuperset:\n",
      "\n",
      "issuperset(...) method of builtins.set instance\n",
      "    Report whether this set contains another set.\n",
      "\n"
     ]
    }
   ],
   "source": [
    "s1 = set()\n",
    "help(s1.issuperset)"
   ]
  },
  {
   "cell_type": "code",
   "execution_count": 124,
   "id": "865d531d",
   "metadata": {},
   "outputs": [
    {
     "name": "stdout",
     "output_type": "stream",
     "text": [
      "True\n",
      "True\n"
     ]
    }
   ],
   "source": [
    "s1 = {1,2,3,4,5,6,7}\n",
    "s2 = {1,2,3,4}\n",
    "\n",
    "print(s1.issuperset(s2)) # is s1 a superset of s2\n",
    "print(s1 >= s2)          # is s1 a superset of s2"
   ]
  },
  {
   "cell_type": "markdown",
   "id": "e306e198",
   "metadata": {},
   "source": [
    "### g. Checking Disjoint\n",
    "- The `s1.isdisjoint(s2)` method, returns True if two sets have a null intersection"
   ]
  },
  {
   "cell_type": "markdown",
   "id": "occasional-numbers",
   "metadata": {},
   "source": [
    "![](images/disjoint-of-sets-using-Venn-diagram.png)"
   ]
  },
  {
   "cell_type": "code",
   "execution_count": 125,
   "id": "29c30920",
   "metadata": {},
   "outputs": [
    {
     "name": "stdout",
     "output_type": "stream",
     "text": [
      "Help on built-in function isdisjoint:\n",
      "\n",
      "isdisjoint(...) method of builtins.set instance\n",
      "    Return True if two sets have a null intersection.\n",
      "\n"
     ]
    }
   ],
   "source": [
    "s1 = set()\n",
    "help(s1.isdisjoint)"
   ]
  },
  {
   "cell_type": "code",
   "execution_count": 126,
   "id": "0411ca5d",
   "metadata": {},
   "outputs": [
    {
     "name": "stdout",
     "output_type": "stream",
     "text": [
      "False\n"
     ]
    }
   ],
   "source": [
    "s1 = {1,2,3,4,5,6,7}\n",
    "# s1.intersection_update\n",
    "s2 = {1,2,3,4}\n",
    "print(s1.isdisjoint(s2))"
   ]
  },
  {
   "cell_type": "code",
   "execution_count": 123,
   "id": "5bf0aac3",
   "metadata": {},
   "outputs": [
    {
     "name": "stdout",
     "output_type": "stream",
     "text": [
      "True\n"
     ]
    }
   ],
   "source": [
    "# Another example\n",
    "s3 = {1,2,3,4}\n",
    "s4 = {5,6,7,8}\n",
    "print(s3.isdisjoint(s4))"
   ]
  },
  {
   "cell_type": "markdown",
   "id": "creative-organic",
   "metadata": {},
   "source": [
    "# Check Concepts:\n"
   ]
  },
  {
   "cell_type": "markdown",
   "id": "included-function",
   "metadata": {},
   "source": [
    "- Are the elements of a set ordered or unordered?\n",
    "- Does a set allow you to store duplicate elements?\n",
    "- How do you create an empty set?\n",
    "- How can you determine whether a specific element exists in a set?\n",
    "- What is the difference between the remove and discard methods?\n",
    "- Write code that prints all strings that are in both set s and set t.\n",
    "- Write code that prints all strings that are in set s, but not in set t.\n",
    "- Which operator is used to test whether an element is a member of a set?\n",
    "- Which method produces a new set with the elements that are contained in both sets?\n",
    "- Which method produces a new set with the elements that belong to the first set but not the second.\n",
    "- What is the difference between a set and a tuple?\n",
    "- What is the difference between a set and a list?"
   ]
  },
  {
   "cell_type": "code",
   "execution_count": null,
   "id": "serious-beach",
   "metadata": {},
   "outputs": [],
   "source": [
    "print(dir(set))"
   ]
  }
 ],
 "metadata": {
  "kernelspec": {
   "display_name": "Python 3 (ipykernel)",
   "language": "python",
   "name": "python3"
  },
  "language_info": {
   "codemirror_mode": {
    "name": "ipython",
    "version": 3
   },
   "file_extension": ".py",
   "mimetype": "text/x-python",
   "name": "python",
   "nbconvert_exporter": "python",
   "pygments_lexer": "ipython3",
   "version": "3.11.3"
  }
 },
 "nbformat": 4,
 "nbformat_minor": 5
}
