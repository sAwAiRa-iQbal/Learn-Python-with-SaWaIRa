{
 "cells": [
  {
   "cell_type": "markdown",
   "id": "285eff76",
   "metadata": {},
   "source": [
    "<h1 align=\"center\" style = \"color:red\">Python Data Types</h1>"
   ]
  },
  {
   "cell_type": "markdown",
   "id": "d1e96c17",
   "metadata": {},
   "source": [
    "- Variables can hold values, and every value has a data-type. Python is a dynamically typed language; hence we do not need to define the type of the variable while declaring it. The interpreter implicitly binds the value with its type.\n",
    "- The variable `a` holds integer value `five` and we did not define its type. Python interpreter will automatically interpret variables `a` as an integer type."
   ]
  },
  {
   "cell_type": "code",
   "execution_count": 9,
   "id": "14803b4e",
   "metadata": {},
   "outputs": [],
   "source": [
    "x = 5\n",
    "a = 10  \n",
    "b = \"Hi Python\"  \n",
    "c = 10.5  \n"
   ]
  },
  {
   "cell_type": "code",
   "execution_count": 10,
   "id": "923b9f90",
   "metadata": {},
   "outputs": [
    {
     "name": "stdout",
     "output_type": "stream",
     "text": [
      "<class 'int'>\n",
      "<class 'str'>\n",
      "<class 'float'>\n",
      "<class 'int'>\n"
     ]
    }
   ],
   "source": [
    "print(type(a))  \n",
    "print(type(b))  \n",
    "print(type(c))  \n",
    "print(type(x))"
   ]
  },
  {
   "cell_type": "markdown",
   "id": "fc6d7768",
   "metadata": {},
   "source": [
    "<img src=\"data:image/png;base64,iVBORw0KGgoAAAANSUhEUgAAAP4AAADHCAMAAAAOPR4GAAABdFBMVEX///8WS16f4Hn/4GYAAAD/5Gj/4mei5HvQ0NCi5Xv5+fk1NTXCv8NmlEmV1HB2eYP42V2bnaTewlBcYlm0tbnCwsKWl5uHhoXMztKNjY7Exsu1nTyLyGbQtUu7uL10fHCwmDemoqhedlEyPyp/uV3Z19tnmkng4OAAQlf13t/Ve368AAXeoaL/6WokJCTt7e12rVVbW1tKSkqsrKxkjUwAPFLmylxxn1YfKxd+smDFrU8wKhPQt1Osl0XBJiw/WTBLaTmVgzwOFAtaf0V5q1xGPRz/8m7u0V8AM0tTSSGplETs8PK9yc6wu8Hbj5EuQCMZIxPEMDbouLmJeDd3aTDtx8jYhIc4Tys3MBZ9lZ8vWmtCaXnAFR5GYzbMVlrw0dJgVSfKSU0hHQ1PAABce4eJnqdZiTvPaGtSQzjTb3IxTh6YgiF4gIpaEixoTVpIcy1DUDxVTUMAAB5WVlYqTw4AJUEAEBgIJS3IPUNxaHNUABb/7e4StlFSAAAVnElEQVR4nO2di2OiSJ7HiRQwMNd0unenOzPt3k7fklFjmNxMKyjBB6IxvhM18dmJyepke3fv5vZm9y57/vNXgG8BwfgiPd+OBEOa+KGqfvWr168Q5Ff9ql/lcP32vQ15tv1pV623PzE2VDrZ9uddsX5DE9ZFvviXbX/e1elKOfyGdlnXs8K/6yMT+MTM9+ePf0ON8ekX2nfGbcL/HPB9t+Xj4+Pyle+ufTTCJ9zATSqSeZIgSRd8waIOT0jthHgW+NTVp8v2483R0dHD3WU02i5O4sc/lmQ6EXLzpZI7HLvgA6F4zCWXYnSyFkoSzsfvF6OPxas+pb17aEfb/uIYnynxbkDHAy4Qlkt8gmYAzV8kQ+GYzJdo2vmpfxy9uaJG7679lzefrot/msAPuwAtw2cgywE+RjIJkgnxITmehG8cX/b7N5dXE29viz41G0ymfpiG+HEmwQfifI1wleRYiLlIxl88A/zb6FFf7+cjy8+7krSLd7nlMC0HXG5Y2OUkH4Lv4c/ChMPxb6GV09VEvU+oB1Jx71zwyxWLlXj1jBjWhU7Fv20fG1wx8foINz3jAzgUv39pkPbmTu+cA+RMfOrmk+G1z8DnLz5ShteeP/5V22d88dk3ePtRI7On6O13bhuqOa+75+jB7Cr1/o0NfbGpD70yldu67s5non67vO2PsE2Z1HmfgY6jn3PWv/XfLvgN6s3XNvTNRj71tDy/taXD8f/0+c3qPFUvBxUfrX4t0p+3UPG9+ss7G/r25eg/9qPXC28+cHvoGigxE/6N9o0OjZwi19bcnlevMRvaH+H3la7MRRo4vSWZ5IGLCIdJF8OEXTxNMHSSoAFNJBnS7SbD23N6X73GUcvCR/g+vwV6DV/p6CRcDFGLleJuIINQ/IIGsViNTrhq8Zocvghc0NvGx3Htpcesg1/2GzZyJ6WlvoofpgFJgDAgYzxMdkCQwJ0IJwJyiJABs72e3vcqPo4KGM5xevz4xE8H+NSD/8r8roNm0CDzh16QSYjsosf4tAviMwnGzdOhkEyuG/8DMJJKhwlAYCsVFkMxHMNYjGVxHFPeYWy6moZvsQn8Y//Novq+/ECN8QkG/pkwGQCAdw/xS0CGz0MGIBCIuxJq8q8R/wP48JW+Xr4e4CfQiiRKbEQQpLpUTXFY5TTLZisZsYJynZSIafh/hW5+e0HSK2pHy8i4p5eE/1wjI+8i4VNQzlwjy7/m1P/xg9GVVwP8TLUqSZHMWSWSzeBAlCrvOuypUO2I4imXErjMwAz8R/vOkptfbCu/aNjdEdhodwf1pWFjcoSP3iekd5kzKZLNngE2IlXq1SpXzbJcXTxNs9wA/4/tdttvQVEo/+WfRj29xHTnHqEz1rtV/BQrAAlaABCRJIifrQgpsSpWJZa7T2eq0j2qWcg/3pT7Pgs6arejRWqU+mFo+5OTrAS/S/g4F8GwrIhFsiInimwFEwU2UonggojvZ9H9rJTWqsf9/zxqP1oo+kjUX5wY4HaVStDs09AAaKO68AVcijnQhnvJbeOjODRtmGLpFcuPKhXA8BxXT3F0aPqo4+jlwgdwdadWfWN8ILsS9Ee3q0TW4qEXFzIJ5IsAmSzV3O6PNXnN9f5ifFte37H/YUHNN2gKjvFfgOSF+yJMAOjuyDUX/BagAXMRDpQYEHY7Cx/pP1ip/CbxmRfgwh1iFHwyEIAHWBRCgQtZDjAhet0V36rxlQxgxesd4YfCRA3QJVlW8WUFP84DOsTzcYi/VdO3XIvvtr24vQvxB41bnibpAPxikqRMwpafTAbCcYakZZmm+bX385vhf/s7Oxq3932Xi/nf/PzvYzHql/qCB0Z7w0z8wn+ta1qjCf4Xdnri37z5avw/+xb4D/7VhtY2qdME/wnymY7w7JDWg49cLezr3A2tCd8pPd3rwkc+3aznvqvV2vCpR9Pq3/N7OzJslD/5U64LH1b/Zs3/HxjahuKHJrd6itaHj5SjptMbdLo1jLQVt+fJur4zNn+fAT7ycGM4uedzwKfuDIe5p/CJieP0maPxkf6dUfN/Ep9IlmqlcIzRpnHCJo47/jzwEermUd/+TeKTcsnN0KEw6Q7DhA8zRBIwzwMfQYr+40kDcFvWssM0figgw4Y/n4iVyFK8JAcAv318zwdb4/tG97l9jE4+gE/+u+vj8u1M6vM8xAduMhHm+ViMCe1A5l96fH9W5Uv/p/LoCdwp4wE3f5vCj5EkAfHDJEiCMF+D+MT28Zfs7dHRbTHqj94cHRePiw930Wj7YSbzxwil1ysMSjHyohYLuRM1egfwl+rrM1D/qnx8fX1dLN9eQnqdep+Gdp8mXQRN0vBkBzL/SvHHit5Ra3J7PPl8oZDP25gItABfG8AeDGUooxorwG9PreJcFX6+0TwPBoNeLzyc7zXyq8DHIp2OtI9LHI5D9IjIVrGJ2R7q2eDLOn5fbQiuFt/TgOB7E4IPoWGllTiB73n75ZT+m8PZTFXIZFghjaFpFstIbBZj0/BsH01jOMYpmQFeUp+H9dRHVo3v6U6zD59Ad/EDGON7wA8fpvTDa4gfYdOAy4gCSGXSoI6CMymRkLhEBmTTiQ7gpATIdM4qEmYfn1zRfP5cQw9+8ABylvHf/jJz6dUYX0iJbATvRM4ACjAUiPe4UEWzwqkgVdn0PXfK2U79D3//7ifr+tF4WUh+zwBefQB7Bav4P8z2KGn4Z5F7NCPURbaCdt4p+CwGxFNUqMJHkhGkCotVqxnWjunTdHJoQ8a3aQSN4RUFG8ZPbjF+BwAgYCmY+U8zbKUugrNqvV4R71GhI4BqXZKqGCbC37CPvxLluiZJP8gALbMCYI6vGnho9uBrH56LKMzlHIfBb/tpeLKfTqdxVAD7tiq+1SnXWkgP+Zsm/Ob40KIPazflhQ0rPVz7kXIde5eBib8VfEv05vwL8C1IfSbbwLdIb8r/dHzbXt+qtLjcj/hbRvbPFB/DLcu8xbcO9SzTQ/6GwU3M8N+9tqMN4+dt0MP6z6D+N8H/4q0t/XadsHPKNe3QQ+kXfxP8nVbDVuLD7N/VvY1D8e1lfZVfN/s7FL9llx5K7z4UcCJ+wXbiK9Z/vnf6wy9fDqtEJ+HbtXuqgl/+OKeXo0lTDsK3X/LV5Ddt/DoIf5mSD9U0u6dz8A+XSnyY+836P52Db7fOH8qg7tfkHPzl4JXkN+n5cQz+wZKJb+z5K3IMvp2m3rRg7qf0hZyArxb/5Z3QUpX+QN8bCfww+2dODmxpU0vsc9PDOYPX6I158r8yWLL51fxY16u/fGtHm2rvT/k83oLH48kP8kPzwBs8NC0aZoV/Visc31+lpvlynm6POjiHP/PCkr13niuce9U34+Pk0zLq9dHRjvb1TXdw5vL/+McB1TgMegs9D5Lbyx14cvABFahcI9g4KFCH05bC1PGb1o7iT2dnT66QRwpd6AcjjQbSPc/lmgUE0jfhmwbSa6mNQ+9oFDBo/e/sJv605YP4+XwjuJfrdZHzQebvIl6qEIRnDarpzUH85oHnYIi/aMxzrDE+jg0Xa2rC5p/LxvA90/i5/DlMWm8vd1AIavjBBgKhz4PUCH+v0WsM8Q8s/6ERPs5lJYkbT+zAKugc/8bwZxq7uYPgoEy3vC2k183lIf5eD+nlkWZviD+2gKatnmm9H+JjWRCpAG2ii3JggRq1AWfhAWO1+A1bwvf21PaPN3jgOYe14EG30PU2C3vBRj7f8nYL8PrMYIhhqAqD4BUqfn1fTOAiAJWzCAARFqDw2zs0dQ9E4fQUiJsc45vp59LStdtTm4HeQX03TG/v8PrE4/JY1V8nUr+T6uAJkQUiQNMApn5CiCS4iJipCKmzqrRF/AHUgcXeP/Menym9GuOnzlggAO7sPgJYFmCAA1I2y9UjHUnI7AD+3qx7s2J8kDkFaSlVuWcz1U4HZv5OVcqIiWy9up3U9075cxPoXu+cp/dkfBwVRRHFMDECq0BBwDERxQUBxUQhLaZFTA3qs1n8XqFQGNm01oR1K6gybhMugz+s90cHDNUiN+CDKQ6btPwKfgvxwAYm9G29yjTGAnU+dOy8h4cU4vE0Vfs3zAjqJe/gF5bB3yWvL6/iN86D+Vxzr5cvdJsequdtFfI9NXXPDzzBIKztvIVmr9vLwxN4qeH1NvJqdrGFv4vj+wN8CIS0CrlGnmrBfLCHQBdPLRbQAfAG8x7oArVOqEIB6TZzB7BW7CLdAuI1qfjm14jbG9//3Qad3gF+t9WCUC0l8zdaDc3/U/Bhy7dZ8Jwr/jB0/JFu1+NpIfmGaiL+x8jJeTv7h2yO72+oryyn4QfPC9CrzeU1/KbnsOcZ4cOGTS/XU9z/c0++gahmslvIKVMCgocn+voCOKSrU7H1MK/3kDxs1QRh9lZbt61mzjPC9/aQXPP8JNfqIg0lp/QKXaU4wOQ3bvC+mZ3UuqNSRrg8udxJQW3n9TyNbs7TOPDkeyq+twCNg7cJTUTwJH+QK6il/bC1d+DxKFbDuLvjzY8bZHiCGt6RMw+/gsqx6fU2J52dJrR0XlgCvFoNqB6b6tF4nMcp+IuHd4MHubxSzOcHw0zqPafgexbi76nprf9gDG/rFPzlh/hMu/ocg7/sAK/5EK9j8Jeb26Him7i8jsGnlqU37ed1DL6NucwzalGzzt54wN85+EsP8P/vnKf//Who0zn4Sw9xzzf03oBhU89B+MvMalQau/N3okbJP4d/8o2d4f1vNhhCn1oq+b06hm88p3cOf2Xr91ev5Sa16tzIDH83x/fVT71E8nv1pnWZ4u9iX5+m1U9odxS+/bpfv6VvC1/J5IOz2Uubxs/ZpA/qW+Yx/vvvZy7N4WNC6jSirlfHpNn9Cja+kK2wYPHutPQqPUVj/BPwcnoB+z/n8AGKgjS2n2ax+8i28W1lf8Om3mT4gl/mwhfM4qciaVYAqSoHMml8y/iU1UWcUM3FyxjnNJ/5sWwdcPeSANC6OBPFwwa+6YpyG8oZ9enMJ76FRaxzmsXH0+Ds7D5yKokSVhfZpfG1fWs+vLch/QX8Hqv0xuv/baV+pp4B+8J95xTv1AVsWfxHJYbvy5/cjHXV9OMUexZPYzWntxe3B+M4DMfT8IByM5ds4N+1b9VNqVYQusRC/vfumTVG7IUtGgSs0dmnaBG+r3x0F/X7/e3Ho8do1LeqyC1Ud1HwCvPoJRuJ2tQvP/rviuUrn893e/XQjkaj/amYXeRow2n9LGEWuaVgOpkjaFDfbxCfKvrvxgHb+lFlA5foaGcWF+GO15Kkm1fJA7r8poFrPMYZINhaFLlnVRHbjPGvLu8m9mvoXz4Uy7f9icxPl5JuEOb/oILLMB/Qg5cSwMwCPmz/tPTDFjUXz2Uww3/3ern4/FMqTm9N6Btkg4nMX4olGVcNJGulBH1Bh2qhgKtUq8XdtXjcGj5CKbM4ZoNWdfMWHAyz+Pxv7ewX+bX++P51VD9U+xifoOVQguFLZIh3uZXtyfhaskYEPoYTPE9Yw4fKFbpNJWCZomBwr1uwNnd5zbE6ry8XRmqlawQRk/kaqcQqVTakS8aSMZL/SCflkNvO1iQ5T77QgyrkPZbnba8Xv2hEP5n5YzU5wYRBIBQmNPwaXYqV4smQvNWtSZ6usvEm5JMVXzhJK/FpleC0YSJM0Iw7zsgfSSY5/B1n4t+abNEzFaZY3ZZMi1Gs1PwEHY/F3CNfwKH4phH6zb0+kiYmHQBH4h8ZByj/DEKUXxkXfOT54/fN96axF63xJ8fhf3owvfz+5++s66dt7Mr0JJUXbUxzaGcA0WG7MiE+031JdkfrwafuLGzKtgtaD/7R3aq6c9csE/yTb2xpokutaGFHKjt3P1jbw1xHfP5jv1mNr+nD3+1Y/rVNPFnY26Mu1bQ1vl+0shvbL7T1an9LuzEqfX2YUFF22tWWK4179oaH0c/HnV2fTL29oXbf61MD1Iv3YqWuBqlX/w0i1Gqx6rUlXbiyIe8I3/doshXThJyBjwsgwolYBNRFPJPoVLgUG5HQTqKDdeABFe4TWSwLLw67Oov+RTVeWcsbc/iD9q52viv4MPPXQTUNxOz9u9RZtSqeQvxsJ30ayWTRhHgq7lc4wEmnrIpfbl8uLPY+retzFp9QOvaIF1rv1uwu7NvL/JHIGQdEEIkI2epZFuKfZSWpE8mmUwJ6KpymcYFTLsLU/+dxNGrF1bvxKx3fs/ikHCddRFJtCNFgZgRsi2UfSNU6mqpUMmmQVfKBBCTxPnIqpoT9BFdNdVL79Uqlw+LoH/2Px1b0EI36H8u6+GQpLJcS4QD4uCOpj2JcRICGDqYvPMt22LS4n8a4LMeKaUxZxgtLPRpRIrSj/3ddvD6yIIjf9h/9TRc/FC595N00cG0q9ZGXhi6FFr0BVxbtKvutozj7roLhaqgGbQGvugE7OrgIU/+Tpd1XH9rKDvR6qU9C/HCyFt8k/sn3C6M3jIQZbsyibEDfL/otFP6+/5PeziykDEIXyYtwKV6TXUDe1L48UF8YhLF6OT3EySoyHPTUKr5j/90in+dYe0Lz9T7jZlwMtH5hgnAnN1X2TTQ9wotVwT0Aqquj5H3tMDfCS10v2n99foxvWpP1/w7hQwERgxZQTHOiagg5bB5f6dw36+AdaUe8PhPN4OMYEM8Ax90LoJKSuLp0Ojm7a+zzUw9mO7AO5Th8FOKzFUmShBQr1qW6dC/p4iPIdXtxFbCauT3rlA4+xt2DfQFgQioLHX791IcqLm70vfzOxi7E7j9vcK3EUPP4v8PYVIcVTjP3wn6nnpqsGKdndyzu7qHe2IkNYD3S1uo0N61xH0VFILBCBjp+OJqeCtw1M7nFGRuQm2oudgf0eipZaPMFTH2DmcTucExXr7GetDeHr206xuUAPW1vjvIi828QRENPDuk1n1Lx0cz8Hf7m32xoLqyKA3RzZHLxBzdpQz9vw/Q/Uf1Lk+Jvy+sjtuH2PFm3JuOcu+/0Pl1l47lN0xvQE8TkXJ45d9ih+MixIf8UPs8n+fAYmn8u+JDfIP9P4tPxGogHSHVWmzKdGSibMW9mZte6ddU+mqr/KL3uDpIBJFEimbj7Y7zGKNN61Xl9zwAf8d1Ey9Tk2+JVn5rp6iTCgHQBMqnsQc+HaOBOhAOlZ5H6iLL//OVxf/QErtr+9uXNw5908WEuUOFBPB54LvgIVb5p312Xfeo2EP2HaDTaLuukvlwrMYCPx2DZD/GB+PPI/Jr6V0d3UWURT7t9Bw9XM/U+HSAIhnczYchNu1643IEA/ZzwVfV9Ph8sBZf+8pzboyxbIVxkuEQS6rxm4plYfh2pTWF9r4/Q9wWfEz6lTvf8HJxeXVGqH2Crp9eZTR4z/eK2M6XZiQ1eU3m+/IMNfb3tj/urdkD/D1tW9iKDORiVAAAAAElFTkSuQmCC\" height=450px width=450px>"
   ]
  },
  {
   "cell_type": "markdown",
   "id": "c467124a",
   "metadata": {},
   "source": [
    "<h1 align=\"center\" style = \"color:red\">1. Numeric DataType</h1>"
   ]
  },
  {
   "cell_type": "markdown",
   "id": "26303e4e",
   "metadata": {},
   "source": [
    "#### Numbers:\n",
    "Number stores numeric values. The `integer`, `float`, and `complex` values belong to a Python `Numbers` data-type. Python provides the `type()` function to know the data-type of the variable.\n",
    "\n",
    "\n",
    "\n",
    "\n",
    "Python supports three types of numeric data.\n",
    "\n",
    "1. **Int** - Integer value can be any length such as integers 10, 2, 29, -20, -150 etc. Python has no restriction on the length of an integer. Its value belongs to int\n",
    "2. **Float** - Float is used to store floating-point numbers like 1.9, 9.902, 15.2, etc. It is accurate upto 15 decimal points.\n",
    "3. **complex** - A complex number contains an ordered pair, i.e., x + iy where x and y denote the real and imaginary parts, respectively. The complex numbers like 2.14j, 2.0 + 2.3j, etc.\n",
    "4. **Boolean:** Also known as bool data type allows us to choose between two values: True and False. Booleans have the type bool. A Boolean is used to determine whether the logic of an expression or a comparison is correct. It plays a huge role in data comparisons."
   ]
  },
  {
   "cell_type": "markdown",
   "id": "46c874b0",
   "metadata": {},
   "source": [
    "# i. Integer:"
   ]
  },
  {
   "cell_type": "code",
   "execution_count": 2,
   "id": "21979afa",
   "metadata": {},
   "outputs": [
    {
     "name": "stdout",
     "output_type": "stream",
     "text": [
      "interger value is: 3489\n",
      "data type is: <class 'int'>\n"
     ]
    }
   ],
   "source": [
    "a = 3489\n",
    "print('interger value is:', a)\n",
    "print('data type is:',type(a))"
   ]
  },
  {
   "cell_type": "markdown",
   "id": "d8c27c59",
   "metadata": {},
   "source": [
    "# ii.  Float:"
   ]
  },
  {
   "cell_type": "code",
   "execution_count": 3,
   "id": "f18b3b9b",
   "metadata": {},
   "outputs": [
    {
     "name": "stdout",
     "output_type": "stream",
     "text": [
      "23.89\n",
      "<class 'float'>\n"
     ]
    }
   ],
   "source": [
    "b = 23.89\n",
    "print(b)\n",
    "print(type(b))"
   ]
  },
  {
   "cell_type": "markdown",
   "id": "ac0544f0",
   "metadata": {},
   "source": [
    "# iii. Complex:"
   ]
  },
  {
   "cell_type": "code",
   "execution_count": 4,
   "id": "59df0a4a",
   "metadata": {},
   "outputs": [
    {
     "name": "stdout",
     "output_type": "stream",
     "text": [
      "(7+3j)\n",
      "<class 'complex'>\n"
     ]
    }
   ],
   "source": [
    "c = 3j+7\n",
    "print(c)\n",
    "print(type(c))"
   ]
  },
  {
   "cell_type": "code",
   "execution_count": 5,
   "id": "9ba651e8",
   "metadata": {},
   "outputs": [
    {
     "name": "stdout",
     "output_type": "stream",
     "text": [
      "(3+2j)\n"
     ]
    }
   ],
   "source": [
    "y = complex(3, 2) \n",
    "print(y)"
   ]
  },
  {
   "cell_type": "markdown",
   "id": "d94ea79c",
   "metadata": {},
   "source": [
    "# a. Boolean:"
   ]
  },
  {
   "cell_type": "code",
   "execution_count": 6,
   "id": "2117a4b8",
   "metadata": {},
   "outputs": [
    {
     "name": "stdout",
     "output_type": "stream",
     "text": [
      "False\n",
      "<class 'bool'>\n"
     ]
    }
   ],
   "source": [
    "a = 5<2\n",
    "print(a)\n",
    "print(type(a))"
   ]
  },
  {
   "cell_type": "code",
   "execution_count": 7,
   "id": "ab037543",
   "metadata": {},
   "outputs": [
    {
     "name": "stdout",
     "output_type": "stream",
     "text": [
      "True False\n"
     ]
    }
   ],
   "source": [
    "a = True\n",
    "b = False \n",
    "print(a, b)"
   ]
  },
  {
   "cell_type": "code",
   "execution_count": 8,
   "id": "bd94dbf3",
   "metadata": {},
   "outputs": [
    {
     "name": "stdout",
     "output_type": "stream",
     "text": [
      "True\n",
      "False\n",
      "True\n",
      "False\n"
     ]
    }
   ],
   "source": [
    "print(bool(1))\n",
    "print(bool(0))\n",
    "\n",
    "print(bool(True))\n",
    "print(bool(False))"
   ]
  },
  {
   "cell_type": "code",
   "execution_count": 11,
   "id": "fa76ad18",
   "metadata": {},
   "outputs": [
    {
     "name": "stdout",
     "output_type": "stream",
     "text": [
      "The type of a <class 'int'>\n",
      "The type of b <class 'float'>\n",
      "The type of c <class 'complex'>\n"
     ]
    }
   ],
   "source": [
    "a = 5  \n",
    "print(\"The type of a\", type(a))  \n",
    "  \n",
    "b = 40.5  \n",
    "print(\"The type of b\", type(b))  \n",
    "  \n",
    "c = 1+3j  \n",
    "print(\"The type of c\", type(c))  "
   ]
  },
  {
   "cell_type": "code",
   "execution_count": 12,
   "id": "cfc706d4",
   "metadata": {},
   "outputs": [
    {
     "data": {
      "text/plain": [
       "False"
      ]
     },
     "execution_count": 12,
     "metadata": {},
     "output_type": "execute_result"
    }
   ],
   "source": [
    "5 < 2 # `<` is a less than operator"
   ]
  },
  {
   "cell_type": "code",
   "execution_count": 13,
   "id": "f9827cd5",
   "metadata": {},
   "outputs": [
    {
     "name": "stdout",
     "output_type": "stream",
     "text": [
      "False\n"
     ]
    }
   ],
   "source": [
    "print(5 < 2)"
   ]
  },
  {
   "cell_type": "code",
   "execution_count": 14,
   "id": "487dc1a3",
   "metadata": {},
   "outputs": [
    {
     "data": {
      "text/plain": [
       "bool"
      ]
     },
     "execution_count": 14,
     "metadata": {},
     "output_type": "execute_result"
    }
   ],
   "source": [
    "result = 5 < 2 \n",
    "type(result)"
   ]
  },
  {
   "cell_type": "code",
   "execution_count": 15,
   "id": "52fc4352",
   "metadata": {},
   "outputs": [],
   "source": [
    "w = 10\n",
    "x = 20.5\n",
    "y = complex(3, 2)  \n",
    "y = 3 + 2j\n",
    "z = True\n"
   ]
  },
  {
   "cell_type": "code",
   "execution_count": 16,
   "id": "520e1442",
   "metadata": {},
   "outputs": [
    {
     "name": "stdout",
     "output_type": "stream",
     "text": [
      "<class 'int'>\n",
      "<class 'float'>\n",
      "<class 'complex'>\n",
      "<class 'bool'>\n"
     ]
    }
   ],
   "source": [
    "print(type(w))\n",
    "print(type(x))\n",
    "print(type(y))\n",
    "print(type(z))"
   ]
  },
  {
   "cell_type": "markdown",
   "id": "c161d0d4",
   "metadata": {},
   "source": [
    "<h1 align=\"center\" style = \"color:red\">Conversion/Type Casting</h1>"
   ]
  },
  {
   "cell_type": "markdown",
   "id": "6ba57b48",
   "metadata": {},
   "source": [
    "###  Conversion/Type Casting\n",
    "\n",
    "\n",
    "- **Implicit Type Conversion:** While performing arithmetic operations, integers are automatically converted to `float` if any of the operands is a `float`. Also, the division operator `/` always returns a `float`, even if both operands are integers. Use the `//` operator if you want the result of the division to be an `int`.\n",
    "\n",
    "- **Explicit Type Conversion or Type Casting** refers to the conversion of an object from one data type to another"
   ]
  },
  {
   "cell_type": "markdown",
   "id": "ccffc72b",
   "metadata": {},
   "source": [
    "## 1. Implicit Type Conversion:"
   ]
  },
  {
   "cell_type": "code",
   "execution_count": 1,
   "id": "a75c7f68",
   "metadata": {},
   "outputs": [
    {
     "name": "stdout",
     "output_type": "stream",
     "text": [
      "<class 'float'>\n"
     ]
    }
   ],
   "source": [
    "a = 7\n",
    "b = 8\n",
    "value = a/b\n",
    "print(type(value))"
   ]
  },
  {
   "cell_type": "code",
   "execution_count": 2,
   "id": "43fa6c0d",
   "metadata": {},
   "outputs": [
    {
     "name": "stdout",
     "output_type": "stream",
     "text": [
      "15\n",
      "<class 'int'>\n"
     ]
    }
   ],
   "source": [
    "x = 10\n",
    "y = 5.5\n",
    "total = 10 + 5\n",
    "print(total)\n",
    "print(type(total))"
   ]
  },
  {
   "cell_type": "code",
   "execution_count": 3,
   "id": "d90ba4c6",
   "metadata": {},
   "outputs": [
    {
     "name": "stdout",
     "output_type": "stream",
     "text": [
      "<class 'float'> <class 'float'>\n"
     ]
    }
   ],
   "source": [
    "a = 4/2\n",
    "b = 4/2.0\n",
    "print(type(a), type(b))"
   ]
  },
  {
   "cell_type": "code",
   "execution_count": 4,
   "id": "9d669203",
   "metadata": {},
   "outputs": [
    {
     "data": {
      "text/plain": [
       "(int, float)"
      ]
     },
     "execution_count": 4,
     "metadata": {},
     "output_type": "execute_result"
    }
   ],
   "source": [
    "a = 3 * 5\n",
    "b = 3 * 5.0\n",
    "type(a), type(b)"
   ]
  },
  {
   "cell_type": "code",
   "execution_count": 5,
   "id": "43e2f733",
   "metadata": {},
   "outputs": [
    {
     "name": "stdout",
     "output_type": "stream",
     "text": [
      "95.2\n"
     ]
    }
   ],
   "source": [
    "age = 21\n",
    "marks = 74.2\n",
    "c = age + marks\n",
    "print(c)"
   ]
  },
  {
   "cell_type": "code",
   "execution_count": 6,
   "id": "c4995c85",
   "metadata": {},
   "outputs": [
    {
     "name": "stdout",
     "output_type": "stream",
     "text": [
      "<class 'float'>\n"
     ]
    }
   ],
   "source": [
    "print(type(c))"
   ]
  },
  {
   "cell_type": "code",
   "execution_count": 7,
   "id": "ba5b03fa",
   "metadata": {},
   "outputs": [
    {
     "name": "stdout",
     "output_type": "stream",
     "text": [
      "7.875\n",
      "7\n",
      "<class 'float'>\n",
      "<class 'int'>\n"
     ]
    }
   ],
   "source": [
    "number1 = 63\n",
    "number2 = 8\n",
    "print(number1/number2)\n",
    "print(number1//number2)          # floor division\n",
    "\n",
    "print(type(number1/number2))\n",
    "print(type(number1//number2))"
   ]
  },
  {
   "cell_type": "code",
   "execution_count": 8,
   "id": "6c8da618",
   "metadata": {},
   "outputs": [
    {
     "ename": "TypeError",
     "evalue": "unsupported operand type(s) for +: 'int' and 'str'",
     "output_type": "error",
     "traceback": [
      "\u001b[1;31m---------------------------------------------------------------------------\u001b[0m",
      "\u001b[1;31mTypeError\u001b[0m                                 Traceback (most recent call last)",
      "Cell \u001b[1;32mIn[8], line 3\u001b[0m\n\u001b[0;32m      1\u001b[0m age \u001b[38;5;241m=\u001b[39m \u001b[38;5;241m21\u001b[39m\n\u001b[0;32m      2\u001b[0m name \u001b[38;5;241m=\u001b[39m \u001b[38;5;124m\"\u001b[39m\u001b[38;5;124mEhtisham\u001b[39m\u001b[38;5;124m\"\u001b[39m\n\u001b[1;32m----> 3\u001b[0m \u001b[43mage\u001b[49m\u001b[43m \u001b[49m\u001b[38;5;241;43m+\u001b[39;49m\u001b[43m \u001b[49m\u001b[43mname\u001b[49m\n",
      "\u001b[1;31mTypeError\u001b[0m: unsupported operand type(s) for +: 'int' and 'str'"
     ]
    }
   ],
   "source": [
    "age = 21\n",
    "name = \"Ehtisham\"\n",
    "age + name"
   ]
  },
  {
   "cell_type": "code",
   "execution_count": null,
   "id": "9ada0797",
   "metadata": {},
   "outputs": [],
   "source": [
    "str(age)"
   ]
  },
  {
   "cell_type": "code",
   "execution_count": null,
   "id": "ce635fc6",
   "metadata": {},
   "outputs": [],
   "source": [
    "str(age)+name"
   ]
  },
  {
   "cell_type": "markdown",
   "id": "40ba46a0",
   "metadata": {},
   "source": [
    "### b. Explicit Type Conversion (Type Casting)\n",
    "\n",
    "####  Convert to Integer using ` int (a)`  function"
   ]
  },
  {
   "cell_type": "markdown",
   "id": "edc82d3a",
   "metadata": {},
   "source": [
    "<img src=\"https://learningmonkey.in/wp-content/uploads/2021/05/Tye-Conversion-and-Type-Casting-in-Python.jpg\" width=\"400\" height=\"200\">"
   ]
  },
  {
   "cell_type": "markdown",
   "id": "7d72d8ee",
   "metadata": {},
   "source": [
    "**int() Function:**    \n",
    "- The `int()` method is used to convert a string to an integer in Python. This can be useful if you need to store a value as an integer or perform mathematical operations on a value stored as a string."
   ]
  },
  {
   "cell_type": "code",
   "execution_count": 9,
   "id": "c7801f23",
   "metadata": {},
   "outputs": [],
   "source": [
    "a = \"32\"\n",
    "b = 45"
   ]
  },
  {
   "cell_type": "code",
   "execution_count": 10,
   "id": "6a3b7b36",
   "metadata": {},
   "outputs": [
    {
     "name": "stdout",
     "output_type": "stream",
     "text": [
      "<class 'str'> <class 'int'>\n"
     ]
    }
   ],
   "source": [
    "print(type(a), type(b))"
   ]
  },
  {
   "cell_type": "code",
   "execution_count": 11,
   "id": "d91ec124",
   "metadata": {},
   "outputs": [
    {
     "ename": "TypeError",
     "evalue": "can only concatenate str (not \"int\") to str",
     "output_type": "error",
     "traceback": [
      "\u001b[1;31m---------------------------------------------------------------------------\u001b[0m",
      "\u001b[1;31mTypeError\u001b[0m                                 Traceback (most recent call last)",
      "Cell \u001b[1;32mIn[11], line 1\u001b[0m\n\u001b[1;32m----> 1\u001b[0m \u001b[43ma\u001b[49m\u001b[38;5;241;43m+\u001b[39;49m\u001b[43mb\u001b[49m\n",
      "\u001b[1;31mTypeError\u001b[0m: can only concatenate str (not \"int\") to str"
     ]
    }
   ],
   "source": [
    "a+b"
   ]
  },
  {
   "cell_type": "code",
   "execution_count": 12,
   "id": "baf72fc8",
   "metadata": {},
   "outputs": [
    {
     "data": {
      "text/plain": [
       "(str, int)"
      ]
     },
     "execution_count": 12,
     "metadata": {},
     "output_type": "execute_result"
    }
   ],
   "source": [
    "type(a),type(int(a))"
   ]
  },
  {
   "cell_type": "code",
   "execution_count": 13,
   "id": "b66749f0",
   "metadata": {},
   "outputs": [],
   "source": [
    "c = int(a) + b"
   ]
  },
  {
   "cell_type": "code",
   "execution_count": 14,
   "id": "77a524fd",
   "metadata": {},
   "outputs": [
    {
     "name": "stdout",
     "output_type": "stream",
     "text": [
      "77\n"
     ]
    }
   ],
   "source": [
    "print(c)"
   ]
  },
  {
   "cell_type": "code",
   "execution_count": 15,
   "id": "4907d9f5",
   "metadata": {},
   "outputs": [
    {
     "data": {
      "text/plain": [
       "float"
      ]
     },
     "execution_count": 15,
     "metadata": {},
     "output_type": "execute_result"
    }
   ],
   "source": [
    "# convert float into integer using `int()` \n",
    "num1 = 3.5\n",
    "type(num1)"
   ]
  },
  {
   "cell_type": "code",
   "execution_count": 16,
   "id": "68eac1fc",
   "metadata": {},
   "outputs": [
    {
     "data": {
      "text/plain": [
       "int"
      ]
     },
     "execution_count": 16,
     "metadata": {},
     "output_type": "execute_result"
    }
   ],
   "source": [
    "type(int(num1))"
   ]
  },
  {
   "cell_type": "markdown",
   "id": "70550c76",
   "metadata": {},
   "source": [
    "**float() Function:**\n",
    "- The `float()` method is a built-in Python function that is used to convert an integer or a string to a floating-point value."
   ]
  },
  {
   "cell_type": "code",
   "execution_count": 17,
   "id": "26197abb",
   "metadata": {},
   "outputs": [
    {
     "name": "stdout",
     "output_type": "stream",
     "text": [
      "13\n"
     ]
    }
   ],
   "source": [
    "a = 5\n",
    "b = 8\n",
    "c = a + b\n",
    "print(c)"
   ]
  },
  {
   "cell_type": "code",
   "execution_count": 18,
   "id": "73c18f3e",
   "metadata": {},
   "outputs": [
    {
     "name": "stdout",
     "output_type": "stream",
     "text": [
      "13.0\n"
     ]
    }
   ],
   "source": [
    "print(float(c))"
   ]
  },
  {
   "cell_type": "markdown",
   "id": "6352f511",
   "metadata": {},
   "source": [
    "**str() Function:**\n",
    "- The `str()` function converts the specified value into a string."
   ]
  },
  {
   "cell_type": "code",
   "execution_count": 19,
   "id": "8f69d91e",
   "metadata": {},
   "outputs": [
    {
     "name": "stdout",
     "output_type": "stream",
     "text": [
      "<class 'int'> 21\n"
     ]
    }
   ],
   "source": [
    "x = 21\n",
    "print(type(x), x)"
   ]
  },
  {
   "cell_type": "code",
   "execution_count": 20,
   "id": "b2560d04",
   "metadata": {},
   "outputs": [
    {
     "data": {
      "text/plain": [
       "(str, '21')"
      ]
     },
     "execution_count": 20,
     "metadata": {},
     "output_type": "execute_result"
    }
   ],
   "source": [
    "y = str(x)\n",
    "type(y), y"
   ]
  },
  {
   "cell_type": "code",
   "execution_count": 22,
   "id": "0fab6a00",
   "metadata": {},
   "outputs": [
    {
     "data": {
      "text/plain": [
       "(int, 54)"
      ]
     },
     "execution_count": 22,
     "metadata": {},
     "output_type": "execute_result"
    }
   ],
   "source": [
    "# Convert to Float  using  `float (a)` function\n",
    "\n",
    "a = 54\n",
    "type(a), a"
   ]
  },
  {
   "cell_type": "code",
   "execution_count": 23,
   "id": "3927732d",
   "metadata": {},
   "outputs": [
    {
     "data": {
      "text/plain": [
       "(float, 54.0)"
      ]
     },
     "execution_count": 23,
     "metadata": {},
     "output_type": "execute_result"
    }
   ],
   "source": [
    "b = float(a)\n",
    "type(b), b"
   ]
  },
  {
   "cell_type": "code",
   "execution_count": 24,
   "id": "69b7d18f",
   "metadata": {},
   "outputs": [
    {
     "data": {
      "text/plain": [
       "(140724592896456, 2114192698256)"
      ]
     },
     "execution_count": 24,
     "metadata": {},
     "output_type": "execute_result"
    }
   ],
   "source": [
    "# Note that a and be are two different objects\n",
    "id(a), id(b)"
   ]
  },
  {
   "cell_type": "code",
   "execution_count": 25,
   "id": "3997f803",
   "metadata": {},
   "outputs": [
    {
     "data": {
      "text/plain": [
       "(int, 341)"
      ]
     },
     "execution_count": 25,
     "metadata": {},
     "output_type": "execute_result"
    }
   ],
   "source": [
    "num = 341\n",
    "type(num), num"
   ]
  },
  {
   "cell_type": "code",
   "execution_count": 26,
   "id": "a3114efd",
   "metadata": {},
   "outputs": [
    {
     "data": {
      "text/plain": [
       "(str, '341')"
      ]
     },
     "execution_count": 26,
     "metadata": {},
     "output_type": "execute_result"
    }
   ],
   "source": [
    "mystr = str(num)\n",
    "type(mystr), mystr"
   ]
  },
  {
   "cell_type": "code",
   "execution_count": 27,
   "id": "a3f6a7da",
   "metadata": {},
   "outputs": [
    {
     "data": {
      "text/plain": [
       "(complex, (2.6+3.2j))"
      ]
     },
     "execution_count": 27,
     "metadata": {},
     "output_type": "execute_result"
    }
   ],
   "source": [
    "# Convert two Floats to Complex Data type  using  `complex (a, b)`  function\n",
    "\n",
    "a = 2.6\n",
    "b = 3.2\n",
    "x = complex(a,b)\n",
    "type(x), x"
   ]
  },
  {
   "cell_type": "markdown",
   "id": "6d0ae898",
   "metadata": {},
   "source": [
    "**Note:**\n",
    "- Is it possible to convert `str1 =\"abc123\"` into integer variable/value?"
   ]
  },
  {
   "cell_type": "code",
   "execution_count": 28,
   "id": "18aa443d",
   "metadata": {},
   "outputs": [],
   "source": [
    "str1 = \"123\""
   ]
  },
  {
   "cell_type": "code",
   "execution_count": 29,
   "id": "eda779c0",
   "metadata": {},
   "outputs": [
    {
     "data": {
      "text/plain": [
       "123"
      ]
     },
     "execution_count": 29,
     "metadata": {},
     "output_type": "execute_result"
    }
   ],
   "source": [
    "int(str1)"
   ]
  },
  {
   "cell_type": "markdown",
   "id": "f2a1b555",
   "metadata": {},
   "source": [
    "### Working of `input()` Function"
   ]
  },
  {
   "cell_type": "markdown",
   "id": "764c1d7a",
   "metadata": {},
   "source": [
    "# Question: **write a program to swap two numbers**"
   ]
  },
  {
   "cell_type": "code",
   "execution_count": 30,
   "id": "2c856183",
   "metadata": {},
   "outputs": [
    {
     "name": "stdout",
     "output_type": "stream",
     "text": [
      "Enter your name: sawaira\n"
     ]
    }
   ],
   "source": [
    "name = input(\"Enter your name: \")\n"
   ]
  },
  {
   "cell_type": "code",
   "execution_count": 31,
   "id": "e96c4358",
   "metadata": {},
   "outputs": [
    {
     "data": {
      "text/plain": [
       "str"
      ]
     },
     "execution_count": 31,
     "metadata": {},
     "output_type": "execute_result"
    }
   ],
   "source": [
    "type(name)"
   ]
  },
  {
   "cell_type": "code",
   "execution_count": 32,
   "id": "ba022fc5",
   "metadata": {},
   "outputs": [
    {
     "name": "stdout",
     "output_type": "stream",
     "text": [
      "Enter your age : 21\n"
     ]
    }
   ],
   "source": [
    "age = input(\"Enter your age : \")"
   ]
  },
  {
   "cell_type": "code",
   "execution_count": 33,
   "id": "a4bfc309",
   "metadata": {},
   "outputs": [
    {
     "data": {
      "text/plain": [
       "str"
      ]
     },
     "execution_count": 33,
     "metadata": {},
     "output_type": "execute_result"
    }
   ],
   "source": [
    "type(age)"
   ]
  },
  {
   "cell_type": "code",
   "execution_count": 35,
   "id": "c2b2bce5",
   "metadata": {},
   "outputs": [
    {
     "name": "stdout",
     "output_type": "stream",
     "text": [
      "Enter First Number : 5\n",
      "Enter second number : 8\n"
     ]
    }
   ],
   "source": [
    "number1 = int(input(\"Enter First Number : \"))\n",
    "\n",
    "number2 = int(input(\"Enter second number : \"))\n"
   ]
  },
  {
   "cell_type": "code",
   "execution_count": 36,
   "id": "b442db49",
   "metadata": {},
   "outputs": [
    {
     "name": "stdout",
     "output_type": "stream",
     "text": [
      "Before swapping numbers are :  5 8\n"
     ]
    }
   ],
   "source": [
    "print(\"Before swapping numbers are : \", number1 , number2)\n"
   ]
  },
  {
   "cell_type": "code",
   "execution_count": 37,
   "id": "427b53eb",
   "metadata": {},
   "outputs": [],
   "source": [
    "# code to swap two numbers\n",
    "number1, number2 = number2, number1\n"
   ]
  },
  {
   "cell_type": "code",
   "execution_count": 38,
   "id": "248ff586",
   "metadata": {},
   "outputs": [
    {
     "name": "stdout",
     "output_type": "stream",
     "text": [
      "After swapping numbers are :  8 5\n"
     ]
    }
   ],
   "source": [
    "print('After swapping numbers are : ', number1, number2)"
   ]
  },
  {
   "cell_type": "markdown",
   "id": "4f5a1a24",
   "metadata": {},
   "source": [
    "<h1 align=\"center\" style = \"color:red\">Operators in Python </h1>"
   ]
  },
  {
   "cell_type": "markdown",
   "id": "5d65677b",
   "metadata": {},
   "source": [
    "The operator can be defined as a symbol which is responsible for a particular operation between two operands. Operators are the pillars of a program on which the logic is built in a specific programming language. Python provides a variety of operators, which are described as follows.\n",
    "\n"
   ]
  },
  {
   "cell_type": "markdown",
   "id": "123602bb",
   "metadata": {},
   "source": [
    "### i. Arithmetic operators in Python\n",
    "- Arithmetic operators are used to perform arithmetic operations between two operands.\n",
    "- Python supports the following arithmetic operators:\n",
    "\n",
    "| Operator   | Purpose           | Example     | Result    |\n",
    "|------------|-------------------|-------------|-----------|\n",
    "| `+`        | Addition          | `2 + 3`     | `5`       |\n",
    "| `-`        | Subtraction       | `3 - 2`     | `1`       |\n",
    "| `*`        | Multiplication    | `8 * 12`    | `96`      |\n",
    "| `/`        | Division          | `100 / 7`   | `14.28..` |\n",
    "| `//`       | Floor Division    | `100 // 7`  | `14`      |    \n",
    "| `%`        | Modulus/Remainder | `100 % 7`   | `2`       |\n",
    "| `**`       | Exponent          | `5 ** 3`    | `125`     |\n"
   ]
  },
  {
   "cell_type": "code",
   "execution_count": 39,
   "id": "fb8aef98",
   "metadata": {},
   "outputs": [
    {
     "name": "stdout",
     "output_type": "stream",
     "text": [
      "x + y = 13\n",
      "x - y = 7\n",
      "x * y = 30\n",
      "x / y = 3.3333333333333335\n",
      "x // y = 3\n",
      "x ** y = 1000\n",
      "x % y = 1\n"
     ]
    }
   ],
   "source": [
    "# Here x and y are operands\n",
    "x = 10\n",
    "y = 3\n",
    "\n",
    "# Output: x + y \n",
    "print('x + y =',x+y)\n",
    "\n",
    "# Output: x - y \n",
    "print('x - y =',x-y)\n",
    "\n",
    "# Output: x * y \n",
    "print('x * y =',x*y)\n",
    "\n",
    "# Output: x / y \n",
    "print('x / y =',x/y)\n",
    "\n",
    "# Floor Division: Output: x // y \n",
    "print('x // y =',x//y)\n",
    "\n",
    "# Output: x ^ y \n",
    "# Ouput of Exponent\n",
    "print('x ** y =',x**y)\n",
    "# x = 10 , y =3 , 1000\n",
    "\n",
    "# Output: x % y \n",
    "print('x % y =',x%y)"
   ]
  },
  {
   "cell_type": "markdown",
   "id": "81859e04",
   "metadata": {},
   "source": [
    "### ii.Assignment Operators\n",
    "- The assignment operators are used to assign the value of the right expression to the left operand.\n",
    "- Python supports the following Assignment operators:\n",
    "- If a = 10, b = 20\n",
    "\n",
    "| Operator | Description | Representation | Example | Result |\n",
    "|----------|-------------|----------------|---------|--------|\n",
    "| =        | It assigns the value of the right expression to the left operand | = | a=b | 20 |\n",
    "| +=       | It increases the value of the left operand by the value of the right operand and assigns the modified value back to left operand. | a+ = b will be equal to a = a+ b | a+=b | 30 |\n",
    "| -=       | It decreases the value of the left operand by the value of the right operand and assigns the modified value back to left operand. | a- = b will be equal to a = a- b  | a-=b | -10 |\n",
    "| *=       | It multiplies the value of the left operand by the value of the right operand and assigns the modified value back to then the left operand. | a*=b will be equal to a = a*b | a*=b | 200 |\n",
    "| %=       | It divides the value of the left operand by the value of the right operand and assigns the reminder back to the left operand. | a%=b will be equala to a = a%b | a%=b | 1 |\n"
   ]
  },
  {
   "cell_type": "code",
   "execution_count": null,
   "id": "21304e13",
   "metadata": {},
   "outputs": [],
   "source": [
    "#Assignment operators in Python\n",
    "x = 4\n",
    "\n",
    "\n",
    "x += 5    # <->  x = x + 5\n",
    "print(x)\n",
    "\n",
    "#    x = x - 5\n",
    "x -= 5      \n",
    "print(x)\n",
    "\n",
    "#    x = x * 5\n",
    "x *= 5     \n",
    "print(x)\n",
    "\n",
    "#    x = x / 5\n",
    "x /= 5  \n",
    "print(x)\n",
    "\n",
    "#    x = x % 5\n",
    "#    x %= 5       \n",
    "\n",
    "#    x = x // 5\n",
    "#    x //= 5      \n",
    "\n",
    "#    x = x ** 5\n",
    "x **= 5      \n",
    "print(x)"
   ]
  },
  {
   "cell_type": "markdown",
   "id": "1e23e406",
   "metadata": {},
   "source": [
    "### iii. Comparison Operators\n",
    "- Comparison operators are used to comparing the value of the two operands and returns Boolean true or false accordingly.\n",
    "\n",
    "| Operator | Description |\n",
    "|----------|-------------|\n",
    "| ==       | If the value of two operands is equal, then the condition becomes true. |\n",
    "| !=       | If the value of two operands is not equal, then the condition becomes true. |\n",
    "| <=       | If the first operand is less than or equal to the second operand, then the condition becomes true. |\n",
    "| >=       | If the first operand is greater than or equal to the second operand, then the condition becomes true. |\n",
    "| >        | If the first operand is greater than the second operand, then the condition becomes true. |\n",
    "| <        | If the first operand is less than the second operand, then the condition becomes true. |\n"
   ]
  },
  {
   "cell_type": "code",
   "execution_count": 1,
   "id": "6c72de9a",
   "metadata": {},
   "outputs": [
    {
     "name": "stdout",
     "output_type": "stream",
     "text": [
      "x > y is False\n",
      "x < y is True\n",
      "x == y is False\n",
      "x != y is True\n",
      "x >= y is False\n",
      "x <= y is True\n"
     ]
    }
   ],
   "source": [
    "#Comparison operators in Python\n",
    "\n",
    "x = 10\n",
    "y = 12\n",
    "\n",
    "# Output: x > y \n",
    "print('x > y is',x>y)\n",
    "\n",
    "# Output: x < y \n",
    "print('x < y is',x<y)\n",
    "\n",
    "# Output: x == y \n",
    "print('x == y is',x==y)\n",
    "\n",
    "# Output: x != y \n",
    "print('x != y is',x!=y)\n",
    "\n",
    "# Output: x >= y \n",
    "print('x >= y is',x>=y)\n",
    "\n",
    "# Output: x <= y \n",
    "print('x <= y is',x<=y)\n",
    "\n",
    "\n"
   ]
  },
  {
   "cell_type": "code",
   "execution_count": 2,
   "id": "d6fc3684",
   "metadata": {},
   "outputs": [
    {
     "name": "stdout",
     "output_type": "stream",
     "text": [
      "True\n"
     ]
    }
   ],
   "source": [
    "a = (x <= y)\n",
    "print(a)"
   ]
  },
  {
   "cell_type": "markdown",
   "id": "6b24b671",
   "metadata": {},
   "source": [
    "### iv. Bitwise Operators\n",
    "- The bitwise operators perform bit by bit operation on the values of the two operands.\n",
    "\n",
    "\n",
    "| Operator | Description |\n",
    "|----------|-------------|\n",
    "| a&b      | If both the bits at the same place in two operands are 1, then 1 is copied to the result. Otherwise, 0 is copied. |\n",
    "| a or b   | The resulting bit will be 0 if both the bits are zero; otherwise, the resulting bit will be 1. |\n"
   ]
  },
  {
   "cell_type": "code",
   "execution_count": 4,
   "id": "45837987",
   "metadata": {},
   "outputs": [
    {
     "name": "stdout",
     "output_type": "stream",
     "text": [
      "x & y is 0\n"
     ]
    }
   ],
   "source": [
    "#Bitwise operators in Python\n",
    "x = 10   # 00001010\n",
    "y = 4    # 00000100\n",
    "\n",
    "\n",
    "# Bitwise and\n",
    "print('x & y is',x&y)"
   ]
  },
  {
   "cell_type": "code",
   "execution_count": 5,
   "id": "b645cecc",
   "metadata": {},
   "outputs": [
    {
     "name": "stdout",
     "output_type": "stream",
     "text": [
      "x | y is 14\n"
     ]
    }
   ],
   "source": [
    "# Bitwise or\n",
    "print('x | y is',x|y)"
   ]
  },
  {
   "cell_type": "code",
   "execution_count": null,
   "id": "3abad322",
   "metadata": {},
   "outputs": [],
   "source": []
  },
  {
   "cell_type": "code",
   "execution_count": null,
   "id": "a51f6a91",
   "metadata": {},
   "outputs": [],
   "source": []
  },
  {
   "cell_type": "markdown",
   "id": "89d5c802",
   "metadata": {},
   "source": [
    "### v. Logical Operator\n",
    "- The logical operators are used primarily in the expression evaluation to make a decision. \n",
    "- When Python is processing a logical expression such as `x >= 2 and (x/y) > 2` , it evaluates the expression from left to right.\n",
    "- The logical operators `and`, `or` and `not` operate upon conditions and `True` & `False` values. The `and` and `or` operate on two conditions, whereas `not` operates on a single condition.\n",
    "\n",
    "- The `and` operator returns `True` when both the conditions evaluate to `True`. Otherwise, it returns `False`.\n",
    "\n",
    "| `a`     | `b`    | `a and b` |\n",
    "|---------|--------|-----------|\n",
    "|  `True` | `True` | `True`    |\n",
    "|  `True` | `False`| `False`   |\n",
    "|  `False`| `True` | `False`   |\n",
    "|  `False`| `False`| `False`   |\n",
    "\n",
    "- The `or` operator returns `True` if at least one of the conditions evaluates to `True`. It returns `False` only if both conditions are `False`.\n",
    "\n",
    "| `a`     | `b`    | `a or b`  |\n",
    "|---------|--------|-----------|\n",
    "|  `True` | `True` | `True`    |\n",
    "|  `True` | `False`| `True`    |\n",
    "|  `False`| `True` | `True`    |\n",
    "|  `False`| `False`| `False`   |\n",
    "\n",
    "- The `not` operator returns `False` if a condition is `True` and `True` if the condition is `False`."
   ]
  },
  {
   "cell_type": "code",
   "execution_count": 3,
   "id": "78220aa4",
   "metadata": {},
   "outputs": [
    {
     "name": "stdout",
     "output_type": "stream",
     "text": [
      "x and y is False\n",
      "x or y is True\n",
      "not x is False\n"
     ]
    }
   ],
   "source": [
    "x = True\n",
    "y = False\n",
    "\n",
    "print('x and y is',x and y)\n",
    "\n",
    "print('x or y is',x or y)\n",
    "\n",
    "print('not x is',not x)"
   ]
  },
  {
   "cell_type": "code",
   "execution_count": 4,
   "id": "b6341bac",
   "metadata": {},
   "outputs": [
    {
     "data": {
      "text/plain": [
       "False"
      ]
     },
     "execution_count": 4,
     "metadata": {},
     "output_type": "execute_result"
    }
   ],
   "source": [
    "# A short circuit happens in 'and' operation, when the first condition evaluates to False\n",
    "x = 3\n",
    "y = 0\n",
    "z = ((x>=6) and (x/y))\n",
    "z"
   ]
  },
  {
   "cell_type": "code",
   "execution_count": null,
   "id": "1be1b6d9",
   "metadata": {},
   "outputs": [],
   "source": []
  },
  {
   "cell_type": "code",
   "execution_count": null,
   "id": "fb5b37c9",
   "metadata": {},
   "outputs": [],
   "source": []
  },
  {
   "cell_type": "markdown",
   "id": "2f440b63",
   "metadata": {},
   "source": [
    "### vi. Identity Operators in Python\n",
    "- Identity operators are used to compare the ID of objects (not their values)\n",
    "- Returns True if both objects refer to same memory location\n",
    "- The two identity operators in Python are `is` and `is not`.\n",
    "\n",
    "\n",
    "| Operator | Description |\n",
    "|----------|-------------|\n",
    "| is       | It is evaluated to be true if the reference present at both sides point to the same object. |\n",
    "| is not   | It is evaluated to be true if the reference present at both sides do not point to the same object. |\n"
   ]
  },
  {
   "cell_type": "code",
   "execution_count": 5,
   "id": "ce826561",
   "metadata": {},
   "outputs": [
    {
     "name": "stdout",
     "output_type": "stream",
     "text": [
      "140733226214312\n",
      "3050436844656\n",
      "False\n",
      "True\n"
     ]
    }
   ],
   "source": [
    "#Identity operators in Python\n",
    "a = 5\n",
    "b = 5.0\n",
    "print(id(a))\n",
    "print(id(b))\n",
    "\n",
    "\n",
    "\n",
    "\n",
    "print(a is b)\n",
    "print(a==b)\n"
   ]
  },
  {
   "cell_type": "code",
   "execution_count": 6,
   "id": "19c1c42c",
   "metadata": {},
   "outputs": [
    {
     "name": "stdout",
     "output_type": "stream",
     "text": [
      "False\n",
      "True\n"
     ]
    }
   ],
   "source": [
    "a = 'Hello'\n",
    "b = 'Hello'\n",
    "\n",
    "# Output: False\n",
    "print(a is not b)\n",
    "\n",
    "# Output: True\n",
    "print(a is b)"
   ]
  },
  {
   "cell_type": "markdown",
   "id": "9470f45e",
   "metadata": {},
   "source": [
    "### vi. Membership Operators\n",
    "- Python membership operators are used to check the membership of value inside a Python data structure. If the value is present in the data structure, then the resulting value is true otherwise it returns false.\n",
    "\n",
    "\n",
    "| Operator | Description |\n",
    "|----------|-------------|\n",
    "| in       | It is evaluated to be true if the first operand is found in the second operand (list, tuple, or dictionary). |\n",
    "| not in   | It is evaluated to be true if the first operand is not found in the second operand (list, tuple, or dictionary). |\n"
   ]
  },
  {
   "cell_type": "code",
   "execution_count": 9,
   "id": "c263b45f",
   "metadata": {},
   "outputs": [
    {
     "name": "stdout",
     "output_type": "stream",
     "text": [
      "True\n",
      "True\n"
     ]
    }
   ],
   "source": [
    "name = \"Sawaira Iqbal\"\n",
    "\n",
    "a = 'a'\n",
    "b = 'b'\n",
    "\n",
    "# check `a` in name\n",
    "rv = a in name\n",
    "print(rv)\n",
    "\n",
    "# check `b` in name\n",
    "rv = b in name\n",
    "print(rv)"
   ]
  },
  {
   "cell_type": "code",
   "execution_count": 10,
   "id": "8d01384c",
   "metadata": {},
   "outputs": [
    {
     "name": "stdout",
     "output_type": "stream",
     "text": [
      "Not Exist\n"
     ]
    }
   ],
   "source": [
    "list1 = [2,3,4,5,6,6,7,8]\n",
    "if 22 in list1:\n",
    "    print(\"Exist\")\n",
    "else:\n",
    "    print(\"Not Exist\")"
   ]
  },
  {
   "cell_type": "markdown",
   "id": "93fbe8d9",
   "metadata": {},
   "source": [
    "# viii. Operator Precedence in Python\n",
    "- The precedence of the operators is essential to find out since it enables us to know which operator should be evaluated first. \n"
   ]
  },
  {
   "cell_type": "markdown",
   "id": "d957f520",
   "metadata": {},
   "source": [
    "### PEMDAS\n",
    "\n",
    "* P: Parentheses ()\n",
    "* E: Exponentiation **\n",
    "* M: Multiplication *, Division /, Floor Division //, and Modulus %\n",
    "* D: Addition + and Subtraction -\n",
    "* A: Bitwise Shifts << and >>, Bitwise AND &, Bitwise XOR ^, and Bitwise OR |\n",
    "* S: Comparison Operators ==, !=, <, >, <=, >=, Identity Operators is, is not, Membership Operators in, not in"
   ]
  },
  {
   "cell_type": "code",
   "execution_count": 13,
   "id": "a38196bc",
   "metadata": {},
   "outputs": [
    {
     "name": "stdout",
     "output_type": "stream",
     "text": [
      "20\n"
     ]
    }
   ],
   "source": [
    "num1, num2, num3 = 2, 3, 4\n",
    "print ((num1 + num2) * num3)"
   ]
  },
  {
   "cell_type": "code",
   "execution_count": 11,
   "id": "b014dd84",
   "metadata": {},
   "outputs": [
    {
     "name": "stdout",
     "output_type": "stream",
     "text": [
      "11\n",
      "16\n"
     ]
    }
   ],
   "source": [
    "print(5 + 3 * 2)\n",
    "print((5 + 3) * 2)"
   ]
  },
  {
   "cell_type": "code",
   "execution_count": 12,
   "id": "b48bc933",
   "metadata": {},
   "outputs": [
    {
     "name": "stdout",
     "output_type": "stream",
     "text": [
      "512\n",
      "64\n"
     ]
    }
   ],
   "source": [
    "print(2 ** 3 ** 2)\n",
    "print((2 ** 3) ** 2)"
   ]
  },
  {
   "cell_type": "code",
   "execution_count": 14,
   "id": "1fee1d6f",
   "metadata": {},
   "outputs": [
    {
     "name": "stdout",
     "output_type": "stream",
     "text": [
      "12\n"
     ]
    }
   ],
   "source": [
    "num1, num2, num3 = 2, 3, 4\n",
    "print (num1 ** num2 + num3)"
   ]
  },
  {
   "cell_type": "markdown",
   "id": "e6e67cb9",
   "metadata": {},
   "source": [
    "<h1 align=\"center\" style = \"color:red\">Mathematical Functions and Modules </h1>"
   ]
  },
  {
   "cell_type": "markdown",
   "id": "e7b40766",
   "metadata": {},
   "source": [
    "#### The math Module:\n",
    "* Common Math Functions (e.g., sin(), cos(), sqrt())\n",
    "* Using External Libraries (e.g., NumPy)      \n",
    "\n",
    "In Python, the math module is a standard library module that provides a wide range of mathematical functions and constants for performing various mathematical operations. To use the math module, you typically start by importing it at the beginning of your Python script or program:"
   ]
  },
  {
   "cell_type": "code",
   "execution_count": 18,
   "id": "c89d0c13",
   "metadata": {},
   "outputs": [
    {
     "name": "stdout",
     "output_type": "stream",
     "text": [
      "Help on built-in module math:\n",
      "\n",
      "NAME\n",
      "    math\n",
      "\n",
      "DESCRIPTION\n",
      "    This module provides access to the mathematical functions\n",
      "    defined by the C standard.\n",
      "\n",
      "FUNCTIONS\n",
      "    acos(x, /)\n",
      "        Return the arc cosine (measured in radians) of x.\n",
      "        \n",
      "        The result is between 0 and pi.\n",
      "    \n",
      "    acosh(x, /)\n",
      "        Return the inverse hyperbolic cosine of x.\n",
      "    \n",
      "    asin(x, /)\n",
      "        Return the arc sine (measured in radians) of x.\n",
      "        \n",
      "        The result is between -pi/2 and pi/2.\n",
      "    \n",
      "    asinh(x, /)\n",
      "        Return the inverse hyperbolic sine of x.\n",
      "    \n",
      "    atan(x, /)\n",
      "        Return the arc tangent (measured in radians) of x.\n",
      "        \n",
      "        The result is between -pi/2 and pi/2.\n",
      "    \n",
      "    atan2(y, x, /)\n",
      "        Return the arc tangent (measured in radians) of y/x.\n",
      "        \n",
      "        Unlike atan(y/x), the signs of both x and y are considered.\n",
      "    \n",
      "    atanh(x, /)\n",
      "        Return the inverse hyperbolic tangent of x.\n",
      "    \n",
      "    cbrt(x, /)\n",
      "        Return the cube root of x.\n",
      "    \n",
      "    ceil(x, /)\n",
      "        Return the ceiling of x as an Integral.\n",
      "        \n",
      "        This is the smallest integer >= x.\n",
      "    \n",
      "    comb(n, k, /)\n",
      "        Number of ways to choose k items from n items without repetition and without order.\n",
      "        \n",
      "        Evaluates to n! / (k! * (n - k)!) when k <= n and evaluates\n",
      "        to zero when k > n.\n",
      "        \n",
      "        Also called the binomial coefficient because it is equivalent\n",
      "        to the coefficient of k-th term in polynomial expansion of the\n",
      "        expression (1 + x)**n.\n",
      "        \n",
      "        Raises TypeError if either of the arguments are not integers.\n",
      "        Raises ValueError if either of the arguments are negative.\n",
      "    \n",
      "    copysign(x, y, /)\n",
      "        Return a float with the magnitude (absolute value) of x but the sign of y.\n",
      "        \n",
      "        On platforms that support signed zeros, copysign(1.0, -0.0)\n",
      "        returns -1.0.\n",
      "    \n",
      "    cos(x, /)\n",
      "        Return the cosine of x (measured in radians).\n",
      "    \n",
      "    cosh(x, /)\n",
      "        Return the hyperbolic cosine of x.\n",
      "    \n",
      "    degrees(x, /)\n",
      "        Convert angle x from radians to degrees.\n",
      "    \n",
      "    dist(p, q, /)\n",
      "        Return the Euclidean distance between two points p and q.\n",
      "        \n",
      "        The points should be specified as sequences (or iterables) of\n",
      "        coordinates.  Both inputs must have the same dimension.\n",
      "        \n",
      "        Roughly equivalent to:\n",
      "            sqrt(sum((px - qx) ** 2.0 for px, qx in zip(p, q)))\n",
      "    \n",
      "    erf(x, /)\n",
      "        Error function at x.\n",
      "    \n",
      "    erfc(x, /)\n",
      "        Complementary error function at x.\n",
      "    \n",
      "    exp(x, /)\n",
      "        Return e raised to the power of x.\n",
      "    \n",
      "    exp2(x, /)\n",
      "        Return 2 raised to the power of x.\n",
      "    \n",
      "    expm1(x, /)\n",
      "        Return exp(x)-1.\n",
      "        \n",
      "        This function avoids the loss of precision involved in the direct evaluation of exp(x)-1 for small x.\n",
      "    \n",
      "    fabs(x, /)\n",
      "        Return the absolute value of the float x.\n",
      "    \n",
      "    factorial(n, /)\n",
      "        Find n!.\n",
      "        \n",
      "        Raise a ValueError if x is negative or non-integral.\n",
      "    \n",
      "    floor(x, /)\n",
      "        Return the floor of x as an Integral.\n",
      "        \n",
      "        This is the largest integer <= x.\n",
      "    \n",
      "    fmod(x, y, /)\n",
      "        Return fmod(x, y), according to platform C.\n",
      "        \n",
      "        x % y may differ.\n",
      "    \n",
      "    frexp(x, /)\n",
      "        Return the mantissa and exponent of x, as pair (m, e).\n",
      "        \n",
      "        m is a float and e is an int, such that x = m * 2.**e.\n",
      "        If x is 0, m and e are both 0.  Else 0.5 <= abs(m) < 1.0.\n",
      "    \n",
      "    fsum(seq, /)\n",
      "        Return an accurate floating point sum of values in the iterable seq.\n",
      "        \n",
      "        Assumes IEEE-754 floating point arithmetic.\n",
      "    \n",
      "    gamma(x, /)\n",
      "        Gamma function at x.\n",
      "    \n",
      "    gcd(*integers)\n",
      "        Greatest Common Divisor.\n",
      "    \n",
      "    hypot(...)\n",
      "        hypot(*coordinates) -> value\n",
      "        \n",
      "        Multidimensional Euclidean distance from the origin to a point.\n",
      "        \n",
      "        Roughly equivalent to:\n",
      "            sqrt(sum(x**2 for x in coordinates))\n",
      "        \n",
      "        For a two dimensional point (x, y), gives the hypotenuse\n",
      "        using the Pythagorean theorem:  sqrt(x*x + y*y).\n",
      "        \n",
      "        For example, the hypotenuse of a 3/4/5 right triangle is:\n",
      "        \n",
      "            >>> hypot(3.0, 4.0)\n",
      "            5.0\n",
      "    \n",
      "    isclose(a, b, *, rel_tol=1e-09, abs_tol=0.0)\n",
      "        Determine whether two floating point numbers are close in value.\n",
      "        \n",
      "          rel_tol\n",
      "            maximum difference for being considered \"close\", relative to the\n",
      "            magnitude of the input values\n",
      "          abs_tol\n",
      "            maximum difference for being considered \"close\", regardless of the\n",
      "            magnitude of the input values\n",
      "        \n",
      "        Return True if a is close in value to b, and False otherwise.\n",
      "        \n",
      "        For the values to be considered close, the difference between them\n",
      "        must be smaller than at least one of the tolerances.\n",
      "        \n",
      "        -inf, inf and NaN behave similarly to the IEEE 754 Standard.  That\n",
      "        is, NaN is not close to anything, even itself.  inf and -inf are\n",
      "        only close to themselves.\n",
      "    \n",
      "    isfinite(x, /)\n",
      "        Return True if x is neither an infinity nor a NaN, and False otherwise.\n",
      "    \n",
      "    isinf(x, /)\n",
      "        Return True if x is a positive or negative infinity, and False otherwise.\n",
      "    \n",
      "    isnan(x, /)\n",
      "        Return True if x is a NaN (not a number), and False otherwise.\n",
      "    \n",
      "    isqrt(n, /)\n",
      "        Return the integer part of the square root of the input.\n",
      "    \n",
      "    lcm(*integers)\n",
      "        Least Common Multiple.\n",
      "    \n",
      "    ldexp(x, i, /)\n",
      "        Return x * (2**i).\n",
      "        \n",
      "        This is essentially the inverse of frexp().\n",
      "    \n",
      "    lgamma(x, /)\n",
      "        Natural logarithm of absolute value of Gamma function at x.\n",
      "    \n",
      "    log(...)\n",
      "        log(x, [base=math.e])\n",
      "        Return the logarithm of x to the given base.\n",
      "        \n",
      "        If the base not specified, returns the natural logarithm (base e) of x.\n",
      "    \n",
      "    log10(x, /)\n",
      "        Return the base 10 logarithm of x.\n",
      "    \n",
      "    log1p(x, /)\n",
      "        Return the natural logarithm of 1+x (base e).\n",
      "        \n",
      "        The result is computed in a way which is accurate for x near zero.\n",
      "    \n",
      "    log2(x, /)\n",
      "        Return the base 2 logarithm of x.\n",
      "    \n",
      "    modf(x, /)\n",
      "        Return the fractional and integer parts of x.\n",
      "        \n",
      "        Both results carry the sign of x and are floats.\n",
      "    \n",
      "    nextafter(x, y, /)\n",
      "        Return the next floating-point value after x towards y.\n",
      "    \n",
      "    perm(n, k=None, /)\n",
      "        Number of ways to choose k items from n items without repetition and with order.\n",
      "        \n",
      "        Evaluates to n! / (n - k)! when k <= n and evaluates\n",
      "        to zero when k > n.\n",
      "        \n",
      "        If k is not specified or is None, then k defaults to n\n",
      "        and the function returns n!.\n",
      "        \n",
      "        Raises TypeError if either of the arguments are not integers.\n",
      "        Raises ValueError if either of the arguments are negative.\n",
      "    \n",
      "    pow(x, y, /)\n",
      "        Return x**y (x to the power of y).\n",
      "    \n",
      "    prod(iterable, /, *, start=1)\n",
      "        Calculate the product of all the elements in the input iterable.\n",
      "        \n",
      "        The default start value for the product is 1.\n",
      "        \n",
      "        When the iterable is empty, return the start value.  This function is\n",
      "        intended specifically for use with numeric values and may reject\n",
      "        non-numeric types.\n",
      "    \n",
      "    radians(x, /)\n",
      "        Convert angle x from degrees to radians.\n",
      "    \n",
      "    remainder(x, y, /)\n",
      "        Difference between x and the closest integer multiple of y.\n",
      "        \n",
      "        Return x - n*y where n*y is the closest integer multiple of y.\n",
      "        In the case where x is exactly halfway between two multiples of\n",
      "        y, the nearest even value of n is used. The result is always exact.\n",
      "    \n",
      "    sin(x, /)\n",
      "        Return the sine of x (measured in radians).\n",
      "    \n",
      "    sinh(x, /)\n",
      "        Return the hyperbolic sine of x.\n",
      "    \n",
      "    sqrt(x, /)\n",
      "        Return the square root of x.\n",
      "    \n",
      "    tan(x, /)\n",
      "        Return the tangent of x (measured in radians).\n",
      "    \n",
      "    tanh(x, /)\n",
      "        Return the hyperbolic tangent of x.\n",
      "    \n",
      "    trunc(x, /)\n",
      "        Truncates the Real x to the nearest Integral toward 0.\n",
      "        \n",
      "        Uses the __trunc__ magic method.\n",
      "    \n",
      "    ulp(x, /)\n",
      "        Return the value of the least significant bit of the float x.\n",
      "\n",
      "DATA\n",
      "    e = 2.718281828459045\n",
      "    inf = inf\n",
      "    nan = nan\n",
      "    pi = 3.141592653589793\n",
      "    tau = 6.283185307179586\n",
      "\n",
      "FILE\n",
      "    (built-in)\n",
      "\n",
      "\n"
     ]
    }
   ],
   "source": [
    "import math\n",
    "\n",
    "# Access the documentation for the math module\n",
    "help(math)"
   ]
  },
  {
   "cell_type": "code",
   "execution_count": null,
   "id": "1f86f73e",
   "metadata": {},
   "outputs": [],
   "source": [
    "import math"
   ]
  },
  {
   "cell_type": "markdown",
   "id": "4cc27a08",
   "metadata": {},
   "source": [
    "## Common Math Functions (e.g., sin(), cos(), sqrt()):"
   ]
  },
  {
   "cell_type": "markdown",
   "id": "e760f970",
   "metadata": {},
   "source": [
    "Trigonometric Functions: The math module provides trigonometric functions like sin(), cos(), and tan(), which work with angles in radians:"
   ]
  },
  {
   "cell_type": "code",
   "execution_count": 15,
   "id": "e177ac1c",
   "metadata": {},
   "outputs": [],
   "source": [
    "import math\n",
    "\n",
    "angle = math.pi / 4  # 45 degrees in radians\n",
    "sine_value = math.sin(angle)\n",
    "cosine_value = math.cos(angle)"
   ]
  },
  {
   "cell_type": "code",
   "execution_count": 19,
   "id": "e5f89b90",
   "metadata": {},
   "outputs": [
    {
     "name": "stdout",
     "output_type": "stream",
     "text": [
      "Error: Division by zero!\n"
     ]
    }
   ],
   "source": [
    "try:\n",
    "    result = 10 / 0\n",
    "except ZeroDivisionError:\n",
    "    print(\"Error: Division by zero!\")"
   ]
  },
  {
   "cell_type": "markdown",
   "id": "c6ad97b4",
   "metadata": {},
   "source": [
    "### Check your Concepts\n",
    "\n",
    "Try answering the following questions to test your understanding of the topics covered in this notebook:\n",
    "\n",
    "1. What the different arithmetic operations supported in Python?\n",
    "2. How do you perform arithmetic operations using Python?\n",
    "3. What is the difference between the `/` and the `//` operators?\n",
    "4. What is the difference between the `*` and the `**` operators?\n",
    "5. What do you mean by precedence of operators?\n",
    "5. What is the order of precedence for arithmetic operators in Python?\n",
    "6. How do you specify the order in which arithmetic operations are performed in an expression involving multiple operators?\n",
    "7. How do you solve a multi-step arithmetic word problem using Python?\n",
    "8. What are variables? Why are they useful?\n",
    "9. How do you create a variable in Python?\n",
    "10. What is the assignment operator in Python?\n",
    "11. What are the rules for naming a variable in Python?\n",
    "12. How do you view the value of a variable?\n",
    "13. How do you store the result of an arithmetic expression in a variable?\n",
    "14. What happens if you try to access a variable that has not been defined?\n",
    "15. How do you display messages in Python?\n",
    "16. What type of inputs can the print function accept?\n",
    "17. What are code comments? How are they useful?\n",
    "18. What are the different ways of creating comments in Python code?\n",
    "19. What are the different comparison operations supported in Python?\n",
    "20. What is the result of a comparison operation?\n",
    "21. What is the difference between `=` and `==` in Python?\n",
    "22. What are the logical operators supported in Python?\n",
    "23. What is the difference between the `and` and `or` operators?\n",
    "24. Can you use comparison and logical operators in the same expression?\n",
    "25. What is the purpose of using parentheses in arithmetic or logical expressions?\n"
   ]
  },
  {
   "cell_type": "markdown",
   "id": "dbdc6026",
   "metadata": {},
   "source": [
    "### Check your Concepts\n",
    "\n",
    "Try answering the following questions to test your understanding of the topics covered in this notebook:\n",
    "\n",
    "1. What is a variable in Python?\n",
    "2. How do you create a variable?\n",
    "3. How do you check the value within a variable?\n",
    "4. How do you create multiple variables in a single statement?\n",
    "5. How do you create multiple variables with the same value?\n",
    "6. How do you change the value of a variable?\n",
    "7. How do you reassign a variable by modifying the previous value?\n",
    "8. What are the rules for naming a variable?\n",
    "9. Are variable names case-sensitive? Do `a_variable`, `A_Variable`, and `A_VARIABLE` represent the same variable or different ones?\n",
    "10. How do you check the data type of a variable?\n",
    "11. What are the built-in data types in Python?\n",
    "12. What kind of data does the Integer data type represent?\n",
    "13. What are the numerical limits of the integer data type?\n",
    "14. What kind of data does the float data type represent?\n",
    "15. How does Python decide if a given number is a float or an integer?\n",
    "16. How can you create a variable which stores a whole number, e.g., 4 but has the float data type?\n",
    "17. What are the differences between integers and floats?\n",
    "18. How do you convert an integer to a float?\n",
    "19. How do you convert a float to an integer?\n",
    "20. What is the result obtained when you convert 1.99 to an integer?\n",
    "21. What are the data types of the results of the division operators `/` and `//`?\n",
    "22. What kind of data does the Boolean data type represent?\n",
    "23. Which types of Python operators return booleans as a result?\n",
    "24. What happens if you try to use a boolean in arithmetic operation?\n",
    "25. How can any value in Python be covered to a boolean?"
   ]
  }
 ],
 "metadata": {
  "kernelspec": {
   "display_name": "Python 3 (ipykernel)",
   "language": "python",
   "name": "python3"
  },
  "language_info": {
   "codemirror_mode": {
    "name": "ipython",
    "version": 3
   },
   "file_extension": ".py",
   "mimetype": "text/x-python",
   "name": "python",
   "nbconvert_exporter": "python",
   "pygments_lexer": "ipython3",
   "version": "3.11.3"
  }
 },
 "nbformat": 4,
 "nbformat_minor": 5
}
